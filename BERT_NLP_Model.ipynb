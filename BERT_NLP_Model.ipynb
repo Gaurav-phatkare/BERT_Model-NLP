{
  "nbformat": 4,
  "nbformat_minor": 0,
  "metadata": {
    "colab": {
      "provenance": [],
      "gpuType": "T4",
      "include_colab_link": true
    },
    "kernelspec": {
      "name": "python3",
      "display_name": "Python 3"
    },
    "language_info": {
      "name": "python"
    },
    "accelerator": "GPU"
  },
  "cells": [
    {
      "cell_type": "markdown",
      "metadata": {
        "id": "view-in-github",
        "colab_type": "text"
      },
      "source": [
        "<a href=\"https://colab.research.google.com/github/Gaurav-phatkare/BERT_Model-NLP/blob/main/BERT_NLP_Model.ipynb\" target=\"_parent\"><img src=\"https://colab.research.google.com/assets/colab-badge.svg\" alt=\"Open In Colab\"/></a>"
      ]
    },
    {
      "cell_type": "markdown",
      "source": [
        "#BERT - Bidirectional Encoder Representations from Transformers\n",
        "---\n",
        "As opposed to directional models, which read the text input sequentially (left-to-right or right-to-left), the Transformer encoder reads the entire sequence of words at once. Therefore it is considered bidirectional, though it would be more accurate to say that it’s non-directional. This characteristic allows the model to learn the context of a word based on all of its surroundings (left and right of the word).\n"
      ],
      "metadata": {
        "id": "SlMsPZjorEXa"
      }
    },
    {
      "cell_type": "markdown",
      "source": [
        "further explaination from [HuggingFace.co](https://huggingface.co/blog/bert-101?text=The+goal+of+life+is+%5BMASK%5D.)"
      ],
      "metadata": {
        "id": "YpiiD1ParG9W"
      }
    },
    {
      "cell_type": "markdown",
      "source": [
        "##Skimlit Medical Abstract Classifier Using BERT Model Approach"
      ],
      "metadata": {
        "id": "atIe6P8brQXi"
      }
    },
    {
      "cell_type": "code",
      "source": [
        "!nvidia-smi -L"
      ],
      "metadata": {
        "colab": {
          "base_uri": "https://localhost:8080/"
        },
        "id": "FLevAlmSrRvX",
        "outputId": "f7d9526a-b38c-491d-ef90-90930ea8db01"
      },
      "execution_count": 1,
      "outputs": [
        {
          "output_type": "stream",
          "name": "stdout",
          "text": [
            "GPU 0: Tesla T4 (UUID: GPU-9bb487ea-bd60-837c-55bd-f8fd9f76c857)\n"
          ]
        }
      ]
    },
    {
      "cell_type": "code",
      "execution_count": 2,
      "metadata": {
        "colab": {
          "base_uri": "https://localhost:8080/"
        },
        "id": "LDBNInunpo82",
        "outputId": "f00a7105-08ed-4aa4-d824-f42faf112624"
      },
      "outputs": [
        {
          "output_type": "stream",
          "name": "stdout",
          "text": [
            "2.13.0\n"
          ]
        }
      ],
      "source": [
        "# !pip install tensorflow==2.9.1\n",
        "import tensorflow as tf\n",
        "print(tf.__version__)"
      ]
    },
    {
      "cell_type": "code",
      "source": [
        "# !pip install tensorflow_text"
      ],
      "metadata": {
        "id": "0Cw7j7J4pqLk"
      },
      "execution_count": 3,
      "outputs": []
    },
    {
      "cell_type": "code",
      "source": [
        "# import tensorflow as tf\n",
        "import tensorflow_text as text\n",
        "import tensorflow_hub as hub"
      ],
      "metadata": {
        "id": "HMvOrDTWqOEO"
      },
      "execution_count": 4,
      "outputs": []
    },
    {
      "cell_type": "markdown",
      "source": [
        "###Get Data\n",
        "[Dataset Link](https://github.com/Franck-Dernoncourt/pubmed-rct)\n"
      ],
      "metadata": {
        "id": "dwBReKA8q196"
      }
    },
    {
      "cell_type": "code",
      "source": [
        "!git clone https://github.com/Franck-Dernoncourt/pubmed-rct\n",
        "!ls pubmed-rct"
      ],
      "metadata": {
        "colab": {
          "base_uri": "https://localhost:8080/"
        },
        "id": "mqBSXk2OryLf",
        "outputId": "391db7b6-88ce-4044-da87-8f49422b2425"
      },
      "execution_count": 5,
      "outputs": [
        {
          "output_type": "stream",
          "name": "stdout",
          "text": [
            "Cloning into 'pubmed-rct'...\n",
            "remote: Enumerating objects: 33, done.\u001b[K\n",
            "remote: Counting objects: 100% (8/8), done.\u001b[K\n",
            "remote: Compressing objects: 100% (3/3), done.\u001b[K\n",
            "remote: Total 33 (delta 5), reused 5 (delta 5), pack-reused 25\u001b[K\n",
            "Unpacking objects: 100% (33/33), 177.08 MiB | 13.22 MiB/s, done.\n",
            "PubMed_200k_RCT\n",
            "PubMed_200k_RCT_numbers_replaced_with_at_sign\n",
            "PubMed_20k_RCT\n",
            "PubMed_20k_RCT_numbers_replaced_with_at_sign\n",
            "README.md\n"
          ]
        }
      ]
    },
    {
      "cell_type": "code",
      "source": [
        "!ls pubmed-rct/PubMed_20k_RCT/"
      ],
      "metadata": {
        "colab": {
          "base_uri": "https://localhost:8080/"
        },
        "id": "rx8lto7Hr0uy",
        "outputId": "9c41ae68-51f5-4eaf-e726-b9d3366392aa"
      },
      "execution_count": 71,
      "outputs": [
        {
          "output_type": "stream",
          "name": "stdout",
          "text": [
            "dev.txt  test.txt  train.txt\n"
          ]
        }
      ]
    },
    {
      "cell_type": "code",
      "source": [
        "data_dir = '/content/pubmed-rct/PubMed_20k_RCT/'"
      ],
      "metadata": {
        "id": "pju1MhCVr4Mz"
      },
      "execution_count": 74,
      "outputs": []
    },
    {
      "cell_type": "code",
      "source": [
        "import os\n",
        "filename = [data_dir + filename for filename in os.listdir(data_dir)]\n",
        "filename"
      ],
      "metadata": {
        "colab": {
          "base_uri": "https://localhost:8080/"
        },
        "id": "F-mB09qCr5ju",
        "outputId": "532db126-4a41-48d1-df55-e5a64e795d73"
      },
      "execution_count": 75,
      "outputs": [
        {
          "output_type": "execute_result",
          "data": {
            "text/plain": [
              "['/content/pubmed-rct/PubMed_20k_RCT/test.txt',\n",
              " '/content/pubmed-rct/PubMed_20k_RCT/dev.txt',\n",
              " '/content/pubmed-rct/PubMed_20k_RCT/train.txt']"
            ]
          },
          "metadata": {},
          "execution_count": 75
        }
      ]
    },
    {
      "cell_type": "markdown",
      "source": [
        "###Preprocess the data"
      ],
      "metadata": {
        "id": "-1PdSZC-r7BL"
      }
    },
    {
      "cell_type": "code",
      "source": [
        "def get_lines(filename):\n",
        "  with open(filename, 'r') as f:\n",
        "    return f.readlines()\n"
      ],
      "metadata": {
        "id": "cOB2xuGQsLdr"
      },
      "execution_count": 76,
      "outputs": []
    },
    {
      "cell_type": "code",
      "source": [
        "train_lines = get_lines(data_dir+'train.txt')\n",
        "train_lines[:5]"
      ],
      "metadata": {
        "colab": {
          "base_uri": "https://localhost:8080/"
        },
        "id": "t89iYfLhsO2-",
        "outputId": "bde1b3e9-fd4e-4f65-ba8c-a44be36864b1"
      },
      "execution_count": 77,
      "outputs": [
        {
          "output_type": "execute_result",
          "data": {
            "text/plain": [
              "['###24293578\\n',\n",
              " 'OBJECTIVE\\tTo investigate the efficacy of 6 weeks of daily low-dose oral prednisolone in improving pain , mobility , and systemic low-grade inflammation in the short term and whether the effect would be sustained at 12 weeks in older adults with moderate to severe knee osteoarthritis ( OA ) .\\n',\n",
              " 'METHODS\\tA total of 125 patients with primary knee OA were randomized 1:1 ; 63 received 7.5 mg/day of prednisolone and 62 received placebo for 6 weeks .\\n',\n",
              " 'METHODS\\tOutcome measures included pain reduction and improvement in function scores and systemic inflammation markers .\\n',\n",
              " 'METHODS\\tPain was assessed using the visual analog pain scale ( 0-100 mm ) .\\n']"
            ]
          },
          "metadata": {},
          "execution_count": 77
        }
      ]
    },
    {
      "cell_type": "code",
      "source": [
        "len(train_lines)"
      ],
      "metadata": {
        "colab": {
          "base_uri": "https://localhost:8080/"
        },
        "id": "m2FoFBfpsSmm",
        "outputId": "026bd49b-2137-41fd-81e1-310fa88bd6a6"
      },
      "execution_count": 80,
      "outputs": [
        {
          "output_type": "execute_result",
          "data": {
            "text/plain": [
              "210040"
            ]
          },
          "metadata": {},
          "execution_count": 80
        }
      ]
    },
    {
      "cell_type": "code",
      "source": [
        "def preprocess_text_with_line_number(filename):\n",
        "\n",
        "  input_lines = get_lines(filename)\n",
        "  abstract_lines = \"\"\n",
        "  abstract_samples = []\n",
        "\n",
        "  for line in input_lines:\n",
        "    if line.startswith(\"###\"):\n",
        "      abstract_id = line\n",
        "      abstract_lines = \"\"\n",
        "    elif line.isspace():\n",
        "      abstract_line_split = abstract_lines.splitlines()\n",
        "\n",
        "      for abstract_line_number, abstract_line in enumerate(abstract_line_split):\n",
        "        line_data = {}\n",
        "        target_text_split = abstract_line.split('\\t')\n",
        "        line_data['target'] = target_text_split[0]\n",
        "        line_data['text'] = target_text_split[1].lower()\n",
        "        line_data['line_number'] = abstract_line_number\n",
        "        line_data['total_lines'] = len(abstract_line_split) - 1\n",
        "        abstract_samples.append(line_data)\n",
        "\n",
        "    else:\n",
        "       abstract_lines += line\n",
        "\n",
        "  return abstract_samples"
      ],
      "metadata": {
        "id": "ZeWGmp14sUhM"
      },
      "execution_count": 81,
      "outputs": []
    },
    {
      "cell_type": "code",
      "source": [
        "train_samples = preprocess_text_with_line_number(data_dir+'train.txt')\n",
        "val_samples = preprocess_text_with_line_number(data_dir+'dev.txt')\n",
        "test_samples = preprocess_text_with_line_number(data_dir+'test.txt')"
      ],
      "metadata": {
        "id": "tHXrqtFAscDM"
      },
      "execution_count": 82,
      "outputs": []
    },
    {
      "cell_type": "code",
      "source": [
        "train_samples[:5], len(train_samples)"
      ],
      "metadata": {
        "colab": {
          "base_uri": "https://localhost:8080/"
        },
        "id": "2fWKvlPLsdpk",
        "outputId": "c4bba96b-71af-40cb-ab7e-eb81f1e21194"
      },
      "execution_count": 83,
      "outputs": [
        {
          "output_type": "execute_result",
          "data": {
            "text/plain": [
              "([{'target': 'OBJECTIVE',\n",
              "   'text': 'to investigate the efficacy of 6 weeks of daily low-dose oral prednisolone in improving pain , mobility , and systemic low-grade inflammation in the short term and whether the effect would be sustained at 12 weeks in older adults with moderate to severe knee osteoarthritis ( oa ) .',\n",
              "   'line_number': 0,\n",
              "   'total_lines': 11},\n",
              "  {'target': 'METHODS',\n",
              "   'text': 'a total of 125 patients with primary knee oa were randomized 1:1 ; 63 received 7.5 mg/day of prednisolone and 62 received placebo for 6 weeks .',\n",
              "   'line_number': 1,\n",
              "   'total_lines': 11},\n",
              "  {'target': 'METHODS',\n",
              "   'text': 'outcome measures included pain reduction and improvement in function scores and systemic inflammation markers .',\n",
              "   'line_number': 2,\n",
              "   'total_lines': 11},\n",
              "  {'target': 'METHODS',\n",
              "   'text': 'pain was assessed using the visual analog pain scale ( 0-100 mm ) .',\n",
              "   'line_number': 3,\n",
              "   'total_lines': 11},\n",
              "  {'target': 'METHODS',\n",
              "   'text': 'secondary outcome measures included the western ontario and mcmaster universities osteoarthritis index scores , patient global assessment ( pga ) of the severity of knee oa , and 6-min walk distance ( 6mwd ) .',\n",
              "   'line_number': 4,\n",
              "   'total_lines': 11}],\n",
              " 180040)"
            ]
          },
          "metadata": {},
          "execution_count": 83
        }
      ]
    },
    {
      "cell_type": "code",
      "source": [
        "import pandas as pd\n",
        "import numpy as np\n",
        "\n",
        "train_df = pd.DataFrame(train_samples)\n",
        "val_df = pd.DataFrame(val_samples)\n",
        "test_df = pd.DataFrame(test_samples)"
      ],
      "metadata": {
        "id": "yi6fsIR_spBd"
      },
      "execution_count": 84,
      "outputs": []
    },
    {
      "cell_type": "code",
      "source": [
        "train_df.head()"
      ],
      "metadata": {
        "colab": {
          "base_uri": "https://localhost:8080/",
          "height": 206
        },
        "id": "sQ2vENfEsrQT",
        "outputId": "4b992a22-0cee-4a1b-aa32-48c60b6582d0"
      },
      "execution_count": 85,
      "outputs": [
        {
          "output_type": "execute_result",
          "data": {
            "text/plain": [
              "      target                                               text  line_number  \\\n",
              "0  OBJECTIVE  to investigate the efficacy of 6 weeks of dail...            0   \n",
              "1    METHODS  a total of 125 patients with primary knee oa w...            1   \n",
              "2    METHODS  outcome measures included pain reduction and i...            2   \n",
              "3    METHODS  pain was assessed using the visual analog pain...            3   \n",
              "4    METHODS  secondary outcome measures included the wester...            4   \n",
              "\n",
              "   total_lines  \n",
              "0           11  \n",
              "1           11  \n",
              "2           11  \n",
              "3           11  \n",
              "4           11  "
            ],
            "text/html": [
              "\n",
              "\n",
              "  <div id=\"df-07e09d15-aa36-4e5f-844b-9e756e538de5\">\n",
              "    <div class=\"colab-df-container\">\n",
              "      <div>\n",
              "<style scoped>\n",
              "    .dataframe tbody tr th:only-of-type {\n",
              "        vertical-align: middle;\n",
              "    }\n",
              "\n",
              "    .dataframe tbody tr th {\n",
              "        vertical-align: top;\n",
              "    }\n",
              "\n",
              "    .dataframe thead th {\n",
              "        text-align: right;\n",
              "    }\n",
              "</style>\n",
              "<table border=\"1\" class=\"dataframe\">\n",
              "  <thead>\n",
              "    <tr style=\"text-align: right;\">\n",
              "      <th></th>\n",
              "      <th>target</th>\n",
              "      <th>text</th>\n",
              "      <th>line_number</th>\n",
              "      <th>total_lines</th>\n",
              "    </tr>\n",
              "  </thead>\n",
              "  <tbody>\n",
              "    <tr>\n",
              "      <th>0</th>\n",
              "      <td>OBJECTIVE</td>\n",
              "      <td>to investigate the efficacy of 6 weeks of dail...</td>\n",
              "      <td>0</td>\n",
              "      <td>11</td>\n",
              "    </tr>\n",
              "    <tr>\n",
              "      <th>1</th>\n",
              "      <td>METHODS</td>\n",
              "      <td>a total of 125 patients with primary knee oa w...</td>\n",
              "      <td>1</td>\n",
              "      <td>11</td>\n",
              "    </tr>\n",
              "    <tr>\n",
              "      <th>2</th>\n",
              "      <td>METHODS</td>\n",
              "      <td>outcome measures included pain reduction and i...</td>\n",
              "      <td>2</td>\n",
              "      <td>11</td>\n",
              "    </tr>\n",
              "    <tr>\n",
              "      <th>3</th>\n",
              "      <td>METHODS</td>\n",
              "      <td>pain was assessed using the visual analog pain...</td>\n",
              "      <td>3</td>\n",
              "      <td>11</td>\n",
              "    </tr>\n",
              "    <tr>\n",
              "      <th>4</th>\n",
              "      <td>METHODS</td>\n",
              "      <td>secondary outcome measures included the wester...</td>\n",
              "      <td>4</td>\n",
              "      <td>11</td>\n",
              "    </tr>\n",
              "  </tbody>\n",
              "</table>\n",
              "</div>\n",
              "      <button class=\"colab-df-convert\" onclick=\"convertToInteractive('df-07e09d15-aa36-4e5f-844b-9e756e538de5')\"\n",
              "              title=\"Convert this dataframe to an interactive table.\"\n",
              "              style=\"display:none;\">\n",
              "\n",
              "  <svg xmlns=\"http://www.w3.org/2000/svg\" height=\"24px\"viewBox=\"0 0 24 24\"\n",
              "       width=\"24px\">\n",
              "    <path d=\"M0 0h24v24H0V0z\" fill=\"none\"/>\n",
              "    <path d=\"M18.56 5.44l.94 2.06.94-2.06 2.06-.94-2.06-.94-.94-2.06-.94 2.06-2.06.94zm-11 1L8.5 8.5l.94-2.06 2.06-.94-2.06-.94L8.5 2.5l-.94 2.06-2.06.94zm10 10l.94 2.06.94-2.06 2.06-.94-2.06-.94-.94-2.06-.94 2.06-2.06.94z\"/><path d=\"M17.41 7.96l-1.37-1.37c-.4-.4-.92-.59-1.43-.59-.52 0-1.04.2-1.43.59L10.3 9.45l-7.72 7.72c-.78.78-.78 2.05 0 2.83L4 21.41c.39.39.9.59 1.41.59.51 0 1.02-.2 1.41-.59l7.78-7.78 2.81-2.81c.8-.78.8-2.07 0-2.86zM5.41 20L4 18.59l7.72-7.72 1.47 1.35L5.41 20z\"/>\n",
              "  </svg>\n",
              "      </button>\n",
              "\n",
              "\n",
              "\n",
              "    <div id=\"df-af700a72-8b22-4f4d-99f1-da17e7d373f3\">\n",
              "      <button class=\"colab-df-quickchart\" onclick=\"quickchart('df-af700a72-8b22-4f4d-99f1-da17e7d373f3')\"\n",
              "              title=\"Suggest charts.\"\n",
              "              style=\"display:none;\">\n",
              "\n",
              "<svg xmlns=\"http://www.w3.org/2000/svg\" height=\"24px\"viewBox=\"0 0 24 24\"\n",
              "     width=\"24px\">\n",
              "    <g>\n",
              "        <path d=\"M19 3H5c-1.1 0-2 .9-2 2v14c0 1.1.9 2 2 2h14c1.1 0 2-.9 2-2V5c0-1.1-.9-2-2-2zM9 17H7v-7h2v7zm4 0h-2V7h2v10zm4 0h-2v-4h2v4z\"/>\n",
              "    </g>\n",
              "</svg>\n",
              "      </button>\n",
              "    </div>\n",
              "\n",
              "<style>\n",
              "  .colab-df-quickchart {\n",
              "    background-color: #E8F0FE;\n",
              "    border: none;\n",
              "    border-radius: 50%;\n",
              "    cursor: pointer;\n",
              "    display: none;\n",
              "    fill: #1967D2;\n",
              "    height: 32px;\n",
              "    padding: 0 0 0 0;\n",
              "    width: 32px;\n",
              "  }\n",
              "\n",
              "  .colab-df-quickchart:hover {\n",
              "    background-color: #E2EBFA;\n",
              "    box-shadow: 0px 1px 2px rgba(60, 64, 67, 0.3), 0px 1px 3px 1px rgba(60, 64, 67, 0.15);\n",
              "    fill: #174EA6;\n",
              "  }\n",
              "\n",
              "  [theme=dark] .colab-df-quickchart {\n",
              "    background-color: #3B4455;\n",
              "    fill: #D2E3FC;\n",
              "  }\n",
              "\n",
              "  [theme=dark] .colab-df-quickchart:hover {\n",
              "    background-color: #434B5C;\n",
              "    box-shadow: 0px 1px 3px 1px rgba(0, 0, 0, 0.15);\n",
              "    filter: drop-shadow(0px 1px 2px rgba(0, 0, 0, 0.3));\n",
              "    fill: #FFFFFF;\n",
              "  }\n",
              "</style>\n",
              "\n",
              "    <script>\n",
              "      async function quickchart(key) {\n",
              "        const containerElement = document.querySelector('#' + key);\n",
              "        const charts = await google.colab.kernel.invokeFunction(\n",
              "            'suggestCharts', [key], {});\n",
              "      }\n",
              "    </script>\n",
              "\n",
              "      <script>\n",
              "\n",
              "function displayQuickchartButton(domScope) {\n",
              "  let quickchartButtonEl =\n",
              "    domScope.querySelector('#df-af700a72-8b22-4f4d-99f1-da17e7d373f3 button.colab-df-quickchart');\n",
              "  quickchartButtonEl.style.display =\n",
              "    google.colab.kernel.accessAllowed ? 'block' : 'none';\n",
              "}\n",
              "\n",
              "        displayQuickchartButton(document);\n",
              "      </script>\n",
              "      <style>\n",
              "    .colab-df-container {\n",
              "      display:flex;\n",
              "      flex-wrap:wrap;\n",
              "      gap: 12px;\n",
              "    }\n",
              "\n",
              "    .colab-df-convert {\n",
              "      background-color: #E8F0FE;\n",
              "      border: none;\n",
              "      border-radius: 50%;\n",
              "      cursor: pointer;\n",
              "      display: none;\n",
              "      fill: #1967D2;\n",
              "      height: 32px;\n",
              "      padding: 0 0 0 0;\n",
              "      width: 32px;\n",
              "    }\n",
              "\n",
              "    .colab-df-convert:hover {\n",
              "      background-color: #E2EBFA;\n",
              "      box-shadow: 0px 1px 2px rgba(60, 64, 67, 0.3), 0px 1px 3px 1px rgba(60, 64, 67, 0.15);\n",
              "      fill: #174EA6;\n",
              "    }\n",
              "\n",
              "    [theme=dark] .colab-df-convert {\n",
              "      background-color: #3B4455;\n",
              "      fill: #D2E3FC;\n",
              "    }\n",
              "\n",
              "    [theme=dark] .colab-df-convert:hover {\n",
              "      background-color: #434B5C;\n",
              "      box-shadow: 0px 1px 3px 1px rgba(0, 0, 0, 0.15);\n",
              "      filter: drop-shadow(0px 1px 2px rgba(0, 0, 0, 0.3));\n",
              "      fill: #FFFFFF;\n",
              "    }\n",
              "  </style>\n",
              "\n",
              "      <script>\n",
              "        const buttonEl =\n",
              "          document.querySelector('#df-07e09d15-aa36-4e5f-844b-9e756e538de5 button.colab-df-convert');\n",
              "        buttonEl.style.display =\n",
              "          google.colab.kernel.accessAllowed ? 'block' : 'none';\n",
              "\n",
              "        async function convertToInteractive(key) {\n",
              "          const element = document.querySelector('#df-07e09d15-aa36-4e5f-844b-9e756e538de5');\n",
              "          const dataTable =\n",
              "            await google.colab.kernel.invokeFunction('convertToInteractive',\n",
              "                                                     [key], {});\n",
              "          if (!dataTable) return;\n",
              "\n",
              "          const docLinkHtml = 'Like what you see? Visit the ' +\n",
              "            '<a target=\"_blank\" href=https://colab.research.google.com/notebooks/data_table.ipynb>data table notebook</a>'\n",
              "            + ' to learn more about interactive tables.';\n",
              "          element.innerHTML = '';\n",
              "          dataTable['output_type'] = 'display_data';\n",
              "          await google.colab.output.renderOutput(dataTable, element);\n",
              "          const docLink = document.createElement('div');\n",
              "          docLink.innerHTML = docLinkHtml;\n",
              "          element.appendChild(docLink);\n",
              "        }\n",
              "      </script>\n",
              "    </div>\n",
              "  </div>\n"
            ]
          },
          "metadata": {},
          "execution_count": 85
        }
      ]
    },
    {
      "cell_type": "code",
      "source": [
        "train_df['target'].value_counts()"
      ],
      "metadata": {
        "colab": {
          "base_uri": "https://localhost:8080/"
        },
        "id": "CXcpOfbQstK_",
        "outputId": "1ad1d6e9-f2fa-4d4b-b575-11e5483f49b7"
      },
      "execution_count": 86,
      "outputs": [
        {
          "output_type": "execute_result",
          "data": {
            "text/plain": [
              "METHODS        59353\n",
              "RESULTS        57953\n",
              "CONCLUSIONS    27168\n",
              "BACKGROUND     21727\n",
              "OBJECTIVE      13839\n",
              "Name: target, dtype: int64"
            ]
          },
          "metadata": {},
          "execution_count": 86
        }
      ]
    },
    {
      "cell_type": "markdown",
      "source": [
        "###Convert to list"
      ],
      "metadata": {
        "id": "eBwOK0n2tAD4"
      }
    },
    {
      "cell_type": "code",
      "source": [
        "train_sentances = train_df['text'].tolist()\n",
        "val_sentances = val_df['text'].tolist()\n",
        "test_sentances = test_df['text'].tolist()\n",
        "\n",
        "len(train_sentances), len(val_sentances), len(test_sentances)"
      ],
      "metadata": {
        "colab": {
          "base_uri": "https://localhost:8080/"
        },
        "id": "_3gG0JuDtEMm",
        "outputId": "d0a63d76-31cf-4827-ea44-8aa2a6555089"
      },
      "execution_count": 87,
      "outputs": [
        {
          "output_type": "execute_result",
          "data": {
            "text/plain": [
              "(180040, 30212, 30135)"
            ]
          },
          "metadata": {},
          "execution_count": 87
        }
      ]
    },
    {
      "cell_type": "markdown",
      "source": [
        "### Make Numeric Labels"
      ],
      "metadata": {
        "id": "GSJPyr5TtGGA"
      }
    },
    {
      "cell_type": "code",
      "source": [
        "from sklearn.preprocessing import OneHotEncoder\n",
        "\n",
        "one_hot_encoder = OneHotEncoder(sparse = False)\n",
        "\n",
        "train_labels_one_hot = one_hot_encoder.fit_transform(train_df['target'].to_numpy().reshape(-1,1))\n",
        "val_labels_one_hot = one_hot_encoder.fit_transform(val_df['target'].to_numpy().reshape(-1,1))\n",
        "test_labels_one_hot = one_hot_encoder.fit_transform(test_df['target'].to_numpy().reshape(-1,1))"
      ],
      "metadata": {
        "colab": {
          "base_uri": "https://localhost:8080/"
        },
        "id": "hbbovh3NtNHO",
        "outputId": "10b16dfb-cc0e-4240-9762-78704c6884da"
      },
      "execution_count": 88,
      "outputs": [
        {
          "output_type": "stream",
          "name": "stderr",
          "text": [
            "/usr/local/lib/python3.10/dist-packages/sklearn/preprocessing/_encoders.py:868: FutureWarning: `sparse` was renamed to `sparse_output` in version 1.2 and will be removed in 1.4. `sparse_output` is ignored unless you leave `sparse` to its default value.\n",
            "  warnings.warn(\n",
            "/usr/local/lib/python3.10/dist-packages/sklearn/preprocessing/_encoders.py:868: FutureWarning: `sparse` was renamed to `sparse_output` in version 1.2 and will be removed in 1.4. `sparse_output` is ignored unless you leave `sparse` to its default value.\n",
            "  warnings.warn(\n",
            "/usr/local/lib/python3.10/dist-packages/sklearn/preprocessing/_encoders.py:868: FutureWarning: `sparse` was renamed to `sparse_output` in version 1.2 and will be removed in 1.4. `sparse_output` is ignored unless you leave `sparse` to its default value.\n",
            "  warnings.warn(\n"
          ]
        }
      ]
    },
    {
      "cell_type": "code",
      "source": [
        "train_labels_one_hot"
      ],
      "metadata": {
        "colab": {
          "base_uri": "https://localhost:8080/"
        },
        "id": "JwiByjEStOcA",
        "outputId": "cf8a57a3-20d4-4e5f-de42-e5a62dd61502"
      },
      "execution_count": 89,
      "outputs": [
        {
          "output_type": "execute_result",
          "data": {
            "text/plain": [
              "array([[0., 0., 0., 1., 0.],\n",
              "       [0., 0., 1., 0., 0.],\n",
              "       [0., 0., 1., 0., 0.],\n",
              "       ...,\n",
              "       [0., 0., 0., 0., 1.],\n",
              "       [0., 1., 0., 0., 0.],\n",
              "       [0., 1., 0., 0., 0.]])"
            ]
          },
          "metadata": {},
          "execution_count": 89
        }
      ]
    },
    {
      "cell_type": "code",
      "source": [
        "from sklearn.preprocessing import LabelEncoder\n",
        "\n",
        "label_encoder = LabelEncoder()\n",
        "\n",
        "train_label_encoded = label_encoder.fit_transform(train_df['target'].to_numpy())\n",
        "val_label_encoded = label_encoder.fit_transform(val_df['target'].to_numpy())\n",
        "test_label_encoded = label_encoder.fit_transform(test_df['target'].to_numpy())\n",
        "\n",
        "train_label_encoded"
      ],
      "metadata": {
        "colab": {
          "base_uri": "https://localhost:8080/"
        },
        "id": "B0Fb8vwWtQ5e",
        "outputId": "0a94dc89-023f-4cb4-f86b-f03fa2afcf39"
      },
      "execution_count": 90,
      "outputs": [
        {
          "output_type": "execute_result",
          "data": {
            "text/plain": [
              "array([3, 2, 2, ..., 4, 1, 1])"
            ]
          },
          "metadata": {},
          "execution_count": 90
        }
      ]
    },
    {
      "cell_type": "code",
      "source": [
        "num_classes = len(label_encoder.classes_)\n",
        "class_names = label_encoder.classes_\n",
        "\n",
        "num_classes, class_names"
      ],
      "metadata": {
        "colab": {
          "base_uri": "https://localhost:8080/"
        },
        "id": "U-QmbrVBtSgr",
        "outputId": "8b7ebdc4-9fb3-4c44-c539-d45b8f91b3f2"
      },
      "execution_count": 91,
      "outputs": [
        {
          "output_type": "execute_result",
          "data": {
            "text/plain": [
              "(5,\n",
              " array(['BACKGROUND', 'CONCLUSIONS', 'METHODS', 'OBJECTIVE', 'RESULTS'],\n",
              "       dtype=object))"
            ]
          },
          "metadata": {},
          "execution_count": 91
        }
      ]
    },
    {
      "cell_type": "code",
      "source": [
        "# function for accuracy, precision, recall, f1-score\n",
        "from sklearn.metrics import accuracy_score, precision_recall_fscore_support\n",
        "\n",
        "\n",
        "def calculate_results(y_true, y_pred):\n",
        "  \"\"\"\n",
        "  calculate model acuracy, precision, recall and f1 score of a binary classification model\n",
        "  \"\"\"\n",
        "  # calculate model accuracy\n",
        "  model_accuracy = accuracy_score(y_true, y_pred) * 100\n",
        "  # calculat model precision, recall and f1-score using weigthed average\n",
        "  model_precision, model_recall, model_f1, _ = precision_recall_fscore_support(y_true, y_pred,average = 'weighted' )\n",
        "\n",
        "  model_results = {\n",
        "\n",
        "                   'accuracy' :model_accuracy,\n",
        "                   'precision':model_precision,\n",
        "                   'recall' : model_recall,\n",
        "                   'f1' : model_f1\n",
        "  }\n",
        "  return model_results"
      ],
      "metadata": {
        "id": "HCZJXNtxtTxT"
      },
      "execution_count": 92,
      "outputs": []
    },
    {
      "cell_type": "code",
      "source": [
        "from tensorflow.keras.layers import TextVectorization, Embedding\n",
        "\n",
        "sent_len = [len(i.split()) for i in train_sentances]"
      ],
      "metadata": {
        "id": "motBOeGCtVaZ"
      },
      "execution_count": 93,
      "outputs": []
    },
    {
      "cell_type": "code",
      "source": [
        "sent_len[:5]"
      ],
      "metadata": {
        "colab": {
          "base_uri": "https://localhost:8080/"
        },
        "id": "HexQxyEOtWy9",
        "outputId": "7e796936-44f5-414c-c59a-fed0b01e432b"
      },
      "execution_count": 94,
      "outputs": [
        {
          "output_type": "execute_result",
          "data": {
            "text/plain": [
              "[49, 27, 15, 14, 35]"
            ]
          },
          "metadata": {},
          "execution_count": 94
        }
      ]
    },
    {
      "cell_type": "code",
      "source": [
        "avg_sent_len = np.mean(sent_len)\n",
        "avg_sent_len"
      ],
      "metadata": {
        "colab": {
          "base_uri": "https://localhost:8080/"
        },
        "id": "CN7St3WZtYwI",
        "outputId": "15fd435c-bc16-4e97-b7df-065f0fa0e35d"
      },
      "execution_count": 95,
      "outputs": [
        {
          "output_type": "execute_result",
          "data": {
            "text/plain": [
              "26.338435903132638"
            ]
          },
          "metadata": {},
          "execution_count": 95
        }
      ]
    },
    {
      "cell_type": "code",
      "source": [
        "import matplotlib.pyplot as plt\n",
        "plt.hist(sent_len, bins = 30)"
      ],
      "metadata": {
        "colab": {
          "base_uri": "https://localhost:8080/",
          "height": 690
        },
        "id": "pFu4spOWtaYQ",
        "outputId": "4c6dcf98-14c7-4beb-ea51-0432abd554f5"
      },
      "execution_count": 96,
      "outputs": [
        {
          "output_type": "execute_result",
          "data": {
            "text/plain": [
              "(array([1.6499e+04, 5.6664e+04, 5.2682e+04, 2.9051e+04, 1.3111e+04,\n",
              "        5.6610e+03, 3.0490e+03, 1.5190e+03, 8.0800e+02, 4.3200e+02,\n",
              "        2.2600e+02, 1.2800e+02, 7.7000e+01, 3.9000e+01, 3.0000e+01,\n",
              "        1.5000e+01, 9.0000e+00, 8.0000e+00, 4.0000e+00, 8.0000e+00,\n",
              "        7.0000e+00, 5.0000e+00, 1.0000e+00, 2.0000e+00, 3.0000e+00,\n",
              "        0.0000e+00, 0.0000e+00, 1.0000e+00, 0.0000e+00, 1.0000e+00]),\n",
              " array([  1.        ,  10.83333333,  20.66666667,  30.5       ,\n",
              "         40.33333333,  50.16666667,  60.        ,  69.83333333,\n",
              "         79.66666667,  89.5       ,  99.33333333, 109.16666667,\n",
              "        119.        , 128.83333333, 138.66666667, 148.5       ,\n",
              "        158.33333333, 168.16666667, 178.        , 187.83333333,\n",
              "        197.66666667, 207.5       , 217.33333333, 227.16666667,\n",
              "        237.        , 246.83333333, 256.66666667, 266.5       ,\n",
              "        276.33333333, 286.16666667, 296.        ]),\n",
              " <BarContainer object of 30 artists>)"
            ]
          },
          "metadata": {},
          "execution_count": 96
        },
        {
          "output_type": "display_data",
          "data": {
            "text/plain": [
              "<Figure size 640x480 with 1 Axes>"
            ],
            "image/png": "[encoded data removed]"
          },
          "metadata": {}
        }
      ]
    },
    {
      "cell_type": "code",
      "source": [
        "output_seq_len = int(np.percentile(sent_len, 95))\n",
        "output_seq_len"
      ],
      "metadata": {
        "colab": {
          "base_uri": "https://localhost:8080/"
        },
        "id": "pmfnpSMZtbom",
        "outputId": "2ae8a505-31dc-450b-cb6e-6ecb64eff9d3"
      },
      "execution_count": 97,
      "outputs": [
        {
          "output_type": "execute_result",
          "data": {
            "text/plain": [
              "55"
            ]
          },
          "metadata": {},
          "execution_count": 97
        }
      ]
    },
    {
      "cell_type": "code",
      "source": [
        "max_tokens = 68000 #given in paper"
      ],
      "metadata": {
        "id": "mKqyY3D0teMN"
      },
      "execution_count": 98,
      "outputs": []
    },
    {
      "cell_type": "code",
      "source": [
        "text_vectorizer  = TextVectorization(max_tokens = max_tokens,\n",
        "                                     output_sequence_length = output_seq_len)"
      ],
      "metadata": {
        "id": "wfOsRb8Xtfak"
      },
      "execution_count": 99,
      "outputs": []
    },
    {
      "cell_type": "code",
      "source": [
        "# adapt text vectorizer to training sentance\n",
        "text_vectorizer.adapt(train_sentances)"
      ],
      "metadata": {
        "id": "tmXUrTLatgm8"
      },
      "execution_count": 100,
      "outputs": []
    },
    {
      "cell_type": "code",
      "source": [
        "# words in training vocabulary\n",
        "rct_20k_text_vocab = text_vectorizer.get_vocabulary()"
      ],
      "metadata": {
        "id": "Y3GHsM7WtiFO"
      },
      "execution_count": 101,
      "outputs": []
    },
    {
      "cell_type": "code",
      "source": [
        "print(len(rct_20k_text_vocab))\n",
        "print(rct_20k_text_vocab[:5])\n",
        "print(rct_20k_text_vocab[-5:])"
      ],
      "metadata": {
        "colab": {
          "base_uri": "https://localhost:8080/"
        },
        "id": "eepiYbmDtjU7",
        "outputId": "bf517019-ba36-44db-a455-aa25e805e179"
      },
      "execution_count": 102,
      "outputs": [
        {
          "output_type": "stream",
          "name": "stdout",
          "text": [
            "68000\n",
            "['', '[UNK]', 'the', 'and', 'of']\n",
            "['httpsuploaduminacjpcgiopenbinctrctrcgifunctionbrowsactionbrowstypesummaryrecptnor000008238languagee', 'httpsregisterclinicaltrialsgov', 'httpsmartmicrosurgerycom', 'httpseudractemaeuropaeuindexhtml', 'httpseudractemaeuropaeu']\n"
          ]
        }
      ]
    },
    {
      "cell_type": "code",
      "source": [
        "embedding = Embedding(\n",
        "    input_dim = len(rct_20k_text_vocab),\n",
        "    output_dim = 256,\n",
        "    name = 'token_embedding'\n",
        ")"
      ],
      "metadata": {
        "id": "RtUBTBcMtkgS"
      },
      "execution_count": 103,
      "outputs": []
    },
    {
      "cell_type": "code",
      "source": [
        "\n",
        "# Test out text vectorizer and embedding on random sentances\n",
        "\n",
        "import random\n",
        "target_sentance = random.choice(train_sentances)\n",
        "\n",
        "print(f'Target sentance:\\n{target_sentance}\\n\\n')\n",
        "print(f'Vectorized target sentance:\\n{text_vectorizer([target_sentance])}\\n\\n')\n",
        "print(f'shape of vectorized sentance:{text_vectorizer([target_sentance]).shape}\\n\\n')\n",
        "print(f'embedded target sentance:\\n{embedding(text_vectorizer([target_sentance]))}\\n\\n')\n",
        "print(f'shape of embedded sentance:{embedding(text_vectorizer([target_sentance])).shape}')"
      ],
      "metadata": {
        "colab": {
          "base_uri": "https://localhost:8080/"
        },
        "id": "tPAdZowvtl1J",
        "outputId": "0c26c4a4-1750-4676-dc96-d067117b8381"
      },
      "execution_count": 104,
      "outputs": [
        {
          "output_type": "stream",
          "name": "stdout",
          "text": [
            "Target sentance:\n",
            "brief inhalation of coarse pm from a rural location did not acutely impair several facets of hdl functionality .\n",
            "\n",
            "\n",
            "Vectorized target sentance:\n",
            "[[ 1047  2549     4 26558  3322    27     8  1834  2632   117    31  5951\n",
            "   7719   965 26122     4  1954  9011     0     0     0     0     0     0\n",
            "      0     0     0     0     0     0     0     0     0     0     0     0\n",
            "      0     0     0     0     0     0     0     0     0     0     0     0\n",
            "      0     0     0     0     0     0     0]]\n",
            "\n",
            "\n",
            "shape of vectorized sentance:(1, 55)\n",
            "\n",
            "\n",
            "embedded target sentance:\n",
            "[[[-0.04071499  0.03173764 -0.00385082 ... -0.02648994  0.03369473\n",
            "    0.01459702]\n",
            "  [-0.0333757  -0.02497201 -0.03556053 ...  0.01233252 -0.00692268\n",
            "   -0.04516242]\n",
            "  [ 0.01007835 -0.02390668  0.0325657  ... -0.01218325 -0.0351359\n",
            "   -0.01064372]\n",
            "  ...\n",
            "  [ 0.03085936  0.04234285 -0.03872831 ... -0.0316386  -0.03496332\n",
            "   -0.04519011]\n",
            "  [ 0.03085936  0.04234285 -0.03872831 ... -0.0316386  -0.03496332\n",
            "   -0.04519011]\n",
            "  [ 0.03085936  0.04234285 -0.03872831 ... -0.0316386  -0.03496332\n",
            "   -0.04519011]]]\n",
            "\n",
            "\n",
            "shape of embedded sentance:(1, 55, 256)\n"
          ]
        }
      ]
    },
    {
      "cell_type": "markdown",
      "source": [
        "###Character Level Encoding"
      ],
      "metadata": {
        "id": "CTKqaDgbtnUl"
      }
    },
    {
      "cell_type": "code",
      "source": [
        "def split_character(text):\n",
        "  return ' '.join(list(text))\n"
      ],
      "metadata": {
        "id": "hRisfDentskr"
      },
      "execution_count": 105,
      "outputs": []
    },
    {
      "cell_type": "code",
      "source": [
        "train_chars = [split_character(sentences) for sentences in train_sentances]\n",
        "val_chars = [split_character(sentences) for sentences in val_sentances]\n",
        "test_chars = [split_character(sentences) for sentences in test_sentances]"
      ],
      "metadata": {
        "id": "XpsuVECqtt3C"
      },
      "execution_count": 106,
      "outputs": []
    },
    {
      "cell_type": "code",
      "source": [
        "train_chars"
      ],
      "metadata": {
        "id": "x6Lia05ctvHL"
      },
      "execution_count": null,
      "outputs": []
    },
    {
      "cell_type": "code",
      "source": [
        "char_lens = [len(sentance) for sentance in train_sentances]\n",
        "mean_char_len = np.mean(char_lens)\n",
        "mean_char_len"
      ],
      "metadata": {
        "colab": {
          "base_uri": "https://localhost:8080/"
        },
        "id": "NDjzXGqNtw0f",
        "outputId": "7129179a-457f-4f4b-e7d8-d35bc0afe031"
      },
      "execution_count": 108,
      "outputs": [
        {
          "output_type": "execute_result",
          "data": {
            "text/plain": [
              "152.006276383026"
            ]
          },
          "metadata": {},
          "execution_count": 108
        }
      ]
    },
    {
      "cell_type": "code",
      "source": [
        "output_seq_char_len = int(np.percentile(char_lens, 95))\n",
        "output_seq_char_len"
      ],
      "metadata": {
        "colab": {
          "base_uri": "https://localhost:8080/"
        },
        "id": "Ovvw4j6ftzS7",
        "outputId": "4c206852-98f5-4eb0-ff43-5eaa10329a20"
      },
      "execution_count": 109,
      "outputs": [
        {
          "output_type": "execute_result",
          "data": {
            "text/plain": [
              "296"
            ]
          },
          "metadata": {},
          "execution_count": 109
        }
      ]
    },
    {
      "cell_type": "code",
      "source": [
        "import string\n",
        "alphabet = string.ascii_lowercase + string.digits + string.punctuation\n",
        "alphabet"
      ],
      "metadata": {
        "colab": {
          "base_uri": "https://localhost:8080/",
          "height": 36
        },
        "id": "50EQcqwTt0lF",
        "outputId": "be8f7695-a82d-40fc-a0d8-821576720d18"
      },
      "execution_count": 110,
      "outputs": [
        {
          "output_type": "execute_result",
          "data": {
            "text/plain": [
              "'abcdefghijklmnopqrstuvwxyz0123456789!\"#$%&\\'()*+,-./:;<=>?@[\\\\]^_`{|}~'"
            ],
            "application/vnd.google.colaboratory.intrinsic+json": {
              "type": "string"
            }
          },
          "metadata": {},
          "execution_count": 110
        }
      ]
    },
    {
      "cell_type": "code",
      "source": [
        "# create char- level token vectorizer instance\n",
        "\n",
        "NUM_CHAR_TOKENS = len(alphabet) + 2\n",
        "char_vectorizer = TextVectorization(max_tokens = NUM_CHAR_TOKENS,\n",
        "                                    output_sequence_length = output_seq_char_len,\n",
        "                                    standardize = None,\n",
        "                                    name = 'char_vectorizer')"
      ],
      "metadata": {
        "id": "Y173BjZvt1z7"
      },
      "execution_count": 111,
      "outputs": []
    },
    {
      "cell_type": "code",
      "source": [
        "# Adapt character char vectorizer to training character\n",
        "char_vectorizer.adapt(train_chars)"
      ],
      "metadata": {
        "id": "WC6wzsKit3vL"
      },
      "execution_count": 112,
      "outputs": []
    },
    {
      "cell_type": "code",
      "source": [
        "char_vocab = char_vectorizer.get_vocabulary()"
      ],
      "metadata": {
        "id": "pVvyBrxdt5YF"
      },
      "execution_count": 113,
      "outputs": []
    },
    {
      "cell_type": "code",
      "source": [
        "len(char_vocab), char_vocab[:5], char_vocab[-5:]"
      ],
      "metadata": {
        "colab": {
          "base_uri": "https://localhost:8080/"
        },
        "id": "pAa6rEp5t7Fo",
        "outputId": "ce386dd1-cc73-433e-e7c0-14c131ca5afe"
      },
      "execution_count": 114,
      "outputs": [
        {
          "output_type": "execute_result",
          "data": {
            "text/plain": [
              "(69, ['', '[UNK]', 'e', 't', 'i'], ['{', '@', '|', '\"', '\\\\'])"
            ]
          },
          "metadata": {},
          "execution_count": 114
        }
      ]
    },
    {
      "cell_type": "markdown",
      "source": [
        "###Character Level Embedding layer"
      ],
      "metadata": {
        "id": "2d2UDX1Et8YT"
      }
    },
    {
      "cell_type": "code",
      "source": [
        "char_embedding = Embedding(\n",
        "    input_dim = len(char_vocab),\n",
        "    output_dim = 56,\n",
        "    name = 'char_embed'\n",
        ")"
      ],
      "metadata": {
        "id": "50dXMDQXt-fU"
      },
      "execution_count": 115,
      "outputs": []
    },
    {
      "cell_type": "code",
      "source": [
        "# Test our character embedding layer\n",
        "\n",
        "random_sent = random.choice(train_chars)\n",
        "\n",
        "\n",
        "print(f\"Characterized sentance : \\n{random_sent}\\n\")\n",
        "print(f\"Len of sentance:{len(random_sent.split())}\\n\")\n",
        "print(f\"Embedded sentance : \\n{char_vectorizer(random_sent)}\\n\")\n",
        "print(f'len of embedded sentance(Preset): {len(char_vectorizer(random_sent))}\\n')\n",
        "\n",
        "print(f\"embedded char sentance:\\n{char_embedding(char_vectorizer(random_sent))}\\n\")\n",
        "print(f\"shape of embedded char sentance:{char_embedding(char_vectorizer(random_sent)).shape}\")"
      ],
      "metadata": {
        "colab": {
          "base_uri": "https://localhost:8080/"
        },
        "id": "eVqHwkiFt_69",
        "outputId": "a8c91542-ae47-4ac0-d303-10fb757793ca"
      },
      "execution_count": 116,
      "outputs": [
        {
          "output_type": "stream",
          "name": "stdout",
          "text": [
            "Characterized sentance : \n",
            "r e c e n t l y   ,   t h e r e   h a v e   b e e n   i n v e s t i g a t i o n s   t h a t   h a v e   t a r g e t e d   i m p r o v i n g   t h e   r e l a t i v e l y   p o o r   v a l i d i t y   a n d   r e l i a b i l i t y   o f   a t t e n t i o n a l   b i a s   m e a s u r e s   .\n",
            "\n",
            "Len of sentance:126\n",
            "\n",
            "Embedded sentance : \n",
            "[ 8  2 11  2  6  3 12 19 24  3 13  2  8  2 13  5 22  2 23  2  2  6  4  6\n",
            " 22  2  9  3  4 18  5  3  4  7  6  9  3 13  5  3 13  5 22  2  3  5  8 18\n",
            "  2  3  2 10  4 15 14  8  7 22  4  6 18  3 13  2  8  2 12  5  3  4 22  2\n",
            " 12 19 14  7  7  8 22  5 12  4 10  4  3 19  5  6 10  8  2 12  4  5 23  4\n",
            " 12  4  3 19  7 17  5  3  3  2  6  3  4  7  6  5 12 23  4  5  9 15  2  5\n",
            "  9 16  8  2  9 21  0  0  0  0  0  0  0  0  0  0  0  0  0  0  0  0  0  0\n",
            "  0  0  0  0  0  0  0  0  0  0  0  0  0  0  0  0  0  0  0  0  0  0  0  0\n",
            "  0  0  0  0  0  0  0  0  0  0  0  0  0  0  0  0  0  0  0  0  0  0  0  0\n",
            "  0  0  0  0  0  0  0  0  0  0  0  0  0  0  0  0  0  0  0  0  0  0  0  0\n",
            "  0  0  0  0  0  0  0  0  0  0  0  0  0  0  0  0  0  0  0  0  0  0  0  0\n",
            "  0  0  0  0  0  0  0  0  0  0  0  0  0  0  0  0  0  0  0  0  0  0  0  0\n",
            "  0  0  0  0  0  0  0  0  0  0  0  0  0  0  0  0  0  0  0  0  0  0  0  0\n",
            "  0  0  0  0  0  0  0  0]\n",
            "\n",
            "len of embedded sentance(Preset): 296\n",
            "\n",
            "embedded char sentance:\n",
            "[[ 0.04714387  0.04887113 -0.02520278 ... -0.02555759  0.01672819\n",
            "  -0.03096937]\n",
            " [ 0.03821406  0.01670526 -0.02204826 ...  0.03992594 -0.01056995\n",
            "   0.0485886 ]\n",
            " [ 0.00214393  0.04982885 -0.04786396 ...  0.04439113 -0.01021878\n",
            "  -0.01934946]\n",
            " ...\n",
            " [ 0.0300907  -0.04488243  0.0449943  ...  0.0317219   0.02692762\n",
            "   0.00200696]\n",
            " [ 0.0300907  -0.04488243  0.0449943  ...  0.0317219   0.02692762\n",
            "   0.00200696]\n",
            " [ 0.0300907  -0.04488243  0.0449943  ...  0.0317219   0.02692762\n",
            "   0.00200696]]\n",
            "\n",
            "shape of embedded char sentance:(296, 56)\n"
          ]
        }
      ]
    },
    {
      "cell_type": "markdown",
      "source": [
        "### Positional Embedding layer"
      ],
      "metadata": {
        "id": "EPGY6Nj5uBeL"
      }
    },
    {
      "cell_type": "code",
      "source": [
        "import tensorflow as tf\n",
        "train_line_number_one_hot = tf.one_hot(train_df['line_number'].to_numpy(), depth = 15)\n",
        "val_line_number_one_hot = tf.one_hot(val_df['line_number'].to_numpy(), depth = 15)\n",
        "test_line_number_one_hot = tf.one_hot(test_df['line_number'].to_numpy(), depth = 15)\n"
      ],
      "metadata": {
        "id": "5kj2h_q5uFn8"
      },
      "execution_count": 117,
      "outputs": []
    },
    {
      "cell_type": "code",
      "source": [
        "train_line_number_one_hot[:5],"
      ],
      "metadata": {
        "colab": {
          "base_uri": "https://localhost:8080/"
        },
        "id": "F4fqJKPVuG6O",
        "outputId": "d3f57e72-f466-4002-eb55-027dbd0d78ff"
      },
      "execution_count": 118,
      "outputs": [
        {
          "output_type": "execute_result",
          "data": {
            "text/plain": [
              "(<tf.Tensor: shape=(5, 15), dtype=float32, numpy=\n",
              " array([[1., 0., 0., 0., 0., 0., 0., 0., 0., 0., 0., 0., 0., 0., 0.],\n",
              "        [0., 1., 0., 0., 0., 0., 0., 0., 0., 0., 0., 0., 0., 0., 0.],\n",
              "        [0., 0., 1., 0., 0., 0., 0., 0., 0., 0., 0., 0., 0., 0., 0.],\n",
              "        [0., 0., 0., 1., 0., 0., 0., 0., 0., 0., 0., 0., 0., 0., 0.],\n",
              "        [0., 0., 0., 0., 1., 0., 0., 0., 0., 0., 0., 0., 0., 0., 0.]],\n",
              "       dtype=float32)>,)"
            ]
          },
          "metadata": {},
          "execution_count": 118
        }
      ]
    },
    {
      "cell_type": "code",
      "source": [
        "train_total_line_number_one_hot = tf.one_hot(train_df['total_lines'].to_numpy(), depth=20)\n",
        "val_total_line_number_one_hot = tf.one_hot(val_df['total_lines'].to_numpy(), depth=20)\n",
        "test_total_line_number_one_hot = tf.one_hot(test_df['total_lines'].to_numpy(), depth=20)\n",
        "\n",
        "\n",
        "train_total_line_number_one_hot[:5],"
      ],
      "metadata": {
        "colab": {
          "base_uri": "https://localhost:8080/"
        },
        "id": "Xa6K2Q3JuIaH",
        "outputId": "e411a471-6295-47ce-e493-805846eb1277"
      },
      "execution_count": 119,
      "outputs": [
        {
          "output_type": "execute_result",
          "data": {
            "text/plain": [
              "(<tf.Tensor: shape=(5, 20), dtype=float32, numpy=\n",
              " array([[0., 0., 0., 0., 0., 0., 0., 0., 0., 0., 0., 1., 0., 0., 0., 0.,\n",
              "         0., 0., 0., 0.],\n",
              "        [0., 0., 0., 0., 0., 0., 0., 0., 0., 0., 0., 1., 0., 0., 0., 0.,\n",
              "         0., 0., 0., 0.],\n",
              "        [0., 0., 0., 0., 0., 0., 0., 0., 0., 0., 0., 1., 0., 0., 0., 0.,\n",
              "         0., 0., 0., 0.],\n",
              "        [0., 0., 0., 0., 0., 0., 0., 0., 0., 0., 0., 1., 0., 0., 0., 0.,\n",
              "         0., 0., 0., 0.],\n",
              "        [0., 0., 0., 0., 0., 0., 0., 0., 0., 0., 0., 1., 0., 0., 0., 0.,\n",
              "         0., 0., 0., 0.]], dtype=float32)>,)"
            ]
          },
          "metadata": {},
          "execution_count": 119
        }
      ]
    },
    {
      "cell_type": "markdown",
      "source": [
        "###Creating tribrid inputs\n",
        "---\n",
        "Prefetched Dataset"
      ],
      "metadata": {
        "id": "JH1maNPpuLYc"
      }
    },
    {
      "cell_type": "code",
      "source": [
        "train_tribrid_data = tf.data.Dataset.from_tensor_slices((train_line_number_one_hot, train_total_line_number_one_hot, train_sentances, train_chars))\n",
        "\n",
        "train_tribrid_labels = tf.data.Dataset.from_tensor_slices(train_labels_one_hot)\n",
        "train_tribrid_dataset = tf.data.Dataset.zip((train_tribrid_data, train_tribrid_labels))\n",
        "\n",
        "train_tribrid_dataset = train_tribrid_dataset.batch(32).prefetch(tf.data.AUTOTUNE)"
      ],
      "metadata": {
        "id": "rzqobDeeuP4u"
      },
      "execution_count": 120,
      "outputs": []
    },
    {
      "cell_type": "code",
      "source": [
        "val_tribrid_data = tf.data.Dataset.from_tensor_slices((val_line_number_one_hot, val_total_line_number_one_hot, val_sentances, val_chars))\n",
        "\n",
        "val_tribrid_labels = tf.data.Dataset.from_tensor_slices(val_labels_one_hot)\n",
        "val_tribrid_dataset = tf.data.Dataset.zip((val_tribrid_data, val_tribrid_labels))\n",
        "\n",
        "val_tribrid_dataset = val_tribrid_dataset.batch(32).prefetch(tf.data.AUTOTUNE)"
      ],
      "metadata": {
        "id": "6XRTu7EsuUH8"
      },
      "execution_count": 121,
      "outputs": []
    },
    {
      "cell_type": "code",
      "source": [
        "test_tribrid_data = tf.data.Dataset.from_tensor_slices((test_line_number_one_hot,\n",
        "                                                        test_total_line_number_one_hot,\n",
        "                                                        test_sentances,\n",
        "                                                        test_chars))\n",
        "\n",
        "test_tribrid_labels = tf.data.Dataset.from_tensor_slices(test_labels_one_hot)\n",
        "test_tribrid_dataset = tf.data.Dataset.zip((test_tribrid_data, test_tribrid_labels))\n",
        "\n",
        "test_tribrid_dataset = test_tribrid_dataset.batch(32).prefetch(tf.data.AUTOTUNE)"
      ],
      "metadata": {
        "id": "5xABlSRruVWw"
      },
      "execution_count": 122,
      "outputs": []
    },
    {
      "cell_type": "markdown",
      "source": [
        "##Building BERT Models"
      ],
      "metadata": {
        "id": "9ZuTlTZCuWuz"
      }
    },
    {
      "cell_type": "code",
      "source": [
        "preprocess = hub.load('https://tfhub.dev/tensorflow/bert_en_uncased_preprocess/3')\n",
        "bert = hub.load('https://tfhub.dev/google/experts/bert/pubmed/2')"
      ],
      "metadata": {
        "id": "IkFnhSfGuY78"
      },
      "execution_count": 123,
      "outputs": []
    },
    {
      "cell_type": "code",
      "source": [
        "preprocess_layer = hub.KerasLayer(preprocess, name = 'bert_input_preprocess')\n",
        "bert_layer = hub.KerasLayer(bert, name = 'bert_layer')"
      ],
      "metadata": {
        "id": "V4bFY3mWufN2"
      },
      "execution_count": 124,
      "outputs": []
    },
    {
      "cell_type": "markdown",
      "source": [
        "###Build a model"
      ],
      "metadata": {
        "id": "piLkavncuyN-"
      }
    },
    {
      "cell_type": "code",
      "source": [
        "from tensorflow import keras\n",
        "from tensorflow.keras import layers"
      ],
      "metadata": {
        "id": "zWCiYxqCwjZS"
      },
      "execution_count": 125,
      "outputs": []
    },
    {
      "cell_type": "code",
      "source": [
        "#1. Token Inputs\n",
        "token_inputs = layers.Input(shape=[], dtype = tf.string, name='token_inputs', ragged = False)\n",
        "bert_input = preprocess_layer(token_inputs)\n",
        "bert_outputs = bert_layer(bert_input, training = False)\n",
        "sequence_output = bert_outputs['pooled_output']\n",
        "token_outputs = layers.Dense(128, activation = 'relu')(sequence_output)\n",
        "token_model = tf.keras.Model(token_inputs, token_outputs)\n",
        "\n",
        "# 2. Charater imputs\n",
        "char_inputs = layers.Input(shape=(1,), dtype=tf.string, name='char_input', ragged=False)\n",
        "char_vectors = char_vectorizer(char_inputs)\n",
        "char_embeddings = char_embedding(char_vectors)\n",
        "char_bi_lstm = layers.Bidirectional(layers.LSTM(24))(char_embeddings)\n",
        "char_model = tf.keras.Model(char_inputs, char_bi_lstm)\n",
        "\n",
        "# 3. model for line_number feature\n",
        "line_number_inputs = layers.Input(shape=(15,), dtype=tf.float32, name='line_numbers_input')\n",
        "line_number_outputs = layers.Dense(32, activation='relu')(line_number_inputs)\n",
        "line_number_model = tf.keras.Model(line_number_inputs, line_number_outputs)\n",
        "\n",
        "# 4. model for total_line feature\n",
        "total_lines_inputs = layers.Input(shape=(20,), dtype=tf.float32, name='total_line_inputs')\n",
        "total_lines_outputs = layers.Dense(32, activation='relu')(total_lines_inputs)\n",
        "total_lines_model = tf.keras.Model(total_lines_inputs, total_lines_outputs)\n",
        "\n",
        "\n",
        "# 5. Concat layer 1 & 2\n",
        "token_char_concat = layers.Concatenate(name='concat_layer')([token_model.output,\n",
        "                                                             char_model.output])\n",
        "\n",
        "# adding one dropout layer according to the paper\n",
        "z = layers.Dense(256, activation='relu')(token_char_concat)\n",
        "z = layers.Dropout(0.5)(z)\n",
        "\n",
        "\n",
        "# 6. concat layers 3 4 5\n",
        "final_concat = layers.Concatenate(name='final_concat')([\n",
        "    line_number_model.output,\n",
        "    total_lines_model.output,\n",
        "    z\n",
        "])\n",
        "\n",
        "\n",
        "# Output layer\n",
        "output_layer = layers.Dense(num_classes, activation='softmax', name='output_layer')(final_concat)\n",
        "\n",
        "# final model\n",
        "model = tf.keras.Model(\n",
        "    inputs = [\n",
        "              line_number_model.input,\n",
        "              total_lines_model.input,\n",
        "              token_model.input,\n",
        "              char_model.input,\n",
        "    ],\n",
        "    outputs = output_layer\n",
        ")\n",
        "\n"
      ],
      "metadata": {
        "id": "lceBuID0u4KU"
      },
      "execution_count": 126,
      "outputs": []
    },
    {
      "cell_type": "code",
      "source": [
        "model.summary()"
      ],
      "metadata": {
        "colab": {
          "base_uri": "https://localhost:8080/"
        },
        "id": "ZIa4TGhGxyg5",
        "outputId": "be356e85-1d36-452d-896c-4f3874dbf6a6"
      },
      "execution_count": 127,
      "outputs": [
        {
          "output_type": "stream",
          "name": "stdout",
          "text": [
            "Model: \"model_19\"\n",
            "__________________________________________________________________________________________________\n",
            " Layer (type)                Output Shape                 Param #   Connected to                  \n",
            "==================================================================================================\n",
            " token_inputs (InputLayer)   [(None,)]                    0         []                            \n",
            "                                                                                                  \n",
            " char_input (InputLayer)     [(None, 1)]                  0         []                            \n",
            "                                                                                                  \n",
            " bert_input_preprocess (Ker  {'input_type_ids': (None,    0         ['token_inputs[0][0]']        \n",
            " asLayer)                    128),                                                                \n",
            "                              'input_mask': (None, 128)                                           \n",
            "                             , 'input_word_ids': (None,                                           \n",
            "                              128)}                                                               \n",
            "                                                                                                  \n",
            " char_vectorizer (TextVecto  (None, 296)                  0         ['char_input[0][0]']          \n",
            " rization)                                                                                        \n",
            "                                                                                                  \n",
            " bert_layer (KerasLayer)     {'pooled_output': (None, 7   1094822   ['bert_input_preprocess[0][0]'\n",
            "                             68),                         41        , 'bert_input_preprocess[0][1]\n",
            "                              'sequence_output': (None,             ',                            \n",
            "                              128, 768),                             'bert_input_preprocess[0][2]'\n",
            "                              'encoder_outputs': [(None             ]                             \n",
            "                             , 128, 768),                                                         \n",
            "                              (None, 128, 768),                                                   \n",
            "                              (None, 128, 768),                                                   \n",
            "                              (None, 128, 768),                                                   \n",
            "                              (None, 128, 768),                                                   \n",
            "                              (None, 128, 768),                                                   \n",
            "                              (None, 128, 768),                                                   \n",
            "                              (None, 128, 768),                                                   \n",
            "                              (None, 128, 768),                                                   \n",
            "                              (None, 128, 768),                                                   \n",
            "                              (None, 128, 768),                                                   \n",
            "                              (None, 128, 768)],                                                  \n",
            "                              'default': (None, 768)}                                             \n",
            "                                                                                                  \n",
            " char_embed (Embedding)      (None, 296, 56)              3864      ['char_vectorizer[0][0]']     \n",
            "                                                                                                  \n",
            " dense_12 (Dense)            (None, 128)                  98432     ['bert_layer[0][13]']         \n",
            "                                                                                                  \n",
            " bidirectional_3 (Bidirecti  (None, 48)                   15552     ['char_embed[0][0]']          \n",
            " onal)                                                                                            \n",
            "                                                                                                  \n",
            " concat_layer (Concatenate)  (None, 176)                  0         ['dense_12[0][0]',            \n",
            "                                                                     'bidirectional_3[0][0]']     \n",
            "                                                                                                  \n",
            " line_numbers_input (InputL  [(None, 15)]                 0         []                            \n",
            " ayer)                                                                                            \n",
            "                                                                                                  \n",
            " total_line_inputs (InputLa  [(None, 20)]                 0         []                            \n",
            " yer)                                                                                             \n",
            "                                                                                                  \n",
            " dense_15 (Dense)            (None, 256)                  45312     ['concat_layer[0][0]']        \n",
            "                                                                                                  \n",
            " dense_13 (Dense)            (None, 32)                   512       ['line_numbers_input[0][0]']  \n",
            "                                                                                                  \n",
            " dense_14 (Dense)            (None, 32)                   672       ['total_line_inputs[0][0]']   \n",
            "                                                                                                  \n",
            " dropout_3 (Dropout)         (None, 256)                  0         ['dense_15[0][0]']            \n",
            "                                                                                                  \n",
            " final_concat (Concatenate)  (None, 320)                  0         ['dense_13[0][0]',            \n",
            "                                                                     'dense_14[0][0]',            \n",
            "                                                                     'dropout_3[0][0]']           \n",
            "                                                                                                  \n",
            " output_layer (Dense)        (None, 5)                    1605      ['final_concat[0][0]']        \n",
            "                                                                                                  \n",
            "==================================================================================================\n",
            "Total params: 109648190 (418.27 MB)\n",
            "Trainable params: 165949 (648.24 KB)\n",
            "Non-trainable params: 109482241 (417.64 MB)\n",
            "__________________________________________________________________________________________________\n"
          ]
        }
      ]
    },
    {
      "cell_type": "code",
      "source": [
        "from tensorflow.keras.utils import plot_model\n",
        "plot_model(model, show_shapes=True)"
      ],
      "metadata": {
        "colab": {
          "base_uri": "https://localhost:8080/",
          "height": 525
        },
        "id": "DyuJf9vSx7-n",
        "outputId": "4c61e1e4-34e1-46f6-af13-4327925d8268"
      },
      "execution_count": 128,
      "outputs": [
        {
          "output_type": "execute_result",
          "data": {
            "image/png": "[encoded data removed]",
            "text/plain": [
              "<IPython.core.display.Image object>"
            ]
          },
          "metadata": {},
          "execution_count": 128
        }
      ]
    },
    {
      "cell_type": "markdown",
      "source": [
        "###Compile the model"
      ],
      "metadata": {
        "id": "ZlIXDRCeyFgM"
      }
    },
    {
      "cell_type": "code",
      "source": [
        "model.compile(\n",
        "    loss = tf.keras.losses.CategoricalCrossentropy(label_smoothing=0.2),\n",
        "    optimizer = tf.keras.optimizers.Adam(),\n",
        "    metrics = ['accuracy'],\n",
        ")"
      ],
      "metadata": {
        "id": "ABMviefRyRKg"
      },
      "execution_count": 129,
      "outputs": []
    },
    {
      "cell_type": "code",
      "source": [
        "model_history = model.fit(\n",
        "    train_tribrid_dataset,\n",
        "    epochs = 6,\n",
        "    steps_per_epoch = int(0.1 * len(train_tribrid_dataset)),\n",
        "    validation_data = val_tribrid_dataset,\n",
        "    validation_steps = int(0.1 * len(val_tribrid_dataset))\n",
        ")"
      ],
      "metadata": {
        "colab": {
          "base_uri": "https://localhost:8080/"
        },
        "id": "ZUrMTCFKyRvz",
        "outputId": "00e161b3-78f5-4fcc-bb40-7c299cf50e04"
      },
      "execution_count": 130,
      "outputs": [
        {
          "output_type": "stream",
          "name": "stdout",
          "text": [
            "Epoch 1/6\n",
            "562/562 [==============================] - 263s 445ms/step - loss: 0.9803 - accuracy: 0.8168 - val_loss: 0.8871 - val_accuracy: 0.8664\n",
            "Epoch 2/6\n",
            "562/562 [==============================] - 240s 426ms/step - loss: 0.8906 - accuracy: 0.8706 - val_loss: 0.8619 - val_accuracy: 0.8797\n",
            "Epoch 3/6\n",
            "562/562 [==============================] - 247s 440ms/step - loss: 0.8771 - accuracy: 0.8776 - val_loss: 0.8557 - val_accuracy: 0.8816\n",
            "Epoch 4/6\n",
            "562/562 [==============================] - 239s 425ms/step - loss: 0.8728 - accuracy: 0.8794 - val_loss: 0.8495 - val_accuracy: 0.8866\n",
            "Epoch 5/6\n",
            "562/562 [==============================] - 240s 427ms/step - loss: 0.8676 - accuracy: 0.8823 - val_loss: 0.8508 - val_accuracy: 0.8873\n",
            "Epoch 6/6\n",
            "562/562 [==============================] - 248s 441ms/step - loss: 0.8702 - accuracy: 0.8786 - val_loss: 0.8413 - val_accuracy: 0.8913\n"
          ]
        }
      ]
    },
    {
      "cell_type": "code",
      "source": [
        "model.evaluate(val_tribrid_dataset)"
      ],
      "metadata": {
        "id": "UnCox7xHy3xb",
        "colab": {
          "base_uri": "https://localhost:8080/"
        },
        "outputId": "92776223-be51-4790-a257-0ab2e43b863e"
      },
      "execution_count": 131,
      "outputs": [
        {
          "output_type": "stream",
          "name": "stdout",
          "text": [
            "945/945 [==============================] - 335s 354ms/step - loss: 0.8399 - accuracy: 0.8940\n"
          ]
        },
        {
          "output_type": "execute_result",
          "data": {
            "text/plain": [
              "[0.8399335741996765, 0.8940487504005432]"
            ]
          },
          "metadata": {},
          "execution_count": 131
        }
      ]
    },
    {
      "cell_type": "code",
      "source": [],
      "metadata": {
        "id": "JMGGu8IFTnid"
      },
      "execution_count": 131,
      "outputs": []
    }
  ]
}