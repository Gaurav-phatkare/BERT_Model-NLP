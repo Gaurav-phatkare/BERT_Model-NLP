{
  "nbformat": 4,
  "nbformat_minor": 0,
  "metadata": {
    "colab": {
      "provenance": [],
      "gpuType": "T4",
      "include_colab_link": true
    },
    "kernelspec": {
      "name": "python3",
      "display_name": "Python 3"
    },
    "language_info": {
      "name": "python"
    },
    "accelerator": "GPU"
  },
  "cells": [
    {
      "cell_type": "markdown",
      "metadata": {
        "id": "view-in-github",
        "colab_type": "text"
      },
      "source": [
        "<a href=\"https://colab.research.google.com/github/Gaurav-phatkare/BERT_Model-NLP/blob/main/BERT_NLP_Model.ipynb\" target=\"_parent\"><img src=\"https://colab.research.google.com/assets/colab-badge.svg\" alt=\"Open In Colab\"/></a>"
      ]
    },
    {
      "cell_type": "markdown",
      "source": [
        "#BERT - Bidirectional Encoder Representations from Transformers\n",
        "---\n",
        "As opposed to directional models, which read the text input sequentially (left-to-right or right-to-left), the Transformer encoder reads the entire sequence of words at once. Therefore it is considered bidirectional, though it would be more accurate to say that it’s non-directional. This characteristic allows the model to learn the context of a word based on all of its surroundings (left and right of the word).\n"
      ],
      "metadata": {
        "id": "SlMsPZjorEXa"
      }
    },
    {
      "cell_type": "markdown",
      "source": [
        "further explaination from [HuggingFace.co](https://huggingface.co/blog/bert-101?text=The+goal+of+life+is+%5BMASK%5D.)"
      ],
      "metadata": {
        "id": "YpiiD1ParG9W"
      }
    },
    {
      "cell_type": "markdown",
      "source": [
        "##Skimlit Medical Abstract Classifier Using BERT Model Approach"
      ],
      "metadata": {
        "id": "atIe6P8brQXi"
      }
    },
    {
      "cell_type": "code",
      "source": [
        "!nvidia-smi -L"
      ],
      "metadata": {
        "colab": {
          "base_uri": "https://localhost:8080/"
        },
        "id": "FLevAlmSrRvX",
        "outputId": "b15e5eac-cae3-4f4f-f97b-c19179321b15"
      },
      "execution_count": 1,
      "outputs": [
        {
          "output_type": "stream",
          "name": "stdout",
          "text": [
            "GPU 0: Tesla T4 (UUID: GPU-039d7abb-4839-9450-a9e6-1e1368ba9460)\n"
          ]
        }
      ]
    },
    {
      "cell_type": "code",
      "execution_count": 2,
      "metadata": {
        "colab": {
          "base_uri": "https://localhost:8080/"
        },
        "id": "LDBNInunpo82",
        "outputId": "f5d0d653-babc-4a1f-8ced-148d35049ec7"
      },
      "outputs": [
        {
          "output_type": "stream",
          "name": "stdout",
          "text": [
            "2.13.0\n"
          ]
        }
      ],
      "source": [
        "# !pip install tensorflow==2.9.1\n",
        "import tensorflow as tf\n",
        "print(tf.__version__)"
      ]
    },
    {
      "cell_type": "code",
      "source": [
        "# !pip install tensorflow_text"
      ],
      "metadata": {
        "id": "0Cw7j7J4pqLk",
        "colab": {
          "base_uri": "https://localhost:8080/",
          "height": 1000
        },
        "outputId": "a58a0849-0198-40bd-b6e1-a538f13bcc52"
      },
      "execution_count": 2,
      "outputs": [
        {
          "output_type": "stream",
          "name": "stdout",
          "text": [
            "Collecting tensorflow_text\n",
            "  Downloading tensorflow_text-2.13.0-cp310-cp310-manylinux_2_17_x86_64.manylinux2014_x86_64.whl (6.5 MB)\n",
            "\u001b[2K     \u001b[90m━━━━━━━━━━━━━━━━━━━━━━━━━━━━━━━━━━━━━━━━\u001b[0m \u001b[32m6.5/6.5 MB\u001b[0m \u001b[31m32.6 MB/s\u001b[0m eta \u001b[36m0:00:00\u001b[0m\n",
            "\u001b[?25hRequirement already satisfied: tensorflow-hub>=0.8.0 in /usr/local/lib/python3.10/dist-packages (from tensorflow_text) (0.13.0)\n",
            "Collecting tensorflow<2.14,>=2.13.0 (from tensorflow_text)\n",
            "  Downloading tensorflow-2.13.0-cp310-cp310-manylinux_2_17_x86_64.manylinux2014_x86_64.whl (524.1 MB)\n",
            "\u001b[2K     \u001b[90m━━━━━━━━━━━━━━━━━━━━━━━━━━━━━━━━━━━━━━━\u001b[0m \u001b[32m524.1/524.1 MB\u001b[0m \u001b[31m1.9 MB/s\u001b[0m eta \u001b[36m0:00:00\u001b[0m\n",
            "\u001b[?25hRequirement already satisfied: absl-py>=1.0.0 in /usr/local/lib/python3.10/dist-packages (from tensorflow<2.14,>=2.13.0->tensorflow_text) (1.4.0)\n",
            "Requirement already satisfied: astunparse>=1.6.0 in /usr/local/lib/python3.10/dist-packages (from tensorflow<2.14,>=2.13.0->tensorflow_text) (1.6.3)\n",
            "Collecting flatbuffers>=23.1.21 (from tensorflow<2.14,>=2.13.0->tensorflow_text)\n",
            "  Downloading flatbuffers-23.5.26-py2.py3-none-any.whl (26 kB)\n",
            "Requirement already satisfied: gast<=0.4.0,>=0.2.1 in /usr/local/lib/python3.10/dist-packages (from tensorflow<2.14,>=2.13.0->tensorflow_text) (0.4.0)\n",
            "Requirement already satisfied: google-pasta>=0.1.1 in /usr/local/lib/python3.10/dist-packages (from tensorflow<2.14,>=2.13.0->tensorflow_text) (0.2.0)\n",
            "Requirement already satisfied: grpcio<2.0,>=1.24.3 in /usr/local/lib/python3.10/dist-packages (from tensorflow<2.14,>=2.13.0->tensorflow_text) (1.56.0)\n",
            "Requirement already satisfied: h5py>=2.9.0 in /usr/local/lib/python3.10/dist-packages (from tensorflow<2.14,>=2.13.0->tensorflow_text) (3.8.0)\n",
            "Collecting keras<2.14,>=2.13.1 (from tensorflow<2.14,>=2.13.0->tensorflow_text)\n",
            "  Downloading keras-2.13.1-py3-none-any.whl (1.7 MB)\n",
            "\u001b[2K     \u001b[90m━━━━━━━━━━━━━━━━━━━━━━━━━━━━━━━━━━━━━━━━\u001b[0m \u001b[32m1.7/1.7 MB\u001b[0m \u001b[31m74.7 MB/s\u001b[0m eta \u001b[36m0:00:00\u001b[0m\n",
            "\u001b[?25hRequirement already satisfied: libclang>=13.0.0 in /usr/local/lib/python3.10/dist-packages (from tensorflow<2.14,>=2.13.0->tensorflow_text) (16.0.0)\n",
            "Requirement already satisfied: numpy<=1.24.3,>=1.22 in /usr/local/lib/python3.10/dist-packages (from tensorflow<2.14,>=2.13.0->tensorflow_text) (1.22.4)\n",
            "Requirement already satisfied: opt-einsum>=2.3.2 in /usr/local/lib/python3.10/dist-packages (from tensorflow<2.14,>=2.13.0->tensorflow_text) (3.3.0)\n",
            "Requirement already satisfied: packaging in /usr/local/lib/python3.10/dist-packages (from tensorflow<2.14,>=2.13.0->tensorflow_text) (23.1)\n",
            "Collecting protobuf!=4.21.0,!=4.21.1,!=4.21.2,!=4.21.3,!=4.21.4,!=4.21.5,<5.0.0dev,>=3.20.3 (from tensorflow<2.14,>=2.13.0->tensorflow_text)\n",
            "  Downloading protobuf-4.23.4-cp37-abi3-manylinux2014_x86_64.whl (304 kB)\n",
            "\u001b[2K     \u001b[90m━━━━━━━━━━━━━━━━━━━━━━━━━━━━━━━━━━━━━━\u001b[0m \u001b[32m304.5/304.5 kB\u001b[0m \u001b[31m35.9 MB/s\u001b[0m eta \u001b[36m0:00:00\u001b[0m\n",
            "\u001b[?25hRequirement already satisfied: setuptools in /usr/local/lib/python3.10/dist-packages (from tensorflow<2.14,>=2.13.0->tensorflow_text) (67.7.2)\n",
            "Requirement already satisfied: six>=1.12.0 in /usr/local/lib/python3.10/dist-packages (from tensorflow<2.14,>=2.13.0->tensorflow_text) (1.16.0)\n",
            "Collecting tensorboard<2.14,>=2.13 (from tensorflow<2.14,>=2.13.0->tensorflow_text)\n",
            "  Downloading tensorboard-2.13.0-py3-none-any.whl (5.6 MB)\n",
            "\u001b[2K     \u001b[90m━━━━━━━━━━━━━━━━━━━━━━━━━━━━━━━━━━━━━━━━\u001b[0m \u001b[32m5.6/5.6 MB\u001b[0m \u001b[31m81.3 MB/s\u001b[0m eta \u001b[36m0:00:00\u001b[0m\n",
            "\u001b[?25hCollecting tensorflow-estimator<2.14,>=2.13.0 (from tensorflow<2.14,>=2.13.0->tensorflow_text)\n",
            "  Downloading tensorflow_estimator-2.13.0-py2.py3-none-any.whl (440 kB)\n",
            "\u001b[2K     \u001b[90m━━━━━━━━━━━━━━━━━━━━━━━━━━━━━━━━━━━━━━\u001b[0m \u001b[32m440.8/440.8 kB\u001b[0m \u001b[31m42.0 MB/s\u001b[0m eta \u001b[36m0:00:00\u001b[0m\n",
            "\u001b[?25hRequirement already satisfied: termcolor>=1.1.0 in /usr/local/lib/python3.10/dist-packages (from tensorflow<2.14,>=2.13.0->tensorflow_text) (2.3.0)\n",
            "Collecting typing-extensions<4.6.0,>=3.6.6 (from tensorflow<2.14,>=2.13.0->tensorflow_text)\n",
            "  Downloading typing_extensions-4.5.0-py3-none-any.whl (27 kB)\n",
            "Requirement already satisfied: wrapt>=1.11.0 in /usr/local/lib/python3.10/dist-packages (from tensorflow<2.14,>=2.13.0->tensorflow_text) (1.14.1)\n",
            "Requirement already satisfied: tensorflow-io-gcs-filesystem>=0.23.1 in /usr/local/lib/python3.10/dist-packages (from tensorflow<2.14,>=2.13.0->tensorflow_text) (0.32.0)\n",
            "Requirement already satisfied: wheel<1.0,>=0.23.0 in /usr/local/lib/python3.10/dist-packages (from astunparse>=1.6.0->tensorflow<2.14,>=2.13.0->tensorflow_text) (0.40.0)\n",
            "Requirement already satisfied: google-auth<3,>=1.6.3 in /usr/local/lib/python3.10/dist-packages (from tensorboard<2.14,>=2.13->tensorflow<2.14,>=2.13.0->tensorflow_text) (2.17.3)\n",
            "Collecting google-auth-oauthlib<1.1,>=0.5 (from tensorboard<2.14,>=2.13->tensorflow<2.14,>=2.13.0->tensorflow_text)\n",
            "  Downloading google_auth_oauthlib-1.0.0-py2.py3-none-any.whl (18 kB)\n",
            "Requirement already satisfied: markdown>=2.6.8 in /usr/local/lib/python3.10/dist-packages (from tensorboard<2.14,>=2.13->tensorflow<2.14,>=2.13.0->tensorflow_text) (3.4.3)\n",
            "Requirement already satisfied: requests<3,>=2.21.0 in /usr/local/lib/python3.10/dist-packages (from tensorboard<2.14,>=2.13->tensorflow<2.14,>=2.13.0->tensorflow_text) (2.27.1)\n",
            "Collecting tensorboard-data-server<0.8.0,>=0.7.0 (from tensorboard<2.14,>=2.13->tensorflow<2.14,>=2.13.0->tensorflow_text)\n",
            "  Downloading tensorboard_data_server-0.7.1-py3-none-manylinux2014_x86_64.whl (6.6 MB)\n",
            "\u001b[2K     \u001b[90m━━━━━━━━━━━━━━━━━━━━━━━━━━━━━━━━━━━━━━━━\u001b[0m \u001b[32m6.6/6.6 MB\u001b[0m \u001b[31m68.2 MB/s\u001b[0m eta \u001b[36m0:00:00\u001b[0m\n",
            "\u001b[?25hRequirement already satisfied: werkzeug>=1.0.1 in /usr/local/lib/python3.10/dist-packages (from tensorboard<2.14,>=2.13->tensorflow<2.14,>=2.13.0->tensorflow_text) (2.3.6)\n",
            "Requirement already satisfied: cachetools<6.0,>=2.0.0 in /usr/local/lib/python3.10/dist-packages (from google-auth<3,>=1.6.3->tensorboard<2.14,>=2.13->tensorflow<2.14,>=2.13.0->tensorflow_text) (5.3.1)\n",
            "Requirement already satisfied: pyasn1-modules>=0.2.1 in /usr/local/lib/python3.10/dist-packages (from google-auth<3,>=1.6.3->tensorboard<2.14,>=2.13->tensorflow<2.14,>=2.13.0->tensorflow_text) (0.3.0)\n",
            "Requirement already satisfied: rsa<5,>=3.1.4 in /usr/local/lib/python3.10/dist-packages (from google-auth<3,>=1.6.3->tensorboard<2.14,>=2.13->tensorflow<2.14,>=2.13.0->tensorflow_text) (4.9)\n",
            "Requirement already satisfied: requests-oauthlib>=0.7.0 in /usr/local/lib/python3.10/dist-packages (from google-auth-oauthlib<1.1,>=0.5->tensorboard<2.14,>=2.13->tensorflow<2.14,>=2.13.0->tensorflow_text) (1.3.1)\n",
            "Requirement already satisfied: urllib3<1.27,>=1.21.1 in /usr/local/lib/python3.10/dist-packages (from requests<3,>=2.21.0->tensorboard<2.14,>=2.13->tensorflow<2.14,>=2.13.0->tensorflow_text) (1.26.16)\n",
            "Requirement already satisfied: certifi>=2017.4.17 in /usr/local/lib/python3.10/dist-packages (from requests<3,>=2.21.0->tensorboard<2.14,>=2.13->tensorflow<2.14,>=2.13.0->tensorflow_text) (2023.5.7)\n",
            "Requirement already satisfied: charset-normalizer~=2.0.0 in /usr/local/lib/python3.10/dist-packages (from requests<3,>=2.21.0->tensorboard<2.14,>=2.13->tensorflow<2.14,>=2.13.0->tensorflow_text) (2.0.12)\n",
            "Requirement already satisfied: idna<4,>=2.5 in /usr/local/lib/python3.10/dist-packages (from requests<3,>=2.21.0->tensorboard<2.14,>=2.13->tensorflow<2.14,>=2.13.0->tensorflow_text) (3.4)\n",
            "Requirement already satisfied: MarkupSafe>=2.1.1 in /usr/local/lib/python3.10/dist-packages (from werkzeug>=1.0.1->tensorboard<2.14,>=2.13->tensorflow<2.14,>=2.13.0->tensorflow_text) (2.1.3)\n",
            "Requirement already satisfied: pyasn1<0.6.0,>=0.4.6 in /usr/local/lib/python3.10/dist-packages (from pyasn1-modules>=0.2.1->google-auth<3,>=1.6.3->tensorboard<2.14,>=2.13->tensorflow<2.14,>=2.13.0->tensorflow_text) (0.5.0)\n",
            "Requirement already satisfied: oauthlib>=3.0.0 in /usr/local/lib/python3.10/dist-packages (from requests-oauthlib>=0.7.0->google-auth-oauthlib<1.1,>=0.5->tensorboard<2.14,>=2.13->tensorflow<2.14,>=2.13.0->tensorflow_text) (3.2.2)\n",
            "Installing collected packages: flatbuffers, typing-extensions, tensorflow-estimator, tensorboard-data-server, protobuf, keras, google-auth-oauthlib, tensorboard, tensorflow, tensorflow_text\n",
            "  Attempting uninstall: flatbuffers\n",
            "    Found existing installation: flatbuffers 1.12\n",
            "    Uninstalling flatbuffers-1.12:\n",
            "      Successfully uninstalled flatbuffers-1.12\n",
            "  Attempting uninstall: typing-extensions\n",
            "    Found existing installation: typing_extensions 4.7.1\n",
            "    Uninstalling typing_extensions-4.7.1:\n",
            "      Successfully uninstalled typing_extensions-4.7.1\n",
            "  Attempting uninstall: tensorflow-estimator\n",
            "    Found existing installation: tensorflow-estimator 2.9.0\n",
            "    Uninstalling tensorflow-estimator-2.9.0:\n",
            "      Successfully uninstalled tensorflow-estimator-2.9.0\n",
            "  Attempting uninstall: tensorboard-data-server\n",
            "    Found existing installation: tensorboard-data-server 0.6.1\n",
            "    Uninstalling tensorboard-data-server-0.6.1:\n",
            "      Successfully uninstalled tensorboard-data-server-0.6.1\n",
            "  Attempting uninstall: protobuf\n",
            "    Found existing installation: protobuf 3.19.6\n",
            "    Uninstalling protobuf-3.19.6:\n",
            "      Successfully uninstalled protobuf-3.19.6\n",
            "  Attempting uninstall: keras\n",
            "    Found existing installation: keras 2.9.0\n",
            "    Uninstalling keras-2.9.0:\n",
            "      Successfully uninstalled keras-2.9.0\n",
            "  Attempting uninstall: google-auth-oauthlib\n",
            "    Found existing installation: google-auth-oauthlib 0.4.6\n",
            "    Uninstalling google-auth-oauthlib-0.4.6:\n",
            "      Successfully uninstalled google-auth-oauthlib-0.4.6\n",
            "  Attempting uninstall: tensorboard\n",
            "    Found existing installation: tensorboard 2.9.1\n",
            "    Uninstalling tensorboard-2.9.1:\n",
            "      Successfully uninstalled tensorboard-2.9.1\n",
            "  Attempting uninstall: tensorflow\n",
            "    Found existing installation: tensorflow 2.9.1\n",
            "    Uninstalling tensorflow-2.9.1:\n",
            "      Successfully uninstalled tensorflow-2.9.1\n",
            "Successfully installed flatbuffers-23.5.26 google-auth-oauthlib-1.0.0 keras-2.13.1 protobuf-4.23.4 tensorboard-2.13.0 tensorboard-data-server-0.7.1 tensorflow-2.13.0 tensorflow-estimator-2.13.0 tensorflow_text-2.13.0 typing-extensions-4.5.0\n"
          ]
        },
        {
          "output_type": "display_data",
          "data": {
            "application/vnd.colab-display-data+json": {
              "pip_warning": {
                "packages": [
                  "flatbuffers",
                  "keras",
                  "tensorboard",
                  "tensorflow"
                ]
              }
            }
          },
          "metadata": {}
        }
      ]
    },
    {
      "cell_type": "code",
      "source": [
        "import tensorflow as tf\n",
        "import tensorflow_text as text\n",
        "import tensorflow_hub as hub"
      ],
      "metadata": {
        "id": "HMvOrDTWqOEO"
      },
      "execution_count": 3,
      "outputs": []
    },
    {
      "cell_type": "markdown",
      "source": [
        "###Get Data\n",
        "[Dataset Link](https://github.com/Franck-Dernoncourt/pubmed-rct)\n"
      ],
      "metadata": {
        "id": "dwBReKA8q196"
      }
    },
    {
      "cell_type": "code",
      "source": [
        "!git clone https://github.com/Franck-Dernoncourt/pubmed-rct\n",
        "!ls pubmed-rct"
      ],
      "metadata": {
        "colab": {
          "base_uri": "https://localhost:8080/"
        },
        "id": "mqBSXk2OryLf",
        "outputId": "0b574d05-2273-4a41-8b8f-5e6ac09ebf20"
      },
      "execution_count": 4,
      "outputs": [
        {
          "output_type": "stream",
          "name": "stdout",
          "text": [
            "Cloning into 'pubmed-rct'...\n",
            "remote: Enumerating objects: 33, done.\u001b[K\n",
            "remote: Counting objects: 100% (8/8), done.\u001b[K\n",
            "remote: Compressing objects: 100% (3/3), done.\u001b[K\n",
            "remote: Total 33 (delta 5), reused 5 (delta 5), pack-reused 25\u001b[K\n",
            "Unpacking objects: 100% (33/33), 177.08 MiB | 6.83 MiB/s, done.\n",
            "PubMed_200k_RCT\n",
            "PubMed_200k_RCT_numbers_replaced_with_at_sign\n",
            "PubMed_20k_RCT\n",
            "PubMed_20k_RCT_numbers_replaced_with_at_sign\n",
            "README.md\n"
          ]
        }
      ]
    },
    {
      "cell_type": "code",
      "source": [
        "!ls pubmed-rct/PubMed_20k_RCT_numbers_replaced_with_at_sign/"
      ],
      "metadata": {
        "colab": {
          "base_uri": "https://localhost:8080/"
        },
        "id": "rx8lto7Hr0uy",
        "outputId": "808ef0f1-82cf-482b-d0cd-71ea2bd52f61"
      },
      "execution_count": 5,
      "outputs": [
        {
          "output_type": "stream",
          "name": "stdout",
          "text": [
            "dev.txt  test.txt  train.txt\n"
          ]
        }
      ]
    },
    {
      "cell_type": "code",
      "source": [
        "data_dir = '/content/pubmed-rct/PubMed_20k_RCT_numbers_replaced_with_at_sign/'"
      ],
      "metadata": {
        "id": "pju1MhCVr4Mz"
      },
      "execution_count": 6,
      "outputs": []
    },
    {
      "cell_type": "code",
      "source": [
        "import os\n",
        "filename = [data_dir + filename for filename in os.listdir(data_dir)]\n",
        "filename"
      ],
      "metadata": {
        "colab": {
          "base_uri": "https://localhost:8080/"
        },
        "id": "F-mB09qCr5ju",
        "outputId": "2cb124d8-f1f8-4399-d52b-3ac410d748b5"
      },
      "execution_count": 7,
      "outputs": [
        {
          "output_type": "execute_result",
          "data": {
            "text/plain": [
              "['/content/pubmed-rct/PubMed_20k_RCT_numbers_replaced_with_at_sign/test.txt',\n",
              " '/content/pubmed-rct/PubMed_20k_RCT_numbers_replaced_with_at_sign/dev.txt',\n",
              " '/content/pubmed-rct/PubMed_20k_RCT_numbers_replaced_with_at_sign/train.txt']"
            ]
          },
          "metadata": {},
          "execution_count": 7
        }
      ]
    },
    {
      "cell_type": "markdown",
      "source": [
        "###Preprocess the data"
      ],
      "metadata": {
        "id": "-1PdSZC-r7BL"
      }
    },
    {
      "cell_type": "code",
      "source": [
        "def get_lines(filename):\n",
        "  with open(filename, 'r') as f:\n",
        "    return f.readlines()\n"
      ],
      "metadata": {
        "id": "cOB2xuGQsLdr"
      },
      "execution_count": 8,
      "outputs": []
    },
    {
      "cell_type": "code",
      "source": [
        "train_lines = get_lines(data_dir+'train.txt')\n",
        "train_lines[:5]"
      ],
      "metadata": {
        "colab": {
          "base_uri": "https://localhost:8080/"
        },
        "id": "t89iYfLhsO2-",
        "outputId": "c4b5f4dd-9fe3-4a9d-c3a3-cdd1b0ca794a"
      },
      "execution_count": 9,
      "outputs": [
        {
          "output_type": "execute_result",
          "data": {
            "text/plain": [
              "['###24293578\\n',\n",
              " 'OBJECTIVE\\tTo investigate the efficacy of @ weeks of daily low-dose oral prednisolone in improving pain , mobility , and systemic low-grade inflammation in the short term and whether the effect would be sustained at @ weeks in older adults with moderate to severe knee osteoarthritis ( OA ) .\\n',\n",
              " 'METHODS\\tA total of @ patients with primary knee OA were randomized @:@ ; @ received @ mg/day of prednisolone and @ received placebo for @ weeks .\\n',\n",
              " 'METHODS\\tOutcome measures included pain reduction and improvement in function scores and systemic inflammation markers .\\n',\n",
              " 'METHODS\\tPain was assessed using the visual analog pain scale ( @-@ mm ) .\\n']"
            ]
          },
          "metadata": {},
          "execution_count": 9
        }
      ]
    },
    {
      "cell_type": "code",
      "source": [
        "len(train_lines)"
      ],
      "metadata": {
        "colab": {
          "base_uri": "https://localhost:8080/"
        },
        "id": "m2FoFBfpsSmm",
        "outputId": "4500c244-bf05-46c5-e671-8ce1c4dbb605"
      },
      "execution_count": 10,
      "outputs": [
        {
          "output_type": "execute_result",
          "data": {
            "text/plain": [
              "210040"
            ]
          },
          "metadata": {},
          "execution_count": 10
        }
      ]
    },
    {
      "cell_type": "code",
      "source": [
        "def preprocess_text_with_line_number(filename):\n",
        "\n",
        "  input_lines = get_lines(filename)\n",
        "  abstract_lines = \"\"\n",
        "  abstract_samples = []\n",
        "\n",
        "  for line in input_lines:\n",
        "    if line.startswith(\"###\"):\n",
        "      abstract_id = line\n",
        "      abstract_lines = \"\"\n",
        "    elif line.isspace():\n",
        "      abstract_line_split = abstract_lines.splitlines()\n",
        "\n",
        "      for abstract_line_number, abstract_line in enumerate(abstract_line_split):\n",
        "        line_data = {}\n",
        "        target_text_split = abstract_line.split('\\t')\n",
        "        line_data['target'] = target_text_split[0]\n",
        "        line_data['text'] = target_text_split[1].lower()\n",
        "        line_data['line_number'] = abstract_line_number\n",
        "        line_data['total_lines'] = len(abstract_line_split) - 1\n",
        "        abstract_samples.append(line_data)\n",
        "\n",
        "    else:\n",
        "       abstract_lines += line\n",
        "\n",
        "  return abstract_samples"
      ],
      "metadata": {
        "id": "ZeWGmp14sUhM"
      },
      "execution_count": 11,
      "outputs": []
    },
    {
      "cell_type": "code",
      "source": [
        "train_samples = preprocess_text_with_line_number(data_dir+'train.txt')\n",
        "val_samples = preprocess_text_with_line_number(data_dir+'dev.txt')\n",
        "test_samples = preprocess_text_with_line_number(data_dir+'test.txt')"
      ],
      "metadata": {
        "id": "tHXrqtFAscDM"
      },
      "execution_count": 12,
      "outputs": []
    },
    {
      "cell_type": "code",
      "source": [
        "train_samples[:5], len(train_samples)"
      ],
      "metadata": {
        "colab": {
          "base_uri": "https://localhost:8080/"
        },
        "id": "2fWKvlPLsdpk",
        "outputId": "2d55041b-b44f-47fa-c122-7a10cdbae2e9"
      },
      "execution_count": 13,
      "outputs": [
        {
          "output_type": "execute_result",
          "data": {
            "text/plain": [
              "([{'target': 'OBJECTIVE',\n",
              "   'text': 'to investigate the efficacy of @ weeks of daily low-dose oral prednisolone in improving pain , mobility , and systemic low-grade inflammation in the short term and whether the effect would be sustained at @ weeks in older adults with moderate to severe knee osteoarthritis ( oa ) .',\n",
              "   'line_number': 0,\n",
              "   'total_lines': 11},\n",
              "  {'target': 'METHODS',\n",
              "   'text': 'a total of @ patients with primary knee oa were randomized @:@ ; @ received @ mg/day of prednisolone and @ received placebo for @ weeks .',\n",
              "   'line_number': 1,\n",
              "   'total_lines': 11},\n",
              "  {'target': 'METHODS',\n",
              "   'text': 'outcome measures included pain reduction and improvement in function scores and systemic inflammation markers .',\n",
              "   'line_number': 2,\n",
              "   'total_lines': 11},\n",
              "  {'target': 'METHODS',\n",
              "   'text': 'pain was assessed using the visual analog pain scale ( @-@ mm ) .',\n",
              "   'line_number': 3,\n",
              "   'total_lines': 11},\n",
              "  {'target': 'METHODS',\n",
              "   'text': 'secondary outcome measures included the western ontario and mcmaster universities osteoarthritis index scores , patient global assessment ( pga ) of the severity of knee oa , and @-min walk distance ( @mwd ) .',\n",
              "   'line_number': 4,\n",
              "   'total_lines': 11}],\n",
              " 180040)"
            ]
          },
          "metadata": {},
          "execution_count": 13
        }
      ]
    },
    {
      "cell_type": "code",
      "source": [
        "import pandas as pd\n",
        "import numpy as np\n",
        "\n",
        "train_df = pd.DataFrame(train_samples)\n",
        "val_df = pd.DataFrame(val_samples)\n",
        "test_df = pd.DataFrame(test_samples)"
      ],
      "metadata": {
        "id": "yi6fsIR_spBd"
      },
      "execution_count": 14,
      "outputs": []
    },
    {
      "cell_type": "code",
      "source": [
        "train_df.head()"
      ],
      "metadata": {
        "colab": {
          "base_uri": "https://localhost:8080/",
          "height": 206
        },
        "id": "sQ2vENfEsrQT",
        "outputId": "d49478bf-23d6-4eb6-8ba4-1af9daed19f3"
      },
      "execution_count": 15,
      "outputs": [
        {
          "output_type": "execute_result",
          "data": {
            "text/plain": [
              "      target                                               text  line_number  \\\n",
              "0  OBJECTIVE  to investigate the efficacy of @ weeks of dail...            0   \n",
              "1    METHODS  a total of @ patients with primary knee oa wer...            1   \n",
              "2    METHODS  outcome measures included pain reduction and i...            2   \n",
              "3    METHODS  pain was assessed using the visual analog pain...            3   \n",
              "4    METHODS  secondary outcome measures included the wester...            4   \n",
              "\n",
              "   total_lines  \n",
              "0           11  \n",
              "1           11  \n",
              "2           11  \n",
              "3           11  \n",
              "4           11  "
            ],
            "text/html": [
              "\n",
              "\n",
              "  <div id=\"df-35354bd8-0c82-4086-b047-4fcb4cb3f40d\">\n",
              "    <div class=\"colab-df-container\">\n",
              "      <div>\n",
              "<style scoped>\n",
              "    .dataframe tbody tr th:only-of-type {\n",
              "        vertical-align: middle;\n",
              "    }\n",
              "\n",
              "    .dataframe tbody tr th {\n",
              "        vertical-align: top;\n",
              "    }\n",
              "\n",
              "    .dataframe thead th {\n",
              "        text-align: right;\n",
              "    }\n",
              "</style>\n",
              "<table border=\"1\" class=\"dataframe\">\n",
              "  <thead>\n",
              "    <tr style=\"text-align: right;\">\n",
              "      <th></th>\n",
              "      <th>target</th>\n",
              "      <th>text</th>\n",
              "      <th>line_number</th>\n",
              "      <th>total_lines</th>\n",
              "    </tr>\n",
              "  </thead>\n",
              "  <tbody>\n",
              "    <tr>\n",
              "      <th>0</th>\n",
              "      <td>OBJECTIVE</td>\n",
              "      <td>to investigate the efficacy of @ weeks of dail...</td>\n",
              "      <td>0</td>\n",
              "      <td>11</td>\n",
              "    </tr>\n",
              "    <tr>\n",
              "      <th>1</th>\n",
              "      <td>METHODS</td>\n",
              "      <td>a total of @ patients with primary knee oa wer...</td>\n",
              "      <td>1</td>\n",
              "      <td>11</td>\n",
              "    </tr>\n",
              "    <tr>\n",
              "      <th>2</th>\n",
              "      <td>METHODS</td>\n",
              "      <td>outcome measures included pain reduction and i...</td>\n",
              "      <td>2</td>\n",
              "      <td>11</td>\n",
              "    </tr>\n",
              "    <tr>\n",
              "      <th>3</th>\n",
              "      <td>METHODS</td>\n",
              "      <td>pain was assessed using the visual analog pain...</td>\n",
              "      <td>3</td>\n",
              "      <td>11</td>\n",
              "    </tr>\n",
              "    <tr>\n",
              "      <th>4</th>\n",
              "      <td>METHODS</td>\n",
              "      <td>secondary outcome measures included the wester...</td>\n",
              "      <td>4</td>\n",
              "      <td>11</td>\n",
              "    </tr>\n",
              "  </tbody>\n",
              "</table>\n",
              "</div>\n",
              "      <button class=\"colab-df-convert\" onclick=\"convertToInteractive('df-35354bd8-0c82-4086-b047-4fcb4cb3f40d')\"\n",
              "              title=\"Convert this dataframe to an interactive table.\"\n",
              "              style=\"display:none;\">\n",
              "\n",
              "  <svg xmlns=\"http://www.w3.org/2000/svg\" height=\"24px\"viewBox=\"0 0 24 24\"\n",
              "       width=\"24px\">\n",
              "    <path d=\"M0 0h24v24H0V0z\" fill=\"none\"/>\n",
              "    <path d=\"M18.56 5.44l.94 2.06.94-2.06 2.06-.94-2.06-.94-.94-2.06-.94 2.06-2.06.94zm-11 1L8.5 8.5l.94-2.06 2.06-.94-2.06-.94L8.5 2.5l-.94 2.06-2.06.94zm10 10l.94 2.06.94-2.06 2.06-.94-2.06-.94-.94-2.06-.94 2.06-2.06.94z\"/><path d=\"M17.41 7.96l-1.37-1.37c-.4-.4-.92-.59-1.43-.59-.52 0-1.04.2-1.43.59L10.3 9.45l-7.72 7.72c-.78.78-.78 2.05 0 2.83L4 21.41c.39.39.9.59 1.41.59.51 0 1.02-.2 1.41-.59l7.78-7.78 2.81-2.81c.8-.78.8-2.07 0-2.86zM5.41 20L4 18.59l7.72-7.72 1.47 1.35L5.41 20z\"/>\n",
              "  </svg>\n",
              "      </button>\n",
              "\n",
              "\n",
              "\n",
              "    <div id=\"df-ac595a7b-c781-43ae-8962-c03aeadef9c1\">\n",
              "      <button class=\"colab-df-quickchart\" onclick=\"quickchart('df-ac595a7b-c781-43ae-8962-c03aeadef9c1')\"\n",
              "              title=\"Suggest charts.\"\n",
              "              style=\"display:none;\">\n",
              "\n",
              "<svg xmlns=\"http://www.w3.org/2000/svg\" height=\"24px\"viewBox=\"0 0 24 24\"\n",
              "     width=\"24px\">\n",
              "    <g>\n",
              "        <path d=\"M19 3H5c-1.1 0-2 .9-2 2v14c0 1.1.9 2 2 2h14c1.1 0 2-.9 2-2V5c0-1.1-.9-2-2-2zM9 17H7v-7h2v7zm4 0h-2V7h2v10zm4 0h-2v-4h2v4z\"/>\n",
              "    </g>\n",
              "</svg>\n",
              "      </button>\n",
              "    </div>\n",
              "\n",
              "<style>\n",
              "  .colab-df-quickchart {\n",
              "    background-color: #E8F0FE;\n",
              "    border: none;\n",
              "    border-radius: 50%;\n",
              "    cursor: pointer;\n",
              "    display: none;\n",
              "    fill: #1967D2;\n",
              "    height: 32px;\n",
              "    padding: 0 0 0 0;\n",
              "    width: 32px;\n",
              "  }\n",
              "\n",
              "  .colab-df-quickchart:hover {\n",
              "    background-color: #E2EBFA;\n",
              "    box-shadow: 0px 1px 2px rgba(60, 64, 67, 0.3), 0px 1px 3px 1px rgba(60, 64, 67, 0.15);\n",
              "    fill: #174EA6;\n",
              "  }\n",
              "\n",
              "  [theme=dark] .colab-df-quickchart {\n",
              "    background-color: #3B4455;\n",
              "    fill: #D2E3FC;\n",
              "  }\n",
              "\n",
              "  [theme=dark] .colab-df-quickchart:hover {\n",
              "    background-color: #434B5C;\n",
              "    box-shadow: 0px 1px 3px 1px rgba(0, 0, 0, 0.15);\n",
              "    filter: drop-shadow(0px 1px 2px rgba(0, 0, 0, 0.3));\n",
              "    fill: #FFFFFF;\n",
              "  }\n",
              "</style>\n",
              "\n",
              "    <script>\n",
              "      async function quickchart(key) {\n",
              "        const containerElement = document.querySelector('#' + key);\n",
              "        const charts = await google.colab.kernel.invokeFunction(\n",
              "            'suggestCharts', [key], {});\n",
              "      }\n",
              "    </script>\n",
              "\n",
              "      <script>\n",
              "\n",
              "function displayQuickchartButton(domScope) {\n",
              "  let quickchartButtonEl =\n",
              "    domScope.querySelector('#df-ac595a7b-c781-43ae-8962-c03aeadef9c1 button.colab-df-quickchart');\n",
              "  quickchartButtonEl.style.display =\n",
              "    google.colab.kernel.accessAllowed ? 'block' : 'none';\n",
              "}\n",
              "\n",
              "        displayQuickchartButton(document);\n",
              "      </script>\n",
              "      <style>\n",
              "    .colab-df-container {\n",
              "      display:flex;\n",
              "      flex-wrap:wrap;\n",
              "      gap: 12px;\n",
              "    }\n",
              "\n",
              "    .colab-df-convert {\n",
              "      background-color: #E8F0FE;\n",
              "      border: none;\n",
              "      border-radius: 50%;\n",
              "      cursor: pointer;\n",
              "      display: none;\n",
              "      fill: #1967D2;\n",
              "      height: 32px;\n",
              "      padding: 0 0 0 0;\n",
              "      width: 32px;\n",
              "    }\n",
              "\n",
              "    .colab-df-convert:hover {\n",
              "      background-color: #E2EBFA;\n",
              "      box-shadow: 0px 1px 2px rgba(60, 64, 67, 0.3), 0px 1px 3px 1px rgba(60, 64, 67, 0.15);\n",
              "      fill: #174EA6;\n",
              "    }\n",
              "\n",
              "    [theme=dark] .colab-df-convert {\n",
              "      background-color: #3B4455;\n",
              "      fill: #D2E3FC;\n",
              "    }\n",
              "\n",
              "    [theme=dark] .colab-df-convert:hover {\n",
              "      background-color: #434B5C;\n",
              "      box-shadow: 0px 1px 3px 1px rgba(0, 0, 0, 0.15);\n",
              "      filter: drop-shadow(0px 1px 2px rgba(0, 0, 0, 0.3));\n",
              "      fill: #FFFFFF;\n",
              "    }\n",
              "  </style>\n",
              "\n",
              "      <script>\n",
              "        const buttonEl =\n",
              "          document.querySelector('#df-35354bd8-0c82-4086-b047-4fcb4cb3f40d button.colab-df-convert');\n",
              "        buttonEl.style.display =\n",
              "          google.colab.kernel.accessAllowed ? 'block' : 'none';\n",
              "\n",
              "        async function convertToInteractive(key) {\n",
              "          const element = document.querySelector('#df-35354bd8-0c82-4086-b047-4fcb4cb3f40d');\n",
              "          const dataTable =\n",
              "            await google.colab.kernel.invokeFunction('convertToInteractive',\n",
              "                                                     [key], {});\n",
              "          if (!dataTable) return;\n",
              "\n",
              "          const docLinkHtml = 'Like what you see? Visit the ' +\n",
              "            '<a target=\"_blank\" href=https://colab.research.google.com/notebooks/data_table.ipynb>data table notebook</a>'\n",
              "            + ' to learn more about interactive tables.';\n",
              "          element.innerHTML = '';\n",
              "          dataTable['output_type'] = 'display_data';\n",
              "          await google.colab.output.renderOutput(dataTable, element);\n",
              "          const docLink = document.createElement('div');\n",
              "          docLink.innerHTML = docLinkHtml;\n",
              "          element.appendChild(docLink);\n",
              "        }\n",
              "      </script>\n",
              "    </div>\n",
              "  </div>\n"
            ]
          },
          "metadata": {},
          "execution_count": 15
        }
      ]
    },
    {
      "cell_type": "code",
      "source": [
        "train_df['target'].value_counts()"
      ],
      "metadata": {
        "colab": {
          "base_uri": "https://localhost:8080/"
        },
        "id": "CXcpOfbQstK_",
        "outputId": "d82b8945-d893-4498-cb4c-92e2e5b27730"
      },
      "execution_count": 16,
      "outputs": [
        {
          "output_type": "execute_result",
          "data": {
            "text/plain": [
              "METHODS        59353\n",
              "RESULTS        57953\n",
              "CONCLUSIONS    27168\n",
              "BACKGROUND     21727\n",
              "OBJECTIVE      13839\n",
              "Name: target, dtype: int64"
            ]
          },
          "metadata": {},
          "execution_count": 16
        }
      ]
    },
    {
      "cell_type": "markdown",
      "source": [
        "###Convert to list"
      ],
      "metadata": {
        "id": "eBwOK0n2tAD4"
      }
    },
    {
      "cell_type": "code",
      "source": [
        "train_sentances = train_df['text'].tolist()\n",
        "val_sentances = val_df['text'].tolist()\n",
        "test_sentances = test_df['text'].tolist()\n",
        "\n",
        "len(train_sentances), len(val_sentances), len(test_sentances)"
      ],
      "metadata": {
        "colab": {
          "base_uri": "https://localhost:8080/"
        },
        "id": "_3gG0JuDtEMm",
        "outputId": "ff823974-e400-4c7b-8050-3a9979a2dd1e"
      },
      "execution_count": 17,
      "outputs": [
        {
          "output_type": "execute_result",
          "data": {
            "text/plain": [
              "(180040, 30212, 30135)"
            ]
          },
          "metadata": {},
          "execution_count": 17
        }
      ]
    },
    {
      "cell_type": "markdown",
      "source": [
        "### Make Numeric Labels"
      ],
      "metadata": {
        "id": "GSJPyr5TtGGA"
      }
    },
    {
      "cell_type": "code",
      "source": [
        "from sklearn.preprocessing import OneHotEncoder\n",
        "\n",
        "one_hot_encoder = OneHotEncoder(sparse = False)\n",
        "\n",
        "train_labels_one_hot = one_hot_encoder.fit_transform(train_df['target'].to_numpy().reshape(-1,1))\n",
        "val_labels_one_hot = one_hot_encoder.fit_transform(val_df['target'].to_numpy().reshape(-1,1))\n",
        "test_labels_one_hot = one_hot_encoder.fit_transform(test_df['target'].to_numpy().reshape(-1,1))"
      ],
      "metadata": {
        "colab": {
          "base_uri": "https://localhost:8080/"
        },
        "id": "hbbovh3NtNHO",
        "outputId": "3086f65f-20c3-49f4-db67-1b3abb7b0e4e"
      },
      "execution_count": 18,
      "outputs": [
        {
          "output_type": "stream",
          "name": "stderr",
          "text": [
            "/usr/local/lib/python3.10/dist-packages/sklearn/preprocessing/_encoders.py:868: FutureWarning: `sparse` was renamed to `sparse_output` in version 1.2 and will be removed in 1.4. `sparse_output` is ignored unless you leave `sparse` to its default value.\n",
            "  warnings.warn(\n",
            "/usr/local/lib/python3.10/dist-packages/sklearn/preprocessing/_encoders.py:868: FutureWarning: `sparse` was renamed to `sparse_output` in version 1.2 and will be removed in 1.4. `sparse_output` is ignored unless you leave `sparse` to its default value.\n",
            "  warnings.warn(\n",
            "/usr/local/lib/python3.10/dist-packages/sklearn/preprocessing/_encoders.py:868: FutureWarning: `sparse` was renamed to `sparse_output` in version 1.2 and will be removed in 1.4. `sparse_output` is ignored unless you leave `sparse` to its default value.\n",
            "  warnings.warn(\n"
          ]
        }
      ]
    },
    {
      "cell_type": "code",
      "source": [
        "train_labels_one_hot"
      ],
      "metadata": {
        "colab": {
          "base_uri": "https://localhost:8080/"
        },
        "id": "JwiByjEStOcA",
        "outputId": "5cf0d4d7-bc34-42bc-b4cd-9e9a161a06ae"
      },
      "execution_count": 19,
      "outputs": [
        {
          "output_type": "execute_result",
          "data": {
            "text/plain": [
              "array([[0., 0., 0., 1., 0.],\n",
              "       [0., 0., 1., 0., 0.],\n",
              "       [0., 0., 1., 0., 0.],\n",
              "       ...,\n",
              "       [0., 0., 0., 0., 1.],\n",
              "       [0., 1., 0., 0., 0.],\n",
              "       [0., 1., 0., 0., 0.]])"
            ]
          },
          "metadata": {},
          "execution_count": 19
        }
      ]
    },
    {
      "cell_type": "code",
      "source": [
        "from sklearn.preprocessing import LabelEncoder\n",
        "\n",
        "label_encoder = LabelEncoder()\n",
        "\n",
        "train_label_encoded = label_encoder.fit_transform(train_df['target'].to_numpy())\n",
        "val_label_encoded = label_encoder.fit_transform(val_df['target'].to_numpy())\n",
        "test_label_encoded = label_encoder.fit_transform(test_df['target'].to_numpy())\n",
        "\n",
        "train_label_encoded"
      ],
      "metadata": {
        "colab": {
          "base_uri": "https://localhost:8080/"
        },
        "id": "B0Fb8vwWtQ5e",
        "outputId": "2519bf06-61d3-424b-b51a-f017d7b66e44"
      },
      "execution_count": 20,
      "outputs": [
        {
          "output_type": "execute_result",
          "data": {
            "text/plain": [
              "array([3, 2, 2, ..., 4, 1, 1])"
            ]
          },
          "metadata": {},
          "execution_count": 20
        }
      ]
    },
    {
      "cell_type": "code",
      "source": [
        "num_classes = len(label_encoder.classes_)\n",
        "class_names = label_encoder.classes_\n",
        "\n",
        "num_classes, class_names"
      ],
      "metadata": {
        "colab": {
          "base_uri": "https://localhost:8080/"
        },
        "id": "U-QmbrVBtSgr",
        "outputId": "1b262599-8286-461f-c270-a6c13592cbdf"
      },
      "execution_count": 21,
      "outputs": [
        {
          "output_type": "execute_result",
          "data": {
            "text/plain": [
              "(5,\n",
              " array(['BACKGROUND', 'CONCLUSIONS', 'METHODS', 'OBJECTIVE', 'RESULTS'],\n",
              "       dtype=object))"
            ]
          },
          "metadata": {},
          "execution_count": 21
        }
      ]
    },
    {
      "cell_type": "code",
      "source": [
        "# function for accuracy, precision, recall, f1-score\n",
        "from sklearn.metrics import accuracy_score, precision_recall_fscore_support\n",
        "\n",
        "\n",
        "def calculate_results(y_true, y_pred):\n",
        "  \"\"\"\n",
        "  calculate model acuracy, precision, recall and f1 score of a binary classification model\n",
        "  \"\"\"\n",
        "  # calculate model accuracy\n",
        "  model_accuracy = accuracy_score(y_true, y_pred) * 100\n",
        "  # calculat model precision, recall and f1-score using weigthed average\n",
        "  model_precision, model_recall, model_f1, _ = precision_recall_fscore_support(y_true, y_pred,average = 'weighted' )\n",
        "\n",
        "  model_results = {\n",
        "\n",
        "                   'accuracy' :model_accuracy,\n",
        "                   'precision':model_precision,\n",
        "                   'recall' : model_recall,\n",
        "                   'f1' : model_f1\n",
        "  }\n",
        "  return model_results"
      ],
      "metadata": {
        "id": "HCZJXNtxtTxT"
      },
      "execution_count": 22,
      "outputs": []
    },
    {
      "cell_type": "code",
      "source": [
        "from tensorflow.keras.layers import TextVectorization, Embedding\n",
        "\n",
        "sent_len = [len(i.split()) for i in train_sentances]"
      ],
      "metadata": {
        "id": "motBOeGCtVaZ"
      },
      "execution_count": 23,
      "outputs": []
    },
    {
      "cell_type": "code",
      "source": [
        "sent_len[:5]"
      ],
      "metadata": {
        "colab": {
          "base_uri": "https://localhost:8080/"
        },
        "id": "HexQxyEOtWy9",
        "outputId": "ccf61fd7-28a6-4338-e8e4-7a6ced76516f"
      },
      "execution_count": 24,
      "outputs": [
        {
          "output_type": "execute_result",
          "data": {
            "text/plain": [
              "[49, 27, 15, 14, 35]"
            ]
          },
          "metadata": {},
          "execution_count": 24
        }
      ]
    },
    {
      "cell_type": "code",
      "source": [
        "avg_sent_len = np.mean(sent_len)\n",
        "avg_sent_len"
      ],
      "metadata": {
        "colab": {
          "base_uri": "https://localhost:8080/"
        },
        "id": "CN7St3WZtYwI",
        "outputId": "4c474ebf-ac67-4b8c-84b1-a7d02e904e82"
      },
      "execution_count": 25,
      "outputs": [
        {
          "output_type": "execute_result",
          "data": {
            "text/plain": [
              "26.338269273494777"
            ]
          },
          "metadata": {},
          "execution_count": 25
        }
      ]
    },
    {
      "cell_type": "code",
      "source": [
        "import matplotlib.pyplot as plt\n",
        "plt.hist(sent_len, bins = 30)"
      ],
      "metadata": {
        "colab": {
          "base_uri": "https://localhost:8080/",
          "height": 690
        },
        "id": "pFu4spOWtaYQ",
        "outputId": "2aa22b9d-88ba-4e92-bf5b-54d2ec9e3221"
      },
      "execution_count": 26,
      "outputs": [
        {
          "output_type": "execute_result",
          "data": {
            "text/plain": [
              "(array([1.6499e+04, 5.6664e+04, 5.2683e+04, 2.9050e+04, 1.3111e+04,\n",
              "        5.6610e+03, 3.0490e+03, 1.5190e+03, 8.0800e+02, 4.3200e+02,\n",
              "        2.2600e+02, 1.2800e+02, 7.7000e+01, 3.9000e+01, 3.0000e+01,\n",
              "        1.5000e+01, 9.0000e+00, 8.0000e+00, 4.0000e+00, 8.0000e+00,\n",
              "        7.0000e+00, 5.0000e+00, 1.0000e+00, 2.0000e+00, 3.0000e+00,\n",
              "        0.0000e+00, 0.0000e+00, 1.0000e+00, 0.0000e+00, 1.0000e+00]),\n",
              " array([  1.        ,  10.83333333,  20.66666667,  30.5       ,\n",
              "         40.33333333,  50.16666667,  60.        ,  69.83333333,\n",
              "         79.66666667,  89.5       ,  99.33333333, 109.16666667,\n",
              "        119.        , 128.83333333, 138.66666667, 148.5       ,\n",
              "        158.33333333, 168.16666667, 178.        , 187.83333333,\n",
              "        197.66666667, 207.5       , 217.33333333, 227.16666667,\n",
              "        237.        , 246.83333333, 256.66666667, 266.5       ,\n",
              "        276.33333333, 286.16666667, 296.        ]),\n",
              " <BarContainer object of 30 artists>)"
            ]
          },
          "metadata": {},
          "execution_count": 26
        },
        {
          "output_type": "display_data",
          "data": {
            "text/plain": [
              "<Figure size 640x480 with 1 Axes>"
            ],
            "image/png": "[encoded data removed]"
          },
          "metadata": {}
        }
      ]
    },
    {
      "cell_type": "code",
      "source": [
        "output_seq_len = int(np.percentile(sent_len, 95))\n",
        "output_seq_len"
      ],
      "metadata": {
        "colab": {
          "base_uri": "https://localhost:8080/"
        },
        "id": "pmfnpSMZtbom",
        "outputId": "648bc3cd-e6a6-46c2-cfab-db90312e9a57"
      },
      "execution_count": 27,
      "outputs": [
        {
          "output_type": "execute_result",
          "data": {
            "text/plain": [
              "55"
            ]
          },
          "metadata": {},
          "execution_count": 27
        }
      ]
    },
    {
      "cell_type": "code",
      "source": [
        "max_tokens = 68000 #given in paper"
      ],
      "metadata": {
        "id": "mKqyY3D0teMN"
      },
      "execution_count": 28,
      "outputs": []
    },
    {
      "cell_type": "code",
      "source": [
        "text_vectorizer  = TextVectorization(max_tokens = max_tokens,\n",
        "                                     output_sequence_length = output_seq_len)"
      ],
      "metadata": {
        "id": "wfOsRb8Xtfak"
      },
      "execution_count": 29,
      "outputs": []
    },
    {
      "cell_type": "code",
      "source": [
        "# adapt text vectorizer to training sentance\n",
        "text_vectorizer.adapt(train_sentances)"
      ],
      "metadata": {
        "id": "tmXUrTLatgm8"
      },
      "execution_count": 30,
      "outputs": []
    },
    {
      "cell_type": "code",
      "source": [
        "# words in training vocabulary\n",
        "rct_20k_text_vocab = text_vectorizer.get_vocabulary()"
      ],
      "metadata": {
        "id": "Y3GHsM7WtiFO"
      },
      "execution_count": 31,
      "outputs": []
    },
    {
      "cell_type": "code",
      "source": [
        "print(len(rct_20k_text_vocab))\n",
        "print(rct_20k_text_vocab[:5])\n",
        "print(rct_20k_text_vocab[-5:])"
      ],
      "metadata": {
        "colab": {
          "base_uri": "https://localhost:8080/"
        },
        "id": "eepiYbmDtjU7",
        "outputId": "78fa9f44-1ffc-42dd-d90e-0e6a9393e8b6"
      },
      "execution_count": 32,
      "outputs": [
        {
          "output_type": "stream",
          "name": "stdout",
          "text": [
            "64841\n",
            "['', '[UNK]', 'the', 'and', 'of']\n",
            "['aainduced', 'aaigroup', 'aachener', 'aachen', 'aaacp']\n"
          ]
        }
      ]
    },
    {
      "cell_type": "code",
      "source": [
        "embedding = Embedding(\n",
        "    input_dim = len(rct_20k_text_vocab),\n",
        "    output_dim = 256,\n",
        "    name = 'token_embedding'\n",
        ")"
      ],
      "metadata": {
        "id": "RtUBTBcMtkgS"
      },
      "execution_count": 33,
      "outputs": []
    },
    {
      "cell_type": "code",
      "source": [
        "\n",
        "# Test out text vectorizer and embedding on random sentances\n",
        "\n",
        "import random\n",
        "target_sentance = random.choice(train_sentances)\n",
        "\n",
        "print(f'Target sentance:\\n{target_sentance}\\n\\n')\n",
        "print(f'Vectorized target sentance:\\n{text_vectorizer([target_sentance])}\\n\\n')\n",
        "print(f'shape of vectorized sentance:{text_vectorizer([target_sentance]).shape}\\n\\n')\n",
        "print(f'embedded target sentance:\\n{embedding(text_vectorizer([target_sentance]))}\\n\\n')\n",
        "print(f'shape of embedded sentance:{embedding(text_vectorizer([target_sentance])).shape}')"
      ],
      "metadata": {
        "colab": {
          "base_uri": "https://localhost:8080/"
        },
        "id": "tPAdZowvtl1J",
        "outputId": "d6916ab4-5d58-4842-aae8-5f5fe122d16c"
      },
      "execution_count": 34,
      "outputs": [
        {
          "output_type": "stream",
          "name": "stdout",
          "text": [
            "Target sentance:\n",
            "we suggest that these changes would enhance the cardioprotective properties of this lipoprotein .\n",
            "\n",
            "\n",
            "Vectorized target sentance:\n",
            "[[  43  420   28  111  146  495 1335    2 6826 1536    4   23 1038    0\n",
            "     0    0    0    0    0    0    0    0    0    0    0    0    0    0\n",
            "     0    0    0    0    0    0    0    0    0    0    0    0    0    0\n",
            "     0    0    0    0    0    0    0    0    0    0    0    0    0]]\n",
            "\n",
            "\n",
            "shape of vectorized sentance:(1, 55)\n",
            "\n",
            "\n",
            "embedded target sentance:\n",
            "[[[ 0.01368965 -0.00982447  0.0013294  ...  0.04898183  0.02604539\n",
            "   -0.0031422 ]\n",
            "  [-0.04607676  0.02527237 -0.01850419 ...  0.01266586  0.02137574\n",
            "    0.0039031 ]\n",
            "  [-0.03856176 -0.00181655  0.03311035 ...  0.02663894 -0.0230324\n",
            "   -0.00199123]\n",
            "  ...\n",
            "  [-0.03658595  0.03655895 -0.01549997 ...  0.04344196  0.00758307\n",
            "    0.01779826]\n",
            "  [-0.03658595  0.03655895 -0.01549997 ...  0.04344196  0.00758307\n",
            "    0.01779826]\n",
            "  [-0.03658595  0.03655895 -0.01549997 ...  0.04344196  0.00758307\n",
            "    0.01779826]]]\n",
            "\n",
            "\n",
            "shape of embedded sentance:(1, 55, 256)\n"
          ]
        }
      ]
    },
    {
      "cell_type": "markdown",
      "source": [
        "###Character Level Encoding"
      ],
      "metadata": {
        "id": "CTKqaDgbtnUl"
      }
    },
    {
      "cell_type": "code",
      "source": [
        "def split_character(text):\n",
        "  return ' '.join(list(text))\n"
      ],
      "metadata": {
        "id": "hRisfDentskr"
      },
      "execution_count": 35,
      "outputs": []
    },
    {
      "cell_type": "code",
      "source": [
        "train_chars = [split_character(sentences) for sentences in train_sentances]\n",
        "val_chars = [split_character(sentences) for sentences in val_sentances]\n",
        "test_chars = [split_character(sentences) for sentences in test_sentances]"
      ],
      "metadata": {
        "id": "XpsuVECqtt3C"
      },
      "execution_count": 36,
      "outputs": []
    },
    {
      "cell_type": "code",
      "source": [
        "train_chars"
      ],
      "metadata": {
        "colab": {
          "base_uri": "https://localhost:8080/"
        },
        "id": "x6Lia05ctvHL",
        "outputId": "74915826-a3f2-42ed-96ad-24eacf2ca3a0"
      },
      "execution_count": 37,
      "outputs": [
        {
          "output_type": "execute_result",
          "data": {
            "text/plain": [
              "['t o   i n v e s t i g a t e   t h e   e f f i c a c y   o f   @   w e e k s   o f   d a i l y   l o w - d o s e   o r a l   p r e d n i s o l o n e   i n   i m p r o v i n g   p a i n   ,   m o b i l i t y   ,   a n d   s y s t e m i c   l o w - g r a d e   i n f l a m m a t i o n   i n   t h e   s h o r t   t e r m   a n d   w h e t h e r   t h e   e f f e c t   w o u l d   b e   s u s t a i n e d   a t   @   w e e k s   i n   o l d e r   a d u l t s   w i t h   m o d e r a t e   t o   s e v e r e   k n e e   o s t e o a r t h r i t i s   (   o a   )   .',\n",
              " 'a   t o t a l   o f   @   p a t i e n t s   w i t h   p r i m a r y   k n e e   o a   w e r e   r a n d o m i z e d   @ : @   ;   @   r e c e i v e d   @   m g / d a y   o f   p r e d n i s o l o n e   a n d   @   r e c e i v e d   p l a c e b o   f o r   @   w e e k s   .',\n",
              " 'o u t c o m e   m e a s u r e s   i n c l u d e d   p a i n   r e d u c t i o n   a n d   i m p r o v e m e n t   i n   f u n c t i o n   s c o r e s   a n d   s y s t e m i c   i n f l a m m a t i o n   m a r k e r s   .',\n",
              " 'p a i n   w a s   a s s e s s e d   u s i n g   t h e   v i s u a l   a n a l o g   p a i n   s c a l e   (   @ - @   m m   )   .',\n",
              " 's e c o n d a r y   o u t c o m e   m e a s u r e s   i n c l u d e d   t h e   w e s t e r n   o n t a r i o   a n d   m c m a s t e r   u n i v e r s i t i e s   o s t e o a r t h r i t i s   i n d e x   s c o r e s   ,   p a t i e n t   g l o b a l   a s s e s s m e n t   (   p g a   )   o f   t h e   s e v e r i t y   o f   k n e e   o a   ,   a n d   @ - m i n   w a l k   d i s t a n c e   (   @ m w d   )   .',\n",
              " 's e r u m   l e v e l s   o f   i n t e r l e u k i n   @   (   i l - @   )   ,   i l - @   ,   t u m o r   n e c r o s i s   f a c t o r   (   t n f   )   -   ,   a n d   h i g h - s e n s i t i v i t y   c - r e a c t i v e   p r o t e i n   (   h s c r p   )   w e r e   m e a s u r e d   .',\n",
              " 't h e r e   w a s   a   c l i n i c a l l y   r e l e v a n t   r e d u c t i o n   i n   t h e   i n t e r v e n t i o n   g r o u p   c o m p a r e d   t o   t h e   p l a c e b o   g r o u p   f o r   k n e e   p a i n   ,   p h y s i c a l   f u n c t i o n   ,   p g a   ,   a n d   @ m w d   a t   @   w e e k s   .',\n",
              " 't h e   m e a n   d i f f e r e n c e   b e t w e e n   t r e a t m e n t   a r m s   (   @   %   c i   )   w a s   @   (   @ - @   @   )   ,   p   <   @   ;   @   (   @ - @   @   )   ,   p   <   @   ;   @   (   @ - @   @   )   ,   p   <   @   ;   a n d   @   (   @ - @   @   )   ,   p   <   @   ,   r e s p e c t i v e l y   .',\n",
              " 'f u r t h e r   ,   t h e r e   w a s   a   c l i n i c a l l y   r e l e v a n t   r e d u c t i o n   i n   t h e   s e r u m   l e v e l s   o f   i l - @   ,   i l - @   ,   t n f   -   ,   a n d   h s c r p   a t   @   w e e k s   i n   t h e   i n t e r v e n t i o n   g r o u p   w h e n   c o m p a r e d   t o   t h e   p l a c e b o   g r o u p   .',\n",
              " 't h e s e   d i f f e r e n c e s   r e m a i n e d   s i g n i f i c a n t   a t   @   w e e k s   .',\n",
              " 't h e   o u t c o m e   m e a s u r e s   i n   r h e u m a t o l o g y   c l i n i c a l   t r i a l s - o s t e o a r t h r i t i s   r e s e a r c h   s o c i e t y   i n t e r n a t i o n a l   r e s p o n d e r   r a t e   w a s   @   %   i n   t h e   i n t e r v e n t i o n   g r o u p   a n d   @   %   i n   t h e   p l a c e b o   g r o u p   (   p   <   @   )   .',\n",
              " 'l o w - d o s e   o r a l   p r e d n i s o l o n e   h a d   b o t h   a   s h o r t - t e r m   a n d   a   l o n g e r   s u s t a i n e d   e f f e c t   r e s u l t i n g   i n   l e s s   k n e e   p a i n   ,   b e t t e r   p h y s i c a l   f u n c t i o n   ,   a n d   a t t e n u a t i o n   o f   s y s t e m i c   i n f l a m m a t i o n   i n   o l d e r   p a t i e n t s   w i t h   k n e e   o a   (   c l i n i c a l t r i a l s . g o v   i d e n t i f i e r   n c t @   )   .',\n",
              " 'e m o t i o n a l   e a t i n g   i s   a s s o c i a t e d   w i t h   o v e r e a t i n g   a n d   t h e   d e v e l o p m e n t   o f   o b e s i t y   .',\n",
              " 'y e t   ,   e m p i r i c a l   e v i d e n c e   f o r   i n d i v i d u a l   (   t r a i t   )   d i f f e r e n c e s   i n   e m o t i o n a l   e a t i n g   a n d   c o g n i t i v e   m e c h a n i s m s   t h a t   c o n t r i b u t e   t o   e a t i n g   d u r i n g   s a d   m o o d   r e m a i n   e q u i v o c a l   .',\n",
              " 't h e   a i m   o f   t h i s   s t u d y   w a s   t o   t e s t   i f   a t t e n t i o n   b i a s   f o r   f o o d   m o d e r a t e s   t h e   e f f e c t   o f   s e l f - r e p o r t e d   e m o t i o n a l   e a t i n g   d u r i n g   s a d   m o o d   (   v s   n e u t r a l   m o o d   )   o n   a c t u a l   f o o d   i n t a k e   .',\n",
              " 'i t   w a s   e x p e c t e d   t h a t   e m o t i o n a l   e a t i n g   i s   p r e d i c t i v e   o f   e l e v a t e d   a t t e n t i o n   f o r   f o o d   a n d   h i g h e r   f o o d   i n t a k e   a f t e r   a n   e x p e r i m e n t a l l y   i n d u c e d   s a d   m o o d   a n d   t h a t   a t t e n t i o n a l   m a i n t e n a n c e   o n   f o o d   p r e d i c t s   f o o d   i n t a k e   d u r i n g   a   s a d   v e r s u s   a   n e u t r a l   m o o d   .',\n",
              " 'p a r t i c i p a n t s   (   n   =   @   )   w e r e   r a n d o m l y   a s s i g n e d   t o   o n e   o f   t h e   t w o   e x p e r i m e n t a l   m o o d   i n d u c t i o n   c o n d i t i o n s   (   s a d / n e u t r a l   )   .',\n",
              " 'a t t e n t i o n a l   b i a s e s   f o r   h i g h   c a l o r i c   f o o d s   w e r e   m e a s u r e d   b y   e y e   t r a c k i n g   d u r i n g   a   v i s u a l   p r o b e   t a s k   w i t h   p i c t o r i a l   f o o d   a n d   n e u t r a l   s t i m u l i   .',\n",
              " 's e l f - r e p o r t e d   e m o t i o n a l   e a t i n g   w a s   a s s e s s e d   w i t h   t h e   d u t c h   e a t i n g   b e h a v i o r   q u e s t i o n n a i r e   (   d e b q   )   a n d   a d   l i b i t u m   f o o d   i n t a k e   w a s   t e s t e d   b y   a   d i s g u i s e d   f o o d   o f f e r   .',\n",
              " 'h i e r a r c h i c a l   m u l t i v a r i a t e   r e g r e s s i o n   m o d e l i n g   s h o w e d   t h a t   s e l f - r e p o r t e d   e m o t i o n a l   e a t i n g   d i d   n o t   a c c o u n t   f o r   c h a n g e s   i n   a t t e n t i o n   a l l o c a t i o n   f o r   f o o d   o r   f o o d   i n t a k e   i n   e i t h e r   c o n d i t i o n   .',\n",
              " 'y e t   ,   a t t e n t i o n   m a i n t e n a n c e   o n   f o o d   c u e s   w a s   s i g n i f i c a n t l y   r e l a t e d   t o   i n c r e a s e d   i n t a k e   s p e c i f i c a l l y   i n   t h e   n e u t r a l   c o n d i t i o n   ,   b u t   n o t   i n   t h e   s a d   m o o d   c o n d i t i o n   .',\n",
              " 't h e   c u r r e n t   f i n d i n g s   s h o w   t h a t   s e l f - r e p o r t e d   e m o t i o n a l   e a t i n g   (   b a s e d   o n   t h e   d e b q   )   m i g h t   n o t   v a l i d l y   p r e d i c t   w h o   o v e r e a t s   w h e n   s a d   ,   a t   l e a s t   n o t   i n   a   l a b o r a t o r y   s e t t i n g   w i t h   h e a l t h y   w o m e n   .',\n",
              " 'r e s u l t s   f u r t h e r   s u g g e s t   t h a t   a t t e n t i o n   m a i n t e n a n c e   o n   f o o d   r e l a t e s   t o   e a t i n g   m o t i v a t i o n   w h e n   i n   a   n e u t r a l   a f f e c t i v e   s t a t e   ,   a n d   m i g h t   t h e r e f o r e   b e   a   c o g n i t i v e   m e c h a n i s m   c o n t r i b u t i n g   t o   i n c r e a s e d   f o o d   i n t a k e   i n   g e n e r a l   ,   b u t   m a y b e   n o t   d u r i n g   s a d   m o o d   .',\n",
              " 'a l t h o u g h   w o r k i n g   s m o k e   a l a r m s   h a l v e   d e a t h s   i n   r e s i d e n t i a l   f i r e s   ,   m a n y   h o u s e h o l d s   d o   n o t   k e e p   a l a r m s   o p e r a t i o n a l   .',\n",
              " 'w e   t e s t e d   w h e t h e r   t h e o r y - b a s e d   e d u c a t i o n   i n c r e a s e s   a l a r m   o p e r a b i l i t y   .',\n",
              " 'r a n d o m i s e d   m u l t i a r m   t r i a l   ,   w i t h   a   s i n g l e   a r m   r a n d o m l y   s e l e c t e d   f o r   u s e   e a c h   d a y   ,   i n   l o w - i n c o m e   n e i g h b o u r h o o d s   i n   m a r y l a n d   ,   u s a   .',\n",
              " \"i n t e r v e n t i o n   a r m s   :   (   @   )   f u l l   e d u c a t i o n   c o m b i n i n g   a   h e a l t h   b e l i e f   m o d u l e   w i t h   a   s o c i a l - c o g n i t i v e   t h e o r y   m o d u l e   t h a t   p r o v i d e d   h a n d s - o n   p r a c t i c e   i n s t a l l i n g   a l a r m   b a t t e r i e s   a n d   u s i n g   t h e   a l a r m   ' s   h u s h   b u t t o n   ;   (   @   )   h a n d s - o n   p r a c t i c e   s o c i a l - c o g n i t i v e   m o d u l e   s u p p l e m e n t e d   b y   t y p i c a l   f i r e   d e p a r t m e n t   e d u c a t i o n   ;   (   @   )   c u r r e n t   n o r m   r e c e i v i n g   t y p i c a l   f i r e   d e p a r t m e n t   e d u c a t i o n   o n l y   .\",\n",
              " 'f o u r   h u n d r e d   a n d   t h i r t y - s i x   h o m e s   r e c r u i t e d   t h r o u g h   c h u r c h e s   o r   b y   k n o c k i n g   o n   d o o r s   i n   @ - @   .',\n",
              " 'f o l l o w - u p   v i s i t s   c h e c k e d   a l a r m   o p e r a b i l i t y   i n   @   h o m e s   (   @   %   )   @ - @   @   y e a r s   a f t e r   i n s t a l l a t i o n   .',\n",
              " 'n u m b e r   o f   h o m e s   w i t h   w o r k i n g   a l a r m s   d e f i n e d   a s   a l a r m s   w i t h   w o r k i n g   b a t t e r i e s   o r   h a r d - w i r e d   a n d   n u m b e r   o f   w o r k i n g   a l a r m s   p e r   h o m e   .',\n",
              " 'r e g r e s s i o n s   c o n t r o l l e d   f o r   a l a r m   s t a t u s   p r e i n t e r v e n t i o n   ;   d e m o g r a p h i c s   a n d   b e l i e f s   a b o u t   f i r e   r i s k s   a n d   a l a r m   e f f e c t i v e n e s s   .',\n",
              " 'h o m e s   i n   t h e   f u l l   e d u c a t i o n   a n d   p r a c t i c e   a r m s   w e r e   m o r e   l i k e l y   t o   h a v e   a   f u n c t i o n i n g   s m o k e   a l a r m   a t   f o l l o w - u p   (   o r   =   @   ,   @   %   c i   @   t o   @   )   a n d   h a d   a n   a v e r a g e   o f   @   m o r e   w o r k i n g   a l a r m s   p e r   h o m e   (   @   %   c i   @   t o   @   )   .',\n",
              " 'w o r k i n g   a l a r m s   p e r   h o m e   r o s e   @   %   .',\n",
              " 'f u l l   e d u c a t i o n   a n d   p r a c t i c e   h a d   s i m i l a r   e f f e c t i v e n e s s   (   p   =   @   o n   b o t h   o u t c o m e   m e a s u r e s   )   .',\n",
              " 'w i t h o u t   e x c e e d i n g   t y p i c a l   f i r e   d e p a r t m e n t   i n s t a l l a t i o n   t i m e   ,   i n s t a l l e r s   c a n   a c h i e v e   g r e a t e r   s m o k e   a l a r m   o p e r a b i l i t y   .',\n",
              " 'h a n d s - o n   p r a c t i c e   i s   k e y   .',\n",
              " 't w o   y e a r s   a f t e r   i n s t a l l a t i o n   ,   f o r   e v e r y   t h r e e   h o m e s   t h a t   r e c e i v e d   h a n d s - o n   p r a c t i c e   ,   o n e   h a d   a n   a d d i t i o n a l   w o r k i n g   a l a r m   .',\n",
              " 'h t t p : / / w w w . c l i n i c a l t r i a l s . g o v   n u m b e r   n c t @   .',\n",
              " 't o   e v a l u a t e   t h e   p e r f o r m a n c e   (   e f f i c a c y   ,   s a f e t y   a n d   a c c e p t a b i l i t y   )   o f   a   n e w   m i c r o - a d h e r e n t   a b s o r b e n t   d r e s s i n g   (   u r g o c l e a n   )   c o m p a r e d   w i t h   a   h y d r o f i b e r   d r e s s i n g   (   a q u a c e l   )   i n   t h e   l o c a l   m a n a g e m e n t   o f   v e n o u s   l e g   u l c e r s   ,   i n   t h e   d e b r i d e m e n t   s t a g e   .',\n",
              " 'a   n o n - i n f e r i o r i t y   e u r o p e a n   r a n d o m i s e d   c o n t r o l l e d   c l i n i c a l   t r i a l   (   r c t   )   w a s   c o n d u c t e d   i n   @   c e n t r e s   ,   o n   p a t i e n t s   p r e s e n t i n g   w i t h   v e n o u s   o r   p r e d o m i n a n t l y   v e n o u s   ,   m i x e d   a e t i o l o g y   l e g   u l c e r s   a t   t h e i r   s l o u g h y   s t a g e   (   w i t h   m o r e   t h a n   @   %   o f   t h e   w o u n d   b e d   c o v e r e d   w i t h   s l o u g h   a t   b a s e l i n e   )   .',\n",
              " 'p a t i e n t s   w e r e   f o l l o w e d   o v e r   a   @ - w e e k   p e r i o d   a n d   a s s e s s e d   w e e k l y   .',\n",
              " 't h e   p r i m a r y   j u d g e m e n t   c r i t e r i a   w a s   t h e   r e l a t i v e   r e g r e s s i o n   o f   t h e   w o u n d   s u r f a c e   a r e a   a f t e r   t h e   @ - w e e k   t r e a t m e n t   p e r i o d   .',\n",
              " 's e c o n d a r y   e n d p o i n t s   w e r e   t h e   r e l a t i v e   r e d u c t i o n   o f   s l o u g h y   t i s s u e   a n d   t h e   p e r c e n t a g e   o f   p a t i e n t s   p r e s e n t i n g   w i t h   a   d e b r i d e d   w o u n d   .',\n",
              " 'a l t o g e t h e r   ,   @   p a t i e n t s   w e r e   r a n d o m i s e d   t o   e i t h e r   u r g o c l e a n   (   t e s t   g r o u p   ;   n   =   @   )   o r   a q u a c e l   (   c o n t r o l   g r o u p   ;   n   =   @   )   d r e s s i n g s   .',\n",
              " 'r e g a r d i n g   t h e   w o u n d   h e a l i n g   p r o c e s s   p r e d i c t i v e   f a c t o r s   (   w o u n d   a r e a   ,   d u r a t i o n   ,   a b p i   v a l u e   ,   r e c u r r e n c e   )   ,   a t   b a s e l i n e   ,   t h e   t w o   g r o u p s   w e r e   w e l l   b a l a n c e d   ,   f o r   b o t h   w o u n d   a n d   p a t i e n t   c h a r a c t e r i s t i c s   .',\n",
              " 'c o m p r e s s i o n   t h e r a p y   w a s   a d m i n i s t e r e d   t o   b o t h   g r o u p s   a n d   a f t e r   a   m e d i a n   @ - d a y   t r e a t m e n t   p e r i o d   ,   t h e   p e r c e n t a g e   o f   r e l a t i v e   r e d u c t i o n   o f   t h e   w o u n d   s u r f a c e   a r e a   w a s   v e r y   s i m i l a r   (   - @   %   v s   - @   %   i n   t h e   u r g o c l e a n   a n d   c o n t r o l   g r o u p s   ,   r e s p e c t i v e l y   )   .',\n",
              " 'w h e n   c o n s i d e r i n g   t h e   s e c o n d a r y   c r i t e r i a   a t   w e e k   @   ,   t h e   r e l a t i v e   r e d u c t i o n   o f   s l o u g h y   t i s s u e   w a s   s i g n i f i c a n t l y   h i g h e r   i n   t h e   u r g o c l e a n   g r o u p   t h a n   i n   t h e   c o n t r o l   g r o u p   (   - @   %   v s   - @ , @   %   ;   p   =   @   )   .',\n",
              " 't h e   p e r c e n t a g e   o f   d e b r i d e d   w o u n d s   w a s   a l s o   s i g n i f i c a n t l y   h i g h e r   i n   t h e   t e s t   g r o u p   (   @   %   v s   @   %   ;   p   =   @   )   .',\n",
              " \"t h i s   `   e a r t h   '   r c t   c o n f i r m e d   t h a t   t h e   u r g o c l e a n   d r e s s i n g   h a s   s i m i l a r   e f f i c a c y   a n d   s a f e t y   c o m p a r e d   t o   a q u a c e l   .\",\n",
              " 'h o w e v e r   ,   u r g o c l e a n   a l s o   s h o w e d   b e t t e r   a u t o l y t i c   p r o p e r t i e s   t h a n   t h e   c o n t r o l   g r o u p   i n   t h e   m a n a g e m e n t   o f   v e n o u s   l e g   u l c e r s   a t   t h e   s l o u g h y   s t a g e   .',\n",
              " 't h e   n e w   u r g o c l e a n   d r e s s i n g   t h e r e f o r e   r e p r e s e n t s   a   p r o m i s i n g   t h e r a p e u t i c   o p t i o n   w i t h i n   t h e   c u r r e n t   r a n g e   o f   a u t o l y t i c   d r e s s i n g s   a v a i l a b l e   .',\n",
              " 't h i s   s t u d y   w a s   s p o n s o r e d   b y   a   g r a n t   f r o m   t h e   p h a r m a c e u t i c a l   c o m p a n y   l a b o r a t o i r e s   u r g o   .',\n",
              " 's .   b o h b o t   a n d   o .   t a c c a   a r e   e m p l o y e e s   o f   l a b o r a t o i r e s   u r g o   .',\n",
              " 's .   m e a u m e   ,   j .   d i s s e m o n d   a n d   g .   p e r c e a u   h a v e   r e c e i v e d   m o n e t a r y   c o m p e n s a t i o n   a s   p r e s e n t e r s   f o r   l a b o r a t o i r e s   u r g o   .',\n",
              " 'd a t a   m a n a g e m e n t   a n d   s t a t i s t i c a l   a n a l y s e s   w e r e   c o n d u c t e d   i n d e p e n d e n t l y   b y   v e r t i c a l   (   p a r i s   ,   f r a n c e   )   .',\n",
              " 'e y e   m o v e m e n t s   (   e m   )   d u r i n g   r e c a l l   o f   a n   a v e r s i v e   m e m o r y   i s   a   t r e a t m e n t   e l e m e n t   u n i q u e   t o   e y e   m o v e m e n t   d e s e n s i t i z a t i o n   a n d   r e p r o c e s s i n g   (   e m d r   )   .',\n",
              " 'e x p e r i m e n t a l   s t u d i e s   h a v e   s h o w n   t h a t   e m   r e d u c e   m e m o r y   v i v i d n e s s   a n d / o r   e m o t i o n a l i t y   s h o r t l y   a f t e r   t h e   i n t e r v e n t i o n   .',\n",
              " 'h o w e v e r   ,   i t   i s   u n c l e a r   w h e t h e r   t h e   i m m e d i a t e   e f f e c t s   o f   t h e   i n t e r v e n t i o n   r e f l e c t   a c t u a l   c h a n g e s   i n   m e m o r y   .',\n",
              " 't h e   a i m   o f   t h i s   s t u d y   w a s   t o   t e s t   w h e t h e r   i m m e d i a t e   r e d u c t i o n s   i n   m e m o r y   v i v i d n e s s   a n d   e m o t i o n a l i t y   p e r s i s t   a t   a   @ h   f o l l o w   u p   a n d   w h e t h e r   t h e   m a g n i t u d e   o f   t h e s e   e f f e c t s   i s   r e l a t e d   t o   t h e   d u r a t i o n   o f   t h e   i n t e r v e n t i o n   .',\n",
              " \"s e v e n t y - t h r e e   u n d e r g r a d u a t e s   r e c a l l e d   t w o   n e g a t i v e   a u t o b i o g r a p h i c a l   m e m o r i e s   ,   o n e   w i t h   e m   (   ` `   r e c a l l   w i t h   e m   ' '   )   a n d   o n e   w i t h o u t   (   ` `   r e c a l l   o n l y   ' '   )   .\",\n",
              " 'h a l f   o f   p a r t i c i p a n t s   r e c a l l e d   e a c h   m e m o r y   f o r   f o u r   p e r i o d s   o f   @ s   ,   t h e   o t h e r   h a l f   f o r   e i g h t   p e r i o d s   o f   @ s   .',\n",
              " 'm e m o r y   v i v i d n e s s / e m o t i o n a l i t y   w e r e   s e l f - r a t e d   a t   a   p r e - t e s t   ,   a n   i m m e d i a t e   p o s t - t e s t   ,   a n d   a   @ h   f o l l o w - u p   t e s t   .',\n",
              " 'i n   b o t h   d u r a t i o n   g r o u p s   ,   r e c a l l   w i t h   e m   ,   b u t   n o t   r e c a l l   o n l y   ,   c a u s e d   a n   i m m e d i a t e   d e c r e a s e   i n   m e m o r y   v i v i d n e s s   .',\n",
              " 't h e r e   w e r e   n o   i m m e d i a t e   r e d u c t i o n s   i n   m e m o r y   e m o t i o n a l i t y   .',\n",
              " \"f u r t h e r m o r e   ,   o n l y   t h e   `   e i g h t   p e r i o d s   '   g r o u p   s h o w e d   t h a t   r e c a l l   w i t h   e m   ,   b u t   n o t   r e c a l l   o n l y   ,   c a u s e d   a   d e c r e a s e   i n   b o t h   m e m o r y   e m o t i o n a l i t y   a n d   m e m o r y   v i v i d n e s s   f r o m   t h e   p r e - t e s t   t o   t h e   f o l l o w - u p   .\",\n",
              " 'o n l y   s e l f - r e p o r t   m e a s u r e s   w e r e   u s e d   .',\n",
              " 't h e   f i n d i n g s   s u g g e s t   t h a t   r e c a l l   w i t h   e m   c a u s e s   @ - h c h a n g e s   i n   m e m o r y   v i v i d n e s s / e m o t i o n a l i t y   ,   w h i c h   m a y   e x p l a i n   p a r t   o f   t h e   e m d r   t r e a t m e n t   e f f e c t   ,   a n d   t h e s e   e f f e c t s   a r e   r e l a t e d   t o   i n t e r v e n t i o n   d u r a t i o n   .',\n",
              " 'f e w   s t u d i e s   h a v e   t e s t e d   t h e   i m p a c t   o f   m o t i v a t i o n a l   i n t e r v i e w i n g   (   m i   )   d e l i v e r e d   b y   p r i m a r y   c a r e   p r o v i d e r s   o n   p e d i a t r i c   o b e s i t y   .',\n",
              " 't h i s   s t u d y   t e s t e d   t h e   e f f i c a c y   o f   m i   d e l i v e r e d   b y   p r o v i d e r s   a n d   r e g i s t e r e d   d i e t i t i a n s   (   r d s   )   t o   p a r e n t s   o f   o v e r w e i g h t   c h i l d r e n   a g e d   @   t h r o u g h   @   .',\n",
              " 'f o r t y - t w o   p r a c t i c e s   f r o m   t h e   p e d i a t r i c   r e s e a r c h   i n   o f f i c e   s e t t i n g s   n e t w o r k   o f   t h e   a m e r i c a n   a c a d e m y   o f   p e d i a t r i c s   w e r e   r a n d o m l y   a s s i g n e d   t o   @   o f   @   g r o u p s   .',\n",
              " 'g r o u p   @   (   u s u a l   c a r e   )   m e a s u r e d   b m i   p e r c e n t i l e   a t   b a s e l i n e   a n d   @   -   a n d   @ - y e a r   f o l l o w - u p   .',\n",
              " 'g r o u p   @   (   p r o v i d e r   o n l y   )   d e l i v e r e d   @   m i   c o u n s e l i n g   s e s s i o n s   t o   p a r e n t s   o f   t h e   i n d e x   c h i l d   o v e r   @   y e a r s   .',\n",
              " 'g r o u p   @   (   p r o v i d e r   +   r d   )   d e l i v e r e d   @   p r o v i d e r   m i   s e s s i o n s   p l u s   @   m i   s e s s i o n s   f r o m   a   r d .   .',\n",
              " 't h e   p r i m a r y   o u t c o m e   w a s   c h i l d   b m i   p e r c e n t i l e   a t   @ - y e a r   f o l l o w   u p   .',\n",
              " 'a t   @ - y e a r   f o l l o w - u p   ,   t h e   a d j u s t e d   b m i   p e r c e n t i l e   w a s   @   ,   @   ,   a n d   @   f o r   g r o u p s   @   ,   @   ,   a n d   @   ,   r e s p e c t i v e l y   .',\n",
              " 't h e   g r o u p   @   m e a n   w a s   s i g n i f i c a n t l y   (   p   =   @   )   l o w e r   t h a n   g r o u p   @   .',\n",
              " 'm e a n   c h a n g e s   f r o m   b a s e l i n e   i n   b m i   p e r c e n t i l e   w e r e   @   ,   @   ,   a n d   @   a c r o s s   g r o u p s   @   ,   @   ,   a n d   @   .',\n",
              " 'm i   d e l i v e r e d   b y   p r o v i d e r s   a n d   r d s   (   g r o u p   @   )   r e s u l t e d   i n   s t a t i s t i c a l l y   s i g n i f i c a n t   r e d u c t i o n s   i n   b m i   p e r c e n t i l e   .',\n",
              " 'r e s e a r c h   i s   n e e d e d   t o   d e t e r m i n e   t h e   c l i n i c a l   s i g n i f i c a n c e   a n d   p e r s i s t e n c e   o f   t h e   b m i   e f f e c t s   o b s e r v e d   .',\n",
              " 'h o w   t h e   i n t e r v e n t i o n   c a n   b e   b r o u g h t   t o   s c a l e   (   i n   p a r t i c u l a r   ,   h o w   t o   t r a i n   p h y s i c i a n s   t o   u s e   m i   e f f e c t i v e l y   a n d   h o w   b e s t   t o   t r a i n   r d s   a n d   i n t e g r a t e   t h e m   i n t o   p r i m a r y   c a r e   s e t t i n g s   )   a l s o   m e r i t s   f u t u r e   r e s e a r c h   .',\n",
              " 'a n t i t h r o m b i n   (   a t   )   c o n c e n t r a t i o n s   a r e   r e d u c e d   a f t e r   c a r d i a c   s u r g e r y   w i t h   c a r d i o p u l m o n a r y   b y p a s s   c o m p a r e d   w i t h   t h e   p r e o p e r a t i v e   l e v e l s   .',\n",
              " 'l o w   p o s t o p e r a t i v e   a t   i s   a s s o c i a t e d   w i t h   w o r s e   s h o r t   -   a n d   m i d - t e r m   c l i n i c a l   o u t c o m e s   .',\n",
              " 't h e   a i m   o f   t h e   s t u d y   i s   t o   e v a l u a t e   t h e   e f f e c t s   o f   a t   a d m i n i s t r a t i o n   o n   a c t i v a t i o n   o f   t h e   c o a g u l a t i o n   a n d   f i b r i n o l y t i c   s y s t e m s   ,   p l a t e l e t   f u n c t i o n   ,   a n d   t h e   i n f l a m m a t o r y   r e s p o n s e   i n   p a t i e n t s   w i t h   l o w   p o s t o p e r a t i v e   a t   l e v e l s   .',\n",
              " 's i x t y   p a t i e n t s   w i t h   p o s t o p e r a t i v e   a t   l e v e l s   o f   l e s s   t h a n   @   %   w e r e   r a n d o m l y   a s s i g n e d   t o   r e c e i v e   p u r i f i e d   a t   (   @   i u   i n   t h r e e   a d m i n i s t r a t i o n s   )   o r   p l a c e b o   i n   t h e   p o s t o p e r a t i v e   i n t e n s i v e   c a r e   u n i t   .',\n",
              " 't h i r t y   p a t i e n t s   w i t h   p o s t o p e r a t i v e   a t   l e v e l s   g r e a t e r   t h a n   @   %   w e r e   o b s e r v e d   a s   c o n t r o l s   .',\n",
              " 'i n t e r l e u k i n   @   (   a   m a r k e r   o f   i n f l a m m a t i o n   )   ,   p r o t h r o m b i n   f r a g m e n t   @ - @   (   a   m a r k e r   o f   t h r o m b i n   g e n e r a t i o n   )   ,   p l a s m i n - a n t i p l a s m i n   c o m p l e x   (   a   m a r k e r   o f   f i b r i n o l y s i s   )   ,   a n d   p l a t e l e t   f a c t o r   @   (   a   m a r k e r   o f   p l a t e l e t   a c t i v a t i o n   )   w e r e   m e a s u r e d   a t   s i x   d i f f e r e n t   t i m e s   .',\n",
              " 'c o m p a r e d   w i t h   t h e   n o   a t   g r o u p   a n d   c o n t r o l   p a t i e n t s   ,   p a t i e n t s   r e c e i v i n g   a t   s h o w e d   s i g n i f i c a n t l y   h i g h e r   a t   v a l u e s   u n t i l   @   h o u r s   a f t e r   t h e   l a s t   a d m i n i s t r a t i o n   .',\n",
              " 'a n a l y s i s   o f   v a r i a n c e   f o r   r e p e a t e d   m e a s u r e s   s h o w e d   a   s i g n i f i c a n t   e f f e c t   o f   s t u d y   t r e a t m e n t   i n   r e d u c i n g   p r o t h r o m b i n   f r a g m e n t   @ - @   (   p   =   @   ;   i n t e r a c t i o n   w i t h   t i m e   s a m p l e   ,   p   =   @   )   a n d   p l a s m i n - a n t i p l a s m i n   c o m p l e x   (   p   <   @   ;   i n t e r a c t i o n   w i t h   t i m e   s a m p l e   ,   p   <   @   )   v a l u e s   b u t   n o t   i n t e r l e u k i n   @   (   p   =   @   ;   i n t e r a c t i o n   w i t h   t i m e   s a m p l e   ,   p   =   @   )   a n d   p l a t e l e t   f a c t o r   @   (   p   =   @   ;   i n t e r a c t i o n   w i t h   t i m e   s a m p l e   ,   p   =   @   )   .',\n",
              " 'n o   d i f f e r e n c e   i n   c h e s t   t u b e   d r a i n a g e   ,   r e o p e n i n g   f o r   b l e e d i n g   ,   a n d   b l o o d   t r a n s f u s i o n   w a s   o b s e r v e d   .',\n",
              " 'a n t i t h r o m b i n   a d m i n i s t r a t i o n   i n   p a t i e n t s   w i t h   l o w   a t   a c t i v i t y   a f t e r   s u r g e r y   w i t h   c a r d i o p u l m o n a r y   b y p a s s   r e d u c e s   p o s t o p e r a t i v e   t h r o m b i n   g e n e r a t i o n   a n d   f i b r i n o l y s i s   w i t h   n o   e f f e c t s   o n   p l a t e l e t   a c t i v a t i o n   a n d   i n f l a m m a t o r y   r e s p o n s e   .',\n",
              " 'w e   e v a l u a t e d   p a t i e n t s   a t   t e r t i a r y   - l s b -   b o t h   p e r c u t a n e o u s   c o r o n a r y   i n t e r v e n t i o n   (   p c i   )   a n d   c o r o n a r y   a r t e r y   b y p a s s   g r a f t i n g   (   c a b g   )   c a p a b l e   - r s b -   a n d   p r i m a r y   h o s p i t a l s   i n   t h e   e a r l y - a c s   t r i a l   .',\n",
              " 'e a r l y   i n v a s i v e   m a n a g e m e n t   i s   r e c o m m e n d e d   f o r   h i g h - r i s k   n o n - s t - s e g m e n t   e l e v a t i o n   a c u t e   c o r o n a r y   s y n d r o m e s   .',\n",
              " \"w e   e v a l u a t e d   o u t c o m e s   i n   @ , @   p a t i e n t s   p r e s e n t i n g   t o   :   t e r t i a r y   s i t e s   ,   p r i m a r y   s i t e s   w i t h   t r a n s f e r   t o   t e r t i a r y   s i t e s   (   ` `   t r a n s f e r r e d   ' '   )   a n d   t h o s e   w h o   r e m a i n e d   a t   p r i m a r y   s i t e s   (   ` `   n o n - t r a n s f e r   ' '   )   .\",\n",
              " 't h e r e   w e r e   @   t e r t i a r y   (   n   =   @ , @   p a t i e n t s   )   a n d   @   p r i m a r y   h o s p i t a l s   - l s b -   n   =   @ , @   p a t i e n t s   (   @   t r a n s f e r r e d   ;   @ , @   n o n - t r a n s f e r   )   - r s b -   .',\n",
              " 's i g n i f i c a n t   d e l a y s   o c c u r r e d   i n   t i m e   f r o m   s y m p t o m   o n s e t   t o   a n g i o g r a p h y   (   @   h r   )   ,   p c i   (   @ h   )   ,   a n d   c a b g   (   @   h r   )   f o r   t r a n s f e r r e d   p a t i e n t s   (   p   <   @   )   .',\n",
              " 'n o n - t r a n s f e r   p a t i e n t s   h a d   l e s s   @ - d a y   d e a t h / m y o c a r d i a l   i n f a r c t i o n   - l s b -   @   %   v s .   @   %   (   t e r t i a r y   )   ;   a d j u s t e d   o d d s   r a t i o   (   o r   )   :   @   (   @ - @   @   )   ,   p   =   @   - r s b -   ;   t r a n s f e r r e d   (   @   %   )   a n d   t e r t i a r y   p a t i e n t s   w e r e   s i m i l a r   - l s b -   a d j u s t e d   o r   :   @   (   @ - @   @   )   ,   p   =   @   - r s b -   .',\n",
              " 'n o n - t r a n s f e r   p a t i e n t s   h a d   l o w e r   @ - y e a r   m o r t a l i t y   - l s b -   @   %   v s .   @   %   (   t e r t i a r y   )   ;   a d j u s t e d   h a z a r d   r a t i o   (   h r   )   :   @   (   @ - @   @   )   ,   p   =   @   - r s b -   :   t h e r e   w a s   n o   d i f f e r e n c e   b e t w e e n   t r a n s f e r r e d   a n d   t e r t i a r y   p a t i e n t s   - l s b -   @   %   v s .   @   %   ;   a d j u s t e d   h r   :   @   (   @ - @   @   )   ,   p   =   @   - r s b -   .',\n",
              " 'd e s p i t e   s i m i l a r   r a t e s   o f   c a t h e t e r i z a t i o n   ,   g u s t o   s e v e r e / m o d e r a t e   b l e e d i n g   w i t h i n   @   h r   w a s   l e s s   i n   n o n - t r a n s f e r   - l s b -   @   %   v s .   @   %   (   t e r t i a r y   )   ;   a d j u s t e d   o r   :   @   (   @ - @   @   )   ,   p   <   @   - r s b -   ,   w h e r e a s   t r a n s f e r r e d   (   @   %   )   a n d   t e r t i a r y   p a t i e n t s   w e r e   s i m i l a r   - l s b -   a d j u s t e d   o r   :   @   (   @ - @   @   )   ,   p   =   @   - r s b -   .',\n",
              " 't h e r e   w a s   n o   d i f f e r e n c e   i n   n o n - c a b g   b l e e d i n g   .',\n",
              " 't i m e l y   a n g i o g r a p h y   a n d   r e v a s c u l a r i z a t i o n   w e r e   o f t e n   n o t   a c h i e v e d   i n   t r a n s f e r r e d   p a t i e n t s   .',\n",
              " 'n o n - t r a n s f e r r e d   p a t i e n t s   p r e s e n t i n g   t o   p r i m a r y   s i t e s   h a d   t h e   l o w e s t   e v e n t   r a t e s   a n d   t h e   b e s t   l o n g - t e r m   s u r v i v a l   .',\n",
              " 'w e   h y p o t h e s i z e d   t h a t   a   t a r g e t e d   t e m p e r a t u r e   o f   @   c   a s   c o m p a r e d   t o   t h a t   o f   @   c   w o u l d   i n c r e a s e   s u r v i v a l   a n d   r e d u c e   t h e   s e v e r i t y   o f   c i r c u l a t o r y   s h o c k   i n   p a t i e n t s   w i t h   s h o c k   o n   a d m i s s i o n   a f t e r   o u t - o f - h o s p i t a l   c a r d i a c   a r r e s t   (   o h c a   )   .',\n",
              " 't h e   r e c e n t l y   p u b l i s h e d   t a r g e t   t e m p e r a t u r e   m a n a g e m e n t   t r i a l   (   t t m - t r i a l   )   r a n d o m i z e d   @   o h c a   p a t i e n t s   w i t h   n o   d i f f e r e n c e   i n   o u t c o m e   b e t w e e n   g r o u p s   a n d   n o   d i f f e r e n c e   i n   m o r t a l i t y   a t   t h e   e n d   o f   t h e   t r i a l   i n   a   p r e d e f i n e d   s u b g r o u p   o f   p a t i e n t s   w i t h   s h o c k   a t   a d m i s s i o n   .',\n",
              " 's h o c k   w a s   d e f i n e d   a s   a   s y s t o l i c   b l o o d   p r e s s u r e   o f   <   @   m m   h g   f o r   >   @   m i n   o r   t h e   n e e d   o f   s u p p o r t i v e   m e a s u r e s   t o   m a i n t a i n   a   b l o o d   p r e s s u r e   @   m m h g   a n d / o r   c l i n i c a l   s i g n s   o f   e n d - o r g a n   h y p o p e r f u s i o n   .',\n",
              " 'i n   t h i s   p o s t   h o c   a n a l y s i s   r e p o r t e d   h e r e   ,   w e   f u r t h e r   a n a l y z e d   t h e   @   p a t i e n t s   w i t h   s h o c k   a t   a d m i s s i o n   ;   a l l   h a d   b e e n   r a n d o m i z e d   t o   r e c e i v e   i n t e r v e n t i o n   a t   @   c   (   t t m @   ;   n   =   @   )   o r   @   c   (   t t m @   ;   n   =   @   )   .',\n",
              " 'p r i m a r y   o u t c o m e   w a s   @ - d a y   m o r t a l i t y   .',\n",
              " 's e c o n d a r y   o u t c o m e s   w e r e   i n t e n s i v e   c a r e   u n i t   (   i c u   )   a n d   @ - d a y   m o r t a l i t y   ,   s e v e r i t y   o f   c i r c u l a t o r y   s h o c k   a s s e s s e d   b y   m e a n   a r t e r i a l   p r e s s u r e   ,   s e r u m   l a c t a t e   ,   f l u i d   b a l a n c e   a n d   t h e   e x t e n d e d   s e q u e n t i a l   o r g a n   f a i l u r e   a s s e s s m e n t   (   s o f a   )   s c o r e   .',\n",
              " 't h e r e   w a s   n o   s i g n i f i c a n c e   d i f f e r e n c e   b e t w e e n   t a r g e t e d   t e m p e r a t u r e   m a n a g e m e n t   a t   @   c   o r   @   c   o n   @ - d a y   m o r t a l i t y   - l s b -   l o g - r a n k   t e s t   ,   p   =   @   ,   h a z a r d   r a t i o   @   ,   @   %   c o n f i d e n c e   i n t e r v a l   (   c i   )   @ - @   @   - r s b -   o r   i c u   m o r t a l i t y   (   @   v s .   @   %   ,   p   =   @   ;   r e l a t i v e   r i s k   @   ,   @   %   c i   @ - @   @   )   .',\n",
              " 's e r u m   l a c t a t e   a n d   t h e   e x t e n d e d   c a r d i o v a s c u l a r   s o f a   s c o r e   w e r e   h i g h e r   i n   t h e   t t m @   g r o u p   (   p   <   @   )   .',\n",
              " 'w e   f o u n d   n o   b e n e f i t   i n   s u r v i v a l   o r   s e v e r i t y   o f   c i r c u l a t o r y   s h o c k   w i t h   t a r g e t e d   t e m p e r a t u r e   m a n a g e m e n t   a t   @   c   a s   c o m p a r e d   t o   @   c   i n   p a t i e n t s   w i t h   s h o c k   o n   a d m i s s i o n   a f t e r   o h c a   .',\n",
              " 'y o u t h s   w i t h   a   f a m i l y   h i s t o r y   o f   a l c o h o l   a n d   o t h e r   d r u g   u s e   d i s o r d e r s   (   f h   +   )   a r e   a t   a   g r e a t e r   r i s k   o f   d e v e l o p i n g   s u b s t a n c e   u s e   d i s o r d e r s   t h a n   t h e i r   p e e r s   w i t h   n o   s u c h   f a m i l y   h i s t o r i e s   (   f h   -   )   ,   a n d   t h i s   i n c r e a s e d   r i s k   m a y   b e   r e l a t e d   t o   i m p a i r e d   m a t u r a t i o n   o f   f o r e b r a i n   c i r c u i t r y   .',\n",
              " 'f h   +   i n d i v i d u a l s   h a v e   s h o w n   a l t e r e d   f o r e b r a i n   a c t i v i t y   a t   r e s t   a n d   w h i l e   p e r f o r m i n g   c o g n i t i v e   t a s k s   .',\n",
              " 'h o w e v e r   ,   i t   i s   n o t   f u l l y   u n d e r s t o o d   h o w   f o r e b r a i n   a c t i v i t y   i s   a l t e r e d   i n   f h   +   i n d i v i d u a l s   ,   a n d   u l t i m a t e l y   h o w   t h e s e   a l t e r a t i o n s   m a y   c o n t r i b u t e   t o   s u b s t a n c e   u s e   d i s o r d e r   r i s k   .',\n",
              " 'i n   t h i s   s t u d y   ,   w e   t e s t e d   @   f h   +   a n d   @   f h   -   y o u t h s   p e r f o r m i n g   a   g o / n o - g o   t a s k   a n d   e x a m i n e d   a c t i v a t i o n s   i n   b l o c k s   w i t h   o n l y   g o   t r i a l s   (   g o   o n l y   )   ,   b l o c k s   w i t h   @   %   g o   a n d   @   %   n o - g o   t r i a l s   (   g o / n o g o   )   ,   a n d   a   c o n t r a s t   o f   t h o s e   @   b l o c k s   .',\n",
              " 'f h   +   y o u t h s   h a d   s i g n i f i c a n t l y   g r e a t e r   c e r e b r a l   a c t i v a t i o n s   i n   b o t h   t h e   g o   a n d   g o / n o g o   b l o c k s   t h a n   f h   -   y o u t h s   i n   r e g i o n s   i n c l u d i n g   t h e   p o s t e r i o r   c i n g u l a t e / p r e c u n e u s   ,   b i l a t e r a l   m i d d l e / s u p e r i o r   t e m p o r a l   g y r u s   ,   a n d   m e d i a l   s u p e r i o r   f r o n t a l   g y r u s   w i t h   n o   s i g n i f i c a n t   g r o u p   d i f f e r e n c e s   i n   t h e   s u b t r a c t i o n   b e t w e e n   g o   o n l y   a n d   g o / n o g o   b l o c k s   .',\n",
              " 'a d d i t i o n a l l y   ,   f h   +   y o u t h s   h a d   m o d e r a t e l y   s l o w e r   r e a c t i o n   t i m e s   o n   g o   t r i a l s   i n   t h e   g o   o n l y   b l o c k s   .',\n",
              " 'o u r   f i n d i n g s   s u g g e s t   t h a t   g l o b a l   a c t i v a t i o n   i n c r e a s e   i n   f h   +   y o u t h s   a r e   m o d u l a t e d   b y   f h   d e n s i t y   a n d   a r e   n o t   s p e c i f i c   t o   t h e   i n h i b i t o r y   c o m p o n e n t s   o f   t h e   t a s k   .',\n",
              " 't h i s   p a t t e r n   o f   i n c r e a s e d   a c t i v a t i o n s   i n   f h   +   y o u t h s   m a y   b e   a t   l e a s t   p a r t i a l l y   d u e   t o   i m p a i r e d   f o r e b r a i n   w h i t e   m a t t e r   d e v e l o p m e n t   l e a d i n g   t o   g r e a t e r   a c t i v a t i o n s / l e s s   e f f i c i e n t   n e u r a l   c o m m u n i c a t i o n   d u r i n g   t a s k   p e r f o r m a n c e   .',\n",
              " 'r i s k   f a c t o r s   h a v e   b e e n   p r o p o s e d   f o r   r u n n i n g   i n j u r i e s   i n c l u d i n g   (   a   )   r e d u c e d   m u s c u l a r   s t r e n g t h   ,   (   b   )   e x c e s s i v e   j o i n t   m o v e m e n t s   a n d   (   c   )   e x c e s s i v e   j o i n t   m o m e n t s   i n   t h e   f r o n t a l   a n d   t r a n s v e r s e   p l a n e s   .',\n",
              " \"t o   d a t e   ,   m a n y   r u n n i n g   i n j u r y   p r e v e n t i o n   p r o g r a m s   h a v e   f o c u s e d   o n   a   ` `   t o p   d o w n   ' '   a p p r o a c h   t o   s t r e n g t h e n   t h e   h i p   m u s c u l a t u r e   i n   t h e   a t t e m p t   t o   r e d u c e   m o v e m e n t s   a n d   m o m e n t s   a t   t h e   h i p   ,   k n e e   ,   a n d / o r   a n k l e   j o i n t s   .\",\n",
              " 'h o w e v e r   ,   r u n n i n g   m e c h a n i c s   d i d   n o t   c h a n g e   w h e n   h i p   m u s c l e   s t r e n g t h   i n c r e a s e d   .',\n",
              " \"i t   c o u l d   b e   s p e c u l a t e d   t h a t   e m p h a s i s   s h o u l d   b e   p l a c e d   o n   i n c r e a s i n g   t h e   s t r e n g t h   o f   t h e   a n k l e   j o i n t   f o r   a   ` `   g r o u n d   u p   ' '   a p p r o a c h   .\",\n",
              " 's t r e n g t h e n i n g   o f   t h e   l a r g e   a n d   s m a l l   m u s c l e s   c r o s s i n g   t h e   a n k l e   j o i n t   i s   a s s u m e d   t o   c h a n g e   t h e   f o r c e   d i s t r i b u t i o n   f o r   t h e s e   m u s c l e s   a n d   t o   i n c r e a s e   t h e   u s e   o f   s m a l l e r   m u s c l e s   .',\n",
              " 't h i s   w o u l d   b e   a s s o c i a t e d   w i t h   a   r e d u c t i o n   o f   j o i n t   a n d   i n s e r t i o n   f o r c e s   ,   w h i c h   c o u l d   h a v e   a   b e n e f i c i a l   e f f e c t   o n   i n j u r y   p r e v e n t i o n   .',\n",
              " 'h o w e v e r   ,   t r a i n i n g   o f   t h e   a n k l e   j o i n t   a s   a n   i n j u r y   p r e v e n t i o n   s t r a t e g y   h a s   n o t   b e e n   s t u d i e d   .',\n",
              " 'a n k l e   s t r e n g t h e n i n g   t e c h n i q u e s   i n c l u d e   i s o l a t e d   s t r e n g t h e n i n g   o r   m o v e m e n t - r e l a t e d   s t r e n g t h e n i n g   s u c h   a s   f u n c t i o n a l   b a l a n c e   t r a i n i n g   .',\n",
              " 't h e r e   i s   l i t t l e   k n o w l e d g e   a b o u t   t h e   e f f i c a c y   o f   s u c h   t r a i n i n g   p r o g r a m s   o n   s t r e n g t h   a l t e r a t i o n   ,   g a i t   o r   i n j u r y   r e d u c t i o n   .',\n",
              " 'n o v i c e   r u n n e r s   w i l l   b e   r a n d o m l y   a s s i g n e d   t o   o n e   o f   t h r e e   g r o u p s   :   a n   i s o l a t e d   a n k l e   s t r e n g t h e n i n g   g r o u p   (   s t r e n g t h   ,   n   =   @   )   ,   a   f u n c t i o n a l   b a l a n c e   t r a i n i n g   g r o u p   (   b a l a n c e   ,   n   =   @   )   o r   a n   a c t i v i t y - m a t c h e d   c o n t r o l   g r o u p   (   c o n t r o l   ,   n   =   @   )   .',\n",
              " 'i s o k i n e t i c   s t r e n g t h   w i l l   b e   m e a s u r e d   u s i n g   a   b i o d e x   s y s t e m   @   d y n a m o m e t e r   .',\n",
              " 'r u n n i n g   k i n e m a t i c s   a n d   k i n e t i c s   w i l l   b e   a s s e s s e d   u s i n g   @ d   m o t i o n   a n a l y s i s   a n d   a   f o r c e   p l a t f o r m   .',\n",
              " 'p o s t u r a l   c o n t r o l   w i l l   b e   a s s e s s e d   b y   q u a n t i f y i n g   t h e   m a g n i t u d e   a n d   t e m p o r a l   s t r u c t u r e   o f   t h e   c e n t e r   o f   p r e s s u r e   t r a c e   d u r i n g   s i n g l e   l e g   s t a n c e   o n   a   f o r c e   p l a t f o r m   .',\n",
              " 't h e   c h a n g e   p r e   -   a n d   p o s t - t r a i n i n g   i n   i s o k i n e t i c   s t r e n g t h   ,   r u n n i n g   m e c h a n i c s   ,   a n d   p o s t u r a l   c o n t r o l   v a r i a b l e s   w i l l   b e   c o m p a r e d   f o l l o w i n g   t h e   i n t e r v e n t i o n s   .',\n",
              " 'i n j u r i e s   r a t e s   w i l l   b e   c o m p a r e d   b e t w e e n   g r o u p s   o v e r   @ m o n t h s   .',\n",
              " 'a v o i d i n g   i n j u r y   w i l l   a l l o w   i n d i v i d u a l s   t o   e n j o y   t h e   b e n e f i t s   o f   p a r t i c i p a t i n g   i n   a e r o b i c   a c t i v i t i e s   a n d   r e d u c e   t h e   h e a l t h c a r e   c o s t s   a s s o c i a t e d   w i t h   r u n n i n g   i n j u r i e s   .',\n",
              " 'c u r r e n t   c o n t r o l l e d   t r i a l   n c t @   .',\n",
              " 'v i t a m i n   b @   d e f i c i e n c y   c a u s e s   n e u r o l o g i c   a n d   p s y c h i a t r i c   d i s e a s e   ,   e s p e c i a l l y   i n   o l d e r   a d u l t s   .',\n",
              " 's u b a c u t e   c o m b i n e d   d e g e n e r a t i o n   i s   c h a r a c t e r i z e d   b y   d a m a g e   t o   t h e   p o s t e r i o r   a n d   l a t e r a l   s p i n a l   c o r d   a f f e c t i n g   t h e   c o r t i c o s p i n a l   t r a c t   .',\n",
              " 't o   t e s t   c o r t i c o s p i n a l   t r a c t   p r o j e c t i o n s   u s i n g   m o t o r   e v o k e d   p o t e n t i a l s   (   m e p s   )   b y   t r a n s c r a n i a l   m a g n e t i c   s t i m u l a t i o n   (   t m s   )   i n   a s y m p t o m a t i c   o l d e r   a d u l t s   w i t h   l o w   v i t a m i n   b @   (   b @   )   l e v e l s   .',\n",
              " 'c r o s s - s e c t i o n a l   s t u d y   o f   @   h e a l t h y   o l d e r   a d u l t s   (   >   @   y e a r s   )   .',\n",
              " 'm e p s   w e r e   r e c o r d e d   i n   t h e   a b d u c t o r   p o l l i c i s   b r e v i s   a n d   t i b i a l i s   a n t e r i o r   m u s c l e s   ,   a t   r e s t   a n d   d u r i n g   s l i g h t   t o n i c   c o n t r a c t i o n   .',\n",
              " 'c e n t r a l   m o t o r   c o n d u c t i o n   t i m e   (   c m c t   )   w a s   d e r i v e d   f r o m   t h e   l a t e n c y   o f   m e p s   a n d   p e r i p h e r a l   m o t o r   c o n d u c t i o n   t i m e   (   p m c t   )   .',\n",
              " 'n e u r o p h y s i o l o g i c a l   v a r i a b l e s   w e r e   a n a l y z e d   s t a t i s t i c a l l y   a c c o r d i n g   t o   b @   s t a t u s   .',\n",
              " 'm e d i a n   a g e   w a s   @   y e a r s   (   @   %   w o m e n   )   .',\n",
              " 't w e n t y - s i x   o u t   o f   t h e   @   s u b j e c t s   h a d   l o w   v i t a m i n   b @   l e v e l s   (   b @   <   @ p m o l / l   )   .',\n",
              " 'm e p s   w e r e   r e c o r d e d   f o r   a l l   s u b j e c t s   i n   u p p e r   a n d   l o w e r   e x t r e m i t i e s   .',\n",
              " 't h e r e   w e r e   n o   s i g n i f i c a n t   d i f f e r e n c e s   i n   e i t h e r   l a t e n c y   o r   a m p l i t u d e   o f   m e p s   a n d   c m c t   b e t w e e n   l o w   a n d   n o r m a l   b @   g r o u p s   .',\n",
              " 't h e r e   w a s   a   s i g n i f i c a n t   p m c t   d e l a y   i n   t h e   l o w e r   e x t r e m i t i e s   i n   t h e   l o w   b @   g r o u p   (   p   =   @   )   .',\n",
              " 'n o   s u b c l i n i c a l   a b n o r m a l i t y   o f   t h e   c o r t i c o s p i n a l   t r a c t   i s   d e t e c t e d   i n   a s y m p t o m a t i c   b @ - d e f i c i e n t   o l d e r   a d u l t s   .',\n",
              " 't h e   p e r i p h e r a l   n e r v o u s   s y s t e m   a p p e a r s   t o   b e   m o r e   v u l n e r a b l e   t o   d a m a g e   a t t r i b u t a b l e   t o   t h i s   v i t a m i n   d e f i c i t   .',\n",
              " 't h e   n e u r o p h y s i o l o g i c a l   e v a l u a t i o n   o f   a s y m p t o m a t i c   o l d e r   a d u l t s   w i t h   l o w e r   b @   l e v e l s   s h o u l d   b e   f o c u s e d   m a i n l y   i n   p e r i p h e r a l   n e r v o u s   s y s t e m   e v a l u a t i o n   .',\n",
              " 'u n c o n t r o l l e d   h y p e r t e n s i o n   (   h t n   )   i s   a   s i g n i f i c a n t   p u b l i c   h e a l t h   p r o b l e m   a m o n g   b l a c k s   i n   t h e   u n i t e d   s t a t e s   .',\n",
              " 'd e s p i t e   t h e   p r o v e n   e f f i c a c y   o f   t h e r a p e u t i c   l i f e s t y l e   c h a n g e   (   t l c   )   o n   b l o o d   p r e s s u r e   (   b p   )   r e d u c t i o n   i n   c l i n i c a l   t r i a l s   ,   f e w   s t u d i e s   h a v e   e x a m i n e d   t h e i r   e f f e c t i v e n e s s   i n   c h u r c h - b a s e d   s e t t i n g s - a n   i n f l u e n t i a l   i n s t i t u t i o n   f o r   h e a l t h   p r o m o t i o n   i n   b l a c k   c o m m u n i t i e s   .',\n",
              " 'u s i n g   a   c l u s t e r - r a n d o m i z e d   ,   @ - a r m   t r i a l   d e s i g n   ,   t h i s   s t u d y   e v a l u a t e s   t h e   e f f e c t i v e n e s s   o f   a   f a i t h - b a s e d   t l c   i n t e r v e n t i o n   v s   h e a l t h   e d u c a t i o n   (   h e   )   c o n t r o l   o n   b p   r e d u c t i o n   a m o n g   h y p e r t e n s i v e   b l a c k   a d u l t s   .',\n",
              " 't h e   i n t e r v e n t i o n   i s   d e l i v e r e d   b y   t r a i n e d   l a y   h e a l t h   a d v i s o r s   t h r o u g h   g r o u p   t l c   s e s s i o n s   p l u s   m o t i v a t i o n a l   i n t e r v i e w i n g   i n   @   b l a c k   c h u r c h e s   .',\n",
              " 'p a r t i c i p a n t s   i n   t h e   i n t e r v e n t i o n   g r o u p   r e c e i v e   @   w e e k l y   t l c   s e s s i o n s   t a r g e t i n g   w e i g h t   l o s s   ,   i n c r e a s i n g   p h y s i c a l   a c t i v i t y   ,   f r u i t   ,   v e g e t a b l e   a n d   l o w - f a t   d a i r y   i n t a k e   ,   a n d   d e c r e a s i n g   f a t   a n d   s o d i u m   i n t a k e   ,   p l u s   @   m o n t h l y   i n d i v i d u a l   m o t i v a t i o n a l   i n t e r v i e w i n g   s e s s i o n s   .',\n",
              " 'p a r t i c i p a n t s   i n   t h e   c o n t r o l   g r o u p   a t t e n d   @   w e e k l y   c l a s s e s   o n   h t n   a n d   o t h e r   h e a l t h   t o p i c s   d e l i v e r e d   b y   h e a l t h   c a r e   e x p e r t s   .',\n",
              " 't h e   p r i m a r y   o u t c o m e   i s   c h a n g e   i n   b p   f r o m   b a s e l i n e   t o   @   m o n t h s   .',\n",
              " 's e c o n d a r y   o u t c o m e s   i n c l u d e   l e v e l   o f   p h y s i c a l   a c t i v i t y   ,   p e r c e n t   c h a n g e   i n   w e i g h t   ,   a n d   f r u i t   a n d   v e g e t a b l e   c o n s u m p t i o n   a t   @   m o n t h s   ,   a n d   b p   c o n t r o l   a t   @   m o n t h s   .',\n",
              " 'i f   s u c c e s s f u l   ,   t h i s   t r i a l   w i l l   p r o v i d e   a n   a l t e r n a t i v e   a n d   c u l t u r a l l y   a p p r o p r i a t e   m o d e l   f o r   h t n   c o n t r o l   t h r o u g h   e v i d e n c e - b a s e d   l i f e s t y l e   m o d i f i c a t i o n   d e l i v e r e d   i n   c h u r c h e s   b y   l a y   h e a l t h   a d v i s o r s   .',\n",
              " 't h e   c l a s s i f i c a t i o n   o f   c l i n i c a l   s e v e r i t y   o f   e b s t e i n   a n o m a l y   s t i l l   r e m a i n s   a   c h a l l e n g e   .',\n",
              " 't h e   a i m   o f   t h i s   s t u d y   w a s   t o   f o c u s   o n   t h e   i n t e r a c t i o n   o f   t h e   p a t h o l o g i c a l l y   a l t e r e d   r i g h t   h e a r t   w i t h   t h e   a n a t o m i c a l l y - s u p p o s e d l y - n o r m a l   l e f t   h e a r t   a n d   t o   d e r i v e   f r o m   c a r d i a c   m a g n e t i c   r e s o n a n c e   (   c m r   )   a   s i m p l e   i m a g i n g   m e a s u r e   f o r   t h e   c l i n i c a l   s e v e r i t y   o f   e b s t e i n   a n o m a l y   .',\n",
              " 't w e n t y - f i v e   p a t i e n t s   a t   a   m e a n   a g e   o f   @   y e a r s   w i t h   u n r e p a i r e d   e b s t e i n   a n o m a l y   w e r e   e x a m i n e d   i n   a   p r o s p e c t i v e   s t u d y   .',\n",
              " 'd i s e a s e   s e v e r i t y   w a s   c l a s s i f i e d   u s i n g   c m r   v o l u m e s   a n d   f u n c t i o n a l   m e a s u r e m e n t s   i n   c o m p a r i s o n   w i t h   h e a r t   f a i l u r e   m a r k e r s   f r o m   c l i n i c a l   d a t a   ,   e c g   ,   l a b o r a t o r y   a n d   c a r d i o p u l m o n a r y   e x e r c i s e   t e s t i n g   ,   a n d   e c h o c a r d i o g r a p h y   .',\n",
              " 'a l l   e x a m i n a t i o n s   w e r e   c o m p l e t e d   w i t h i n   @   h o u r s   .',\n",
              " 'a   t o t a l   r i g h t / l e f t - v o l u m e   i n d e x   w a s   d e f i n e d   f r o m   e n d - d i a s t o l i c   v o l u m e   m e a s u r e m e n t s   i n   c m r   :   t o t a l   r i g h t / l e f t - v o l u m e   i n d e x   =   (   r a   +   a r v   +   f r v   )   /   (   l a + l v   )   .',\n",
              " 'm e a n   t o t a l   r i g h t / l e f t - v o l u m e   i n d e x   w a s   @   (   n o r m a l   v a l u e s   :   @   )   .',\n",
              " 't h i s   n e w   t o t a l   r i g h t / l e f t - v o l u m e   i n d e x   c o r r e l a t e d   w i t h   a l m o s t   a l l   c l i n i c a l l y   u s e d   b i o m a r k e r s   o f   h e a r t   f a i l u r e   :   b r a i n   n a t r i u r e t i c   p e p t i d e   (   r   =   @   ;   p   =   @   )   ,   q r s   (   r   =   @   ;   p   =   @   )   ,   p e a k   o x y g e n   c o n s u m p t i o n / k g   (   r   =   - @   ;   p   =   @   )   ,   v e n t i l a t o r y   r e s p o n s e   t o   c a r b o n   d i o x i d e   p r o d u c t i o n   a t   a n a e r o b i c   t h r e s h o l d   (   r   =   @   ;   p   =   @   )   ,   t h e   s e v e r i t y   o f   t r i c u s p i d   r e g u r g i t a t i o n   (   r   =   @   ;   p   =   @   )   ,   t r i c u s p i d   v a l v e   o f f s e t   (   r   =   @   ;   p   =   @   )   ,   a n d   t r i c u s p i d   a n n u l a r   p l a n e   s y s t o l i c   e x c u r s i o n   (   r   =   @   ;   p   =   @   )   .',\n",
              " 'p r e v i o u s l y   d e s c r i b e d   s e v e r i t y   i n d i c e s   (   - l s b -   r a   +   a r v   - r s b -   /   - l s b -   f r v   +   l a + l v   - r s b -   )   a n d   f r v / l v   e n d - d i a s t o l i c   v o l u m e   c o r r e s p o n d e d   o n l y   t o   s o m e   p a r a m e t e r s   .',\n",
              " 'i n   p a t i e n t s   w i t h   e b s t e i n   a n o m a l y   ,   t h e   e a s i l y   a c q u i r e d   i n d e x   o f   r i g h t - s i d e d   t o   l e f t - s i d e d   h e a r t   v o l u m e s   f r o m   c m r   c o r r e l a t e d   w e l l   w i t h   e s t a b l i s h e d   h e a r t   f a i l u r e   m a r k e r s   .',\n",
              " 'o u r   d a t a   s u g g e s t   t h a t   t h e   t o t a l   r i g h t / l e f t - v o l u m e   i n d e x   s h o u l d   b e   u s e d   a s   a   n e w   a n d   s i m p l i f i e d   c m r   m e a s u r e   ,   a l l o w i n g   m o r e   a c c u r a t e   a s s e s s m e n t   o f   d i s e a s e   s e v e r i t y   t h a n   p r e v i o u s l y   d e s c r i b e d   s c o r i n g   s y s t e m s   .',\n",
              " 't h i s   s t u d y   s o u g h t   t o   i n v e s t i g a t e   t h e   a s s o c i a t i o n   o f   b e t a - b l o c k e r   t h e r a p y   a t   d i s c h a r g e   w i t h   c l i n i c a l   o u t c o m e s   i n   p a t i e n t s   w i t h   s t - s e g m e n t   e l e v a t i o n   m y o c a r d i a l   i n f a r c t i o n   (   s t e m i   )   a f t e r   p r i m a r y   p e r c u t a n e o u s   c o r o n a r y   i n t e r v e n t i o n   (   p c i   )   .',\n",
              " 'l i m i t e d   d a t a   a r e   a v a i l a b l e   o n   t h e   e f f i c a c y   o f   b e t a - b l o c k e r   t h e r a p y   f o r   s e c o n d a r y   p r e v e n t i o n   i n   s t e m i   p a t i e n t s   .',\n",
              " 'b e t w e e n   n o v e m b e r   @   ,   @   a n d   s e p t e m b e r   @   ,   @   ,   @ , @   p a t i e n t s   w e r e   e n r o l l e d   i n   n a t i o n w i d e   ,   p r o s p e c t i v e   ,   m u l t i c e n t e r   r e g i s t r i e s   .',\n",
              " 'a m o n g   t h e s e   ,   w e   s t u d i e d   s t e m i   p a t i e n t s   u n d e r g o i n g   p r i m a r y   p c i   w h o   w e r e   d i s c h a r g e d   a l i v e   (   n   =   @ , @   )   .',\n",
              " 'w e   c l a s s i f i e d   p a t i e n t s   i n t o   t h e   b e t a - b l o c k e r   g r o u p   (   n   =   @ , @   )   a n d   n o - b e t a - b l o c k e r   g r o u p   (   n   =   @ , @   )   a c c o r d i n g   t o   t h e   u s e   o f   b e t a - b l o c k e r s   a t   d i s c h a r g e   .',\n",
              " 'p r o p e n s i t y - s c o r e   m a t c h i n g   a n a l y s i s   w a s   a l s o   p e r f o r m e d   i n   @ , @   p a t i e n t   t r i p l e t s   .',\n",
              " 't h e   p r i m a r y   o u t c o m e   w a s   a l l - c a u s e   d e a t h   .',\n",
              " 't h e   m e d i a n   f o l l o w - u p   d u r a t i o n   w a s   @   d a y s   (   i n t e r q u a r t i l e   r a n g e   :   @   t o   @   d a y s   )   .',\n",
              " 'a l l - c a u s e   d e a t h   o c c u r r e d   i n   @   p a t i e n t s   (   @   %   )   o f   t h e   b e t a - b l o c k e r   g r o u p   v e r s u s   @   p a t i e n t s   (   @   %   )   o f   t h e   n o - b e t a - b l o c k e r   g r o u p   (   p   <   @   )   .',\n",
              " 'a f t e r   @ : @   p r o p e n s i t y - s c o r e   m a t c h i n g   ,   b e t a - b l o c k e r   t h e r a p y   w a s   a s s o c i a t e d   w i t h   a   l o w e r   i n c i d e n c e   o f   a l l - c a u s e   d e a t h   (   @   %   v s .   @   %   ,   a d j u s t e d   h a z a r d   r a t i o   :   @   ,   @   %   c o n f i d e n c e   i n t e r v a l   :   @   t o   @   ,   p   =   @   )   .',\n",
              " 't h e   a s s o c i a t i o n   w i t h   b e t t e r   o u t c o m e   o f   b e t a - b l o c k e r   t h e r a p y   i n   t e r m s   o f   a l l - c a u s e   d e a t h   w a s   c o n s i s t e n t   a c r o s s   v a r i o u s   s u b g r o u p s   ,   i n c l u d i n g   p a t i e n t s   w i t h   r e l a t i v e l y   l o w - r i s k   p r o f i l e s   s u c h   a s   e j e c t i o n   f r a c t i o n   >   @   %   o r   s i n g l e - v e s s e l   d i s e a s e   .',\n",
              " 'b e t a - b l o c k e r   t h e r a p y   a t   d i s c h a r g e   w a s   a s s o c i a t e d   w i t h   i m p r o v e d   s u r v i v a l   i n   s t e m i   p a t i e n t s   t r e a t e d   w i t h   p r i m a r y   p c i   .',\n",
              " 'o u r   r e s u l t s   s u p p o r t   t h e   c u r r e n t   a m e r i c a n   c o l l e g e   o f   c a r d i o l o g y / a m e r i c a n   h e a r t   a s s o c i a t i o n   g u i d e l i n e s   ,   w h i c h   r e c o m m e n d   l o n g - t e r m   b e t a - b l o c k e r   t h e r a p y   i n   a l l   p a t i e n t s   w i t h   s t e m i   r e g a r d l e s s   o f   r e p e r f u s i o n   t h e r a p y   o r   r i s k   p r o f i l e   .',\n",
              " 'l o c a l   a n e s t h e t i c   w o u n d   i n f i l t r a t i o n   i s   w i d e l y   u s e d   a s   a n   e f f e c t i v e   a d j u n c t   d u r i n g   m u l t i m o d a l   p o s t o p e r a t i v e   p a i n   m a n a g e m e n t   .',\n",
              " 't h e   a i m   o f   t h i s   s t u d y   w a s   t o   e v a l u a t e   t h e   e f f e c t i v e n e s s   o f   c o n t i n u o u s   w o u n d   i n f u s i o n   o f   r o p i v a c a i n e   i n   p o s t o p e r a t i v e   p a i n   r e l i e f   ,   o p i o i d   s p a r i n g   ,   i n c i d e n c e   o f   n a u s e a   a n d   v o m i t i n g   ,   a n d   b o w e l   a n d   l i v e r   f u n c t i o n   i m p r o v e m e n t   i n   p a t i e n t s   u n d e r g o i n g   o p e n   h e p a t e c t o m y   .',\n",
              " 'f o r t y   p a t i e n t s   u n d e r g o i n g   o p e n   h e p a t e c t o m y   w e r e   e n r o l l e d   i n   t h i s   p r o s p e c t i v e   ,   r a n d o m i z e d   ,   d o u b l e - b l i n d e d   ,   p l a c e b o - c o n t r o l l e d   t r i a l   .',\n",
              " 'p a t i e n t s   w e r e   d i v i d e d   i n t o   @   g r o u p s   :   t h e   @   %   s a l i n e   c o n t i n u o u s   i n f u s i o n   g r o u p   (   t h e   c o n t r o l   g r o u p   ;   n   =   @   )   a n d   t h e   r o p i v a c a i n e   c o n t i n u o u s   i n f u s i o n   g r o u p   (   t h e   r o p i   g r o u p   ;   n   =   @   )   .',\n",
              " 'o u t c o m e s   m e a s u r e d   p o s t o p e r a t i v e l y   w e r e   p a i n   s c o r e   a t   r e s t   a n d   o n   m o v e m e n t   ,   s u f e n t a n i l   c o n s u m p t i o n   ,   i n c i d e n c e   o f   n a u s e a   a n d   v o m i t i n g   ,   a n d   s e d a t i o n   s c o r e   a c r o s s   @   p o s t o p e r a t i v e   h o u r s   .',\n",
              " 't i m e   t o   b o w e l   r e c o v e r y   ,   l i v e r   f u n c t i o n   c h a n g e   ,   m e a n   l e n g t h   o f   h o s p i t a l i z a t i o n   ,   p a t i e n t   s a t i s f a c t i o n   ,   a n d   o t h e r   d a t a   a f t e r   @   p o s t o p e r a t i v e   h o u r s   w e r e   c o l l e c t e d   u n t i l   h o s p i t a l   d i s c h a r g e   .',\n",
              " 'p a i n   s c o r e s   a t   r e s t   w e r e   l o w e r   f o r   t h e   r o p i v a c a i n e   g r o u p   a n d   r e a c h e d   s i g n i f i c a n c e   a f t e r   @   a n d   @   h o u r s   (   p   <   @   )   .',\n",
              " 's u f e n t a n i l   c o n s u m p t i o n   (   @   v s .   @   g   ;   p   <   @   )   a f t e r   @   h o u r s   ,   t i m e   t o   b o w e l   r e c o v e r y   (   @   v s .   @   d   ;   p   <   @   )   ,   i n c i d e n c e   o f   n a u s e a   a n d   v o m i t i n g   (   @   v s .   @   ;   p   <   @   )   ,   a n d   m e a n   l e n g t h   o f   h o s p i t a l i z a t i o n   (   @   v s .   @   d   ;   p   <   @   )   w e r e   s i g n i f i c a n t l y   r e d u c e d   ,   a n d   t h e   s e d a t i o n   s c o r e   a n d   l i v e r   f u n c t i o n   c h a n g e   w e r e   a l s o   c o m p a r a b l e   b e t w e e n   t h e   @   g r o u p s   .',\n",
              " 't h e r e   w a s   n o   d i f f e r e n c e   w i t h   r e s p e c t   t o   p a i n   s c o r e s   o n   m o v e m e n t   ,   n o r   w i t h   r e s p e c t   t o   p a t i e n t   s a t i s f a c t i o n   .',\n",
              " 's u r g i c a l   w o u n d   i n f u s i o n   w i t h   r o p i v a c a i n e   a f t e r   h e p a t e c t o m y   c a n   i m p r o v e   p a i n   r e l i e f   a t   r e s t   a n d   a c c e l e r a t e   r e c o v e r y   a n d   d i s c h a r g e   .',\n",
              " 't u b e r c u l o s i s   (   t b   )   i s   h i g h l y   p r e v a l e n t   a m o n g   h i v - i n f e c t e d   p e o p l e   ,   i n c l u d i n g   t h o s e   r e c e i v i n g   c o m b i n a t i o n   a n t i r e t r o v i r a l   t h e r a p y   (   c a r t   )   ,   n e c e s s i t a t i n g   a   w e l l   t o l e r a t e d   a n d   e f f i c a c i o u s   t b   v a c c i n e   f o r   t h e s e   p o p u l a t i o n s   .',\n",
              " 'w e   e v a l u a t e d   t h e   s a f e t y   a n d   i m m u n o g e n i c i t y   o f   t h e   c a n d i d a t e   t b   v a c c i n e   m @ / a s @   i n   a d u l t s   w i t h   w e l l   c o n t r o l l e d   h i v   i n f e c t i o n   o n   c a r t   .',\n",
              " 'a   r a n d o m i z e d   ,   o b s e r v e r - b l i n d   ,   c o n t r o l l e d   t r i a l   (   n c t @   )   .',\n",
              " 'h i v - i n f e c t e d   a d u l t s   o n   c a r t   i n   s w i t z e r l a n d   w e r e   r a n d o m i z e d   @ : @ : @   t o   r e c e i v e   t w o   d o s e s   ,   @   m o n t h   a p a r t   ,   o f   m @ / a s @   ,   a s @   o r   @   %   p h y s i o l o g i c a l   s a l i n e   (   n   =   @   ,   n   =   @   a n d   n   =   @   ,   r e s p e c t i v e l y   )   a n d   w e r e   f o l l o w e d   u p   t o   @   m o n t h s   p o s t d o s e   @   (   d @   )   .',\n",
              " 'i n d i v i d u a l s   w i t h   c d @   c e l l   c o u n t s   b e l o w   @   c e l l s / l   w e r e   e x c l u d e d   .',\n",
              " 'a d v e r s e   e v e n t s   (   a e s   )   i n c l u d i n g   h i v - s p e c i f i c   a n d   l a b o r a t o r y   s a f e t y   p a r a m e t e r s   w e r e   r e c o r d e d   .',\n",
              " 'c e l l - m e d i a t e d   (   i c s   )   a n d   h u m o r a l   (   e l i s a   )   r e s p o n s e s   w e r e   e v a l u a t e d   b e f o r e   v a c c i n a t i o n   ,   @   m o n t h   a f t e r   e a c h   d o s e   (   d @   ,   d @   )   a n d   d @   .',\n",
              " 't h i r t y - s e v e n   i n d i v i d u a l s   - l s b -   i n t e r q u a r t i l e   r a n g e   (   i q r   )   c d @   c e l l   c o u n t s   a t   s c r e e n i n g   :   @ - @   c e l l s / l   ;   u n d e t e c t a b l e   h i v - @   v i r e m i a   - r s b -   w e r e   e n r o l l e d   ;   @   %   o f   i n d i v i d u a l s   r e p o r t e d   p r e v i o u s   b c g   v a c c i n a t i o n   ,   @   %   t e s t e d   n e g a t i v e   f o r   t h e   q u a n t i f e r o n - t b   a s s a y   .',\n",
              " 'f o r   m @ / a s @   r e c i p i e n t s   ,   n o   v a c c i n e - r e l a t e d   s e r i o u s   a e s   o r   c a r t - r e g i m e n   a d j u s t m e n t s   w e r e   r e c o r d e d   ,   a n d   t h e r e   w e r e   n o   c l i n i c a l l y   r e l e v a n t   e f f e c t s   o n   l a b o r a t o r y   s a f e t y   p a r a m e t e r s   ,   h i v - @   v i r a l   l o a d s   o r   c d @   c e l l   c o u n t s   .',\n",
              " 'm @ / a s @   w a s   i m m u n o g e n i c   ,   i n d u c i n g   p e r s i s t e n t   a n d   p o l y f u n c t i o n a l   m @ - s p e c i f i c   c d @   t - c e l l   r e s p o n s e s   - l s b -   m e d i a n s   @   %   (   i q r   @ - @   @   )   a t   d @   - r s b -   a n d   @   %   (   @ - @   @   )   a t   d @   ,   p r e d o m i n a n t l y   c d @ l i l - @ t n f   -   ,   c d @ l i l - @   a n d   c d @ l i l - @ t n f - i f n   -   - r s b -   .',\n",
              " 'a l l   m @ / a s @   v a c c i n e s   w e r e   s e r o p o s i t i v e   f o r   a n t i - m @   i g g   a f t e r   s e c o n d   v a c c i n a t i o n   u n t i l   s t u d y   e n d   .',\n",
              " 'm @ / a s @   w a s   c l i n i c a l l y   w e l l   t o l e r a t e d   a n d   i m m u n o g e n i c   i n   t h i s   p o p u l a t i o n   ,   s u p p o r t i n g   f u r t h e r   c l i n i c a l   e v a l u a t i o n   i n   h i v - i n f e c t e d   i n d i v i d u a l s   i n   t b - e n d e m i c   s e t t i n g s   .',\n",
              " 't h e   a i m   o f   t h i s   s t u d y   w a s   t o   i n v e s t i g a t e   w h e t h e r   r e m e d i a l   h y d r a t i o n   (   r h   )   r e d u c e s   t h e   i n c i d e n c e   o f   c o n t r a s t - i n d u c e d   n e p h r o p a t h y   (   c i n   )   a n d   s h o r t - t e r m   a d v e r s e   e v e n t s   i n   s t - e l e v a t i o n   m y o c a r d i a l   i n f a r c t i o n   (   s t e m i   )   p a t i e n t s   u n d e r g o i n g   p r i m a r y   p e r c u t a n e o u s   c o r o n a r y   i n t e r v e n t i o n   (   p c i   )   .',\n",
              " 'a   t o t a l   o f   @   c o n s e c u t i v e   s t e m i   p a t i e n t s   w e r e   p r o s p e c t i v e l y   a n d   r a n d o m l y   a s s i g n e d   i n t o   t w o   g r o u p s   :   @   p a t i e n t s   i n   t h e   r h   g r o u p   a n d   @   p a t i e n t s   i n   t h e   n o   r h   (   c o n t r o l   )   g r o u p   .',\n",
              " 't h e   s e r u m   c r e a t i n i n e   (   s c r   )   a n d   c r e a t i n i n e   c l e a r a n c e   (   c c r   )   l e v e l s   w e r e   m e a s u r e d   o n   a d m i s s i o n   a n d   a t   @   ,   @   a n d   @   h o u r s   a f t e r   p r i m a r y   p c i   .',\n",
              " 't h e   r a t e s   o f   c i n   a n d   s h o r t - t e r m   a d v e r s e   e v e n t s   w e r e   a n a l y z e d   f o r   e a c h   g r o u p   .',\n",
              " 'a f t e r   s u r g e r y   ,   t h e   p a t i e n t s   w e r e   c a t e g o r i z e d   i n t o   f o u r   g r o u p s   a c c o r d i n g   t o   t h e   m e h r a n   r i s k   s c o r e   :   l o w   (   @   ,   n   =   @   )   ,   m o d e r a t e   (   @ - @   ,   n   =   @   )   ,   h i g h   (   @ - @   ,   n   =   @   )   o r   v e r y   h i g h   (   @   ,   n   =   @   )   .',\n",
              " 't h e   i n c i d e n c e   o f   c i n   i n   t h e   r h   g r o u p   w a s   l o w e r   t h a n   t h a t   o b s e r v e d   i n   t h e   c o n t r o l   g r o u p   (   @ / @   ;   @   %   v s .   @ / @   ;   @   %   ,   p   <   @   )   .',\n",
              " 't h e   s u b g r o u p   a n a l y s i s   s h o w e d   t h a t   t h e   r a t e   o f   c i n   w a s   l o w e r   i n   t h e   m o d e r a t e   (   @ / @   ;   @   %   v s .   @ / @   ;   @   %   ,   p   <   @   )   a n d   s i g n i f i c a n t l y   l o w e r   i n   b o t h   t h e   h i g h   (   @ / @   ;   @   %   v s .   @ / @   ;   @   %   ,   p   <   @   )   a n d   v e r y   h i g h   s c o r e   g r o u p s   (   @ / @   ;   @   %   v s .   @ / @   ;   @   %   ,   p   <   @   )   a m o n g   t h e   r h   p a t i e n t s   c o m p a r e d   t o   t h e   c o n t r o l s   .',\n",
              " 'a t   @   ,   @   a n d   @   h o u r s   a f t e r   p c i   ,   t h e   p a t i e n t s   i n   t h e   r h   g r o u p   e x h i b i t e d   l o w e r   s c r   l e v e l s   a n d   h i g h e r   c c r   l e v e l s   t h a n   t h e   p a t i e n t s   i n   t h e   c o n t r o l   g r o u p   (   b o t h   p   <   @   )   .',\n",
              " 'a   l o w e r   i n c i d e n c e   o f   i n - h o s p i t a l   c l i n i c a l   e v e n t s   w a s   a l s o   o b s e r v e d   i n   t h e   r h   g r o u p   .',\n",
              " 'r e m e d i a l   h y d r a t i o n   d e c r e a s e s   t h e   o c c u r r e n c e   o f   c i n   a n d   i m p r o v e s   t h e   s h o r t - t e r m   p r o g n o s i s   o f   s t e m i   p a t i e n t s   u n d e r g o i n g   p r i m a r y   p c i   .',\n",
              " 'a n   i n c r e a s e d   p r o d u c t i o n   o f   o x i d i z i n g   s p e c i e s   r e l a t e d   t o   r e a c t i v e   o r a l   d i s e a s e s   ,   s u c h   a s   c h r o n i c   a p i c a l   p e r i o d o n t i t i s   ,   c o u l d   h a v e   s y s t e m i c   i m p l i c a t i o n s   s u c h   a s   a n   i n c r e a s e   i n   c a r d i o v a s c u l a r   m o r b i d i t y   .',\n",
              " 'b a s e d   o n   t h i s   c o n s i d e r a t i o n   ,   w e   c o n d u c t e d   a   p r o s p e c t i v e   s t u d y   t o   a s s e s s   w h e t h e r   s u b j e c t s   a f f e c t e d   b y   c h r o n i c   p e r i o d o n t i t i s   p r e s e n t e d   w i t h   h i g h e r   v a l u e s   o f   o x i d a t i v e   s t r e s s   t h a n   r e f e r e n c e   v a l u e s   b e f o r e   e n d o d o n t i c   t r e a t m e n t   ,   a n d   w h e t h e r   e n d o d o n t i c   t r e a t m e n t   c a n   r e d u c e   t h e   o x i d a t i v e   i m b a l a n c e   a n d   b r i n g   i t   b a c k   t o   n o r m a l   i n   t h e s e   s u b j e c t s   .',\n",
              " 't h e   a u t h o r s   r e c r u i t e d   @   g r o u p s   o f   p a t i e n t s   f r o m   p r i v a t e   s t u d i e s   a n d   d e n t a l   c l i n i c s   :   t h e s e   p a t i e n t s   w e r e   r e c r u i t e d   r a n d o m l y   .',\n",
              " 't h e   o x i d a t i v e   b a l a n c e   i n   b o t h   p a t i e n t s   w i t h   c h r o n i c   a p i c a l   p e r i o d o n t i t i s   (   c a p   )   a n d   h e a l t h y   c o n t r o l   p a t i e n t s   w a s   d e t e r m i n e d   b y   m e a s u r i n g   t h e   o x i d a n t   s t a t u s   ,   u s i n g   a n   i d e n t i f i c a t i o n   o f   t h e   r e a c t i v e   o x y g e n   m e t a b o l i t e s   (   d - r o m s   )   t e s t   ,   w h i l e   t h e   a n t i o x i d a n t   s t a t u s   i n   t h e s e   p a t i e n t s   w a s   d e t e r m i n e d   u s i n g   a   b i o l o g i c a l   a n t i o x i d a n t   p o t e n t i a l   (   b a p   )   t e s t   .',\n",
              " 'b o t h   t h e s e   t e s t s   w e r e   c a r r i e d   o n   p l a s m a   s a m p l e s   t a k e n   f r o m   e n r o l l e d   p a t i e n t s   .',\n",
              " 'v a l u e s   w e r e   m e a s u r e d   b o t h   b e f o r e   t h e   e n d o d o n t i c   t r e a t m e n t   o f   t h e   p a t i e n t s   w i t h   c h r o n i c   a p i c a l   p e r i o d o n t i t i s   ,   a n d   @   a n d   @   d a y s   a f t e r   t r e a t m e n t   ,   a n d   c o m p a r e d   t o   t h o s e   o b t a i n e d   f r o m   h e a l t h y   c o n t r o l   p a t i e n t s   .',\n",
              " 'i t   w a s   f o u n d   t h a t   ,   o n   r e c r u i t m e n t   ,   t h e   p a t i e n t s   w i t h   c h r o n i c   a p i c a l   p e r i o d o n t i t i s   e x h i b i t e d   s i g n i f i c a n t l y   h i g h e r   l e v e l s   o f   o x i d a t i v e   s t r e s s   t h a n   c o n t r o l   p a t i e n t s   ,   a s   d e t e r m i n e d   b y   t h e   d - r o m s   a n d   b a p   t e s t s   .',\n",
              " 'f u r t h e r m o r e   ,   t h e   d - r o m s   t e s t   v a l u e s   w e r e   s h o w n   t o   d e c r e a s e   a n d   t h e   b a p   t e s t   v a l u e s   t o   i n c r e a s e   o v e r   t i m e   i n   p a t i e n t s   w i t h   c h r o n i c   a p i c a l   p e r i o d o n t i t i s   f o l l o w i n g   e n d o d o n t i c   t h e r a p y   .',\n",
              " 'a s   t h e   l e v e l s   o f   o x i d a t i v e   s t r e s s   i n   t h e s e   p a t i e n t s   t e n d e d   t o   r e d u c e   a n d   r e t u r n   t o   n o r m a l   b y   @   d a y s   f o l l o w i n g   t r e a t m e n t   .',\n",
              " 't h i s   s t u d y   h a s   d e m o n s t r a t e d   a   p o s i t i v e   a s s o c i a t i o n   b e t w e e n   c h r o n i c   a p i c a l   p e r i o d o n t i t i s   a n d   o x i d a t i v e   s t r e s s   .',\n",
              " 's u b j e c t s   a f f e c t e d   b y   c h r o n i c   a p i c a l   p e r i o d o n t i t i s   a r e   e x p o s e d   t o   a   c o n d i t i o n   o f   o x i d a t i v e   s t r e s s   ,   w h i c h   i s   e x t r e m e l y   d a n g e r o u s   t o   g e n e r a l   h e a l t h   .',\n",
              " 'm o r e o v e r   ,   o n e   c a n   i n f e r   f r o m   t h e s e   f i n d i n g s   t h a t   t h r o u g h   p r o p e r   e n d o d o n t i c   t h e r a p y   ,   a   g o o d   o x i d a t i v e   b a l a n c e   c a n   b e   r e s t o r e d   ,   t h e r e b y   a v o i d i n g   t h e   r i s k   o f   c o n t r a c t i n g   t h e   a b o v e m e n t i o n e d   d i s e a s e s   .',\n",
              " 'p l a c e b o   e f f e c t   h a s   b e e n   l a r g e l y   s t u d i e d   a n d   d e b a t e d   i n   m e d i c i n e   .',\n",
              " 'r e s e a r c h   f o c u s e d   m a i n l y   o n   c h i l d r e n   a n d   a d u l t s   b u t   n o t   o n   n e w b o r n s   .',\n",
              " 'i n   o s t e o p a t h y   ,   f e w   s t u d i e s   d o c u m e n t e d   t h i s   e f f e c t   a n d   n o   r e s e a r c h   h a s   b e e n   c o n d u c t e d   i n   n e w b o r n s   .',\n",
              " 't o   a s s e s s   t h e   p r e s e n c e   o f   p l a c e b o   e f f e c t   i n   n e w b o r n s   u s i n g   s h a m   o s t e o p a t h i c   m a n i p u l a t i v e   t r e a t m e n t   .',\n",
              " 'r a n d o m i z e d   c o n t r o l   t r i a l   .',\n",
              " 'n e o n a t a l   i n t e n s i v e   c a r e   u n i t   i n   i t a l y   .',\n",
              " 't w o   g r o u p s   (   @   p a t i e n t s   e a c h   )   o f   p r e t e r m   i n f a n t s   a g e d   @ - @   w e e k s   w i t h o u t   m e d i c a l   c o m p l i c a t i o n s   r e c e i v e d   r o u t i n e   p e d i a t r i c   c a r e   a n d   o s t e o p a t h i c   s h a m   t h e r a p y   w a s   a d m i n i s t r a t e d   t o   t h e   s t u d y   g r o u p   o n l y   f o r   t h e   e n t i r e   p e r i o d   o f   h o s p i t a l i z a t i o n   .',\n",
              " 'p r i m a r y   e n d   p o i n t   w a s   t h e   m e a n   r e d u c t i o n   o f   l e n g t h   o f   s t a y   a t   d i s c h a r g e   .',\n",
              " 's e c o n d a r y   o b j e c t i v e   w a s   t h e   c h a n g e   i n   d a i l y   w e i g h t   g a i n   .',\n",
              " '@   n e w b o r n s   e n t e r e d   t h e   s t u d y   .',\n",
              " 'n o   d i f f e r e n c e   b e t w e e n   s h a m   a n d   c o n t r o l   g r o u p   w a s   f o u n d   f o r   t h e   p r i m a r y   o u t c o m e   l e n g t h   o f   s t a y   (   @   ;   @   ;   p   =   @   )   .',\n",
              " 'm u l t i v a r i a t e   a n a l y s i s   s h o w e d   n o   d i f f e r e n c e   b e t w e e n   s t u d y   a n d   c o n t r o l   g r o u p   o n   l e n g t h   o f   s t a y   .',\n",
              " 'a   n e g a t i v e   a s s o c i a t i o n   w a s   f o u n d   f o r   g e s t a t i o n a l   a g e   (   - @   ;   @   %   c i   - @   t o   - @   ;   p   =   @   )   ,   b i r t h   w e i g h t   (   - @   ;   @   %   c i   - @   t o   - @   ;   p   <   @   )   a n d   m i l k   v o l u m e   a t   s t u d y   e n r o l l m e n t   (   - @   ;   @   %   c i   - @   t o   - @   ;   p   =   @   )   .',\n",
              " 't o   t h e   b e s t   o f   o u r   k n o w l e d g e   ,   t h i s   s t u d y   i s   t h e   f i r s t   i n   t h e   f i e l d   s h o w i n g   n o   p l a c e b o   e f f e c t   o n   n e w b o r n s   .',\n",
              " 'f u r t h e r   d i s c u s s i o n s   a r e   o p e n e d   c o n c e r n i n g   t h e   a g e   w h e n   p l a c e b o   e f f e c t   s t a r t s   .',\n",
              " 'c l o s t r i d i u m   d i f f i c i l e   i n f e c t i o n   (   c d i   )   i s   a   l e a d i n g   c a u s e   o f   d i a r r h o e a   i n   h e a l t h   c a r e   s e t t i n g s   w i t h   s y m p t o m s   r a n g i n g   f r o m   m i l d   a n d   s e l f - l i m i t i n g   t o   l i f e   t h r e a t e n i n g   .',\n",
              " 's m t @   i s   a   n o v e l   ,   n o n - a b s o r b a b l e   a n t i b i o t i c   c u r r e n t l y   u n d e r   d e v e l o p m e n t   f o r   t h e   t r e a t m e n t   o f   c d i   .',\n",
              " 'h e r e   w e   r e p o r t   t h e   r e s u l t s   f r o m   a   p h a s e   i   s t u d y   .',\n",
              " 'a   d o u b l e - b l i n d   ,   r a n d o m i z e d   ,   p l a c e b o - c o n t r o l l e d   s t u d y   a s s e s s i n g   s a f e t y   a n d   t o l e r a b i l i t y   o f   s i n g l e   a n d   m u l t i p l e   o r a l   d o s e s   o f   s m t @   i n   h e a l t h y   v o l u n t e e r s   .',\n",
              " 'p h a r m a c o k i n e t i c   a s s e s s m e n t s   i n c l u d e d   b l o o d   a n d   f a e c a l   s a m p l i n g   .',\n",
              " 't h e   e f f e c t   o f   f o o d   o n   s y s t e m i c   e x p o s u r e   a n d   a n a l y s i s   o f   t h e   g u t   m i c r o b i o t a   w e r e   a l s o   i n c l u d e d   .',\n",
              " 'f i f t y - s i x   h e a l t h y   m a l e   s u b j e c t s   w e r e   e n r o l l e d   .',\n",
              " 'f o l l o w i n g   s i n g l e   o r a l   d o s e s   o f   u p   t o   @ , @   m g   i n   t h e   f a s t e d   s t a t e   ,   p l a s m a   c o n c e n t r a t i o n s   o f   s m t @   w e r e   g e n e r a l l y   b e l o w   t h e   l o w e r   l i m i t   o f   q u a n t i f i c a t i o n   .',\n",
              " 'i n   t h e   f e d   s t a t e   l e v e l s   r a n g e d   f r o m   @   t o   @   n g / m l   a f t e r   s i n g l e   d o s i n g   a n d   a f t e r   r e p e a t   d o s i n g   a t   d a y   @   f r o m   @   t o   @   n g / m l   .',\n",
              " 'f o l l o w i n g   s i n g l e   a n d   m u l t i p l e   o r a l   d o s e s   o f   s m t @   ,   m e a n   d a i l y   f a e c a l   c o n c e n t r a t i o n s   i n c r e a s e d   w i t h   i n c r e a s i n g   d o s e   l e v e l   a n d   w e r e   s i g n i f i c a n t l y   a b o v e   t h e   t y p i c a l   m i c   r a n g e   f o r   c .   d i f f i c i l e   (   @ - @   @   g / m l   )   .',\n",
              " 'a t   @   m g   b i d   ,   m e a n   (   s d   )   f a e c a l   c o n c e n t r a t i o n s   o f   @ , @   (   @   )   g / g   a n d   @ , @   (   @   )   g / g   w e r e   d e t e r m i n e d   o n   d a y s   @   a n d   @   o f   d o s i n g   r e s p e c t i v e l y   .',\n",
              " 'n o   n o t a b l e   m e t a b o l i t e s   w e r e   d e t e c t e d   i n   f a e c e s   .',\n",
              " 'o v e r a l l   ,   a l l   d o s e s   o f   s m t @   w e r e   w e l l   t o l e r a t e d   b o t h   a s   s i n g l e   o r a l   d o s e s   o r   b i d   o r a l   d o s e s   f o r   @   d a y s   .',\n",
              " 't h e   m a j o r i t y   (   @   %   )   o f   a d v e r s e   e v e n t s   (   a e s   )   w e r e   c l a s s i f i e d   a s   g a s t r o i n t e s t i n a l   d i s o r d e r s   a n d   w e r e   m i l d   i n   s e v e r i t y   ,   r e s o l v i n g   w i t h o u t   t r e a t m e n t   .',\n",
              " 't h e   g u t   m i c r o b i o t a   w a s   a n a l y s e d   i n   t h e   m u l t i p l e   d o s e   g r o u p s   w i t h   m i n i m a l   c h a n g e s   o b s e r v e d   i n   t h e   b a c t e r i a l   g r o u p s   a n a l y s e d   e x c e p t   f o r   t o t a l   c l o s t r i d i a   w h i c h   w e r e   r e d u c e d   t o   b e l o w   t h e   l i m i t   o f   d e t e c t i o n   b y   d a y   @   o f   d o s i n g   .',\n",
              " 'o r a l   a d m i n i s t r a t i o n   o f   s m t @   w a s   c o n s i d e r e d   s a f e   a n d   w e l l   t o l e r a t e d   a n d   w a s   a s s o c i a t e d   w i t h   n e g l i g i b l e   p l a s m a   c o n c e n t r a t i o n s   a f t e r   s i n g l e   a n d   m u l t i p l e   d o s e s   .',\n",
              " 'i n   a d d i t i o n   ,   m i n i m a l   d i s r u p t i o n   o f   n o r m a l   g u t   m i c r o b i o t a   w a s   n o t e d   ,   c o n f i r m i n g   t h e   h i g h l y   s e l e c t i v e   s p e c t r u m   o f   t h e   c o m p o u n d   .',\n",
              " 't h e s e   r e s u l t s   s u p p o r t   t h e   f u r t h e r   c l i n i c a l   d e v e l o p m e n t   o f   s m t @   a s   a n   o r a l   t h e r a p y   f o r   c d i   .',\n",
              " 'c u r r e n t   c o n t r o l l e d   t r i a l s   .',\n",
              " 'i s r c t n @   .',\n",
              " 'w h i l e   o v e r a l l   s u r v i v a l   f o r   m o s t   c o m m o n   c a n c e r s   i n   a u s t r a l i a   i s   i m p r o v i n g   ,   t h e   r u r a l - u r b a n   d i f f e r e n t i a l   h a s   b e e n   w i d e n i n g   ,   w i t h   s i g n i f i c a n t   e x c e s s   d e a t h s   d u e   t o   l u n g   ,   c o l o r e c t a l   ,   b r e a s t   a n d   p r o s t a t e   c a n c e r   i n   r e g i o n a l   a u s t r a l i a   .',\n",
              " 'i n t e r n a t i o n a l l y   a   m a j o r   f o c u s   o n   u n d e r s t a n d i n g   v a r i a t i o n s   i n   c a n c e r   o u t c o m e s   h a s   b e e n   l a t e r   p r e s e n t a t i o n   t o   h e a l t h c a r e   a n d   l a t e r   d i a g n o s i s   .',\n",
              " 'a p p r o a c h e s   t o   r e d u c i n g   t i m e   t o   d i a g n o s i s   o f   s y m p t o m a t i c   c a n c e r   i n c l u d e   p u b l i c   s y m p t o m   a w a r e n e s s   c a m p a i g n s   a n d   i n t e r v e n t i o n s   i n   p r i m a r y   c a r e   t o   i m p r o v e   e a r l y   c a n c e r   d e t e c t i o n   .',\n",
              " 't h i s   p a p e r   r e p o r t s   t h e   p r o t o c o l   o f   a   f a c t o r i a l   c l u s t e r - r a n d o m i s e d   t r i a l   o f   c o m m u n i t y   a n d   g e n e r a l   p r a c t i c e   (   g p   )   l e v e l   i n t e r v e n t i o n s   t o   r e d u c e   t h e   t i m e   t o   d i a g n o s i s   o f   c a n c e r   i n   r u r a l   w e s t e r n   a u s t r a l i a   (   w a   )   .',\n",
              " 't h e   c o m m u n i t y   i n t e r v e n t i o n   i s   a   s y m p t o m   a w a r e n e s s   c a m p a i g n   t a i l o r e d   f o r   r u r a l   a u s t r a l i a n s   d e l i v e r e d   t h r o u g h   a   c o m m u n i t y   e n g a g e m e n t   m o d e l   .',\n",
              " 't h e   g p   i n t e r v e n t i o n   i n c l u d e s   a   r e s o u r c e   c a r d   w i t h   s y m p t o m   r i s k   a s s e s s m e n t   c h a r t s   a n d   l o c a l   r e f e r r a l   p a t h w a y s   i m p l e m e n t e d   t h r o u g h   m u l t i p l e   a c a d e m i c   d e t a i l i n g   v i s i t s   a n d   c a s e   s t u d i e s   .',\n",
              " 'p a r t i c i p a n t s   a r e   e l i g i b l e   i f   r e c e n t l y   d i a g n o s e d   w i t h   b r e a s t   ,   c o l o r e c t a l   ,   l u n g   o r   p r o s t a t e   c a n c e r   w h o   r e s i d e   i n   s p e c i f i c   r e g i o n s   o f   r u r a l   w a   w i t h   a   p l a n n e d   s a m p l e   s i z e   o f   @   .',\n",
              " 't h e   p r i m a r y   o u t c o m e   i s   t h e   t o t a l   d i a g n o s t i c   i n t e r v a l   ,   d e f i n e d   a s   t h e   d u r a t i o n   f r o m   f i r s t   s y m p t o m   (   o r   d a t e   o f   c a n c e r   s c r e e n i n g   t e s t   )   t o   c a n c e r   d i a g n o s i s   .',\n",
              " 's e c o n d a r y   o u t c o m e s   i n c l u d e   c a n c e r   s t a g e   ,   h e a l t h c a r e   u t i l i s a t i o n   ,   d i s e a s e - f r e e   s t a t u s   ,   s u r v i v a l   a t   @   a n d   @ y e a r s   a n d   c o s t - e f f e c t i v e n e s s   .',\n",
              " 'e t h i c s   a p p r o v a l   h a s   b e e n   g r a n t e d   b y   t h e   u n i v e r s i t y   o f   w e s t e r n   a u s t r a l i a   a n d   f r o m   a l l   r e l e v a n t   h o s p i t a l   r e c r u i t m e n t   s i t e s   i n   w a   .',\n",
              " 'r e s u l t s   o f   t h i s   t r i a l   w i l l   b e   r e p o r t e d   i n   p e e r - r e v i e w e d   p u b l i c a t i o n s   a n d   i n   c o n f e r e n c e   p r e s e n t a t i o n s   .',\n",
              " 'a u s t r a l i a n   n e w   z e a l a n d   c l i n i c a l   t r i a l s   r e g i s t r y   (   a n z c t r   )   .',\n",
              " 'a c t r n @   .',\n",
              " 't h i s   s t u d y   a i m e d   t o   e v a l u a t e   w h e t h e r   i n c i d e n t a l   c t   f i n d i n g s   o f   e m p h y s e m a   ,   a i r w a y   t h i c k e n i n g   a n d   b r o n c h i e c t a s i s   ,   a s   s e e n   o n   c t   s c a n s   p e r f o r m e d   f o r   o t h e r   n o n - p u l m o n a r y   c l i n i c a l   i n d i c a t i o n s   ,   a r e   a s s o c i a t e d   w i t h   f u t u r e   a c u t e   e x a c e r b a t i o n s   o f   c o p d   r e s u l t i n g   i n   h o s p i t a l i s a t i o n   o r   d e a t h   .',\n",
              " 't h i s   m u l t i c e n t r e   p r o s p e c t i v e   c a s e - c o h o r t   s t u d y   c o m p r i s e d   @   s u b j e c t s   w h o   u n d e r w e n t   r o u t i n e   d i a g n o s t i c   c h e s t   c t   f o r   n o n - p u l m o n a r y   i n d i c a t i o n s   .',\n",
              " 'u s i n g   a   c a s e - c o h o r t   a p p r o a c h   ,   w e   v i s u a l l y   g r a d e d   c t   s c a n s   f r o m   c a s e s   a n d   a   r a n d o m   s a m p l e   o f   @   %   o f   t h e   b a s e l i n e   c o h o r t   (   n   =   @   )   f o r   e m p h y s e m a   s e v e r i t y   (   r a n g e   @ - @   )   ,   a i r w a y   t h i c k e n i n g   (   r a n g e   @ - @   )   a n d   b r o n c h i e c t a s i s   (   r a n g e   @ - @   )   .',\n",
              " 'w e   u s e d   w e i g h t e d   c o x   p r o p o r t i o n a l   h a z a r d s   a n a l y s i s   t o   a s s e s s   t h e   i n d e p e n d e n t   a s s o c i a t i o n   b e t w e e n   c t   f i n d i n g s   a n d   h o s p i t a l i s a t i o n   o r   d e a t h   d u e   t o   c o p d   e x a c e r b a t i o n   .',\n",
              " 'd u r i n g   a   m e d i a n   f o l l o w - u p   o f   @   y e a r s   (   m a x i m u m   @   y e a r s   )   ,   @   c o p d   e v e n t s   w e r e   i d e n t i f i e d   .',\n",
              " 't h e   r i s k   o f   e x p e r i e n c i n g   a   f u t u r e   a c u t e   e x a c e r b a t i o n   o f   c o p d   r e s u l t i n g   i n   h o s p i t a l i s a t i o n   o r   d e a t h   w a s   s i g n i f i c a n t l y   i n c r e a s e d   i n   s u b j e c t s   w i t h   s e v e r e   e m p h y s e m a   (   s c o r e   @   )   a n d   s e v e r e   a i r w a y   t h i c k e n i n g   (   s c o r e   @   )   .',\n",
              " 't h e   r e s p e c t i v e   h r s   w e r e   @   (   @   %   c i   @   t o   @   )   a n d   @   (   @   %   c i   @   t o   @   )   .',\n",
              " 's e v e r e   b r o n c h i e c t a s i s   (   s c o r e   @   )   w a s   n o t   s i g n i f i c a n t l y   a s s o c i a t e d   w i t h   i n c r e a s e d   r i s k   o f   a d v e r s e   e v e n t s   (   h r   @   ;   @   %   c i   @   t o   @   )   .',\n",
              " 'm o r p h o l o g i c a l   c o r r e l a t e s   o f   c o p d   s u c h   a s   e m p h y s e m a   a n d   a i r w a y   t h i c k e n i n g   d e t e c t e d   o n   c t   s c a n s   o b t a i n e d   f o r   o t h e r   n o n - p u l m o n a r y   i n d i c a t i o n s   a r e   s t r o n g   i n d e p e n d e n t   p r e d i c t o r s   o f   s u b s e q u e n t   d e v e l o p m e n t   o f   a c u t e   e x a c e r b a t i o n s   o f   c o p d   r e s u l t i n g   i n   h o s p i t a l i s a t i o n   o r   d e a t h   .',\n",
              " 't o   e x p l o r e   t h e   f e a s i b i l i t y   o f   m a k i n g   a   p r e o p e r a t i v e   d i a g n o s i s   o f   l u n g   a d e n o c a r c i n o m a   s h o w n   a s   g r o u n d - g l a s s   n o d u l e   (   g g n   )   o n   c o m p u t e d   t o m o g r a p h y   (   c t   )   .',\n",
              " 'a   t o t a l   o f   @   g g n   l e s i o n s   p r o v e d   p a t h o l o g i c a l l y   w e r e   d i v i d e d   r a n d o m l y   i n t o   a   a n d   b   g r o u p s   .',\n",
              " 't h e n   e a c h   g r o u p   w a s   f u r t h e r   d i v i d e d   p a t h o l o g i c a l l y   i n t o   p r e i n v a s i v e   l e s i o n   ,   m i n i m a l   i n v a s i v e   a d e n o c a r c i n o m a   (   m i a   )   a n d   i n v a s i v e   a d e n o c a r c i n o m a   (   i a c   )   s u b g r o u p s   .',\n",
              " 'g r o u p   a   (   n   =   @   )   ,   s i z e   o f   l e s i o n   ,   p r o p o r t i o n   o f   g r o u n d   g l a s s   o p a c i t y   (   g g o   )   c o m p o s i t i o n   o f   l e s i o n   ,   l o n g   d i a m e t e r   ,   l o n g e s t   d i a m e t e r   a n d   s i z e   o f   s o l i d   c o m p o n e n t   i n   l e s i o n   w e r e   m e a s u r e d   o n   c t   s o   a s   t o   e s t a b l i s h   t h e   c t   d i a g n o s t i c   s t a n d a r d   o f   l u n g   a d e n o c a r c i n o m a   s h o w n   a s   g g n   o n   c t .   .',\n",
              " 'g r o u p   b   (   n   =   @   )   w a s   e m p l o y e d   t o   e v a l u a t e   t h e   a c c u r a c y   o f   t h e   a b o v e   c t   d i a g n o s t i c   s t a n d a r d   .',\n",
              " 's p s s   @   s o f t w a r e   w a s   u s e d   f o r   s t a t i s t i c a l   a n a l y s i s   .',\n",
              " 's i g n i f i c a n t   s t a t i s t i c   s i g n i f i c a n c e   e x i s t e d   i n   a l l   p a r a m e t e r s   a m o n g   a l l   g r o u p s   (   p   <   @   )   .',\n",
              " 'a l l   p a r a m e t e r s   w e r e   c o r r e l a t e d   t h e   p a t h o l o g i c   t y p e   o f   l e s i o n   .',\n",
              " 't h e   d i f f e r e n c e s   w e r e   s t a t i s t i c a l l y   s i g n i f i c a n t   (   p   =   @   )   .',\n",
              " 't h r o u g h   t h e   r e c e i v e r   o p e r a t i n g   c h a r a c t e r i s t i c   (   r o c   )   c u r v e   ,   b e t w e e n   g r o u p s   o f   p r e i n v a s i v e   l e s i o n   a n d   m i a   ,   e a c h   p a r a m e t e r   h a d   a   m e d i u m   d i a g n o s t i c   v a l u e   o f   @ - @   @   ;   b e t w e e n   g r o u p s   o f   m i a   a n d   i a c   ,   s i z e   o f   l e s i o n   a n d   l o n g   d i a m e t e r   o f   s o l i d   c o m p o n e n t   i n   l e s i o n   h a d   a   m e d i u m   d i a g n o s t i c   v a l u e   o f   @ - @   @   ,   l o n g e s t   d i a m e t e r   o f   s o l i d   c o m p o n e n t   ,   s i z e   o f   s o l i d   c o m p o n e n t   i n   l e s i o n   a n d   p r o p o r t i o n   o f   g g o   c o m p o s i t i o n   o f   l e s i o n   h a d   a   h i g h   d i a g n o s t i c   v a l u e   w i t h   a n   a u c   o f   >   @   .',\n",
              " 't h e   c t   d i a g n o s t i c   s t a n d a r d   ,   d e r i v e d   f r o m   g r o u p   a   ,   w a s   u s e d   t o   a n a l y z e   t h e   p a t h o l o g i c   t y p e   o f   g r o u p   b .   a n d   t   n o   s i g n i f i c a n t   s t a t i s t i c   s i g n i f i c a n c e   e x i s t e d   b e t w e e n   c t   p r e o p e r a t i v e   d i a g n o s i s   a n d   o p e r a t i v e   p a t h o l o g i c   d i a g n o s i s   (   p   >   @   )   .',\n",
              " 't h e   c o r r e c t   d i a g n o s i s   r a t e s   o f   s i z e   o f   l e s i o n   ,   p r o p o r t i o n   o f   g g o   c o m p o s i t i o n   o f   l e s i o n   ,   l o n g   d i a m e t e r   ,   l o n g e s t   d i a m e t e r   a n d   s i z e   o f   s o l i d   c o m p o n e n t   i n   l e s i o n   w e r e   @   %   ,   @   %   ,   @   %   ,   @   %   a n d   @   %   r e s p e c t i v e l y   .',\n",
              " 'b a s e d   u p o n   s i z e   o f   l e s i o n   ,   p r o p o r t i o n   o f   g g o   c o m p o s i t i o n   o f   l e s i o n   ,   l o n g   d i a m e t e r   ,   l o n g e s t   d i a m e t e r   a n d   s i z e   o f   s o l i d   c o m p o n e n t   i n   l e s i o n   ,   p r e o p e r a t i v e   c t   e x a m i n a t i o n   m a y   b e   u s e d   t o   d e t e r m i n e   t h e   p a t h o l o g i c a l   t y p e s   o f   l u n g   a d e n o c a r c i n o m a   s h o w n   a s   g g n   .',\n",
              " 't o n s i l l e c t o m y   s u r g e r y   i s   a s s o c i a t e d   w i t h   s e v e r e   p o s t o p e r a t i v e   p a i n   t h a t   u s u a l l y   r e q u i r e s   a n a l g e s i c s   i n c l u d i n g   o p i o i d s   .',\n",
              " 'p a i n   c o n t r o l   i s   s t i l l   a   b i g   p r o b l e m   a f t e r   t o n s i l l e c t o m y   s u r g e r y   .',\n",
              " 'w e   a i m e d   t o   e v a l u a t e   t h e   e f f i c a c y   o f   p r e e m p t i v e   a n a l g e s i a   u s i n g   m o n t e l u k a s t   f o r   p e d i a t r i c   p o s t - t o n s i l l e c t o m y   p a i n   m a n a g e m e n t   .',\n",
              " 't h i s   i s   t h e   f i r s t - t i m e   u s e   o f   m o n t e l u k a s t   i n   p o s t - t o n s i l l e c t o m y   p a i n   .',\n",
              " 'd o u b l e - b l i n d   ,   c o n t r o l l e d - r a n d o m i z e d   s t u d y   .',\n",
              " 'u n i v e r s i t y   t e a c h i n g   a n d   r e s e a r c h   h o s p i t a l   .',\n",
              " 'a   t o t a l   o f   @   c h i l d r e n   ,   a g e d   @   t o   @   y e a r s   ,   a m e r i c a n   s o c i e t y   o f   a n e s t h e s i o l o g i s t   c l a s s   i - i i   ,   s c h e d u l e d   f o r   e l e c t i v e   t o n s i l l e c t o m y   w e r e   e n r o l l e d   i n   t h i s   c l i n i c a l   t r i a l   s t u d y   .',\n",
              " 't h e   p a t i e n t s   w e r e   r a n d o m i z e d   i n t o   @   g r o u p s   :   t h e   m o n t e l u k a s t   g r o u p   (   g r o u p   m   ,   n   =   @   )   a n d   c o n t r o l   g r o u p   (   g r o u p   c   ,   n   =   @   )   .',\n",
              " 'g r o u p   m   r e c i e v e d   a n   o r a l   m o n t e l u k a s t   t a b l e t   a n d   g r o u p   c   r e c i e v e d   p l a c e b o   a t   @ p m   o n   t h e   m o r n i n g   b e f o r e   s u r g e r y   .',\n",
              " 'p o s t - t o n s i l l e c t o m y   p a i n   w a s   e v a l u a t e d   w i t h   t h e   w o n g - b a k e r   f a c e s   s c a l e   d u r i n g   t h e   @   h o u r s   a f t e r   s u r g e r y   .',\n",
              " \"p a t i e n t s   '   i n t r a o p e r a t i v e   h e m o d y n a m i c   p a r a m e t e r s   a n d   i n t r a o p e r a t i v e   a n d   p o s t o p e r a t i v e   c o m p l i c a t i o n s   w e r e   r e c o r d e d   .\",\n",
              " 't h e r e   w e r e   s t a t i s t i c a l l y   s i g n i f i c a n t   d i f f e r e n c e s   b e t w e e n   g r o u p   c   a n d   g r o u p   m   f o r   w o n g - b a k e r   f a c e s   p a i n   r a t i n g   s c a l e   s c o r e s   (   p   <   @   )   .',\n",
              " 'i n   t h e   @   h o u r s   a f t e r   s u r g e r y   ,   t h e   t o t a l   n u m b e r   o f   p a t i e n t s   u s i n g   r e s c u e   a n a l g e s i c s   w a s   h i g h e r   i n   g r o u p   c   t h a n   i n   g r o u p   m   ,   a n d   t h e   d i f f e r e n c e   w a s   s t a t i s t i c a l l y   s i g n i f i c a n t   (   p   <   @   )   .',\n",
              " 't h e r e   w a s   n o   s i g n i f i c a n t   d i f f e r e n c e   i n   d e m o g r a p h i c   p a r a m e t e r s   (   p   >   @   )   .',\n",
              " 't h e r e   w e r e   n o   s i g n i f i c a n t   d i f f e r e n c e s   i n   p o s t o p e r a t i v e   n a u s e a   a n d   v o m i t i n g   ,   o t a l g i a   ,   t r i s m u s   ,   f e v e r   ,   o r   h a l i t o s i s   b e t w e e n   t h e   g r o u p s   (   p   >   @   )   .',\n",
              " 'p r e e m p t i v e   m o n t e l u k a s t   c a n   b e   u s e d   s a f e l y   t o   r e d u c e   t h e   s e r i o u s   p a i n   c a u s e d   b y   t o n s i l l e c t o m y   i n   c h i l d r e n   .',\n",
              " 'm e t a s t a t i c   c o l o n   c a n c e r   p a t i e n t s   a r e   t r e a t e d   w i t h   t h e   c h e m o t h e r a p y   r e g i m e n s   ,   f o l f o x   a n d   f o l f i r i   ,   i n   e i t h e r   o r d e r   .',\n",
              " 's o   f a r   ,   w e   c a n   n o t   p r e d i c t   t h e   r e s p o n s e   o f   c h e m o t h e r a p e u t i c   a g e n t   ,   s o   i t   i s   n e c e s s a r y   t o   f i n d   w h i c h   r e g i m e n   i s   a d e q u a t e   b e f o r e   s t a r t i n g   c h e m o t h e r a p y   .',\n",
              " 'e n r o l l e d   p a t i e n t s   a r e   r a n d o m i z e d   i n t o   e i t h e r   c o n v e n t i o n a l   t r e a t m e n t   o r   p l a n n e d   t r e a t m e n t   p r e c e d e d   b y   p r e t r e a t m e n t   g e n e t i c   a n a l y s i s   .',\n",
              " 'b l o o d   s a m p l e s   o f   p a t i e n t s   i n   p l a n n e d   t r e a t m e n t   g r o u p   (   n   =   @   )   w e r e   a n a l y z e d   f o r   t h e   g e n e t i c   p o l y m o r p h i s m   b e f o r e   s e l e c t i o n   o f   c h e m o t h e r a p e u t i c   a g e n t s   .',\n",
              " 't a r g e t   g e n e s   w e r e   x p d - @   ,   g s t p - @ - @   ,   x r c c @ - @   f o r   o x a l i p l a t i n   ,   u g t @ a @   f o r   i r i n o t e c a n   .',\n",
              " 't h e   r e s p o n s e   w a s   m e a s u r e d   b y   c o m p u t e d   t o m o g r a p h i c   s c a n   a f t e r   c o m p l e t i o n   o f   t h r e e   c y c l e s   o f   c h e m o t h e r a p y   .',\n",
              " 'o v e r a l l   r e s p o n s e   r a t e   w a s   s i g n i f i c a n t l y   h i g h e r   i n   p l a n n e d   g r o u p   (   @   %   v s .   @   %   ,   p   =   @   )   .',\n",
              " 'i n   f o l f o x   g r o u p   ,   r e s p o n s e   r a t e   w a s   s i g n i f i c a n t l y   i m p r o v e d   i n   t h e   p l a n n e d   p a t i e n t s   (   @   %   v s .   @   %   ,   p   =   @   )   .',\n",
              " \"i n   f o l f i r i   g r o u p   ,   t h e   d i f f e r e n c e   d i d   n ' t   r e a c h   s t a t i s t i c a l   s i g n i f i c a n c e   (   @   %   v s .   @   %   ,   p   =   @   )   .\",\n",
              " 'w e   f o u n d   s i g n i f i c a n t l y   i m p r o v e d   r e s p o n s e   r a t e s   i n   t h e   c h e m o t h e r a p y   o f   m e t a s t a t i c   c o l o n   c a n c e r   b y   p r e t r e a t m e n t   g e n e t i c   a n a l y s i s   ,   e s p e c i a l l y   i n   f o l f o x   g r o u p   .',\n",
              " 'c a r d i a c   a r r e s t   c a u s e s   i s c h a e m i c   b r a i n   i n j u r y   .',\n",
              " 'a r t e r i a l   c a r b o n   d i o x i d e   t e n s i o n   (   p a c o @   )   i s   a   m a j o r   d e t e r m i n a n t   o f   c e r e b r a l   b l o o d   f l o w   .',\n",
              " 't h u s   ,   m i l d   h y p e r c a p n i a   i n   t h e   @   h   f o l l o w i n g   c a r d i a c   a r r e s t   m a y   i n c r e a s e   c e r e b r a l   b l o o d   f l o w   a n d   a t t e n u a t e   s u c h   i n j u r y   .',\n",
              " 'w e   d e s c r i b e   t h e   c a r b o n   c o n t r o l   a n d   c a r d i a c   a r r e s t   (   c c c   )   t r i a l   .',\n",
              " 't h e   c c c   t r i a l   i s   a   p i l o t   m u l t i c e n t r e   f e a s i b i l i t y   ,   s a f e t y   a n d   b i o l o g i c a l   e f f i c a c y   r a n d o m i z e d   c o n t r o l l e d   t r i a l   r e c r u i t i n g   a d u l t   c a r d i a c   a r r e s t   p a t i e n t s   a d m i t t e d   t o   t h e   i n t e n s i v e   c a r e   u n i t   a f t e r   r e t u r n   o f   s p o n t a n e o u s   c i r c u l a t i o n   .',\n",
              " 'a t   a d m i s s i o n   ,   u s i n g   c o n c e a l e d   a l l o c a t i o n   ,   p a r t i c i p a n t s   a r e   r a n d o m i z e d   t o   @   h   o f   e i t h e r   n o r m o c a p n i a   (   p a c o @   @   t o   @   m m h g   )   o r   m i l d   h y p e r c a p n i a   (   p a c o @   @   t o   @   m m h g   )   .',\n",
              " 'k e y   f e a s i b i l i t y   o u t c o m e s   a r e   r e c r u i t m e n t   r a t e   a n d   p r o t o c o l   c o m p l i a n c e   r a t e   .',\n",
              " 't h e   p r i m a r y   b i o l o g i c a l   e f f i c a c y   a n d   b i o l o g i c a l   s a f e t y   m e a s u r e s   a r e   t h e   b e t w e e n - g r o u p s   d i f f e r e n c e   i n   s e r u m   n e u r o n - s p e c i f i c   e n o l a s e   a n d   s @ b   p r o t e i n   l e v e l s   a t   @   h   ,   @   h   a n d   @   h .   s e c o n d a r y   o u t c o m e   m e a s u r e   i n c l u d e   a d v e r s e   e v e n t s   ,   i n - h o s p i t a l   m o r t a l i t y   ,   a n d   n e u r o l o g i c a l   a s s e s s m e n t   a t   @   m o n t h s   .',\n",
              " 't h e   t r i a l   c o m m e n c e d   i n   d e c e m b e r   @   a n d   ,   w h e n   c o m p l e t e d   ,   w i l l   p r o v i d e   c l i n i c a l   e v i d e n c e   a s   t o   w h e t h e r   t a r g e t i n g   m i l d   h y p e r c a p n i a   f o r   @   h   f o l l o w i n g   i n t e n s i v e   c a r e   u n i t   a d m i s s i o n   f o r   c a r d i a c   a r r e s t   p a t i e n t s   i s   f e a s i b l e   a n d   s a f e   a n d   w h e t h e r   i t   r e s u l t s   i n   d e c r e a s e d   c o n c e n t r a t i o n s   o f   n e u r o l o g i c a l   i n j u r y   b i o m a r k e r s   c o m p a r e d   w i t h   n o r m o c a p n i a   .',\n",
              " 't r i a l   r e s u l t s   w i l l   a l s o   b e   u s e d   t o   d e t e r m i n e   w h e t h e r   a   p h a s e   i i b   s t u d y   p o w e r e d   f o r   s u r v i v a l   a t   @   d a y s   i s   f e a s i b l e   a n d   j u s t i f i e d   .',\n",
              " 'a u s t r a l i a n   n e w   z e a l a n d   c l i n i c a l   t r i a l s   r e g i s t r y   a c t r n @   .',\n",
              " 'f o r   d e c a d e s   t h i o p e n t a l   h a s   b e e n   c o n s i d e r e d   a s   t h e   h y p n o t i c   d r u g   o f   c h o i c e   f o r   i n t r a c r a n i a l   s u r g e r y   .',\n",
              " 'h o w e v e r   ,   t o t a l   i n t r a v e n o u s   a n e s t h e s i a   p e r f o r m e d   w i t h   t h i o p e n t a l   i s   a s s o c i a t e d   w i t h   d e l a y e d   r e c o v e r y   ,   w h e r e a s   e a r l y   p o s t - o p e r a t i v e   n e u r o l o g i c a l   e v a l u a t i o n   i s   c r i t i c a l   .',\n",
              " 'f o r   t h i s   r e a s o n   ,   t a r g e t   c o n t r o l l e d   i n f u s i o n   (   t c i   )   o f   p r o p o f o l   i s   i n c r e a s i n g l y   u s e d   f o r   m a i n t e n a n c e   o f   a n e s t h e s i a   .',\n",
              " 'h o w e v e r   ,   a   t h i o p e n t a l   t c i   h a s   n e v e r   b e e n   a s s e s s e d   f o r   t h i s   p u r p o s e   .',\n",
              " 'w e   t e s t e d   t h e   h y p o t h e s i s   t h a t   a   t h i o p e n t a l   t c i   p r o v i d e s   a n   a c c e p t a b l e   w a y   t o   a c h i e v e   e a r l y   r e c o v e r y   c o m p a r e d   t o   a   p r o p o f o l   t c i   d u r i n g   s u p r a t e n t o r i a l   s u r g e r y   .',\n",
              " 'e i g h t y   p a t i e n t s   u n d e r g o i n g   e l e c t i v e   c r a n i o t o m y   f o r   a   s u p r a t e n t o r i a l   t u m o r   w e r e   r a n d o m i z e d   t o   r e c e i v e   e i t h e r   a   p r o p o f o l   t c i   (   g r o u p   p   )   o r   a   t h i o p e n t a l   t c i   (   g r o u p   t   )   .',\n",
              " 'b o t h   g r o u p s   r e c e i v e d   a   s u f e n t a n i l   t c i   a n d   t h e   b i s p e c t r a l   i n d e x   w a s   m o n i t o r e d   .',\n",
              " 't h e   p r i m a r y   e n d - p o i n t   w a s   t i m e   t o   t r a c h e a l   e x t u b a t i o n   .',\n",
              " 's e c o n d a r y   e n d - p o i n t s   w e r e   p e r   -   a n d   p o s t - o p e r a t i v e   h e m o d y n a m i c s   a s   w e l l   a s   r e s p i r a t o r y   a n d   r e c o v e r y   p a r a m e t e r s   .',\n",
              " 'a s s e s s m e n t   o f   s t u d y   e n d - p o i n t s   w a s   p e r f o r m e d   b y   a n   i n t e n s i v e   c a r e   s p e c i a l i s t   b l i n d e d   (   l i k e   t h e   p a t i e n t   )   t o   t h e   r e c e i v e d   h y p n o t i c   .',\n",
              " 't i m e   t o   e x t u b a t i o n   w a s   s i g n i f i c a n t l y   (   p   <   @   )   s h o r t e r   i n   g r o u p   p   (   m e d i a n   @   m i n u t e s   ;   i n t e r q u a r t i l e   r a n g e   @ - @   m i n u t e s   )   t h a n   i n   g r o u p   t   (   m e d i a n   @   m i n u t e s   ;   i n t e r q u a r t i l e   r a n g e   @ - @   m i n u t e s   )   .',\n",
              " 's i m i l a r l y   ,   t h e   r e c o v e r y   p a r a m e t e r s   w e r e   s i g n i f i c a n t l y   b e t t e r   i n   g r o u p   p   t h a n   i n   g r o u p   t .',\n",
              " 't h e r e   w a s   n o   d i f f e r e n c e   b e t w e e n   g r o u p s   i n   t e r m s   o f   p a t i e n t   c h a r a c t e r i s t i c s   a n d   h e m o d y n a m i c   p a r a m e t e r s   .',\n",
              " 'e v e n   w i t h   t c i   a n d   b i s p e c t r a l   i n d e x   m o n i t o r i n g   ,   t h i o p e n t a l   i s   a s s o c i a t e d   w i t h   a n   i n a p p r o p r i a t e   d e l a y e d   r e c o v e r y   f r o m   s u p r a t e n t o r i a l   s u r g e r y   c o m p a r e d   t o   p r o p o f o l   t c i   .',\n",
              " 't o   i n v e s t i g a t e   t h e   e f f e c t s   o f   c o n s e r v a t i v e   t h e r a p y   a p p l i e d   b e f o r e   a r t h r o s c o p i c   s u b a c r o m i a l   d e c o m p r e s s i o n   o n   t h e   c l i n i c a l   o u t c o m e   i n   p a t i e n t s   w i t h   s t a g e   @   s h o u l d e r   i m p i n g e m e n t   s y n d r o m e   .',\n",
              " 's i x t y - e i g h t   p a t i e n t s   h a v i n g   s t a g e   @   s h o u l d e r   i m p i n g e m e n t   s y n d r o m e   a n d   t r e a t e d   w i t h   a r t h r o s c o p i c   s u b a c r o m i a l   d e c o m p r e s s i o n   w e r e   i n c l u d e d   i n   t h e   s t u d y   .',\n",
              " 'w e   d i v i d e d   t h e s e   p a t i e n t s   i n t o   @   g r o u p s   ,   w h e r e b y   @   (   @   %   )   p a t i e n t s   r e c e i v e d   c o n s e r v a t i v e   t h e r a p y   b e f o r e   a r t h r o s c o p i c   s u b a c r o m i a l   d e c o m p r e s s i o n   a n d   @   (   @   %   )   p a t i e n t s   d i d   n o t   r e c e i v e   c o n s e r v a t i v e   t h e r a p y   .',\n",
              " 'w e   c o m p a r e d   b o t h   g r o u p s   i n   t e r m s   o f   t h e   t h e   c o n s t a n t   ,   u c l a   ,   a n d   v a s   s c o r e s   f o r   s h o u l d e r   p a i n   b e f o r e   a n d   a f t e r   a r t h r o s c o p i c   s u b a c r o m i a l   d e c o m p r e s s i o n   .',\n",
              " 'c o n s t a n t   ,   u c l a   ,   a n d   v a s   s c o r e s   w e r e   s t a t i s t i c a l l y   s i g n i f i c a n t l y   i m p r o v e d   i n   b o t h   g r o u p s   a f t e r   a r t h r o s c o p i c   s u b a c r o m i a l   d e c o m p r e s s i o n   (   p   <   @   )   .',\n",
              " 'c o n s t a n t   ,   u c l a   ,   a n d   v a s   s c o r e s   b e f o r e   a r t h r o s c o p i c   s u b a c r o m i a l   d e c o m p r e s s i o n   w e r e   s t a t i s t i c a l l y   b e t t e r   i n   g r o u p   @   t h a n   i n   g r o u p   @   (   p   <   @   )   .',\n",
              " 'n o   s t a t i s t i c a l l y   s i g n i f i c a n t   d i f f e r e n c e   w a s   f o u n d   b e t w e e n   t h e   g r o u p s   i n   t e r m s   o f   c o n s t a n t   ,   u c l a   ,   a n d   v a s   s c o r e s   a f t e r   a r t h r o s c o p i c   s u b a c r o m i a l   d e c o m p r e s s i o n   (   p   >   @   )   .',\n",
              " 'c o n s e r v a t i v e   t h e r a p y   a p p l i e d   i n   p a t i e n t s   w i t h   s t a g e   @   s h o u l d e r   i m p i n g e m e n t   s y n d r o m e   b e f o r e   a r t h r o s c o p i c   s u b a c r o m i a l   d e c o m p r e s s i o n   d o e s   n o t   h a v e   a   p o s i t i v e   c o n t r i b u t i o n   o n   t h e   c l i n i c a l   o u t c o m e   a f t e r   a r t h r o s c o p i c   s u b a c r o m i a l   d e c o m p r e s s i o n   .',\n",
              " 'o b s t r u c t i v e   s l e e p   a p n e a   i s   a s s o c i a t e d   w i t h   c o n s i d e r a b l e   h e a l t h   r i s k s   .',\n",
              " 'a l t h o u g h   c o n t i n u o u s   p o s i t i v e   a i r w a y   p r e s s u r e   (   c p a p   )   c a n   m i t i g a t e   t h e s e   r i s k s   ,   e f f e c t i v e n e s s   c a n   b e   r e d u c e d   b y   i n a d e q u a t e   a d h e r e n c e   t o   t r e a t m e n t   .',\n",
              " 'w e   e v a l u a t e d   t h e   c l i n i c a l   s a f e t y   a n d   e f f e c t i v e n e s s   o f   u p p e r - a i r w a y   s t i m u l a t i o n   a t   @   m o n t h s   f o r   t h e   t r e a t m e n t   o f   m o d e r a t e - t o - s e v e r e   o b s t r u c t i v e   s l e e p   a p n e a   .',\n",
              " 'u s i n g   a   m u l t i c e n t e r   ,   p r o s p e c t i v e   ,   s i n g l e - g r o u p   ,   c o h o r t   d e s i g n   ,   w e   s u r g i c a l l y   i m p l a n t e d   a n   u p p e r - a i r w a y   s t i m u l a t i o n   d e v i c e   i n   p a t i e n t s   w i t h   o b s t r u c t i v e   s l e e p   a p n e a   w h o   h a d   d i f f i c u l t y   e i t h e r   a c c e p t i n g   o r   a d h e r i n g   t o   c p a p   t h e r a p y   .',\n",
              " 't h e   p r i m a r y   o u t c o m e   m e a s u r e s   w e r e   t h e   a p n e a - h y p o p n e a   i n d e x   (   a h i   ;   t h e   n u m b e r   o f   a p n e a   o r   h y p o p n e a   e v e n t s   p e r   h o u r   ,   w i t h   a   s c o r e   o f   @   i n d i c a t i n g   m o d e r a t e - t o - s e v e r e   a p n e a   )   a n d   t h e   o x y g e n   d e s a t u r a t i o n   i n d e x   (   o d i   ;   t h e   n u m b e r   o f   t i m e s   p e r   h o u r   o f   s l e e p   t h a t   t h e   b l o o d   o x y g e n   l e v e l   d r o p s   b y   @   p e r c e n t a g e   p o i n t s   f r o m   b a s e l i n e   )   .',\n",
              " 's e c o n d a r y   o u t c o m e   m e a s u r e s   w e r e   t h e   e p w o r t h   s l e e p i n e s s   s c a l e   ,   t h e   f u n c t i o n a l   o u t c o m e s   o f   s l e e p   q u e s t i o n n a i r e   (   f o s q   )   ,   a n d   t h e   p e r c e n t a g e   o f   s l e e p   t i m e   w i t h   t h e   o x y g e n   s a t u r a t i o n   l e s s   t h a n   @   %   .',\n",
              " 'c o n s e c u t i v e   p a r t i c i p a n t s   w i t h   a   r e s p o n s e   w e r e   i n c l u d e d   i n   a   r a n d o m i z e d   ,   c o n t r o l l e d   t h e r a p y - w i t h d r a w a l   t r i a l   .',\n",
              " 't h e   s t u d y   i n c l u d e d   @   p a r t i c i p a n t s   ;   @   %   w e r e   m e n   .',\n",
              " 't h e   m e a n   a g e   w a s   @   y e a r s   ,   a n d   t h e   m e a n   b o d y - m a s s   i n d e x   (   t h e   w e i g h t   i n   k i l o g r a m s   d i v i d e d   b y   t h e   s q u a r e   o f   t h e   h e i g h t   i n   m e t e r s   )   w a s   @   .',\n",
              " 't h e   m e d i a n   a h i   s c o r e   a t   @   m o n t h s   d e c r e a s e d   @   %   ,   f r o m   @   e v e n t s   p e r   h o u r   t o   @   e v e n t s   p e r   h o u r   (   p   <   @   )   ;   t h e   o d i   s c o r e   d e c r e a s e d   @   %   ,   f r o m   @   e v e n t s   p e r   h o u r   t o   @   e v e n t s   p e r   h o u r   (   p   <   @   )   .',\n",
              " 's e c o n d a r y   o u t c o m e   m e a s u r e s   s h o w e d   a   r e d u c t i o n   i n   t h e   e f f e c t s   o f   s l e e p   a p n e a   a n d   i m p r o v e d   q u a l i t y   o f   l i f e   .',\n",
              " 'i n   t h e   r a n d o m i z e d   p h a s e   ,   t h e   m e a n   a h i   s c o r e   d i d   n o t   d i f f e r   s i g n i f i c a n t l y   f r o m   t h e   @ - m o n t h   s c o r e   i n   t h e   n o n r a n d o m i z e d   p h a s e   a m o n g   t h e   @   p a r t i c i p a n t s   i n   t h e   t h e r a p y - m a i n t e n a n c e   g r o u p   (   @   a n d   @   e v e n t s   p e r   h o u r   ,   r e s p e c t i v e l y   )   ;   t h e   a h i   s c o r e   w a s   s i g n i f i c a n t l y   h i g h e r   (   i n d i c a t i n g   m o r e   s e v e r e   a p n e a   )   a m o n g   t h e   @   p a r t i c i p a n t s   i n   t h e   t h e r a p y - w i t h d r a w a l   g r o u p   (   @   v s .   @   e v e n t s   p e r   h o u r   ,   p   <   @   )   .',\n",
              " 't h e   o d i   r e s u l t s   f o l l o w e d   a   s i m i l a r   p a t t e r n   .',\n",
              " 't h e   r a t e   o f   p r o c e d u r e - r e l a t e d   s e r i o u s   a d v e r s e   e v e n t s   w a s   l e s s   t h a n   @   %   .',\n",
              " 'i n   t h i s   u n c o n t r o l l e d   c o h o r t   s t u d y   ,   u p p e r - a i r w a y   s t i m u l a t i o n   l e d   t o   s i g n i f i c a n t   i m p r o v e m e n t s   i n   o b j e c t i v e   a n d   s u b j e c t i v e   m e a s u r e m e n t s   o f   t h e   s e v e r i t y   o f   o b s t r u c t i v e   s l e e p   a p n e a   .',\n",
              " '(   f u n d e d   b y   i n s p i r e   m e d i c a l   s y s t e m s   ;   s t a r   c l i n i c a l t r i a l s . g o v   n u m b e r   ,   n c t @   .   )',\n",
              " 't o   i d e n t i f y   f a c i l i t a t o r s   a n d   b a r r i e r s   t o   c l i n i c a l   t r i a l   i m p l e m e n t a t i o n   i n   a b o r i g i n a l   h e a l t h   s e r v i c e s   .',\n",
              " 'i n d e p t h   i n t e r v i e w   s t u d y   w i t h   t h e m a t i c   a n a l y s i s   .',\n",
              " 's i x   a b o r i g i n a l   c o m m u n i t y - c o n t r o l l e d   h e a l t h   s e r v i c e s   a n d   o n e   g o v e r n m e n t - r u n   s e r v i c e   i n v o l v e d   i n   t h e   k a n y i n i   g u i d e l i n e s   a d h e r e n c e   w i t h   t h e   p o l y p i l l   (   k g a p   )   s t u d y   ,   a   p r a g m a t i c   r a n d o m i s e d   c o n t r o l l e d   t r i a l   t h a t   a i m e d   t o   i m p r o v e   a d h e r e n c e   t o   i n d i c a t e d   d r u g   t r e a t m e n t s   f o r   p e o p l e   a t   h i g h   r i s k   o f   c a r d i o v a s c u l a r   d i s e a s e   .',\n",
              " '@   h e a l t h   c a r e   p r o v i d e r s   a n d   @   a b o r i g i n a l   a n d   t o r r e s   s t r a i t   i s l a n d e r   p a t i e n t s   .',\n",
              " 'a   f u n d a m e n t a l   e n a b l e r   w a s   t h a t   p a r t i c i p a n t s   c o n s i d e r e d   t h e   r e s e a r c h   t o   b e   g o v e r n e d   a n d   e n d o r s e d   b y   t h e   l o c a l   h e a l t h   s e r v i c e   .',\n",
              " 't h a t   t h e   r e s e a r c h   w a s   p e r c e i v e d   t o   a d d r e s s   a   h e a l t h   p r i o r i t y   f o r   c o m m u n i t i e s   w a s   a l s o   h i g h l y   m o t i v a t i n g   f o r   b o t h   p r o v i d e r s   a n d   p a t i e n t s   .',\n",
              " 'e n l i s t i n g   t h e   s u p p o r t   o f   a b o r i g i n a l   a n d   t o r r e s   s t r a i t   i s l a n d e r   s t a f f   c h a m p i o n s   w h o   w e r e   v i s i b l e   t o   t h e   c o m m u n i t y   a s   t h e   m a i n   s o u r c e   o f   i n f o r m a t i o n   a b o u t   t h e   t r i a l   w a s   p a r t i c u l a r l y   i m p o r t a n t   .',\n",
              " 't h e   m a j o r   i m p l e m e n t a t i o n   b a r r i e r   f o r   s t a f f   w a s   b a l a n c i n g   t h e i r   s e r v i c e   d e l i v e r y   r o l e s   w i t h   a d h e r e n c e   t o   o f t e n   h i g h l y   d e m a n d i n g   t r i a l - r e l a t e d   p r o c e d u r e s   .',\n",
              " \"t h i s   w a s   p a r t i a l l y   a l l e v i a t e d   b y   t h e   r e s e a r c h   t e a m   ' s   p r o v i s i o n   o f   o n s i t e   s u p p o r t   a n d   a t t e m p t s   t o   m a k e   t r i a l   p r o c e s s e s   m o r e   s t r e a m l i n e d   .\",\n",
              " 'a l t h o u g h   m o r e   i n t e n s i v e   s u p p o r t   w a s   h i g h l y   d e s i r e d   ,   t h e r e   w e r e   u s u a l l y   i n s u f f i c i e n t   r e s o u r c e s   t o   p r o v i d e   t h i s   .',\n",
              " 'd e s p i t e   s t r o n g   c o m m u n i t y   a n d   h e a l t h   s e r v i c e   s u p p o r t   ,   m a j o r   i n v e s t m e n t s   i n   t i m e   a n d   r e s o u r c e s   a r e   n e e d e d   t o   e n s u r e   s u c c e s s f u l   i m p l e m e n t a t i o n   a n d   m i n i m a l   d i s r u p t i o n   t o   a l r e a d y   o v e r s t r e t c h e d   ,   r o u t i n e   s e r v i c e s   .',\n",
              " 't r i a l   b u d g e t s   w i l l   n e c e s s a r i l y   b e   i n f l a t e d   a s   a   r e s u l t   .',\n",
              " 'f u n d i n g   a g e n c i e s   n e e d   t o   c o n s i d e r   t h e s e   a d d i t i o n a l   r e s o u r c e   d e m a n d s   w h e n   s u p p o r t i n g   t r i a l s   o f   a   s i m i l a r   n a t u r e   .',\n",
              " 't o   c o m p a r e   t h e   e f f e c t   o f   i n c o m p l e t e   c a r i e s   r e m o v a l   (   i c r   )   a n d   i n d i r e c t   p u l p   c a p p i n g   (   i p c   )   w i t h   c a l c i u m   h y d r o x i d e   (   c h   )   o r   a n   i n e r t   m a t e r i a l   (   w a x   )   o n   c o l o r   ,   c o n s i s t e n c y   a n d   c o n t a m i n a t i o n   o f   t h e   r e m a i n i n g   d e n t i n   o f   p r i m a r y   m o l a r s   .',\n",
              " 't h i s   d o u b l e - b l i n d   ,   p a r a l l e l - d e s i g n   ,   r a n d o m i z e d   c o n t r o l l e d   t r i a l   i n c l u d e d   @   c h i l d r e n   p r e s e n t i n g   o n e   p r i m a r y   m o l a r   w i t h   d e e p   c a r i e s   l e s i o n   .',\n",
              " 'c h i l d r e n   w e r e   r a n d o m l y   a s s i g n e d   a f t e r   i c r   t o   r e c e i v e   i p c   w i t h   c h   o r   w a x   .',\n",
              " 'a l l   t e e t h   w e r e   t h e n   r e s t o r e d   w i t h   r e s i n   c o m p o s i t e   .',\n",
              " 'b a s e l i n e   d e n t i n   c o l o r   a n d   c o n s i s t e n c y   w e r e   e v a l u a t e d   a f t e r   i c r   ,   a n d   d e n t i n   s a m p l e s   w e r e   c o l l e c t e d   f o r   c o n t a m i n a t i o n   a n a l y s e s   u s i n g   s c a n n i n g   e l e c t r o n   m i c r o s c o p y   .',\n",
              " 'a f t e r   @   m o n t h s   ,   r e s t o r a t i o n s   w e r e   r e m o v e d   a n d   t h e   t h r e e   p a r a m e t e r s   w e r e   r e - e v a l u a t e d   .',\n",
              " 'i n   b o t h   g r o u p s   ,   d e n t i n   b e c a m e   s i g n i f i c a n t l y   d a r k e r   a f t e r   @   m o n t h s   .',\n",
              " 'n o   c a s e s   o f   y e l l o w   d e n t i n   w e r e   o b s e r v e d   a f t e r   @   m o n t h s   w i t h   c h   c o m p a r e d   t o   @   %   o f   t h e   w a x   c a s e s   (   p   <   @   )   .',\n",
              " 'a   s t a t i s t i c a l l y   s i g n i f i c a n t   d i f f e r e n c e   o v e r   t i m e   w a s   o b s e r v e d   o n l y   f o r   c h   r e g a r d i n g   c o n s i s t e n c y   .',\n",
              " 'c h   s t i m u l a t e d   a   d e n t i n   h a r d e n i n g   p r o c e s s   i n   a   s t a t i s t i c a l l y   h i g h e r   n u m b e r   o f   c a s e s   t h a n   w a x   (   @   %   v s .   @   %   ;   p   =   @   )   .',\n",
              " 'c o n t a m i n a t i o n   c h a n g e d   s i g n i f i c a n t l y   o v e r   t i m e   i n   c h   a n d   w a x   w i t h o u t   s i g n i f i c a n t   d i f f e r e n c e   b e t w e e n   g r o u p s   .',\n",
              " 'i t   w a s   c o n c l u d e d   t h a t   c h   a n d   w a x   a r r e s t e d   t h e   c a r i o u s   p r o c e s s   o f   t h e   r e m a i n i n g   c a r i o u s   d e n t i n   a f t e r   i n d i r e c t   p u l p   c a p p i n g   ,   b u t   c h   s h o w e d   s u p e r i o r   d e n t i n   c o l o r   a n d   c o n s i s t e n c y   a f t e r   @   m o n t h s   .',\n",
              " 'i n   l i t e r a t u r e   t h e r e   i s   a   g e n e r a l   c o n s e n s u s   t h a t   t h e   u s e   o f   t h e   m i r r o r   i m p r o v e s   p r o p r i o c e p t i o n   .',\n",
              " 'd u r i n g   r e h a b i l i t a t i o n   t h e   m i r r o r   i s   a n   i m p o r t a n t   i n s t r u m e n t   t o   i m p r o v e   s t a b i l i t y   .',\n",
              " 'i n   s o m e   s p o r t s   ,   s u c h   a s   d a n c i n g   ,   m i r r o r s   a r e   w i d e l y   u s e d   d u r i n g   t r a i n i n g   .',\n",
              " 't h e   p u r p o s e   o f   t h i s   s t u d y   i s   t o   e v a l u a t e   t h e   e f f e c t i v e n e s s   o f   t h e   u s e   o f   a   m i r r o r   o n   b a l a n c e   i n   y o u n g   d a n c e r s   .',\n",
              " 's i x t y - f o u r   y o u n g   d a n c e r s   (   r a n g i n g   f r o m   @ - @   y e a r s   )   w e r e   i n c l u d e d   i n   t h i s   s t u d y   .',\n",
              " 't h i r t y - t w o   a t t e n d i n g   l e s s o n s   w i t h   a   m i r r o r   (   m i r r o r   -   g r o u p   )   w e r e   c o m p a r e d   t o   @   y o u n g   d a n c e r s   t h a t   a t t e n d e d   t h e   s a m e   l e s s o n s   w i t h o u t   a   m i r r o r   (   n o n - m i r r o r   g r o u p   )   .',\n",
              " 'b a l a n c e   w a s   e v a l u a t e d   b y   b e s s   (   b a l a n c e   e r r o r   s c o r i n g   s y s t e m   )   ,   w h i c h   c o n s i s t s   o f   t h r e e   s t a n c e s   (   d o u b l e   l i m b   ,   s i n g l e   l i m b   ,   a n d   t a n d e m   )   o n   t w o   s u r f a c e s   (   f i r m   a n d   f o a m   )   .',\n",
              " 't h e   e r r o r s   w e r e   a s s e s s e d   a t   e a c h   s t a n c e   a n d   s u m m e d   t o   c r e a t e   t h e   t w o   s u b t o t a l   s c o r e s   (   f i r m   a n d   f o a m   s u r f a c e   )   a n d   t h e   f i n a l   t o t a l   s c o r e   (   b e s s   )   .',\n",
              " 't h e   b e s s   w a s   p e r f o r m e d   a t   r e c r u i t m e n t   (   t @   )   a n d   a f t e r   @ m o n t h s   o f   d a n c e   l e s s o n s   (   t @   )   .',\n",
              " 't h e   r e p e a t e d   m e a s u r e s   a n o v a   a n a l y s i s   s h o w e d   t h a t   f o r   t h e   b e s s   t o t a l   s c o r e   t h e r e   i s   a   d i f f e r e n c e   d u e   t o   t h e   t i m e   (   f   =   @   ;   p   <   @   )   .',\n",
              " 'n o   o t h e r   d i f f e r e n c e s   d u e   t o   t h e   g r o u p   o r   t o   t h e   t i m e   o f   m e a s u r e m e n t   w e r e   f o u n d   (   p   >   @   )   .',\n",
              " 't h e   a n a l y s i s   o f   t h e   m u l t i p l e   r e g r e s s i o n   m o d e l   s h o w e d   t h e   i n f l u e n c e   o f   t h e   v a l u e s   a t   t @   f o r   e v e r y   b e s s   i t e m s   a n d   t h e   d o m i n a n c e   o f   l i m b   f o r   s t a b i l i t y   o n   a n   u n s t a b l e   s u r f a c e   s t a n d i n g   o n   o n e   o r   t w o   l e g s   .',\n",
              " 't h e s e   p r e l i m i n a r y   r e s u l t s   s u g g e s t   t h a t   t h e   u s e   o f   a   m i r r o r   i n   a   b a l l e t   c l a s s r o o m   d o e s   n o t   i m p r o v e   b a l a n c e   a c q u i s i t i o n   o f   t h e   d a n c e r   .',\n",
              " 'o n   t h e   o t h e r   h a n d   ,   i m p r o v e m e n t   f o u n d   a f t e r   @ m o n t h s   c o n f i r m s   t h a t   a t   t h e   a g e   o f   t h e   d a n c e r s   s t u d i e d   m o t o r   s k i l l s   a n d   b a l a n c e   c a n   e a s i l y   b e   t r a i n e d   a n d   i m p r o v e d   .',\n",
              " 'l o n g - t e r m   f o l l o w - u p   s t u d i e s   d o c u m e n t i n g   m a i n t e n a n c e   o f   t r e a t m e n t   e f f e c t s   a r e   f e w i n   a d o l e s c e n t   a n o r e x i a   n e r v o s a   (   a n   )   .',\n",
              " 't h i s   e x p l o r a t o r y   s t u d y   r e p o r t s   r e l a p s e   f r o m   f u l l   r e m i s s i o n   a n d   a t t a i n m e n t   o f   r e m i s s i o n   d u r i n g   a   @ - y e a r   o p e n   f o l l o w - u p   p e r i o d   u s i n g   a   c o n v e n i e n c e   s a m p l e   o f   a   s u b g r o u p   o f   @   %   (   n   =   @   )   f r o m   a n   o r i g i n a l   c o h o r t   o f   @   p a r t i c i p a n t s   w h o   c o m p l e t e d   a   r a n d o m i z e d   c l i n i c a l   t r i a l   c o m p a r i n g   f a m i l y - b a s e d   t h e r a p y   (   f b t   )   a n d   a d o l e s c e n t - f o c u s e d   i n d i v i d u a l   t h e r a p y   (   a f t   )   .',\n",
              " 'f o l l o w - u p   a s s e s s m e n t s   w e r e   c o m p l e t e d   u p   t o   @ y e a r s   p o s t t r e a t m e n t   (   a v e r a g e   ,   @   y e a r s   )   .',\n",
              " 'a v a i l a b l e   p a r t i c i p a n t s   c o m p l e t e d   t h e   e a t i n g   d i s o r d e r   e x a m i n a t i o n   a s   w e l l   a s   s e l f - r e p o r t   m e a s u r e s   o f   s e l f - e s t e e m   a n d   d e p r e s s i o n   a t   @   t o   @   y e a r s   p o s t t r e a t m e n t   .',\n",
              " 't w o   p a r t i c i p a n t s   (   @   %   )   r e l a p s e d   (   f b t   :   n   =   @   ,   @   %   ;   a f t   :   n   =   @   ,   @   %   )   ,   o n   a v e r a g e   @   y e a r s   (   s d   =   @   y e a r s   )   a f t e r   r e m i s s i o n   w a s   a c h i e v e d   a t   @ - y e a r   f o l l o w - u p   .',\n",
              " 't e n   n e w   p a r t i c i p a n t s   (   @   %   )   a c h i e v e d   r e m i s s i o n   (   f b t   :   n   =   @   ,   @   %   ;   a f t   :   n   =   @   ,   @   %   )   .',\n",
              " 'm e a n   t i m e   t o   r e m i s s i o n   f o r   t h i s   g r o u p   w a s   @   y e a r s   (   s d   =   @   y e a r s   )   f r o m   @ - y e a r   f o l l o w - u p   .',\n",
              " 't h e r e   w e r e   n o   d i f f e r e n c e s   b a s e d   o n   t r e a t m e n t   g r o u p   a s s i g n m e n t   i n   e i t h e r   r e l a p s e   f r o m   f u l l   r e m i s s i o n   o r   n e w   r e m i s s i o n   d u r i n g   l o n g - t e r m   f o l l o w - u p   .',\n",
              " 'o t h e r   p s y c h o p a t h o l o g y   w a s   s t a b l e   o v e r   t i m e   .',\n",
              " 't h e r e   w e r e   f e w   c h a n g e s   i n   t h e   c l i n i c a l   p r e s e n t a t i o n   o f   p a r t i c i p a n t s   w h o   w e r e   a s s e s s e d   a t   l o n g - t e r m   f o l l o w - u p   .',\n",
              " 't h e s e   d a t a   s u g g e s t   t h a t   o u t c o m e s   a r e   g e n e r a l l y   s t a b l e   p o s t t r e a t m e n t   r e g a r d l e s s   o f   t r e a t m e n t   t y p e   o n c e   r e m i s s i o n   i s   a c h i e v e d   .',\n",
              " 'c l i n i c a l   t r i a l   r e g i s t r a t i o n   i n f o r m a t i o n - e f f e c t i v e n e s s   o f   f a m i l y - b a s e d   v e r s u s   i n d i v i d u a l   p s y c h o t h e r a p y   i n   t r e a t i n g   a d o l e s c e n t s   w i t h   a n o r e x i a   n e r v o s a   ;   h t t p : / / w w w . c l i n i c a l t r i a l s . g o v / ;   n c t @   .',\n",
              " 'c o r o n a r y   a r t e r y   b y p a s s   g r a f t i n g   u s i n g   t h e   r a d i a l   a r t e r y   h a s   ,   s i n c e   t h e   @ s   ,   g o n e   t h r o u g h   a   r e v i v a l   .',\n",
              " 'o b s e r v a t i o n a l   s t u d i e s   h a v e   i n d i c a t e d   b e t t e r   l o n g - t e r m   p a t e n c y   w h e n   u s i n g   r a d i a l   a r t e r i e s   .',\n",
              " 't h e r e f o r e   ,   r a d i a l   a r t e r y   m i g h t   b e   p r e f e r r e d   e s p e c i a l l y   i n   y o u n g e r   p a t i e n t s   w h e r e   l o n g   t i m e   p a t e n c y   i s   i m p o r t a n t   .',\n",
              " 'd u r i n g   t h e   l a s t   @ y e a r s   d i f f e r e n t   e n d o s c o p i c   t e c h n i q u e s   t o   h a r v e s t   t h e   r a d i a l   a r t e r y   h a v e   e v o l v e d   .',\n",
              " 'e n d o s c o p i c   r a d i a l   a r t e r y   h a r v e s t   o n l y   r e q u i r e s   a   s m a l l   i n c i s i o n   n e a r   t h e   w r i s t   i n   c o n t r a s t   t o   o p e n   h a r v e s t   ,   w h i c h   r e q u i r e s   a n   i n c i s i o n   f r o m   t h e   e l b o w   t o   t h e   w r i s t   .',\n",
              " 'h o w e v e r   ,   i t   i s   u n k n o w n   w h e t h e r   t h e   e n d o s c o p i c   t e c h n i q u e   r e s u l t s   i n   f e w e r   c o m p l i c a t i o n s   o r   a   g r a f t   p a t e n c y   c o m p a r a b l e   t o   o p e n   h a r v e s t   .',\n",
              " 'w h e n   t h e   r a d i a l   a r t e r y   h a s   b e e n   h a r v e s t e d   ,   t h e r e   a r e   t w o   w a y s   t o   u s e   t h e   r a d i a l   a r t e r y   a s   a   g r a f t   .',\n",
              " 'o n e   w a y   i s   s e w i n g   i t   o n t o   t h e   a o r t a   a n d   a n o t h e r   i s   s e w i n g   i t   o n t o   t h e   m a m m a r y   a r t e r y   .',\n",
              " 'i t   i s   u n k n o w n   w h i c h   t e c h n i q u e   i s   t h e   s u p e r i o r   r e v a s c u l a r i s a t i o n   t e c h n i q u e   .',\n",
              " 't h e   n e o   t r i a l   i s   a   r a n d o m i s e d   c l i n i c a l   t r i a l   w i t h   a   @   f a c t o r i a l   d e s i g n   .',\n",
              " 'w e   p l a n   t o   r a n d o m i s e   @   p a r t i c i p a n t s   i n t o   f o u r   i n t e r v e n t i o n   g r o u p s   :   (   @   )   m a m m a r i o - r a d i a l   e n d o s c o p i c   g r o u p   ;   (   @   )   a o r t o - r a d i a l   e n d o s c o p i c   g r o u p   ;   (   @   )   m a m m a r i o - r a d i a l   o p e n   s u r g e r y   g r o u p   ;   a n d   (   @   )   a o r t o - r a d i a l   o p e n   s u r g e r y   g r o u p . t h e   h a n d   f u n c t i o n   w i l l   b e   a s s e s s e d   b y   a   q u e s t i o n n a i r e   ,   a   c l i n i c a l   e x a m i n a t i o n   ,   t h e   c h a n g e   i n   c u t a n e o u s   s e n s i b i l i t y   ,   a n d   t h e   m e a s u r e m e n t   o f   b o t h   s e n s o r y   a n d   m o t o r   n e r v e   c o n d u c t i o n   v e l o c i t y   a t   @ m o n t h s   p o s t o p e r a t i v e l y   .',\n",
              " 'a l l   t h e   p o s t o p e r a t i v e   c o m p l i c a t i o n s   w i l l   b e   r e g i s t e r e d   ,   a n d   w e   w i l l   e v a l u a t e   m u s c u l a r   f u n c t i o n   ,   s c a r   a p p e a r a n c e   ,   v a s c u l a r   s u p p l y   t o   t h e   h a n d   ,   a n d   t h e   g r a f t   p a t e n c y   i n c l u d i n g   t h e   p a t e n c y   o f   t h e   c e n t r a l   r a d i a l   a r t e r y   a n a s t o m o s i s   .',\n",
              " 'a   p a t e n c y   e v a l u a t i o n   b y   m u l t i - s l i c e   c o m p u t e r   t o m o g r a p h y   w i l l   b e   d o n e   a t   o n e   y e a r   p o s t o p e r a t i v e l y . w e   e x p e c t   t h e   n e r v e   c o n d u c t i o n   s t u d i e s   a n d   t h e   s t a n d a r d i s e d   n e u r o l o g i c a l   e x a m i n a t i o n s   t o   b e   a b l e   t o   d i s c r i m i n a t e   d i f f e r e n c e s   i n   h a n d   f u n c t i o n   c o m p a r i n g   e n d o s c o p i c   t o   o p e n   h a r v e s t   o f   t h e   r a d i a l   a r t e r y   .',\n",
              " 't h e   t r i a l   a l s o   a i m s   t o   s h o w   i f   t h e r e   i s   a n y   p a t e n c y   d i f f e r e n c e   b e t w e e n   m a m m a r i o - r a d i a l   c o m p a r e d   t o   a o r t o - r a d i a l   r e v a s c u l a r i s a t i o n   t e c h n i q u e s   b u t   t h i s   o b j e c t i v e   i s   e x p l o r a t o r y   .',\n",
              " 'c l i n i c a l t r i a l s . g o v   i d e n t i f i e r   :   n c t @ . d a n i s h   e t h i c s   c o m m i t t e e   n u m b e r   :   h - @ - @ - @   .',\n",
              " 'd a n i s h   d a t a   p r o t e c t i o n   a g e n c y   :   @ - @ - @   /   j r .   n   : @   - @   .',\n",
              " 'k n o w l e d g e   o f   e s s e n t i a l   a m i n o   a c i d   r e q u i r e m e n t s   i n   i n f a n t s   i s   i m p o r t a n t   b e c a u s e   e x c e s s i v e   i n t a k e   o f   p r o t e i n   c a n   l e a d   t o   i n c r e a s e d   l o n g - t e r m   m o r b i d i t y   s u c h   a s   o b e s i t y   .',\n",
              " 'a   d e f i c i e n t   i n t a k e   m a y   l e a d   t o   s u b o p t i m a l   g r o w t h   a n d   i m p a i r e d   n e u r o d e v e l o p m e n t   .',\n",
              " 't h e   c u r r e n t   r e c o m m e n d e d   b r a n c h e d - c h a i n   a m i n o   a c i d   r e q u i r e m e n t s   i n   i n f a n t s   a g e d   @ - @   m o   a r e   b a s e d   o n   t h e   a m i n o   a c i d   c o n t e n t   o f   h u m a n   m i l k   .',\n",
              " 'w e   q u a n t i f i e d   t h e   r e q u i r e m e n t s   f o r   i s o l e u c i n e   ,   l e u c i n e   ,   a n d   v a l i n e   f o r   t e r m   n e o n a t e s   b y   u s i n g   t h e   i n d i c a t o r   a m i n o   a c i d   o x i d a t i o n   m e t h o d   w i t h   - l s b -   @   -   (   @   )   c   - r s b -   p h e n y l a l a n i n e   a s   t h e   i n d i c a t o r   .',\n",
              " 'f u l l y   e n t e r a l l y   f e d   t e r m   i n f a n t s   r e c e i v e d   r a n d o m l y   g r a d e d   a m o u n t s   o f   i s o l e u c i n e   (   @ - @   m g   k g   (   - @   )   d   (   - @   )   )   ,   l e u c i n e   (   @ - @   m g   k g   (   - @   )   d   (   - @   )   )   ,   o r   v a l i n e   (   @ - @   m g   k g   (   - @   )   d   (   - @   )   )   a s   p a r t   o f   a n   e l e m e n t a l   f o r m u l a   .',\n",
              " 'd a t a   a r e   e x p r e s s e d   a s   m e a n s   s d s   .',\n",
              " 'e i g h t y - t h r e e   a s i a n   ,   t e r m   n e o n a t e s   (   m e a n   s d   b i r t h   w e i g h t   :   @   @   k g   ;   g e s t a t i o n a l   a g e   :   @   @   w k   )   w e r e   s t u d i e d   a t   a   p o s t n a t a l   a g e   o f   @   @   d .   m e a n   r e q u i r e m e n t s   f o r   i s o l e u c i n e   ,   l e u c i n e   ,   a n d   v a l i n e   (   m e a s u r e d   i n   b o y s   o n l y   )   w e r e   @   m g   k g   (   - @   )   d   (   - @   )   (   r   (   @   )   =   @   ,   p   <   @   )   ,   @   m g   k g   (   - @   )   d   (   - @   )   (   r   (   @   )   =   @   ,   p   <   @   )   ,   a n d   @   m g   k g   (   - @   )   d   (   - @   )   (   r   (   @   )   =   @   ,   p   =   @   )   ,   r e s p e c t i v e l y   .',\n",
              " 'c u r r e n t   h u m a n   m i l k - b a s e d   r e c o m m e n d a t i o n s   f o r   i s o l e u c i n e   a n d   v a l i n e   i n   t e r m   i n f a n t s   a g e d   @ - @   m o   a r e   c o r r e c t   .',\n",
              " 'h o w e v e r   ,   t h e   c u r r e n t   r e c o m m e n d a t i o n   f o r   l e u c i n e   (   @   m g   k g   (   - @   )   d   (   - @   )   )   i s   h i g h e r   t h a n   t h e   m e a n   r e q u i r e m e n t   o f   @   m g   k g   (   - @   )   d   (   - @   )   t h a t   w e   d e t e r m i n e d   i n   t h i s   s t u d y   .',\n",
              " 't h i s   t r i a l   w a s   r e g i s t e r e d   a t   w w w . t r i a l r e g i s t e r . n l   a s   n t r @   .',\n",
              " 'w e   w a n t e d   t o   c o n f i r m   t h e   b e n e f i t   o f   m o m e t a s o n e   f u r o a t e   (   m f   )   i n   p r e v e n t i n g   a c u t e   r a d i a t i o n   r e a c t i o n s   ,   a s   s h o w n   i n   a   p r e v i o u s   s t u d y   (   b o s t r m   e t   a l   ,   r a d i o t h e r   o n c o l   @   ;   @ : @   - @   )   .',\n",
              " 't h e   s t u d y   w a s   a   d o u b l e - b l i n d   c o m p a r i s o n   o f   m f   w i t h   d   (   d i p r o b a s e   )   ,   a d m i n i s t e r e d   d a i l y   f r o m   t h e   s t a r t   o f   r a d i a t i o n   t h e r a p y   f o r   @   w e e k s   i n   p a t i e n t s   r e c e i v i n g   b r e a s t   r a d i a t i o n   t h e r a p y   ,   @   g y   i n   @ - g y   f r a c t i o n s   d a i l y   o v e r   @   w e e k s   .',\n",
              " 't h e   p r i m a r y   e n d p o i n t   w a s   m e a n   m o d i f i e d   r a d i a t i o n   t h e r a p y   o n c o l o g y   g r o u p   (   r t o g   )   s c o r e   .',\n",
              " 'm e a n   r t o g   s c o r e s   w e r e   s i g n i f i c a n t l y   l e s s   f o r   m f   t h a n   f o r   d   (   p   =   @   )   .',\n",
              " 'm a x i m u m   r t o g   a n d   m e a n   e r y t h e m a   s c o r e s   w e r e   s i g n i f i c a n t l y   l e s s   f o r   m f   t h a n   f o r   d   (   p   =   @   a n d   p   =   @   ,   r e s p e c t i v e l y   )   .',\n",
              " 't h e   d e r m a t o l o g y   l i f e   q u a l i t y   i n d e x   (   d l q i   )   s c o r e   w a s   s i g n i f i c a n t l y   l e s s   f o r   m f   t h a n   f o r   d   a t   w e e k s   @   a n d   @   w h e n   c o r r e c t e d   f o r   h o s p i t a l   a n x i e t y   a n d   d e p r e s s i o n   (   h a d   )   q u e s t i o n n a i r e   s c o r e s   .',\n",
              " 'm f   c r e a m   s i g n i f i c a n t l y   r e d u c e s   r a d i a t i o n   d e r m a t i t i s   w h e n   a p p l i e d   t o   t h e   b r e a s t   d u r i n g   a n d   a f t e r   r a d i a t i o n   t h e r a p y   .',\n",
              " 'f o r   t h e   f i r s t   t i m e   ,   w e   h a v e   s h o w n   a   s i g n i f i c a n t l y   b e n e f i c i a l   e f f e c t   o n   q u a l i t y   o f   l i f e   u s i n g   a   v a l i d a t e d   i n s t r u m e n t   (   d l q i   )   ,   f o r   a   t o p i c a l   s t e r o i d   c r e a m   .',\n",
              " 'w e   b e l i e v e   t h a t   a p p l i c a t i o n   o f   t h i s   c r e a m   s h o u l d   b e   t h e   s t a n d a r d   o f   c a r e   w h e r e   r a d i a t i o n   d e r m a t i t i s   i s   e x p e c t e d   .',\n",
              " 't o   c o m p a r e   t h e   i n t e r s t a g e   c a r d i a c   c a t h e t e r i z a t i o n   h e m o d y n a m i c   a n d   a n g i o g r a p h i c   f i n d i n g s   b e t w e e n   s h u n t   t y p e s   f o r   t h e   p e d i a t r i c   h e a r t   n e t w o r k   s i n g l e   v e n t r i c l e   r e c o n s t r u c t i o n   t r i a l   .',\n",
              " 't h e   t r i a l   ,   w h i c h   r a n d o m i z e d   s u b j e c t s   t o   a   m o d i f i e d   b l a l o c k - t a u s s i g   s h u n t   (   m b t s   )   o r   r i g h t   v e n t r i c l e - t o - p u l m o n a r y   a r t e r y   s h u n t   (   r v p a s   )   f o r   t h e   n o r w o o d   p r o c e d u r e   ,   d e m o n s t r a t e d   t h e   r v p a s   w a s   a s s o c i a t e d   w i t h   a   s m a l l e r   p u l m o n a r y   a r t e r y   d i a m e t e r   b u t   s u p e r i o r   @ - m o n t h   t r a n s p l a n t - f r e e   s u r v i v a l   .',\n",
              " 'w e   a n a l y z e d   t h e   p r e - s t a g e   i i   c a t h e t e r i z a t i o n   d a t a   f o r   t h e   t r i a l   s u b j e c t s   .',\n",
              " 't h e   h e m o d y n a m i c   v a r i a b l e s   a n d   s h u n t   a n d   p u l m o n a r y   a n g i o g r a p h i c   d a t a   w e r e   c o m p a r e d   b e t w e e n   s h u n t   t y p e s   ;   t h e i r   a s s o c i a t i o n   w i t h   @ - m o n t h   t r a n s p l a n t - f r e e   s u r v i v a l   w a s   a l s o   e v a l u a t e d   .',\n",
              " 'o f   @   r a n d o m i z e d   s u b j e c t s   ,   @   u n d e r w e n t   p r e - s t a g e   i i   c a t h e t e r i z a t i o n   .',\n",
              " 'a   s m a l l e r   s i z e   ,   l o w e r   a o r t i c   a n d   s u p e r i o r   v e n a   c a v a   s a t u r a t i o n   ,   a n d   h i g h e r   v e n t r i c u l a r   e n d - d i a s t o l i c   p r e s s u r e   w e r e   a s s o c i a t e d   w i t h   w o r s e   @ - m o n t h   t r a n s p l a n t - f r e e   s u r v i v a l   .',\n",
              " 't h e   m b t s   g r o u p   h a d   a   l o w e r   c o r o n a r y   p e r f u s i o n   p r e s s u r e   (   @   v s   @   m m   h g   ;   p   <   @   )   a n d   g r e a t e r   p u l m o n a r y   b l o o d   f l o w / s y s t e m i c   b l o o d   f l o w   r a t i o   (   @   v s   @   ,   p   =   @   )   .',\n",
              " 'a   g r e a t e r   p u l m o n a r y   b l o o d   f l o w / s y s t e m i c   b l o o d   f l o w   r a t i o   i n c r e a s e d   t h e   r i s k   o f   d e a t h   o r   t r a n s p l a n t a t i o n   o n l y   i n   t h e   r v p a s   g r o u p   (   p   =   @   )   .',\n",
              " 't h e   m b t s   g r o u p   h a d   f e w e r   s h u n t   (   @   %   v s   @   %   ,   p   =   @   )   a n d   s e v e r e   l e f t   p u l m o n a r y   a r t e r y   (   @   %   v s   @   %   ,   p   =   @   )   s t e n o s e s   ,   l a r g e r   m i d - m a i n   b r a n c h   p u l m o n a r y   a r t e r y   d i a m e t e r s   ,   a n d   g r e a t e r   n a k a t a   i n d e x e s   (   @   v s   @   ,   p   <   @   )   .',\n",
              " 'c o m p a r e d   w i t h   t h e   r v p a s   s u b j e c t s   ,   t h e   m b t s   s u b j e c t s   h a d   m o r e   h e m o d y n a m i c   a b n o r m a l i t i e s   r e l a t e d   t o   s h u n t   p h y s i o l o g y   ,   a n d   t h e   r v p a s   s u b j e c t s   h a d   m o r e   s h u n t   o r   p u l m o n a r y   o b s t r u c t i o n   o f   a   s e v e r e   d e g r e e   a n d   i n f e r i o r   p u l m o n a r y   a r t e r y   g r o w t h   a t   p r e - s t a g e   i i   c a t h e t e r i z a t i o n   .',\n",
              " 'a   l o w e r   b o d y   s u r f a c e   a r e a   ,   g r e a t e r   v e n t r i c u l a r   e n d - d i a s t o l i c   p r e s s u r e   ,   a n d   l o w e r   s u p e r i o r   v e n a   c a v a   s a t u r a t i o n   w e r e   a s s o c i a t e d   w i t h   w o r s e   @ - m o n t h   t r a n s p l a n t - f r e e   s u r v i v a l   .',\n",
              " 'i t   h a s   b e e n   h y p o t h e s i z e d   t h a t   t h e   d e v e l o p m e n t   o f   d i a b e t i c   p o l y n e u r o p a t h y   (   d p n   )   i s   d u e   t o   s w e l l i n g   o f   t h e   n e r v e   ,   a s   w e l l   a s   t h i c k e n i n g   a n d   s t i f f e n i n g   o f   t h e   s u r r o u n d i n g   l i g a m e n t s   ,   c a u s i n g   c h r o n i c   c o m p r e s s i o n   o f   n e r v e s   .',\n",
              " 'w e   a i m e d   t o   e x a m i n e   t h e   e f f e c t   o f   s u r g i c a l   d e c o m p r e s s i o n   o f   t h e   t i b i a l   n e r v e   o n   t h e   m e a n   c r o s s - s e c t i o n a l   a r e a   (   c s a   )   .',\n",
              " 'w e   p e r f o r m e d   a   r a n d o m i z e d   c o n t r o l l e d   t r i a l   o f   @   s u b j e c t s   w i t h   p a i n f u l   d p n   d i a g n o s e d   u s i n g   t h e   d i a b e t i c   n e u r o p a t h y   s c o r e   .',\n",
              " 'a   c o m p u t e r   r a n d o m i z e d   f o r   t h e   s u r g e r y   a r m   o f   t h e   s t u d y   .',\n",
              " 'a   c o n t r o l   g r o u p   c o n s i s t i n g   o f   @   h e a l t h y   s u b j e c t s   w a s   i n c l u d e d   .',\n",
              " 'a n   e x p e r i e n c e d   s o n o g r a p h e r   m e a s u r e d   t h e   c s a   a n d   t h i c k n e s s - t o - w i d t h   (   t / w   )   r a t i o   o f   t h e   t i b i a l   n e r v e   ,   a s   w e l l   a s   t h e   t h i c k n e s s   o f   t h e   f l e x o r   r e t i n a c u l u m   .',\n",
              " 'c s a   i s   s i g n i f i c a n t l y   l a r g e r   i n   p a t i e n t s   w i t h   p a i n f u l   d p n   (   @   @   m m   (   @   )   )   t h a n   i n   c o n t r o l   s u b j e c t s   (   @   @   m m   (   @   )   )   ,   p   =   @   .',\n",
              " 't h e   t / w   r a t i o   i n   p a t i e n t s   w i t h   p a i n f u l   d p n   i s   @   a n d   i n   c o n t r o l   s u b j e c t s   @   ,   p   =   @   .',\n",
              " 'p a t i e n t s   w i t h   d p n   h a v e   a   s i g n i f i c a n t l y   t h i c k e r   r e t i n a c u l u m   (   @   m m   )   t h a n   c o n t r o l   s u b j e c t s   (   @   m m   )   ,   p   <   @   .',\n",
              " 'm e a n   f o l l o w - u p   w a s   @   w e e k s   (   r a n g e   @ - @   )   .',\n",
              " 'd i f f e r e n c e   b e t w e e n   b a s e l i n e   a n d   f o l l o w - u p   i n   t h e   o p e r a t e d   l e g   w a s   @   m m   (   @   )   a n d   i n   t h e   c o n t r o l   l e g   @   m m   (   @   )   ,   p   =   @   .',\n",
              " 'd e c o m p r e s s i o n   o f   t h e   t i b i a l   n e r v e   d o e s   n o t   r e s u l t   i n   a   s i g n i f i c a n t   d i f f e r e n c e   b e t w e e n   b a s e l i n e   a n d   f o l l o w - u p   i n   c s a   u s i n g   u l t r a s o u n d   b e t w e e n   t h e   o p e r a t e d   a n d   c o n t r o l   l e g   .',\n",
              " 'u l t r a s o u n d   m e a s u r e m e n t s   s h o w   a   s i g n i f i c a n t l y   i n c r e a s e d   c s a   ,   a   s i g n i f i c a n t l y   t h i c k e r   r e t i n a c u l u m   ,   a n d   a   s i g n i f i c a n t l y   i n c r e a s e d   t / w   r a t i o   i n   p a t i e n t s   w i t h   p a i n f u l   d p n   c o m p a r e d   w i t h   h e a l t h y   c o n t r o l   s u b j e c t s   .',\n",
              " 'c l i n i c a l   t r i a l   r e g   .',\n",
              " 'n o   .',\n",
              " 'n t r @   ,   w w w . t r i a l r e g i s t e r . n l   .',\n",
              " 'a   c o m m u n i t y - b a s e d   r a n d o m i z e d   t r i a l   w a s   c o n d u c t e d   i n   c o s t a   r i c a   t o   e v a l u a t e   t h e   h p v - @   /   @   a s @ - a d j u v a n t e d   v a c c i n e   (   n c t @   )   .',\n",
              " 't h e   p r i m a r y   o b j e c t i v e   w a s   t o   e v a l u a t e   e f f i c a c y   o f   t h e   v a c c i n e   t o   p r e v e n t   c e r v i c a l   i n t r a e p i t h e l i a l   n e o p l a s i a   @   o r   m o r e   s e v e r e   d i s e a s e   (   c i n @   +   )   a s s o c i a t e d   w i t h   i n c i d e n t   h p v - @   /   @   c e r v i c a l   i n f e c t i o n s   .',\n",
              " 's e c o n d a r y   o b j e c t i v e s   w e r e   t o   e v a l u a t e   e f f i c a c y   a g a i n s t   c i n @   +   a s s o c i a t e d   w i t h   i n c i d e n t   c e r v i c a l   i n f e c t i o n   b y   a n y   o n c o g e n i c   h p v s   a n d   t o   e v a l u a t e   d u r a t i o n   o f   p r o t e c t i o n   a g a i n s t   i n c i d e n t   c e r v i c a l   i n f e c t i o n   w i t h   h p v - @   /   @   .',\n",
              " 'v a c c i n e   s a f e t y   a n d   i m m u n o g e n i c i t y   o v e r   t h e   @ - y e a r   f o l l o w - u p   w e r e   a l s o   e v a l u a t e d   .',\n",
              " 'w e   r a n d o m i z e d   (   @   h p v   a r m   ;   @   c o n t r o l   a r m   )   ,   v a c c i n a t e d   (   h p v - @   /   @   o r   h e p a t i t i s   a   )   a n d   f o l l o w e d   (   m e d i a n   @   m o n t h s   )   @   h e a l t h y   w o m e n   a g e d   @ - @   y e a r s   .',\n",
              " '@   w o m e n   (   @   h p v   a r m   ;   @   c o n t r o l   a r m   )   w e r e   i n c l u d e d   i n   t h e   a c c o r d i n g   t o   p r o t o c o l   a n a l y s i s   f o r   e f f i c a c y   .',\n",
              " 't h e   f u l l   c o h o r t   w a s   e v a l u a t e d   f o r   s a f e t y   .',\n",
              " 'i m m u n o g e n i c i t y   w a s   c o n s i d e r e d   o n   a   s u b s e t   o f   @   (   h p v - @   )   a n d   @   (   h p v - @   )   w o m e n   .',\n",
              " 'h p v   t y p e   w a s   a s s e s s e d   b y   p c r   o n   c e r v i c a l   s p e c i m e n s   .',\n",
              " 'i m m u n o g e n i c i t y   w a s   a s s e s s e d   u s i n g   e l i s a   a n d   i n h i b i t i o n   e n z y m e   i m m u n o a s s a y s   .',\n",
              " 'd i s e a s e   o u t c o m e s   w e r e   h i s t o l o g i c a l l y   c o n f i r m e d   .',\n",
              " 'v a c c i n e   e f f i c a c y   a n d   @   %   c o n f i d e n c e   i n t e r v a l s   (   @   %   c i   )   w e r e   c o m p u t e d   .',\n",
              " 'v a c c i n e   e f f i c a c y   w a s   @   %   (   @   %   c i   :   @ - @   @   ;   n   =   @   e v e n t s   t o t a l   )   a g a i n s t   h p v - @   /   @   a s s o c i a t e d   c i n @   +   ,   @   %   (   @   %   c i   :   @ - @   @   ;   n   =   @   e v e n t s   t o t a l   )   a g a i n s t   c i n @   +   a s s o c i a t e d   w i t h   n o n - h p v - @   /   @   o n c o g e n i c   h p v s   a n d   @   %   (   @   %   c i   :   @ - @   @   ;   n   =   @   e v e n t s   t o t a l   )   a g a i n s t   c i n @   +   i r r e s p e c t i v e   o f   h p v   t y p e   .',\n",
              " 't h e   v a c c i n e   h a d   a n   a c c e p t a b l e   s a f e t y   p r o f i l e   a n d   i n d u c e d   r o b u s t   a n d   l o n g - l a s t i n g   a n t i b o d y   r e s p o n s e s   .',\n",
              " 'o u r   f i n d i n g s   c o n f i r m   t h e   h i g h   e f f i c a c y   a n d   i m m u n o g e n i c i t y   o f   t h e   h p v - @   /   @   v a c c i n e   a g a i n s t   i n c i d e n t   h p v   i n f e c t i o n s   a n d   c e r v i c a l   d i s e a s e   a s s o c i a t e d   w i t h   h p v - @   /   @   a n d   o t h e r   o n c o g e n i c   h p v   t y p e s   .',\n",
              " 't h e s e   r e s u l t s   w i l l   s e r v e   a s   a   b e n c h m a r k   t o   w h i c h   w e   c a n   c o m p a r e   f u t u r e   f i n d i n g s   f r o m   t h e   o n g o i n g   e x t e n d e d   f o l l o w - u p   o f   p a r t i c i p a n t s   i n   t h e   c o s t a   r i c a   t r i a l   .',\n",
              " 'r e g i s t e r e d   w i t h   c l i n i c a l t r i a l s . g o v   :   n c t @   .',\n",
              " 't h e r e   i s   a   l o n g - h e l d   c o n c e p t   a m o n g   s p i n e   s u r g e o n s   t h a t   e n d o s c o p i c   l u m b a r   d i s c e c t o m y   p r o c e d u r e s   a r e   r e s e r v e d   f o r   s m a l l - c o n t a i n e d   d i s c   h e r n i a t i o n   ;   @ - y e a r   f o l l o w - u p   h a s   n o t   b e e n   r e p o r t e d   .',\n",
              " 't h e   p u r p o s e   o f   t h i s   s t u d y   i s   t o   a s s e s s   m i c r o e n d o s c o p i c   d i s c e c t o m y   (   m e d   )   i n   p a t i e n t s   w i t h   l a r g e   u n c o n t a i n e d   l u m b a r   d i s c   h e r n i a t i o n   (   t h e   a n t e r o - p o s t e r i o r   d i a m e t e r   o f   t h e   e x t r u d e d   f r a g m e n t   i s   @ - @   m m   o r   m o r e   o n   a x i a l   c u t s   o f   m r i   )   a n d   r e p o r t   l o n g - t e r m   o u t c o m e   .',\n",
              " 'o n e   h u n d r e d   e i g h t y - f i v e   p a t i e n t s   w i t h   m e d   o r   s t a n d a r d   o p e n   d i s c e c t o m y   u n d e r w e n t   f o l l o w - u p   f o r   @   y e a r s   .',\n",
              " 'p r i m a r y   (   c l i n i c a l   )   o u t c o m e s   d a t a   i n c l u d e d   n u m e r i c a l   r a t i n g   s c a l e   (   n r s   )   f o r   b a c k   a n d   l e g   s y m p t o m s   a n d   o s w e s t r y   d i s a b i l i t y   i n d e x   (   o d i   )   t o   q u a n t i f y   p a i n   a n d   d i s a b i l i t y   ,   r e s p e c t i v e l y   .',\n",
              " 's e c o n d a r y   (   o b j e c t i v e   )   o u t c o m e s   d a t a   i n c l u d e d   o p e r a t i v e   t i m e   ,   b l o o d   l o s s   ,   p o s t o p e r a t i v e   a n a l g e s i c s   ,   l e n g t h   o f   h o s p i t a l   s t a y   ,   t i m e   t o   r e t u r n   t o   w o r k   ,   r e o p e r a t i o n   a n d   c o m p l i c a t i o n   r a t e   ,   p a t i e n t   s a t i s f a c t i o n   i n d e x   (   p s i   )   ,   a n d   m o d i f i e d   (   m a c n a b   )   c r i t e r i a   .',\n",
              " 'a t   t h e   e n d   o f   t h e   f o l l o w - u p   ,   t h e   l e g   p a i n   r e l i e f   w a s   s t a t i s t i c a l l y   s i g n i f i c a n t   f o r   b o t h   g r o u p s   .',\n",
              " 'n r s   b a c k   p a i n   ,   o d i   ,   p s i   a n d   m a c n a b   c r i t e r i a   s h o w e d   s i g n i f i c a n t   d e t e r i o r a t i o n   f o r   c o n t r o l   g r o u p   .',\n",
              " 's e c o n d a r y   o u t c o m e s   d a t a   o f   m e d   g r o u p   w e r e   s i g n i f i c a n t l y   b e t t e r   t h a n   t h e   c o n t r o l   g r o u p   .',\n",
              " 'l a r g e   ,   u n c o n t a i n e d   ,   l u m b a r   d i s c   h e r n i a t i o n s   c a n   b e   s u f f i c i e n t l y   r e m o v e d   u s i n g   m e d   w h i c h   i s   a n   e f f e c t i v e   a l t e r n a t i v e   t o   o p e n   d i s c e c t o m y   p r o c e d u r e s   w i t h   r e m a r k a b l e   l o n g - t e r m   o u t c o m e   .',\n",
              " 'a l t h o u g h   t h e   n e u r o l o g i c a l   o u t c o m e   o f   t h e   t w o   p r o c e d u r e s   i s   t h e   s a m e   ,   t h e   m o r b i d i t y   o f   m e d   i s   s i g n i f i c a n t l y   l e s s   t h a n   o p e n   d i s c e c t o m y   .',\n",
              " 'm a x i m u m   b e n e f i t   c a n   b e   g a i n e d   i f   w e   a d h e r e   t o   s t r i c t   s e l e c t i o n   c r i t e r i a   .',\n",
              " 't h e   o p t i m u m   i n d i c a t i o n   i s   s i n g l e   -   o r   m u l t i - l e v e l   r a d i c u l o p a t h y   s e c o n d a r y   t o   a   s i n g l e - l e v e l   ,   l a r g e   ,   u n c o n t a i n e d   ,   l u m b a r   d i s c   h e r n i a t i o n   .',\n",
              " 'h e a r t   f a i l u r e   (   h f   )   p a t i e n t s   s u f f e r   f r o m   f r e q u e n t   a n d   r e p e a t e d   h o s p i t a l i z a t i o n s   ,   c a u s i n g   a   s u b s t a n t i a l   e c o n o m i c   b u r d e n   o n   s o c i e t y   .',\n",
              " 'h o s p i t a l i z a t i o n s   c a n   b e   r e d u c e d   c o n s i d e r a b l y   b y   b e t t e r   c o m p l i a n c e   w i t h   s e l f - c a r e   .',\n",
              " \"h o m e   t e l e m o n i t o r i n g   h a s   t h e   p o t e n t i a l   t o   b o o s t   p a t i e n t s   '   c o m p l i a n c e   w i t h   s e l f - c a r e   ,   a l t h o u g h   t h e   r e s u l t s   a r e   s t i l l   c o n t r a d i c t o r y   .\",\n",
              " 'a   r a n d o m i z e d   c o n t r o l l e d   t r i a l   w a s   c o n d u c t e d   i n   o r d e r   t o   s t u d y   w h e t h e r   t h e   m u l t i d i s c i p l i n a r y   c a r e   o f   h e a r t   f a i l u r e   p a t i e n t s   p r o m o t e d   w i t h   t e l e m o n i t o r i n g   l e a d s   t o   d e c r e a s e d   h f - r e l a t e d   h o s p i t a l i z a t i o n   .',\n",
              " 'h f   p a t i e n t s   w e r e   e l i g i b l e   w h o s e   l e f t   v e n t r i c u l a r   e j e c t i o n   f r a c t i o n   w a s   l o w e r   t h a n   @   %   ,   n y h a   f u n c t i o n a l   c l a s s   @   ,   a n d   w h o   n e e d e d   r e g u l a r   f o l l o w - u p   .',\n",
              " 'p a t i e n t s   i n   t h e   t e l e m o n i t o r i n g   g r o u p   (   n   =   @   )   m e a s u r e d   t h e i r   b o d y   w e i g h t   ,   b l o o d   p r e s s u r e   ,   a n d   p u l s e   a n d   a n s w e r e d   s y m p t o m - r e l a t e d   q u e s t i o n s   o n   a   w e e k l y   b a s i s   ,   r e p o r t i n g   t h e i r   v a l u e s   t o   t h e   h e a r t   f a i l u r e   n u r s e   u s i n g   a   m o b i l e   p h o n e   a p p   .',\n",
              " 't h e   h e a r t   f a i l u r e   n u r s e   f o l l o w e d   t h e   s t a t u s   o f   p a t i e n t s   w e e k l y   a n d   i f   n e c e s s a r y   c o n t a c t e d   t h e   p a t i e n t   .',\n",
              " 't h e   p r i m a r y   o u t c o m e   w a s   t h e   n u m b e r   o f   h f - r e l a t e d   h o s p i t a l   d a y s   .',\n",
              " 'c o n t r o l   p a t i e n t s   (   n   =   @   )   r e c e i v e d   m u l t i d i s c i p l i n a r y   t r e a t m e n t   a c c o r d i n g   t o   s t a n d a r d   p r a c t i c e s   .',\n",
              " \"p a t i e n t s   '   c l i n i c a l   s t a t u s   ,   u s e   o f   h e a l t h   c a r e   r e s o u r c e s   ,   a d h e r e n c e   ,   a n d   u s e r   e x p e r i e n c e   f r o m   t h e   p a t i e n t s   '   a n d   t h e   h e a l t h   c a r e   p r o f e s s i o n a l s   '   p e r s p e c t i v e   w e r e   s t u d i e d   .\",\n",
              " 'a d h e r e n c e   ,   c a l c u l a t e d   a s   a   p r o p o r t i o n   o f   w e e k l y   s u b m i t t e d   s e l f - m e a s u r e m e n t s   ,   w a s   c l o s e   t o   @   %   .',\n",
              " 'n o   d i f f e r e n c e   w a s   f o u n d   i n   t h e   n u m b e r   o f   h f - r e l a t e d   h o s p i t a l   d a y s   (   i n c i d e n c e   r a t e   r a t i o   - l s b -   i r r   - r s b -   =   @   ,   p   =   @   )   ,   w h i c h   w a s   t h e   p r i m a r y   o u t c o m e   .',\n",
              " 't h e   i n t e r v e n t i o n   g r o u p   u s e d   m o r e   h e a l t h   c a r e   r e s o u r c e s   :   t h e y   p a i d   a n   i n c r e a s e d   n u m b e r   o f   v i s i t s   t o   t h e   n u r s e   (   i r r   =   @   ,   p   <   @   )   ,   s p e n t   m o r e   t i m e   a t   t h e   n u r s e   r e c e p t i o n   (   m e a n   d i f f e r e n c e   o f   @   m i n u t e s   ,   p   <   @   )   ,   a n d   t h e r e   w a s   a   g r e a t e r   n u m b e r   o f   t e l e p h o n e   c o n t a c t s   b e t w e e n   t h e   n u r s e   a n d   i n t e r v e n t i o n   p a t i e n t s   (   i r r   =   @   ,   p   <   @   f o r   n u r s e - i n d u c e d   c o n t a c t s   a n d   i r r   =   @   ,   p   =   @   f o r   p a t i e n t - i n d u c e d   c o n t a c t s   )   .',\n",
              " \"t h e r e   w e r e   n o   s t a t i s t i c a l l y   s i g n i f i c a n t   d i f f e r e n c e s   i n   p a t i e n t s   '   c l i n i c a l   h e a l t h   s t a t u s   o r   i n   t h e i r   s e l f - c a r e   b e h a v i o r   .\",\n",
              " 't h e   t e c h n o l o g y   r e c e i v e d   e x c e l l e n t   f e e d b a c k   f r o m   t h e   p a t i e n t   a n d   p r o f e s s i o n a l   s i d e   w i t h   a   h i g h   a d h e r e n c e   r a t e   t h r o u g h o u t   t h e   s t u d y   .',\n",
              " \"h o m e   t e l e m o n i t o r i n g   d i d   n o t   r e d u c e   t h e   n u m b e r   o f   p a t i e n t s   '   h f - r e l a t e d   h o s p i t a l   d a y s   a n d   d i d   n o t   i m p r o v e   t h e   p a t i e n t s   '   c l i n i c a l   c o n d i t i o n   .\",\n",
              " 'p a t i e n t s   i n   t h e   t e l e m o n i t o r i n g   g r o u p   c o n t a c t e d   t h e   c a r d i o l o g y   o u t p a t i e n t   c l i n i c   m o r e   f r e q u e n t l y   ,   a n d   o n   t h i s   w a y   i n c r e a s e d   t h e   u s e   o f   h e a l t h   c a r e   r e s o u r c e s   .',\n",
              " 'c l i n i c a l t r i a l s . g o v   n c t @   ;   h t t p : / / c l i n i c a l t r i a l s . g o v / s h o w / n c t @   (   a r c h i v e d   b y   w e b c i t e   a t   h t t p : / / w w w . w e b c i t a t i o n . o r g / @ u f x i c k @ z   )   .',\n",
              " 'p r o b i o t i c s   h e l p   m a i n t a i n   b a l a n c e   i n   c o m p o s i t i o n   o f   t h e   g u t   m i c r o b i o t a   ,   a n d   h a v e   b e e n   c o n s i d e r e d   a s   a   p o t e n t i a l   t r e a t m e n t   f o r   o b e s i t y   .',\n",
              " 't h i s   s t u d y   w a s   c o n d u c t e d   i n   o r d e r   t o   a s s e s s   t h e   e f f e c t s   o f   p r o b i o t i c s   w h e n   c o m b i n e d   w i t h   h e r b a l   m e d i c i n e   i n   t r e a t m e n t   o f   o b e s i t y   .',\n",
              " 'p r o b i o t i c s   w e r e   t e s t e d   f o r   t h e   a b i l i t y   t o   m o d u l a t e   g u t   m i c r o b i o t a   ,   g u t   p e r m e a b i l i t y   ,   a n d   e n d o t o x i n   l e v e l   ,   w h i c h   m a y   h a v e   c o r r e l a t i o n   w i t h   f a c t o r s   i n v o l v e d   i n   o b e s i t y   .',\n",
              " 'a   r a n d o m i z e d   ,   d o u b l e - b l i n d   ,   p l a c e b o   c o n t r o l l e d   s t u d y   w a s   c o n d u c t e d   ,   i n   w h i c h   p a t i e n t s   w i t h   h i g h e r   b m i   (   >   @ k g / m   (   @   )   )   a n d   w a i s t   c i r c u m f e r e n c e   (   >   @ c m   )   w e r e   e n r o l l e d   a n d   r a n d o m l y   a s s i g n e d   t o   r e c e i v e   b o f u t s u s h o s a n   w i t h   e i t h e r   p r o b i o t i c s   o r   p l a c e b o   c a p s u l e s   f o r   a   p e r i o d   o f   e i g h t   w e e k s   .',\n",
              " 'a s s e s s m e n t   o f   b o d y   c o m p o s i t i o n   p a r a m e t e r s   ,   m e t a b o l i c   b i o m a r k e r s   ,   e n d o t o x i n   l e v e l   ,   g u t   p e r m e a b i l i t y   ,   a n d   f e c a l   b a c t e r i a   i n   s t o o l   w a s   p e r f o r m e d   a t   b a s e l i n e   a n d   a t   w e e k   @   .',\n",
              " 't h e   s t u d y   w a s   r e g i s t e r e d   a t   t h e   c l i n i c a l   r e s e a r c h   i n f o r m a t i o n   s e r v i c e   ,   a p p r o v e d   b y   t h e   k o r e a   n a t i o n a l   i n s t i t u t e   o f   h e a l t h   (   k c t @   )   .',\n",
              " 'a l t h o u g h   b o t h   g r o u p s   s h o w e d   a   s i g n i f i c a n t   r e d u c t i o n   i n   w e i g h t   a n d   w a i s t   c i r c u m f e r e n c e   (   p   =   @   )   ,   n o   s i g n i f i c a n t   d i f f e r e n c e s   i n   b o d y   c o m p o s i t i o n   a n d   m e t a b o l i c   m a r k e r s   w e r e   o b s e r v e d   .',\n",
              " 'i n   c o r r e l a t i o n   a n a l y s i s   ,   c h a n g e   i n   b o d y   c o m p o s i t i o n   s h o w e d   p o s i t i v e   c o r r e l a t i o n   w i t h   e n d o t o x i n   l e v e l   (   r   =   @   ,   p   <   @   f o r   b w   ;   a n d   r   =   @   ,   p   <   @   f o r   f a t   m a s s   )   a n d   t h e   p o p u l a t i o n   o f   g u t   l a c t o b a c i l l u s   p l a n t a r u m   (   r   =   @   ,   p   <   @   f o r   b w   ;   a n d   r   =   @   ,   p   <   @   f o r   b m i   )   .',\n",
              " 't h e   g r a m   n e g a t i v e   b a c t e r i a l   p o p u l a t i o n   i n   g u t   a l s o   e x h i b i t e d   p o s i t i v e   c o r r e l a t i o n   w i t h   c h a n g e s   i n   b o d y   c o m p o s i t i o n   (   w c   )   a n d   t o t a l   c h o l e s t e r o l   l e v e l   (   r   =   @   ,   a n d   @   ,   f o r   t h e   f o r m e r   a n d   l a t e r   p a r a m e t e r s   ,   r e s p e c t i v e l y   ,   p   <   @   f o r   b o t h   )   .',\n",
              " 'w h i l e   ,   t h e   p r o f i l e   o f   g u t   b i f i d o b a c t e r i u m   b r e v e   p o p u l a t i o n   s h o w e d   n e g a t i v e   c o r r e l a t i o n   w i t h   e n d o t o x i n   l e v e l   (   r   =   - @   ,   p   <   @   )   .',\n",
              " 'c o r r e l a t i o n s   b e t w e e n   g u t   m i c r o b i o t a   a n d   c h a n g e   i n   b o d y   c o m p o s i t i o n   i n d i c a t e   t h a t   p r o b i o t i c s   m a y   i n f l u e n c e   e n e r g y   m e t a b o l i s m   i n   o b e s i t y   .',\n",
              " 'c o r r e l a t i o n   b e t w e e n   e n d o t o x i n   l e v e l   a n d   w e i g h t   r e d u c t i o n   i n d i c a t e s   t h a t   p r o b i o t i c s   m a y   p l a y   a n   i m p o r t a n t   r o l e   i n   p r e v e n t i o n   o f   e n d o t o x i n   p r o d u c t i o n   ,   w h i c h   c a n   l e a d   t o   g u t   m i c r o b i o t a   d y s b i o s i s   a s s o c i a t e d   w i t h   o b e s i t y   .',\n",
              " 't h e   o b j e c t i v e   o f   t h i s   s t u d y   i s   t o   a n a l y z e   t h e   e f f e c t s   o f   a   @ - w e e k   i n d o o r   i n t e r m i t t e n t   t r a i n i n g   p r o g r a m   o n   l u n g   f u n c t i o n   ,   p h y s i c a l   c a p a c i t y   ,   b o d y   c o m p o s i t i o n   a n d   q u a l i t y   o f   l i f e   i n   c h i l d r e n   w i t h   a s t h m a   .',\n",
              " 'p a r t i c i p a n t s   w e r e   r a n d o m i z e d   i n   a n   e x p e r i m e n t a l   g r o u p   (   e g   ,   @   c h i l d r e n   ,   a g e   =   @   y e a r s   )   a n d   i n   a   c o n t r o l   g r o u p   (   c g   ,   @   c h i l d r e n   ,   a g e   =   @   y e a r s   )   .',\n",
              " 't h e   t r a i n i n g   p r o g r a m   w a s   c o n d u c t e d   i n d o o r s   a n d   c o n s i s t e d   o f   a l t e r n a t i n g   h i g h   -   a n d   l o w - i n t e n s i t y   s t i m u l i   ,   f o r   t h r e e   s e s s i o n s   o f   @ m i n / w e e k   ,   f o r   @   w e e k s   .',\n",
              " \"p h y s i c a l   e x e r c i s e   a n d   s p o r t s   a c t i v i t i e s   w e r e   o r g a n i z e d   t o   f o l l o w   t h e   c r i t e r i a   o f   t h e   a m e r i c a n   c o l l e g e   o f   s p o r t s   m e d i c i n e   (   @   )   a n d   p r e v i o u s   i n t e r v e n t i o n s   '   s t u d i e s   .\",\n",
              " 'i n   e g   ,   t h e r e   w a s   a   s i g n i f i c a n t   i m p r o v e m e n t   (   p   <   @   )   i n   f e v @   ,   f e v @   ,   @ m w t   ,   h a n d g r i p   s t r e n g t h   ,   c m j   a n d   f l e x i b i l i t y   .',\n",
              " 'r e d u c t i o n s   i n   b m i   a n d   f a t   m a s s   a s   w e l l   a s   a n   i n c r e a s e   i n   q u a l i t y   o f   l i f e   w e r e   a l l   s h o w n   .',\n",
              " 't h e   d y s p n e a   i n d e x   d e c r e a s e d   s i g n i f i c a n t l y   a n d   t h e r e   w e r e   n o   e p i s o d e s   o f   e i a   .',\n",
              " 't h e r e   i s   a   s i g n i f i c a n t   p o s i t i v e   c o r r e l a t i o n   (   p   <   @   )   b e t w e e n   t h e   f e v @   w i t h   h a n d g r i p   s t r e n g t h   a n d   @ m w t   a n d   a   n e g a t i v e   c o r r e l a t i o n   w i t h   f a t   m a s s   .',\n",
              " 'a n   i n d o o r   i n t e r m i t t e n t   t r a i n i n g   p r o g r a m   w i t h   t h e s e   c h a r a c t e r i s t i c s   h a s   i m p r o v e d   l u n g   f u n c t i o n   ,   p h y s i c a l   c a p a c i t y   ,   b o d y   c o m p o s i t i o n   a n d   q u a l i t y   o f   l i f e   i n   c h i l d r e n   w i t h   a s t h m a   .',\n",
              " 't h e s e   t r a i n i n g   a d a p t a t i o n s   a r e   p a r t i c u l a r l y   r e l e v a n t   f o r   t h o s e   p a t i e n t s   s u f f e r i n g   f r o m   a s t h m a   a s   a   r e g u l a r   p h y s i c a l   e x e r c i s e   r o u t i n e   w i l l   g r e a t l y   i m p r o v e   t h e i r   q u a l i t y   o f   l i f e   .',\n",
              " 't o   o b s e r v e   t h e   e f f i c a c y   o f   c a t g u t   i m p l a n t a t i o n   a t   b a c k - s h u   p o i n t s   i n   t r e a t m e n t   o f   m i l d   p e r i m e n o p a u s a l   d e p r e s s i o n   o f   k i d n e y   ,   d e f i c i e n c y   a n d   l i v e r   s t a g n a t i o n   s y n d r o m e   a n d   a n a l y z e   i t s   e s s e n t i a l   f u n c t i o n   o n   t a r g e t   s y m p t o m s   .',\n",
              " 'f o r t y - f i v e   c a s e s   w e r e   r a n d o m i z e d   i n t o   a   c a t g u t   i m p l a n t a t i o n   g r o u p   (   @   c a s e s   )   a n d   a t i d   a c u p u n c t u r e   g r o u p   (   @   c a s e s   )   .',\n",
              " 'i n   t h e   c a t g u t   i m p l a n t a t i o n   g r o u p   ,   c a t g u t s   w e r e   i m p l a n t e d   a t   s h e n s h u   (   b l   @   )   ,   g a n s h u   (   b l   @   )   ,   x i n s h u   (   b l   @   )   ,   p i s h u   (   b l   @   )   ,   e t c .   ,   o n c e   e v e r y   w e e k   .',\n",
              " 'i n   t h e   a c u p u n c t u r e   g r o u p   ,   t h e   c o n v e n t i o n a l   a c u p u n c t u r e   w a s   a p p l i e d   t o   t h e   s a m e   a c u p o i n t s   a s   t h e   c a t g u t   i m p l a n t a t i o n   g r o u p   ,   o n c e   e v e r y   t w o   d a y s   .',\n",
              " 't h e   :   t r e a t m e n t   o f   @   w e e k s   m a d e   o n e   s e s s i o n   ,   a n d   c o n t i n u o u s   @   s e s s i o n s   w e r e   r e q u i r e d   .',\n",
              " 't h e   e f f i c a c y   w a s   e v a l u a t e d   i n   ,   @   s e s s i o n s   .',\n",
              " 't h e   f o l l o w - u p   s t a r t e d   i n   t h e   @ t h   w e e k   .',\n",
              " 'b e f o r e   t r e a t m e n t   ,   a f t e r   t r e a t m e n t   a n d   i n   t h e   f o l l o w - u p   p e r i o d   ,   k u p p e r m a n   s c o r e   a n d   t h e   t o t a l   s c o r e   i n   h a m i l t o n   d e p r e s s i o n   s c a l e   (   h a m d   )   ,   a s   w e l l   a s   t h e   f a c t o r   s c o r e   w e r e   o b s e r v e d   i n   t h e   p a t i e n t s   s e p a r a t e l y   .',\n",
              " 'k u p p e r m a n   s c o r e   ,   t h e   t o t a l   h a m d   s c o r e   a n d   t h e   s c o r e s   i n   t h e   i t e m s   o f   a n x i e t y / s o m a t i z a t i o n   ,   r e t a r d a t i o n   ,   s l e e p   d i s o r d e r   a n d   c o g n i t i v e   d i s o r d e r   a f t e r   t r e a t m e n t   w e r e   a l l   r e d u c e d   s i g n i f i c a n t l y   a s   c o m p a r e d   w i t h   t h o s e   b e f o r e   t r e a t m e n t   i n   t h e   t w o   g r o u p s   (   p   <   @   ,   p   <   @   )   .',\n",
              " 'i n   t h e   f o l l o w - u p   p e r i o d   ,   t h e   d i f f e r e n c e   i n   k u p p e r m a n   w a s   n o t   s i g n i f i c a n t   i n   c o m p a r i s o n   w i t h   t h a t   a f t e r   t r e a t m e n t   i n   t h e   c a t g u t   i m p l a n t a t i o n   :   g r o u p   (   p   >   @   )   .',\n",
              " 't h e   t o t a l   h a m d   s c o r e   a n d   s l e e p   d i s o r d e r   w e r e   r e d u c e d   s i g n i f i c a n t l y   a s   c o m p a r e d   w i t h   t h o s e   a f t e r   t r e a t m e n t   i n   t h e   c a t g u t   i m p l a n t a t i o n   g r o u p   (   b o t h   p   <   @   )   ;   i n   t h e   a c u p u n c t u r e   g r o u p   ,   k u p p e r m a n   s c o r e   ,   t h e   t o t a l   h a m d   s c o r e   a n d   s l e e p   d i s o r d e r   w e r e   a l l   i n c r e a s e d   a s   c o m p a r e d   w i t h   t h o s e   a f t e r   t r e a t m e n t   (   a l l   p   <   @   )   .',\n",
              " 'i n   ;   t h e   c a t g u t   i m p l a n t a t i o n   g r o u p   ,   t h e   t o t a l   h a m d   s c o r e   w a s   l o w e r   t h a n   t h a t   i n   t h e   a c u p u n c t u r e   g r o u p   (   p   <   @   )   ,   a n d   t h e   s c o r e s   i n   t h e   i t e m s   o f   r e t a r d a t i o n   a n d   s l e e p   d i s o r d e r   w e r e   r e d u c e d   s i g n i f i c a n t l y   a s   c o m p a r e d   w i t h   t h o s e   i n   t h e   a c u p u n c t u r e   g r o u p   (   b o t h   p   <   @   )   .',\n",
              " 't h e   c a t g u t   i m p l a n t a t i o n   a t   b a c k - s h u   p o i n t s   a l l e v i a t e s   p e r i m e n o p a s u a l   s y m p t o n   i s   i n   p a t i e n t s   o f   m i l d   p e r i m e n o p a u s a l   d e p r e s s i o n   o f   k i d n e y   d e f i c i e n c y   a n d   l i v e r   s t a g n a t i o n   s y n d r o m e   .',\n",
              " \"t h i s   t h e r a p y   e f f e c t i v e l y   r e l i e v e s   d e p r e s s i v e   d i s o r d e r s   b y   r e g u l a t i n g   t h e   t a r g e t   s y m p t o m s   s u c h   a s   a n x i e t y   /   s o m a t i z a t i o n   ,   r e t a r d a t i o n   ,   s l e e p   d i s o r d e r   a n d   c o g n i t i v e   '   d i s o r d e r   .\",\n",
              " 't h e   l o n g - t e r m   e f f i c a c y   o f   t h i s   t h e r a p y   i s   b e t t e r   t h a n   t h e   c o n v e n t i o n a l   a c u p u n c t u r e   .',\n",
              " 'u p   t o   @   %   o f   p a t i e n t s   w h o   u n d e r g o   a   p e r c u t a n e o u s   c o r o n a r y   i n t e r v e n t i o n   s h o w   s o m e   l i m i t a t i o n   i n   t h e   u s e   o f   d r u g - e l u t i n g   s t e n t s   .',\n",
              " 't h e   a i m   o f   t h i s   s t u d y   w a s   t o   e v a l u a t e   i f   t i t a n i u m - n i t r i d e - o x i d e - c o a t e d   s t e n t s   c o u l d   b e   a   g o o d   a l t e r n a t i v e   t o   e v e r o l i m u s - e l u t i n g   s t e n t s   i n   d i a b e t i c   p a t i e n t s   .',\n",
              " 'a   t o t a l   o f   @   d i a b e t i c   p a t i e n t s   w i t h   l e s i o n s   a t   m o d e r a t e   r i s k   o f   r e s t e n o s i s   (   e x c l u s i o n   c r i t e r i a   :   d i a m e t e r   <   @   m m   o r   l e n g t h   >   @   m m   i n   v e s s e l s   <   @ m m   ,   c h r o n i c   o c c l u s i o n   )   w e r e   r a n d o m i z e d   t o   a   t i t a n i u m   g r o u p   (   @   p a t i e n t s   )   o r   a n   e v e r o l i m u s   g r o u p   (   @   p a t i e n t s   )   .',\n",
              " 'b a s e l i n e   c h a r a c t e r i s t i c s   w e r e   w e l l   b a l a n c e d   ;   @   %   o f   p a t i e n t s   w e r e   i n s u l i n   d e p e n d e n t   .',\n",
              " 'a t   @   y e a r   ,   t h e   i n c i d e n c e   o f   m a j o r   a d v e r s e   c a r d i a c   e v e n t s   (   d e a t h   ,   n o n f a t a l   m y o c a r d i a l   i n f a r c t i o n   ,   s t r o k e   ,   o r   r e p e a t   t a r g e t   v e s s e l   r e v a s c u l a r i z a t i o n   )   w a s   s i g n i f i c a n t l y   h i g h e r   i n   t h e   t i t a n i u m   g r o u p   t h a n   i n   t h e   e v e r o l i m u s   g r o u p   (   t o t a l   ,   @   %   v s   @   %   ;   p   =   @   ;   n o n i n s u l i n - d e p e n d e n t   s u b g r o u p   ,   @   %   v s   @   %   ;   p   =   @   ;   i n s u l i n - d e p e n d e n t   s u b g r o u p   ,   @   %   v s   @   %   ;   p   =   @   )   .',\n",
              " 't h e   i n c i d e n c e   o f   d e a t h   ,   n o n f a t a l   m y o c a r d i a l   i n f a r c t i o n   ,   s t r o k e   ,   o r   a n y   r e v a s c u l a r i z a t i o n   w a s   @   %   i n   t h e   t i t a n i u m   g r o u p   a n d   @   %   i n   t h e   e v e r o l i m u s   g r o u p   (   p   =   @   )   .',\n",
              " 't a r g e t   l e s i o n   a n d   v e s s e l   r e v a s c u l a r i z a t i o n s   o c c u r r e d   i n   @   %   c o m p a r e d   w i t h   @   %   (   p   =   @   )   a n d   i n   @   %   c o m p a r e d   w i t h   @   %   (   p   =   @   )   i n   t h e   t i t a n i u m   a n d   e v e r o l i m u s   g r o u p s   ,   r e s p e c t i v e l y   .',\n",
              " 'a n g i o g r a p h i c   f o l l o w - u p   a t   @   m o n t h s   s h o w e d   s i g n i f i c a n t l y   l e s s   l a t e   l u m e n   l o s s   i n   t h e   e v e r o l i m u s   g r o u p   (   i n - s e g m e n t   ,   @   - l s b -   s t a n d a r d   d e v i a t i o n   ,   @   )   m m   v s   - @   - l s b -   @   - r s b -   m m   ;   i n - s t e n t   ,   @   - l s b -   @   - r s b -   m m   v s   @   - l s b -   @   - r s b -   m m   ;   p   <   @   )   .',\n",
              " 't h e   e v e r o l i m u s - e l u t i n g   s t e n t   i s   s u p e r i o r   t o   t h e   t i t a n i u m   s t e n t   f o r   c l i n i c a l   a n d   a n g i o g r a p h i c   e n d   p o i n t s   i n   d i a b e t i c   p a t i e n t s   w i t h   l e s i o n s   a t   m o d e r a t e   r i s k   o f   r e s t e n o s i s   .',\n",
              " 't o   e v a l u a t e   t h e   s a f e t y   o f   t h e   f i x e d   c o m b i n a t i o n   o f   i b u p r o f e n   a n d   f a m o t i d i n e   c o m p a r e d   w i t h   i b u p r o f e n   a l o n e   f r o m   t w o   @ - w e e k   ,   m u l t i c e n t e r   ,   d o u b l e - b l i n d   t r i a l s   d e s i g n e d   t o   e v a l u a t e   t h e   c o m p a r a t i v e   i n c i d e n c e   o f   e n d o s c o p i c a l l y   d o c u m e n t e d   u p p e r   g a s t r o i n t e s t i n a l   u l c e r s   a n d   a   @ - w e e k   d o u b l e - b l i n d   e x t e n s i o n   s t u d y   .',\n",
              " 's a f e t y   w a s   a n a l y z e d   b y   p o o l i n g   d a t a   f r o m   t h e   t w o   d o u b l e - b l i n d   t r i a l s   a n d   t h e   f o l l o w - o n   s t u d y   .',\n",
              " 's a f e t y   w a s   a s s e s s e d   b y   m o n i t o r i n g   t h e   i n c i d e n c e   ,   c a u s a l i t y   ,   a n d   s e v e r i t y   o f   a d v e r s e   e v e n t s   (   a e s   )   .',\n",
              " 'i n   t h e   p i v o t a l   e f f i c a c y   a n d   s a f e t y   t r i a l s   ,   d i s c o n t i n u a t i o n   r a t e s   d u e   t o   a n y   c a u s e   a n d   d y s p e p s i a   w e r e   s i g n i f i c a n t l y   l o w e r   f o r   t h e   i b u p r o f e n / f a m o t i d i n e   c o m b i n a t i o n   v e r s u s   i b u p r o f e n   a l o n e   .',\n",
              " 'o t h e r   t h a n   d y s p e p s i a   ,   g a s t r o i n t e s t i n a l   a n d   c a r d i o v a s c u l a r   a e s   o f   s p e c i a l   i n t e r e s t   w e r e   s i m i l a r   .',\n",
              " 'e v e n t s   j u d g e d   t o   b e   t r e a t m e n t   r e l a t e d   w e r e   s i g n i f i c a n t l y   l o w e r   w i t h   t h e   i b u p r o f e n / f a m o t i d i n e   c o m b i n a t i o n   (   @   %   v s .   @   %   )   .',\n",
              " 'i n   t h e   s a f e t y   e x t e n s i o n   p o p u l a t i o n   ,   t h e r e   w e r e   n o   d i f f e r e n c e s   i n   t h e   d i s c o n t i n u a t i o n   r a t e s   a n d   t h e   r e p o r t i n g   o f   a e s   o r   s e r i o u s   a e s   (   s a e s   )   b e t w e e n   t h e   t w o   g r o u p s   .',\n",
              " 'g a s t r o i n t e s t i n a l - r e l a t e d   e v e n t s   w e r e   s i m i l a r   b e t w e e n   t h e   g r o u p s   .',\n",
              " 'i n c i d e n c e   o f   c a r d i o v a s c u l a r - r e l a t e d   a e s   o f   s p e c i a l   i n t e r e s t   w e r e   @   %   (   i b u p r o f e n / f a m o t i d i n e   )   a n d   @   %   (   i b u p r o f e n   )   (   p   =   @   )   ,   p o s s i b l y   d u e   t o   a   h i g h e r   n u m b e r   o f   r h e u m a t o i d   a r t h r i t i s   p a t i e n t s   i n   t h e   c o m b i n a t i o n   g r o u p   .',\n",
              " 'o f   t h e s e   ,   @   %   w e r e   r e p o r t s   o f   h y p e r t e n s i o n   (   @   %   i b u p r o f e n / f a m o t i d i n e   v s .   @   %   i b u p r o f e n   )   .',\n",
              " 't h r e e   c a s e s   o f   h y p e r t e n s i o n   i n   t h e   i b u p r o f e n / f a m o t i d i n e   g r o u p   w e r e   c o n s i d e r e d   t r e a t m e n t   r e l a t e d   .',\n",
              " 't h e   p r o b a b i l i t y   o f   a   c a r d i o v a s c u l a r   e v e n t   d e c r e a s e d   d u r i n g   d a y s   @ - @   o f   t r e a t m e n t   a n d   r e m a i n e d   l o w   w i t h   c o n t i n u e d   t r e a t m e n t   .',\n",
              " 'o n e - y e a r   s a f e t y   d a t a   f r o m   t w o   p i v o t a l   t r i a l s   a n d   a   l o n g - t e r m   e x t e n s i o n   s t u d y   i n d i c a t e   t h a t   t h e   i b u p r o f e n / f a m o t i d i n e   c o m b i n a t i o n   d e m o n s t r a t e s   a   f a v o r a b l e   g a s t r o i n t e s t i n a l   s a f e t y   p r o f i l e   a n d   m o r e   p a t i e n t s   c o n t i n u e d   o n   t h e r a p y   c o m p a r e d   t o   i b u p r o f e n   a l o n e   .',\n",
              " 'n o   n e w   s a f e t y   s i g n a l s   h a v e   b e e n   i d e n t i f i e d   .',\n",
              " 't h e s e   d a t a   o f f e r   a d d i t i o n a l   e v i d e n c e   s u p p o r t i n g   a   n e w   t h e r a p e u t i c   o p t i o n   t o   i m p r o v e   g a s t r o i n t e s t i n a l   s a f e t y   a n d   a d h e r e n c e   f o r   p a t i e n t s   w h o   r e q u i r e   l o n g - t e r m   i b u p r o f e n   .',\n",
              " 't o   c o m p a r e   t h e   e f f e c t s   o f   v o l u m e - c o n t r o l l e d   v e n t i l a t i o n   (   v c v   )   a n d   p r e s s u r e - c o n t r o l l e d   v o l u m e - g u a r a n t e e d   (   p c v - v g   )   m o d e   d u r i n g   o n e - l u n g   v e n t i l a t i o n   (   o l v   )   o n   c i r c u l a t i o n   ,   p u l m o n a r y   f u n c t i o n   a n d   l u n g   i n j u r y   .',\n",
              " '@   f e b r u a r y   t o   @   m a r c h   i n   n i n g b o   n o @   .',\n",
              " 'h o s p i t a l   c a r d i o t h o r a c i c   s u r g e r y   ,   @   p a t i e n t s   a g e d   @   t o   @   y e a r s   (   a s a   g r a d e   i i - i i i   )   u n d e r g o i n g   e l e c t i v e   t h o r a c o s c o p i c   l o b e c t o m y   w e r e   r a n d o m l y   d i v i d e d   i n t o   v c v   g r o u p   a n d   p c v - v g   g r o u p   ,   w i t h   @   c a s e s   i n   e a c h   g r o u p   .',\n",
              " 'a f t e r   a n e s t h e s i a   i n d u c t i o n   a n d   e n d o t r a c h e a l   i n t u b a t i o n   ,   e n d o b r o n c h i a l   b l o c k e r   w a s   i n s e r t e d   t o   s t a r t   o l v   .',\n",
              " 'h e a r t   r a t e   (   h r   )   ,   m e a n   a r t e r i a l   p r e s s u r e   (   m a p   )   ,   m e a s u r e d   t i d a l   v o l u m e   (   t v   )   ,   p e a k   a i r w a y   p r e s s u r e   (   p p e a k   )   ,   a i r w a y   r e s i s t a n c e   (   r a w   )   ,   c h e s t   c o m p l i a n c e   (   c d y n   )   a n d   t h e   e n d - t i d a l   c a r b o n   d i o x i d e   p r e s s u r e   (   p e t c o   (   @   )   )   w e r e   r e c o r d e d   a t   t h e   t i m e   p o i n t   o f   @   m i n u t e s   a f t e r   t u r n i n g   t o   t h e   l a t e r a l   p o s i t i o n   ,   @   m i n u t e s   a n d   @   m i n u t e s   a f t e r   o l v   ,   a n d   @   m i n u t e s   a f t e r   t h e   r e s u m p t i o n   o f   t w o   l u n g   v e n t i l a t i o n   .',\n",
              " 'i n   t h e   m e a n w h i l e   ,   a r t e r i a l   b l o o d   g a s   a n a l y s i s   w a s   c o n d u c t e d   t o   m e a s u r e   i n d i c a t o r s   o f   p h   ,   o x y g e n   t e n s i o n   (   p a o   (   @   )   )   a n d   c a r b o n   d i o x i d e   p a r t i a l   p r e s s u r e   (   p a c o   (   @   )   )   .',\n",
              " 'b l o o d   w a s   d r a w n   b e f o r e   i n d u c t i o n   ,   @   h o u r   a f t e r   o l v   a n d   @   h o u r   a f t e r   t h e   e n d   o f   s u r g e r y   ,   a n d   t h e   c o n c e n t r a t i o n   o f   i n t e r l e u k i n - @   (   i l - @   )   a n d   t u m o r   n e c r o s i s   f a c t o r - a l p h a   (   t n f   -   )   w e r e   d e t e c t e d   b y   e n z y m e - l i n k e d   i m m u n o s o r b e n t   a s s a y   (   e l i s a   )   .',\n",
              " 'h r   ,   m a p   ,   t v   ,   p e t c o   (   @   )   ,   p h   a n d   p a c o   (   @   )   i n   t w o   g r o u p s   a t   t h e   t i m e   p o i n t   o f   @   m i n u t e s   a f t e r   t u r n i n g   t o   t h e   l a t e r a l   p o s i t i o n   ,   @   m i n u t e s   a n d   @   m i n u t e s   a f t e r   o l v   ,   a n d   @   m i n u t e s   a f t e r   t h e   r e s u m p t i o n   o f   t w o   l u n g   v e n t i l a t i o n   s h o w e d   n o   s i g n i f i c a n t   d i f f e r e n c e   (   p   >   @   )   .',\n",
              " 'a t   t h e   p o i n t   o f   @   m i n u t e s   a f t e r   t u r n i n g   t o   t h e   l a t e r a l   p o s i t i o n   a n d   @   m i n u t e s   a f t e r   t w o   l u n g   v e n t i l a t i o n   ,   p p e a k   a n d   c d y n   o f   t w o   g r o u p s   w e r e   s i g n i f i c a n t l y   d i f f e r e n t   (   p   <   @   )   (   p p e a k   : @   @   c m h   (   @   )   o   ,   @   @   c m h   (   @   )   o   f o r   v c v   g r o u p   a n d   @   @   c m h   (   @   )   o   ,   @   @   c m h   (   @   )   o   f o r   p c v - v g   g r o u p   ;   c d y n   :   @   @   m l / c m h   (   @   )   o   ,   @   @   m l / c m h @ o   f o r   v c v   g r o u p   a n d   @   @   m l / c m h   (   @   )   o   ,   @   @   m l / c m h   (   @   )   o   f o r   p c v - v g   g r o u p   )   .',\n",
              " 'c o m p a r e d   w i t h   v c v   g r o u p   ,   p c v - v g   g r o u p   s h o w e d   a   l o w e r   p p e a k   @   m i n u t e s   a n d   @   m i n u t e s   a f t e r   o l v   - l s b -   (   @   @   c m h   (   @   )   o   )   v s   (   @   @   c m h   (   @   )   o   )   a n d   (   @   @   c m h   (   @   )   o   )   v s   (   @   @   c m h   (   @   )   o   )   w i t h   a   h i g h e r   c d y n   a t   t h e   s a m e   p o i n t   (   @   @   m l / c m h   (   @   )   o   )   v s   (   @   @   m l / c m h   (   @   )   o   )   a n d   @   @   m l / c m h   (   @   )   o   )   v s   (   @   @   m l / c m h   (   @   )   o   )   - r s b -   (   p   <   @   )   .',\n",
              " 'c o m p a r e d   w i t h   v c v   g r o u p , i l - @   a n d   t n f   -   o f   p c v - v g   g r o u p   @   h o u r   a f t e r   o l v   a n d   @   h o u r   a f t e r   t h e   e n d   o f   s u r g e r y   w e r e   s i g n i f i c a n t l y   l o w e r   (   p   <   @   )   (   i l - @   :   @   @   v s   @   @   p g / m l   a n d   @   @   v s   @   @   p g / m l   ;   t n f   -   :   @   @   v s   @   @   p g / m l   a n d   @   @   v s .   @   @   p g / m l   )   .',\n",
              " 'd u r i n g   o n e - l u n g   v e n t i l a t i o n   i n   t h o r a c o s c o p i c   l o b e c t o m y   ,   p c v - v g   m o d e   h a s   a   c o m p e t i t i v e   a d v a n t a g e   o v e r   v c v   m o d e   i n   t e r m s   o f   p u l m o n a r y   f u n c t i o n   a n d   l u n g   p r o t e c t i o n   .',\n",
              " 'w e   c o m p a r e d   t h e   r e c o v e r y   p r o f i l e   o f   p r o p o f o l   a n d   s e v o f l u r a n e   w h e n   u s e d   f o r   m a i n t e n a n c e   o f   a n e s t h e s i a   i n   e l e c t i v e   d a y   c a r e   o p e r a t i v e   p r o c e d u r e s   .',\n",
              " 'o n e   h u n d r e d   a s a   p h y s i c a l   s t a t u s   i   a n d   i i   p a t i e n t s   ,   a g e d   b e t w e e n   @   a n d   @   y e a r s   ,   w e r e   r a n d o m l y   a s s i g n e d   t o   r e c e i v e   e i t h e r   p r o p o f o l - n i t r o u s   o x i d e   o r   s e v o f l u r a n e - n i t r o u s   o x i d e   m a i n t e n a n c e   o f   a n e s t h e s i a   .',\n",
              " 'e a r l y   a n d   i n t e r m e d i a t e   r e c o v e r y   i n   t e r m s   o f   c o g n i t i v e   a n d   a m b u l a t o r y   f u n c t i o n s   w a s   r e c o r d e d   .',\n",
              " 'p s y c h o m o t o r   t e s t i n g   ,   i n   t h e   f o r m   o f   t r i e g e r   d o t   t e s t   a n d   d i g i t   s y m b o l   s u b s t i t u t i o n   t e s t   ,   w e r e   p e r f o r m e d   b e f o r e   s u r g e r y   a n d   i n   t h e   p o s t - a n e s t h e s i a   c a r e   u n i t   a t   @   m i n   ,   @   m i n   ,   @   h   ,   @   h   ,   a n d   @   h   f o l l o w i n g   n i t r o u s   o x i d e   s w i t c h - o f f   t o   e v a l u a t e   i n t e r m e d i a t e   r e c o v e r y   .',\n",
              " \"t h e r e   w e r e   n o   s i g n i f i c a n t   d i f f e r e n c e s   i n   r e c o v e r y   o f   e a r l y   c o g n i t i v e   f u n c t i o n s   b e t w e e n   t h e   t w o   g r o u p s   ,   e x c e p t   t h a t   p a t i e n t s   i n   t h e   s e v o f l u r a n e   g r o u p   w e r e   m o r e   r e s p o n s i v e   a t   a r o u n d   @   m i n   f o l l o w i n g   n i t r o u s   o x i d e   s w i t c h - o f f   a n d   ` `   r e c a l l e d   a d d r e s s   ' '   e a r l i e r   t h a n   p a t i e n t s   i n   t h e   p r o p o f o l   g r o u p   .\",\n",
              " \"t h e r e   w a s   n o   s i g n i f i c a n t   d i f f e r e n c e   i n   b e t w e e n   t h e   t w o   g r o u p s   w i t h   r e g a r d   t o   ` `   h o m e - r e a d i n e s s   .   ' '\",\n",
              " \"r e c o v e r y   f r o m   s e v o f l u r a n e   a n e s t h e s i a   ,   e s p e c i a l l y   w i t h   r e g a r d   t o   c o g n i t i v e   f u n c t i o n s   ,   m a y   b e   s l i g h t l y   f a s t e r   t h a n   f r o m   p r o p o f o l   ,   b u t   t h e   d i f f e r e n c e   i s   n o t   s u f f i c i e n t l y   s i g n i f i c a n t   t o   a f f e c t   t h e   t i m e   t o   ` `   h o m e - r e a d i n e s s   ' '   i n   p a t i e n t s   u n d e r g o i n g   d a y   c a r e   s u r g e r y   .\",\n",
              " \"v e r t i g o   i m p o s e s   c o n s i d e r a b l e   h e a l t h   r e s t r i c t i o n s   w i t h   s i g n i f i c a n t   i m p a c t   o n   t h e   p a t i e n t   ' s   q u a l i t y   o f   l i f e   .\",\n",
              " 't h e   m o s t   e f f e c t i v e   a n t i v e r t i g o   a g e n t   i s   u n d e t e r m i n e d   t h u s   f a r   .',\n",
              " 't h i s   s t u d y   w a s   p e r f o r m e d   t o   a s s e s s   w h e t h e r   p r o m e t h a z i n e   h a s   s u p e r i o r   v e r t i g o   r e d u c t i o n   c o m p a r e d   w i t h   l o r a z e p a m   i n   e d   p a t i e n t s   .',\n",
              " 'i n   t h i s   r a n d o m i z e d   ,   d o u b l e - b l i n d   ,   p a r a l l e l   g r o u p   t r i a l   @   p a t i e n t s   w e r e   a s s i g n e d   (   @ : @   r a t i o   )   t o   r e c e i v e   e i t h e r   p r o m e t h a z i n e   ,   @   m g   i n t r a v e n o u s l y   ,   o r   l o r a z e p a m   ,   @   m g   i n t r a v e n o u s l y   .',\n",
              " 'p r i m a r y   e n d p o i n t   w a s   m e a n   c h a n g e   i n   v e r t i g o   i n t e n s i t y   a t   @   h o u r s   m e a s u r e d   u s i n g   v i s u a l   a n a l o g   s c a l e   (   v a s   )   .',\n",
              " 's e c o n d a r y   e n d p o i n t s   w e r e   m e a n   c h a n g e   i n   n a u s e a   s c o r e   ,   n e e d   f o r   s e c o n d   d o s e   o f   s t u d y   m e d i c a t i o n s   ,   a n d   a d v e r s e   e v e n t s   (   a e s   )   .',\n",
              " 'p r o m e t h a z i n e   w a s   a s s o c i a t e d   w i t h   s i g n i f i c a n t l y   m o r e   r e d u c t i o n   (   @   m m   )   i n   v e r t i g o   t h a n   l o r a z e p a m   (   @   m m   ,   p   <   @   )   .',\n",
              " 'm e a n   c h a n g e   i n   n a u s e a   s c o r e   @   h o u r s   a f t e r   d r u g   i n j e c t i o n   o n   t h e   v a s   w a s   @   m m   f o r   p r o m e t h a z i n e   a n d   @   f o r   l o r a z e p a m   (   p   =   @   )   .',\n",
              " 't h e   m o s t   f r e q u e n t l y   r e p o r t e d   a e s   w e r e   l e t h a r g y   (   @   %   i n   l o r a z e p a m   g r o u p   ,   @   %   i n   p r o m e t h a z i n e   g r o u p   ,   p   =   @   )   a n d   d r o w s i n e s s   (   @   %   f o r   p r o m e t h a z i n e   ,   @   %   f o r   l o r a z e p a m   ,   p   =   @   )   .',\n",
              " 'o u r   s t u d y   d e m o n s t r a t e d   t h e   e v i d e n c e   t h a t   p r o m e t h a z i n e   i s   s u p e r i o r   t o   l o r a z e p a m   i n   m a n a g e m e n t   o f   p e r i p h e r a l   v e r t i g o   a n d   v e r t i g o - r e l a t e d   n a u s e a   i n   e d   a d u l t s   .',\n",
              " 'd u r i n g   l o w e r   l i m b   l e n g t h e n i n g   ,   d i s t r a c t i o n - i n d u c e d   m u s c l e   p a i n   a n d   s u r r o u n d i n g   j o i n t   c o n t r a c t u r e s   a r e   f r u s t r a t i n g   c o m p l i c a t i o n s   f o r   w h i c h   f e w   e f f e c t i v e   t r e a t m e n t s   a r e   a v a i l a b l e   .',\n",
              " 'w e   e v a l u a t e d   b o t u l i n u m   t o x i n   t y p e   a   (   b t x - a   )   i n j e c t i o n   i n   t h e   c a l f   m u s c l e s   d u r i n g   h u m a n   t i b i a l   d i s t r a c t i o n   o s t e o g e n e s i s   .',\n",
              " 'w e   h y p o t h e s i z e d   t h a t   i t   m a y   d e c r e a s e   c a l f   p a i n   a n d   i n c r e a s e   r o m   o f   t h e   s u r r o u n d i n g   j o i n t s   b y   r e d u c i n g   m u s c l e   s t i f f n e s s   .',\n",
              " 'b e t w e e n   a p r i l   @   a n d   j a n u a r y   @   ,   w e   e v a l u a t e d   @   p a t i e n t s   u n d e r g o i n g   b i l a t e r a l   t i b i a   l e n g t h e n i n g   w h o   m e t   p r e s p e c i f i e d   i n c l u s i o n   c r i t e r i a   .',\n",
              " 'a l l   p a t i e n t s   u n d e r w e n t   s t a t u r e   l e n g t h e n i n g   w i t h   l e n g t h e n i n g   o v e r   a   n a i l   o r   l e n g t h e n i n g   a n d   t h e n   n a i l i n g   .',\n",
              " 'b t x - a   (   @ i u   )   w a s   i n j e c t e d   a t   t h e   c a l f   m u s c l e   o n l y   i n   o n e   l e g   f o r   e a c h   p a t i e n t   a n d   t h e   s a m e   a m o u n t   o f   s t e r i l e   n o r m a l   s a l i n e   w a s   i n j e c t e d   i n t o   t h e   o t h e r   l e g   a s   a   c o n t r o l   .',\n",
              " 's e l e c t i o n   o f   t h e   l e g   r e c e i v i n g   t h e   t o x i n   w a s   r a n d o m i z e d   .',\n",
              " 'c l i n i c a l   e v a l u a t i o n   i n c l u d e d   a   v a s   s c o r e   f o r   c a l f   p a i n   a n d   m e a s u r e m e n t   o f   r o m   o f   t h e   k n e e s   a n d   a n k l e s   a n d   c a l f   c i r c u m f e r e n c e   ,   w i t h   e v a l u a t i o n s   p e r f o r m e d   i n   a   d o u b l e - b l i n d e d   m a n n e r   .',\n",
              " 's i d e - t o - s i d e   d i f f e r e n c e s   w e r e   a n a l y z e d   u n t i l   t h e   e n d   o f   c o n s o l i d a t i o n   p h a s e   .',\n",
              " 'm i n i m u m   f o l l o w u p   w a s   @ m o n t h s   (   m e a n   ,   @ m o n t h s   ;   r a n g e   ,   @ - @ m o n t h s   )   .',\n",
              " 't h e   d i s t r a c t i o n   r a t e   a n d   t h e   f i n a l   l e n g t h   g a i n   w e r e   s i m i l a r   i n   t h e   t r e a t e d   a n d   c o n t r o l   l i m b s   .',\n",
              " 'a   p r i o r i   p o w e r   a n a l y s i s   s u g g e s t e d   t h a t   @   l e g s   w e r e   r e q u i r e d   t o   a c h i e v e   s t a t i s t i c a l   s i g n i f i c a n c e   o f   @   w i t h   @   %   o f   p o w e r   t o   d e t e c t   a   @   %   d i f f e r e n c e   i n   t r e a t m e n t   e f f e c t   b e t w e e n   t r e a t m e n t   a n d   c o n t r o l   g r o u p s   .',\n",
              " 't h e r e   w e r e   n o   d i f f e r e n c e s   i n   c a l f   p a i n   ,   k n e e   a n d   a n k l e   r o m   ,   a n d   m a x i m a l   c a l f   c i r c u m f e r e n c e s   b e t w e e n   t h e   t w o   l e g s   a t   e a c h   t i m e   p o i n t   .',\n",
              " 'l o c a l   i n j e c t i o n   o f   @ i u   b t x - a   a t   t h e   h u m a n   c a l f   m u s c l e   d o e s   n o t   a p p e a r   t o   r e d u c e   c a l f   p a i n   o r   h e l p   e n h a n c e   r o m   o f   t h e   k n e e   a n d   a n k l e   d u r i n g   t i b i a l   l e n g t h e n i n g   .',\n",
              " 'h o w e v e r   ,   t h e   s m a l l   s a m p l e   s i z e   p r o v i d e d   s u f f i c i e n t   p o w e r   t o   d e t e c t   o n l y   r e l a t i v e l y   l a r g e   c l i n i c a l   e f f e c t s   ;   f u t u r e   ,   l a r g e r   t r i a l s   w i l l   b e   n e e d e d   t o   d e t e r m i n e   w h e t h e r   s m a l l e r   d i f f e r e n c e s   a r e   p r e s e n t   .',\n",
              " 'l e v e l   i i   ,   t h e r a p e u t i c   s t u d y   .',\n",
              " 's e e   i n s t r u c t i o n s   f o r   a u t h o r s   f o r   a   c o m p l e t e   d e s c r i p t i o n   o f   l e v e l s   o f   e v i d e n c e   .',\n",
              " 't o   a s s e s s   p o t e n t i a l   o f   p r e o p e r a t i v e   t h e r a p y   w i t h   l o c a l   s t e r o i d   a n d   n o n - s t e r o i d   a n t i - i n f l a m m a t o r y   d r u g s   (   s a i d s   a n d   n s a i d s   )   f o r   p r o l o n g i n g   t h e   h y p o t e n s i v e   e f f e c t   o f   t r a b e c u l e c t o m y   .',\n",
              " 'a   t o t a l   o f   @   p a t i e n t s   w i t h   p r i m a r y   o p e n - a n g l e   g l a u c o m a   p l a n e d   f o r   t r a b e c u l e c t o m y   w e r e   r a n d o m i z e d   i n t o   @   g r o u p s   o f   @   e a c h   :   @   g r o u p s   t h a t   d i f f e r e d   i n   t h e   s t u d i e d   d r u g   (   n e p a f e n a c   ,   d e x a m e t h a s o n e   ,   o r   t h e i r   n o n - f i x e d   c o m b i n a t i o n   )   a n d   a   c o n t r o l   g r o u p   w i t h   n o   p r e o p e r a t i v e   t h e r a p y   .',\n",
              " 't h e   p a t i e n t s   i n s t i l l e d   @   d r o p   o f   e i t h e r   d r u g   b . i . d .   f o r   @   w e e k s   b e f o r e   t h e   s u r g e r y   a n d   w e r e   e x a m i n e d   e a c h   d a y   o f   t h e   f i r s t   w e e k   a n d   t h e n   a t   w e e k s   @   ,   @   ,   @   a n d   m o n t h s   @   ,   @   ,   a n d   @   .',\n",
              " 't h e   r a t e   o f   p o s t o p e r a t i v e   s u r g i c a l   a n d   m e d i c a l   i n t e r v e n t i o n s   (   n e e d l i n g   ,   n e e d l i n g   r e v i s i o n   ,   h y p o t e n s i v e   t h e r a p y   )   w a s   u s e d   f o r   o u t c o m e   e v a l u a t i o n   .',\n",
              " 'p o s t o p e r a t i v e   n e e d l i n g   w a s   r e q u i r e d   i n   @   %   o f   t h e   c o n t r o l s   ,   @   %   o f   t h e   n s a i d s   a n d   @   %   o f   t h e   s a i d s   p a t i e n t s   a s   w e l l   a s   @   %   t h e   c o m b i n a t i o n - t h e r a p y   p a t i e n t s   .',\n",
              " 'n e e d l i n g   r e v i s i o n   h a d   t o   b e   p e r f o r m e d   i n   @   %   o f   p a t i e n t s   f r o m   t h e   c o n t r o l   g r o u p   a n d   @   %   o f   p a t i e n t s   f r o m   t h e   n s a i d s   g r o u p   .',\n",
              " 'p a t i e n t s   f r o m   t h e   s t e r o i d   a n d   c o m b i n a t i o n - t h e r a p y   g r o u p s   h a d   n o   n e e d   i n   n e e d l i n g   p r o c e d u r e   .',\n",
              " 'f u r t h e r   h y p o t e n s i v e   t h e r a p y   w a s   r e q u i r e d   i n   @   %   o f   t h e   c o n t r o l   g r o u p   ,   @   %   o f   t h e   n s a i d s   g r o u p   ,   @   %   o f   t h e   s a i d s   g r o u p   a n d   @   %   o f   t h e   c o m b i n a t i o n - t h e r a p y   g r o u p   .',\n",
              " 'd u r i n g   t h e   f i r s t   p o s t o p e r a t i v e   y e a r   c o m p l e t e   s u c c e s s   o f   t h e   t r e a t m e n t   w a s   a c h i e v e d   i n   @   %   o f   t h e   c o n t r o l s   ,   @   %   o f   t h e   n s a i d s   p a t i e n t s   ,   @   %   o f   t h e   s a i d s   p a t i e n t s   ,   a n d   @   %   o f   t h o s e   u n d e r   c o m b i n a t i o n   t h e r a p y   .',\n",
              " 'q u a l i f i e d   s u c c e s s   d u r i n g   t h e   s a m e   p e r i o d   w a s   a c h i e v e d   i n   @   %   o f   c a s e s   .',\n",
              " 'p r e o p e r a t i v e   l o c a l   a n t i - i n f l a m m a t o r y   t h e r a p y   h e l p e d   t o   i n c r e a s e   t h e   o n e - y e a r   c o m p l e t e   s u c c e s s   r a t e   a f t e r   t r a b e c u l e c t o m y   a s   c o m p a r e d   w i t h   t h e   c o n t r o l s   .',\n",
              " 't h e   m o s t   s i g n i f i c a n t   h y p o t e n s i v e   e f f e c t   w a s   n o t e d   i n   t h e   c o m b i n a t i o n - t h e r a p y   g r o u p   (   @   %   )   ,   l e s s   s i g n i f i c a n t   - -   i n   t h e   s t e r o i d   a n d   n o n - s t e r o i d   m o n o t h e r a p y   g r o u p s   (   @   %   a n d   @   %   c o r r e s p o n d i n g l y   )   .',\n",
              " 'a   n e g a t i v e   c o r r e l a t i o n   w a s   n o t e d   b e t w e e n   t h e   u s e   o f   n e p a f e n a c   a n d   d e x a m e t h a s o n e   a n d   o t h e r   m e a s u r e s   a i m e d   a t   i n c r e a s i n g   t h e   h y p o t e n s i v e   e f f e c t   o f   g l a u c o m a   s u r g e r y   .',\n",
              " 'c a s e - c o n t r o l   s t u d y   ;   e c o l o g i c a l   s t u d y   .',\n",
              " 't o   e x a m i n e   t h e   e f f i c a c y   o f   w e a r i n g   c o m p r e s s i o n   s t o c k i n g s   t o   p r e v e n t   m u s c l e   d a m a g e   a n d   t o   m a i n t a i n   r u n n i n g   p e r f o r m a n c e   d u r i n g   a   m a r a t h o n   c o m p e t i t i o n   .',\n",
              " 'e x e r c i s e - i n d u c e d   m u s c l e   d a m a g e   h a s   b e e n   i d e n t i f i e d   a s   o n e   o f   t h e   m a i n   c a u s e s   o f   t h e   p r o g r e s s i v e   d e c r e a s e   i n   r u n n i n g   a n d   m u s c u l a r   p e r f o r m a n c e   f o u n d   d u r i n g   m a r a t h o n   r a c e s   .',\n",
              " 't h i r t y - f o u r   e x p e r i e n c e d   r u n n e r s   w e r e   p a i r - m a t c h e d   f o r   a g e   ,   a n t h r o p o m e t r i c   d a t a   ,   a n d   b e s t   r a c e   t i m e   i n   t h e   m a r a t h o n   ,   a n d   r a n d o m l y   a s s i g n e d   t o   a   c o n t r o l   g r o u p   (   n   =   @   )   o f   r u n n e r s   w h o   w o r e   c o n v e n t i o n a l   s o c k s   o r   t o   a   g r o u p   o f   r u n n e r s   w h o   w o r e   f o o t - t o - k n e e   g r a d u a t e d   c o m p r e s s i o n   s t o c k i n g s   (   n   =   @   )   .',\n",
              " 'b e f o r e   a n d   a f t e r   t h e   r a c e   ,   a   s a m p l e   o f   v e n o u s   b l o o d   w a s   o b t a i n e d   ,   a n d   j u m p   h e i g h t   a n d   l e g   m u s c l e   p o w e r   w e r e   m e a s u r e d   d u r i n g   a   c o u n t e r m o v e m e n t   j u m p   .',\n",
              " 's e r u m   m y o g l o b i n   a n d   c r e a t i n e   k i n a s e   c o n c e n t r a t i o n s   w e r e   d e t e r m i n e d   a s   b l o o d   m a r k e r s   o f   m u s c l e   f i b e r   d a m a g e   .',\n",
              " 't o t a l   r a c e   t i m e   w a s   n o t   d i f f e r e n t   b e t w e e n   t h e   c o n t r o l   g r o u p   a n d   t h e   c o m p r e s s i o n   s t o c k i n g s   g r o u p   (   @   @   a n d   @   @   m i n u t e s   ,   r e s p e c t i v e l y   ;   p   =   @   )   .',\n",
              " 'b e t w e e n   t h e   c o n t r o l   g r o u p   a n d   t h e   c o m p r e s s i o n   s t o c k i n g s   g r o u p   ,   p o s t r a c e   r e d u c t i o n s   i n   l e g   m u s c l e   p o w e r   (   - @   %   @   %   v e r s u s   - @   %   @   %   ,   r e s p e c t i v e l y   ;   p   =   @   )   a n d   j u m p   h e i g h t   (   - @   %   @   %   v e r s u s   - @   %   .',\n",
              " '@   %   ,   r e s p e c t i v e l y   ;   p   =   @   )   w e r e   s i m i l a r   .',\n",
              " 'a t   t h e   e n d   o f   t h e   r a c e   ,   t h e r e   w e r e   n o   d i f f e r e n c e s   b e t w e e n   t h e   c o n t r o l   g r o u p   a n d   t h e   c o m p r e s s i o n   s t o c k i n g s   g r o u p   i n   s e r u m   m y o g l o b i n   (   @   @   n g m l   (   - @   )   v e r s u s   @   @   n g m l   (   - @   )   ,   r e s p e c t i v e l y   ;   p   =   @   )   a n d   c r e a t i n e   k i n a s e   c o n c e n t r a t i o n   (   @   @   u l   (   - @   )   v e r s u s   @   @   u l   (   - @   )   ,   r e s p e c t i v e l y   ;   p   =   @   )   .',\n",
              " 't h e   u s e   o f   c o m p r e s s i o n   s t o c k i n g s   d i d   n o t   i m p r o v e   r u n n i n g   p a c e   a n d   d i d   n o t   p r e v e n t   e x e r c i s e - i n d u c e d   m u s c l e   d a m a g e   d u r i n g   t h e   m a r a t h o n   .',\n",
              " 'w e a r i n g   c o m p r e s s i o n   s t o c k i n g s   d u r i n g   l o n g - d i s t a n c e   r u n n i n g   e v e n t s   i s   a n   i n e f f e c t i v e   s t r a t e g y   t o   a v o i d   t h e   d e l e t e r i o u s   e f f e c t s   o f   m u s c l e   d a m a g e   o n   r u n n i n g   p e r f o r m a n c e   .',\n",
              " 't h e r a p y   ,   l e v e l   @ b   .',\n",
              " 't h e   r e l a t i o n s h i p s   o f   l e f t   v e n t r i c u l a r   (   l v   )   l o n g i t u d i n a l   a n d   c i r c u m f e r e n t i a l   s y s t o l i c   d y s f u n c t i o n   w i t h   d i a s t o l i c   p e r f o r m a n c e   i n   h y p e r t e n s i v e   p a t i e n t s   h a v e   n e v e r   b e e n   c o m p a r e d   .',\n",
              " \"i n   @   a s y m p t o m a t i c   h y p e r t e n s i v e   p a t i e n t s   ,   c i r c u m f e r e n t i a l   f u n c t i o n   w a s   a s s e s s e d   w i t h   t h e   u s e   o f   m i d w a l l   f r a c t i o n a l   s h o r t e n i n g   (   m f s   )   a n d   s t r e s s - c o r r e c t e d   m f s   (   s c m f s   )   ,   w h e r e a s   l o n g i t u d i n a l   f u n c t i o n   w a s   a s s e s s e d   w i t h   t h e   u s e   o f   l e f t   a t r i o v e n t r i c u l a r   p l a n e   d i s p l a c e m e n t   (   a v p d   )   a n d   s y s t o l i c   m i t r a l   a n n u l u s   v e l o c i t y   (   s   '   )   .\",\n",
              " \"e a r l y   d i a s t o l i c   a n n u l a r   v e l o c i t y   (   e   '   )   a n d   t h e   e / e   '   r a t i o   w e r e   m e a s u r e d   .\",\n",
              " 'g l o b a l   l o n g i t u d i n a l   a n d   c i r c u m f e r e n t i a l   s t r a i n   w e r e   d e t e r m i n e d   i n   a   s u b s e t   o f   @   p a t i e n t s   .',\n",
              " \"e   '   w a s   l i n e a r l y   r e l a t e d   t o   a l l   s y s t o l i c   i n d e x e s   (   a v p d   :   r   =   @   ;   s   '   :   r   =   @   ;   m f s   :   r   =   @   ;   s c m f s   :   r   =   @   ;   a l l   p   <   @   )   ,   b u t   t h e   c o r r e l a t i o n s   w e r e   s t r o n g e r   w i t h   l o n g i t u d i n a l   i n d e x e s   t h a n   w i t h   c i r c u m f e r e n t i a l   o n e s   (   p   <   @   )   .\",\n",
              " \"e / e   '   w a s   n o n l i n e a r l y   r e l a t e d   t o   a v p d   (   r   =   - @   ;   p   <   @   )   a n d   s   '   (   r   =   - @   ;   p   <   @   )   a n d   s h o w e d   n o   r e l a t i o n s h i p   w i t h   m f s   a n d   s c m f s   .\",\n",
              " \"l o n g i t u d i n a l   i n d e x e s   w e r e   s u p e r i o r   t o   c i r c u m f e r e n t i a l   o n e s   i n   p r e d i c t i n g   e   '   <   @   c m / s   ,   e / e   '   <   @   ,   a n d   e / e   '   @   .\",\n",
              " 't h e   e f f e c t   o f   l v   g e o m e t r y   o n   l v   d i a s t o l i c   f u n c t i o n   w a s   e v i d e n t   a m o n g   p a t i e n t s   w i t h   p r e s e r v e d   s y s t o l i c   l o n g i t u d i n a l   f u n c t i o n   ,   b u t   w a s   b l u n t e d   a m o n g   p a t i e n t s   w i t h   i m p a i r e d   l o n g i t u d i n a l   f u n c t i o n   .',\n",
              " \"i n   m u l t i v a r i a b l e   a n a l y s e s   ,   o n l y   l o n g i t u d i n a l   i n d e x e s   r e m a i n e d   a s s o c i a t e d   w i t h   e   '   a n d   e / e   '   .\",\n",
              " 'a n a l y s e s   u s i n g   s t r a i n s   p r o v i d e d   s i m i l a r   r e s u l t s   .',\n",
              " 'i n   a s y m p t o m a t i c   h y p e r t e n s i v e   s u b j e c t s   ,   l v   d i a s t o l i c   p e r f o r m a n c e   i s   i n d e p e n d e n t l y   a s s o c i a t e d   w i t h   l o n g i t u d i n a l   s y s t o l i c   d y s f u n c t i o n   ,   b u t   n o t   w i t h   c i r c u m f e r e n t i a l   s y s t o l i c   d y s f u n c t i o n   .',\n",
              " 's u b t l e   l o n g i t u d i n a l   s y s t o l i c   i m p a i r m e n t   p l a y s   a   r o l e   i n   m e d i a t i n g   t h e   e f f e c t   o f   l v   g e o m e t r y   o n   d i a s t o l i c   p e r f o r m a n c e   .',\n",
              " 't h e s e   f i n d i n g s   m a y   s u p p o r t   t h e   n e e d   o f   c r i t i c a l l y   r e v i s i n g   t h e   c o n c e p t   o f   i s o l a t e d   d i a s t o l i c   d y s f u n c t i o n   i n   t h e s e   p a t i e n t s   .',\n",
              " 'm u l t i p l e   s c l e r o s i s   (   m s   )   i s   a   c h r o n i c   a n d   d i s a b l i n g   d i s e a s e   r e s u l t i n g   i n   d i s a b i l i t i e s   i n   y o u n g   a n d   m i d d l e - a g e d   p e r s o n s   .',\n",
              " 'i n   t h i s   s t u d y   ,   r e s e a r c h e r s   e x p l o r e d   t h e   e f f e c t   o f   y o g a   t e c h n i q u e s   o n   p h y s i c a l   a c t i v i t i e s   a n d   s e x u a l   f u n c t i o n   a m o n g   s o m e   i r a n i a n   w o m e n   w i t h   m s .',\n",
              " 'i n   t h i s   s t u d y   ,   @   i r a n i a n   w o m e n   w i t h   m u l t i p l e   s c l e r o s i s   (   m s   )   w e r e   p l a c e d   i n   t w o   e q u a l l y   d i v i d e d   c o n t r o l   a n d   c a s e   g r o u p s   t h r o u g h   r a n d o m   s e l e c t i o n   t o   a s s e s s   p r e - a n d   p o s t - e f f e c t s   o f   y o g a   e x e r c i s e s   o n   t h e i r   p h y s i c a l   a c t i v i t i e s   a n d   s e x u a l   s a t i s f a c t i o n   l e v e l s   .',\n",
              " 'w o m e n   i n   c a s e   g r o u p   w e r e   o f f e r e d   a   s e r i e s   o f   y o g a   t r a i n i n g   a n d   e x e r c i s e s   f o r   @   m o n t h s   ,   w h i c h   c o n s i s t e d   o f   @   s e s s i o n s   p e r   m o n t h   f o r   @   t o   @   m i n u t e s   a t   e a c h   s e s s i o n   .',\n",
              " 'y o g a   t r a i n i n g   p r o g r a m   i n c l u d e d   t h e   @   p r i n c i p l e s   o f   s l o w   m o t i o n s   (   h a t a y o g a   )   ,   r e s p i r a t o r y   e x e r c i s e s   (   p r a n a y a m a   )   a n d   c e n t r a l i z a t i o n   t o   c o n t r o l   m i n d   v i a   m e d i t a t i o n   ,   e x p a n s i o n   a n d   s t a s i s   (   r a j a y o g a   )   .',\n",
              " 'a f t e r   @   m o n t h s   b o t h   g r o u p s   w e r e   s u r v e y e d   u s i n g   t h e   i n i t i a l   q u e s t i o n n a i r e   t o   e v a l u a t e   a n d   c o m p a r e   f i n d i n g s   w i t h   t h e   b a s e - l i n e   d a t a   .',\n",
              " 'r e s e a r c h e r s   f o u n d   s i g n i f i c a n t   s t a t i s t i c a l   d i f f e r e n c e   i n   p h y s i c a l   a c t i v i t y   a n d   s e x u a l   s a t i s f a c t i o n   l e v e l s   a m o n g   t h e   w o m e n   i n   c a s e   g r o u p   (   p   =   @   )   .',\n",
              " 'w o m e n   i n   c a s e   g r o u p   s h o w e d   i m p r o v e m e n t   i n   p h y s i c a l   a b i l i t y   w h i l e   w o m e n   i n   c o n t r o l   g r o u p   m a n i f e s t e d   e x a c e r b a t e d   s y m p t o m s   .',\n",
              " 'y o g a   t e c h n i q u e s   m a y   i m p r o v e   p h y s i c a l   a c t i v i t i e s   a n d   s e x u a l   s a t i s f a c t i o n   f u n c t i o n   o f   w o m e n   w i t h   m s .',\n",
              " 't o   e v a l u a t e   t h e   s a f e t y   a n d   e f f i c a c y   o f   a n t i p l a t e l e t   t h e r a p y   o f   t i c a g r e l o r   o n   p a t i e n t s   s u f f e r i n g   f r o m   a c u t e   s t   s e g m e n t   e l e v a t i o n   m y o c a r d i a l   i n f a r c t i o n   u n d e r g o i n g   p r i m a r y   p e r c u t a n e o u s   c o r o n a r y   i n t e r v e n t i o n   .',\n",
              " 'i n   t h e   s t u d y   ,   @   p a t i e n t s   s u f f e r i n g   f r o m   a c u t e   s t   s e g m e n t   e l e v a t i o n   m y o c a r d i a l   i n f a r c t i o n   o n s e t   w i t h i n   @   h   u n d e r g o i n g   p r i m a r y   p e r c u t a n e o u s   c o r o n a r y   i n t e r v e n t i o n   f r o m   m a y   t o   o c t o b e r   i n   @   w e r e   r a n d o m l y   d i v i d e d   i n t o   t i c a g r e l o r   g r o u p   (   n   =   @   )   a n d   c l o p i d o g r e l   g r o u p   (   n   =   @   )   b y   u s i n g   t h e   m e t h o d   o f   r a n d o m   n u m b e r   t a b l e   .',\n",
              " 't i c a g r e l o r   a n d   c l o p i d o g r e l   a n t i p l a t e l e t   t r e a t m e n t   w e r e   u s e d   b e f o r e   a n d   a f t e r   o p e r a t i o n   .',\n",
              " 't h e i r   b a s e l i n e   d a t a   ,   c o r o n a r y   a r t e r y   d i s e a s e   c h a r a c t e r i s t i c s   ,   p l a t e l e t   c o u n t   ,   a d e n o s i n e   d i p h o s p h a t e   (   a d p   )   -   i n d u c e d   p l a t e l e t   i n h i b i t i o n   r a t e   b y   t h r o m b e l a s t o g r a p h   a f t e r   @   d a y s   o f   t r e a t m e n t   ,   t h e   m a j o r   a d v e r s e   c a r d i o v a s c u l a r   e v e n t s   o f   t h e   f o l l o w   u p   f o r   @   m o n t h s   a n d   b l e e d i n g   c o m p l i c a t i o n s   w e r e   o b s e r v e d   a n d   c o m p a r e d   i n   t h e   t w o   g r o u p s   .',\n",
              " 't h e   d i f f e r e n c e s   b e t w e e n   t h e   t w o   g r o u p s   o f   p a t i e n t s   w i t h   t h e i r   b a s e l i n e   d a t a   ,   t h e   f e a t u r e s   o f   c o r o n a r y   a r t e r y   l e s i o n s   ,   p l a t e l e t   c o u n t   b e f o r e   a n d   a f t e r   @   d a y s   o f   t r e a t m e n t   h a d   n o   s t a t i s t i c a l   s i g n i f i c a n c e   (   p   >   @   )   .',\n",
              " 'a d p   i n d u c e d   p l a t e l e t   i n h i b i t i o n   r a t e   - l s b -   (   @   )   %   - r s b -   a f t e r   @   d a y s   o f   t r e a t m e n t   i n   t i c a g r e l o r   g r o u p   w a s   s i g n i f i c a n t l y   h i g h e r   t h a n   t h a t   i n   c l o p i d o g r e l   g r o u p   - l s b -   (   @   )   %   ,   p   <   @   - r s b -   .',\n",
              " 't h e   t w o   g r o u p s   o f   p a t i e n t s   w e r e   f o l l o w e d   u p   f o r   @   m o n t h s   ,   @   c a s e s   o f   m a j o r   a d v e r s e   c a r d i o v a s c u l a r   e v e n t s   o c c u r r e d   i n   c l o p i d o g r e l   g r o u p   ,   @   c a s e s   o f   m a j o r   a d v e r s e   c a r d i o v a s c u l a r   e v e n t s   o c c u r r e d   i n   t i c a g r e l o r   g r o u p   ,   a n d   t h e r e   w a s   s i g n i f i c a n t   d i f f e r e n c e   b e t w e e n   t h e   t w o   g r o u p s   (   p   <   @   )   .',\n",
              " 't h e   t w o   g r o u p s   (   @   c a s e s   o f   @   p a t i e n t s   i n   t i c a g r e l o r   g r o u p   v s .   @   c a s e s   o f   @   p a t i e n t s   i n   c l o p i d o g r e l   g r o u p   )   h a d   n o   s t a t i s t i c a l l y   s i g n i f i c a n t   d i f f e r e n c e   i n   b l e e d i n g   c o m p l i c a t i o n s   (   p   >   @   )   .',\n",
              " 'a n t i p l a t e l e t   t h e r a p y   o f   t i c a g r e l o r   o n   p a t i e n t s   s u f f e r i n g   f r o m   a c u t e   s t   s e g m e n t   e l e v a t i o n   m y o c a r d i a l   i n f a r c t i o n   u n d e r g o i n g   e m e r g e n c y   p c i   h a s   g o o d   e f f i c a c y   a n d   s a f e t y   .',\n",
              " 't o   e v a l u a t e   t h e   i m a g e   q u a l i t y   ,   r a d i a t i o n   d o s e   a n d   d i a g n o s t i c   a c c u r a c y   o f   @ k v p   ,   h i g h - p i t c h   c t   p u l m o n a r y   a n g i o g r a p h y   (   c t p a   )   w i t h   i t e r a t i v e   r e c o n s t r u c t i o n   u s i n g   @   m l   o f   c o n t r a s t   a g e n t   .',\n",
              " 'o n e   h u n d r e d   p a t i e n t s   w i t h   s u s p e c t e d   p u l m o n a r y   e m b o l i s m   (   p e   )   w e r e   r a n d o m l y   d i v i d e d   i n t o   t w o   g r o u p s   (   n   =   @   e a c h   ;   g r o u p   a   ,   @   k v p   ,   @   p i t c h   ,   @   m l   o f   c o n t r a s t   m e d i u m   a n d   f i l t e r e d   b a c k   p r o j e c t i o n   a l g o r i t h m   ;   g r o u p   b   ,   @   k v p   ,   @   p i t c h   ,   @   m l   o f   c o n t r a s t   m e d i u m   a n d   s i n o g r a m   a f f i r m e d   i t e r a t i v e   r e c o n s t r u c t i o n   )   .',\n",
              " 'i m a g e   q u a l i t y   ,   d i a g n o s t i c   a c c u r a c y   a n d   r a d i a t i o n   d o s e   w e r e   e v a l u a t e d   a n d   c o m p a r e d   .',\n",
              " 'm e a n   c t   n u m b e r s   o f   p u l m o n a r y   a r t e r i e s   i n   g r o u p   b   w e r e   h i g h e r   t h a n   t h o s e   i n   g r o u p   a   (   a l l   p   <   @   )   .',\n",
              " 'c o n t r a s t - t o - n o i s e   r a t i o   a n d   s i g n a l - t o - n o i s e   r a t i o   o f   g r o u p   b   w e r e   h i g h e r   t h a n   t h o s e   o f   g r o u p   a   (   b o t h   p   <   @   )   .',\n",
              " 't h e r e   w a s   n o   s i g n i f i c a n t   d i f f e r e n c e   i n   s u b j e c t i v e   i m a g e   q u a l i t y   s c o r e s   b e t w e e n   t w o   g r o u p s   (   p   =   @   )   .',\n",
              " 't h e   i n t e r o b s e r v e r   a g r e e m e n t   w a s   e x c e l l e n t   (   k   =   @   )   .',\n",
              " 't h e r e   w a s   n o   s i g n i f i c a n t   d i f f e r e n c e   i n   d i a g n o s t i c   a c c u r a c y   b e t w e e n   t h e   t w o   g r o u p s   (   p   >   @   )   .',\n",
              " 'c o m p a r e d   w i t h   g r o u p   a   ,   r a d i a t i o n   d o s e   o f   g r o u p   b   w a s   r e d u c e d   b y   @   %   (   p   <   @   )   .',\n",
              " 'h i g h - p i t c h   c t p a   a t   @   k v p   c a n   o b t a i n   s u f f i c i e n t   i m a g e   q u a l i t y   i n   n o r m a l - w e i g h t   i n d i v i d u a l s   w i t h   @   m l   o f   c o n t r a s t   a g e n t   a n d   h a l f   t h e   r a d i a t i o n   d o s e   o f   a   c o n v e n t i o n a l   c t p a   p r o t o c o l   .',\n",
              " 'c t p a   i s   f e a s i b l e   a t   @   k v p   u s i n g   o n l y   @   m l   o f   c o n t r a s t   a g e n t   .',\n",
              " 'h i g h - p i t c h   c t p a   a t   @   k v p   h a s   a n   e f f e c t i v e   d o s e   u n d e r   @   m s v   .',\n",
              " 't h i s   c t p a   p r o t o c o l   c a n   o b t a i n   s u f f i c i e n t   i m a g e   q u a l i t y   i n   n o r m a l - w e i g h t   i n d i v i d u a l s   .',\n",
              " 'f a m i l i e s   e x p r e s s   a   n e e d   f o r   g u i d a n c e   i n   h e l p i n g   t h e i r   l o v e d   o n e s   w i t h   a n o r e x i a   n e r v o s a   (   a n   )   .',\n",
              " 'g u i d e d   s e l f - h e l p   i n t e r v e n t i o n s   c a n   o f f e r   s u p p o r t   t o   c a r e g i v e r s   .',\n",
              " 'o n e   h u n d r e d   s e v e n t y - e i g h t   a d u l t   a n   p a t i e n t s   a n d   t h e i r   c a r e g i v e r s   w e r e   r e c r u i t e d   f r o m   @   u k   t r e a t m e n t   c e n t r e s   .',\n",
              " \"f a m i l i e s   w e r e   r a n d o m i z e d   t o   c a r e r s   '   a s s e s s m e n t   ,   s k i l l s   a n d   i n f o r m a t i o n   s h a r i n g   (   c   )   i n t e r v e n t i o n   +   t r e a t m e n t   a s   u s u a l   (   t a u   )   o r   t a u   a l o n e   .\",\n",
              " 'f e e d b a c k   f o r m s   w e r e   s e n t   a t   @ m o n t h s   p o s t - d i s c h a r g e   a n d   ,   i f   n o t   r e t u r n e d   ,   a t   @ m o n t h s   .',\n",
              " 'o n e   h u n d r e d   t w o   (   @   %   )   p a t i e n t   f o r m s   (   n   =   @ t a u   ;   n   =   @ c   )   a n d   @   (   @   %   )   c a r e g i v e r   f o r m s   (   n   =   @ t a u   ;   n   =   @ c   )   w e r e   r e t u r n e d   .',\n",
              " 't w o   r e s e a r c h e r s   c o d e d   d a t a   b l i n d   ,   u s i n g   t h e m a t i c   a n a l y s i s   .',\n",
              " '(   i   )   c a r e g i v e r s   a n d   p a t i e n t s   e x p r e s s   a   n e e d   f o r   p o s t - d i s c h a r g e   s u p p o r t   .',\n",
              " '(   i i   )   p a t i e n t s   i d e n t i f y   h e l p f u l   a n d   u n h e l p f u l   s u p p o r t   s t r a t e g i e s   ,   u s e f u l   f o r   d e v e l o p i n g   f u t u r e   i n t e r v e n t i o n s   .',\n",
              " '(   i i i   )   p a t i e n t s   c o u l d   i d e n t i f y   p o s i t i v e   c a r e g i v e r   b e h a v i o u r   c h a n g e s   t a r g e t e d   i n   i n t e r v e n t i o n   .',\n",
              " '(   i v   )   g u i d e d   s e l f - h e l p   m a y   b e n e f i t   c a r e g i v e r   a n d   s u f f e r e r   ,   p o s t - d i s c h a r g e   .',\n",
              " 'c a r e g i v e r   i n t e r v e n t i o n s   c a n   b e   a   u s e f u l   t o o l   t h a t   w i l l   i m p r o v e   t h e   c o s t   e f f e c t i v e n e s s   o f   i n p a t i e n t   t r e a t m e n t   b y   e n h a n c i n g   t h e   w e l l - b e i n g   o f   c a r e g i v e r s   a n d   p a t i e n t s   .',\n",
              " 'c a r d i a c   m o r t a l i t y   a n d   e l e c t r o p h y s i o l o g i c a l   d y s f u n c t i o n   b o t h   i n c r e a s e   w i t h   a g e   .',\n",
              " 'h e a r t   r a t e   v a r i a b i l i t y   (   h r v   )   p r o v i d e s   i n d i c e s   o f   a u t o n o m i c   f u n c t i o n   a n d   e l e c t r o p h y s i o l o g y   t h a t   a r e   a s s o c i a t e d   w i t h   c a r d i a c   r i s k   .',\n",
              " 'h o w   h a b i t u a l   p h y s i c a l   a c t i v i t y   a m o n g   o l d e r   a d u l t s   p r o s p e c t i v e l y   r e l a t e s   t o   h r v   ,   i n c l u d i n g   n o n l i n e a r   i n d i c e s   o f   e r r a t i c   s i n u s   p a t t e r n s   ,   i s   n o t   e s t a b l i s h e d   .',\n",
              " 'w e   h y p o t h e s i z e d   t h a t   i n c r e a s i n g   t h e   l e v e l s   o f   b o t h   t o t a l   l e i s u r e - t i m e   a c t i v i t y   a n d   w a l k i n g   w o u l d   b e   p r o s p e c t i v e l y   a s s o c i a t e d   w i t h   m o r e   f a v o r a b l e   t i m e - d o m a i n   ,   f r e q u e n c y - d o m a i n   ,   a n d   n o n l i n e a r   h r v   m e a s u r e s   i n   o l d e r   a d u l t s   .',\n",
              " 'w e   e v a l u a t e d   s e r i a l   l o n g i t u d i n a l   m e a s u r e s   o f   b o t h   p h y s i c a l   a c t i v i t y   a n d   @ - h o u r   h o l t e r   h r v   o v e r   @   y e a r s   a m o n g   @   o l d e r   u s   a d u l t s   i n   t h e   c o m m u n i t y - b a s e d   c a r d i o v a s c u l a r   h e a l t h   s t u d y   .',\n",
              " 'a f t e r   m u l t i v a r i a b l e   a d j u s t m e n t   ,   g r e a t e r   t o t a l   l e i s u r e - t i m e   a c t i v i t y   ,   w a l k i n g   d i s t a n c e   ,   a n d   w a l k i n g   p a c e   w e r e   e a c h   p r o s p e c t i v e l y   a s s o c i a t e d   w i t h   s p e c i f i c   ,   m o r e   f a v o r a b l e   h r v   i n d i c e s   ,   i n c l u d i n g   h i g h e r   @ - h o u r   s t a n d a r d   d e v i a t i o n   o f   a l l   n o r m a l - t o - n o r m a l   i n t e r v a l s   (   p t r e n d   =   @   ,   @   ,   @   ,   r e s p e c t i v e l y   )   a n d   u l t r a l o w - f r e q u e n c y   p o w e r   (   p t r e n d   =   @   ,   @   ,   @   ,   r e s p e c t i v e l y   )   .',\n",
              " 'g r e a t e r   w a l k i n g   p a c e   w a s   a l s o   a s s o c i a t e d   w i t h   a   h i g h e r   s h o r t - t e r m   f r a c t a l   s c a l i n g   e x p o n e n t   (   p t r e n d   =   @   )   a n d   l o w e r   p o i n c a r   r a t i o   (   p t r e n d   =   @   )   ,   m a r k e r s   o f   l e s s   e r r a t i c   s i n u s   p a t t e r n s   .',\n",
              " 'g r e a t e r   t o t a l   l e i s u r e - t i m e   a c t i v i t y   ,   a n d   w a l k i n g   a l o n e   ,   a s   w e l l   ,   w e r e   p r o s p e c t i v e l y   a s s o c i a t e d   w i t h   m o r e   f a v o r a b l e   a n d   s p e c i f i c   i n d i c e s   o f   a u t o n o m i c   f u n c t i o n   i n   o l d e r   a d u l t s   ,   i n c l u d i n g   s e v e r a l   s u g g e s t i v e   o f   m o r e   n o r m a l   c i r c a d i a n   f l u c t u a t i o n s   a n d   l e s s   e r r a t i c   s i n o a t r i a l   f i r i n g   .',\n",
              " 'o u r   r e s u l t s   s u g g e s t   p o t e n t i a l   m e c h a n i s m s   t h a t   m i g h t   c o n t r i b u t e   t o   l o w e r   c a r d i o v a s c u l a r   m o r t a l i t y   w i t h   h a b i t u a l   p h y s i c a l   a c t i v i t y   l a t e r   i n   l i f e   .',\n",
              " 'o u r   a i m   w a s   t o   c o m p a r e   a n a t o m i c a l   a n d   f u n c t i o n a l   o u t c o m e   b e t w e e n   v a g i n a l   c o l p o s u s p e n s i o n   a n d   t r a n s v a g i n a l   m e s h   .',\n",
              " 't h i s   w a s   a   p r o s p e c t i v e   r a n d o m i z e d   c o n t r o l l e d   t r i a l   i n   a   t e a c h i n g   h o s p i t a l   .',\n",
              " 's i x t y - e i g h t   w o m e n   w i t h   s t a g e   @   a n t e r i o r   v a g i n a l   w a l l   p r o l a p s e   a c c o r d i n g   t o   t h e   p e l v i c   o r g a n   p r o l a p s e   q u a n t i f i c a t i o n   (   p o p - q   )   s y s t e m   w e r e   a s s e s s e d   ,   r a n d o m i z e d   ,   a n d   a n a l y z e d   .',\n",
              " 'p a t i e n t s   w e r e   r a n d o m i z e d   t o   a n t e r i o r   c o l p o r r h a p h y   w i t h   v a g i n a l   c o l p o s u s p e n s i o n   (   n   =   @   )   o r   t r a n s v a g i n a l   m e s h   (   n   =   @   )   .',\n",
              " 'p r i m a r y   o u t c o m e   w a s   o b j e c t i v e   c u r e   r a t e   o f   t h e   a n t e r i o r   v a g i n a l   w a l l   ,   d e f i n e d   a s   p o p - q   @   a t   @ y e a r s   .',\n",
              " 's e c o n d a r y   o u t c o m e s   w e r e   f u n c t i o n a l   r e s u l t s   ,   q u a l i t y - o f - l i f e   (   q o l   )   s c o r e s   ,   m e s h - r e l a t e d   m o r b i d i t y   ,   a n d   o n s e t   o f   u r i n a r y   i n c o n t i n e n c e   .',\n",
              " 't h e   a n a t o m i c a l   r e s u l t   f o r   p o i n t   b a   w a s   s i g n i f i c a n t l y   b e t t e r   a t   @ y e a r s   i n   t h e   m e s h   g r o u p   (   - @   c m   )   t h a n   i n   t h e   c o l p o s u s p e n s i o n   g r o u p   (   - @   c m   )   (   p   =   @   )   .',\n",
              " 'c o n c e r n i n g   p o p - q   s t a g e s   ,   t h e   a n a t o m i c a l   s u c c e s s   r a t e   a t   @ y e a r s   w a s   @   %   f o r   c o l p o s u s p e n s i o n   a n d   @   %   f o r   m e s h   (   p   =   @   )   .',\n",
              " 't h e r e   w e r e   @   a n a t o m i c   r e c u r r e n c e s   (   @   %   )   i n   t h e   c o l p o s u s p e n s i o n   g r o u p   .',\n",
              " 't h e   e r o s i o n   r a t e   w a s   @   %   (   n   =   @   )   .',\n",
              " 'n o   s i g n i f i c a n t   d i f f e r e n c e   w a s   n o t e d   r e g a r d i n g   m i n o r   c o m p l i c a t i o n s   .',\n",
              " 'a n a l y s i s   o f   q o l   q u e s t i o n n a i r e s   s h o w e d   o v e r a l l   i m p r o v e m e n t   i n   b o t h   g r o u p s   ,   w i t h   n o   s i g n i f i c a n t   d i f f e r e n c e   b e t w e e n   t h e m   .',\n",
              " 't h e   v a g i n a l   c o l p o s u s p e n s i o n   t e c h n i q u e   o f   a n t e r i o r   v a g i n a l   w a l l   p r o l a p s e   r e p a i r   g a v e   g o o d   a n a t o m i c a l   a n d   f u n c t i o n a l   r e s u l t s   a t   @ y e a r s   .',\n",
              " 't r a n s o b t u r a t o r   v a g i n a l   m e s h   g a v e   b e t t e r   @ - y e a r   a n a t o m i c a l   r e s u l t s   t h a n   v a g i n a l   c o l p o s u s p e n s i o n   ,   w i t h   o v e r a l l   i m p r o v e m e n t   i n   q o l   i n   b o t h   g r o u p s   .',\n",
              " 'c l i n i c a l   s t u d i e s   e v a l u a t i n g   t h e   e f f e c t s   o f   m e d i c a t i o n s   o n   -   c e l l   f u n c t i o n   i n   t y p e   @   d i a b e t e s   (   t @ d m   )   a r e   c o m p r o m i s e d   b y   a n   i n a b i l i t y   t o   d e t e r m i n e   t h e   a c t u a l   b a s e l i n e   d e g r e e   o f   -   c e l l   d y s f u n c t i o n   i n d e p e n d e n t   o f   t h e   r e v e r s i b l e   d y s f u n c t i o n   i n d u c e d   b y   h y p e r g l y c e m i a   (   g l u c o t o x i c i t y   )   .',\n",
              " 's h o r t - t e r m   i n t e n s i v e   i n s u l i n   t h e r a p y   (   i i t   )   i s   a   s t r a t e g y   f o r   e l i m i n a t i n g   g l u c o t o x i c i t y   b e f o r e   r a n d o m i z a t i o n   .',\n",
              " 't h i s   s t u d y   d e t e r m i n e d   w h e t h e r   l i r a g l u t i d e   c a n   p r e s e r v e   -   c e l l   f u n c t i o n   o v e r   @   w e e k s   i n   e a r l y   t @ d m   f o l l o w i n g   i n i t i a l   e l i m i n a t i o n   o f   g l u c o t o x i c i t y   w i t h   i i t   .',\n",
              " \"i n   t h i s   d o u b l e - b l i n d   ,   r a n d o m i z e d   ,   p l a c e b o - c o n t r o l l e d   t r i a l   ,   @   p a t i e n t s   w i t h   t @ d m   o f   @   @   y e a r s   '   d u r a t i o n   a n d   a n   a @ c   o f   @   @   %   (   @   @   m m o l / m o l   )   c o m p l e t e d   @   w e e k s   o f   i i t   b e f o r e   r a n d o m i z a t i o n   t o   d a i l y   s u b c u t a n e o u s   l i r a g l u t i d e   o r   p l a c e b o   i n j e c t i o n   ,   w i t h   s e r i a l   a s s e s s m e n t   o f   -   c e l l   f u n c t i o n   b y   i n s u l i n   s e c r e t i o n - s e n s i t i v i t y   i n d e x - @   (   i s s i - @   )   o n   o r a l   g l u c o s e   t o l e r a n c e   t e s t   p e r f o r m e d   e v e r y   @   w e e k s   .\",\n",
              " 't h e   p r i m a r y   o u t c o m e   o f   b a s e l i n e - a d j u s t e d   i s s i - @   a t   @   w e e k s   w a s   h i g h e r   i n   t h e   l i r a g l u t i d e   g r o u p   t h a n   i n   t h e   p l a c e b o   g r o u p   (   @   @   v s .   @   @   ,   p   =   @   )   .',\n",
              " 'b a s e l i n e - a d j u s t e d   h b a @ c   a t   @   w e e k s   w a s   l o w e r   i n   t h e   l i r a g l u t i d e   g r o u p   (   @   @   %   v s .   @   @   %   ,   p   =   @   )   (   @   @   v s .   @   @   m m o l / m o l   )   .',\n",
              " 'a t   e a c h   q u a r t e r l y   a s s e s s m e n t   ,   >   @   %   o f   p a r t i c i p a n t s   o n   l i r a g l u t i d e   h a d   a n   h b a @ c   @   %   (   @   m m o l / m o l   )   a n d   g l u c o s e   t o l e r a n c e   i n   t h e   n o n d i a b e t i c   r a n g e   .',\n",
              " 'd e s p i t e   t h i s   l e v e l   o f   g l y c e m i c   c o n t r o l   ,   n o   d i f f e r e n c e   w a s   f o u n d   i n   t h e   i n c i d e n c e   o f   h y p o g l y c e m i a   b e t w e e n   t h e   l i r a g l u t i d e   a n d   p l a c e b o   g r o u p s   (   p   =   @   )   .',\n",
              " 't w o   w e e k s   a f t e r   s t o p p i n g   t r e a t m e n t   ,   h o w e v e r   ,   t h e   b e n e f i c i a l   e f f e c t   o n   i s s i - @   o f   l i r a g l u t i d e   v e r s u s   p l a c e b o   w a s   e n t i r e l y   l o s t   (   @   @   v s .   @   @   ,   p   =   @   )   .',\n",
              " 'l i r a g l u t i d e   p r o v i d e s   r o b u s t   e n h a n c e m e n t   o f   -   c e l l   f u n c t i o n   t h a t   i s   s u s t a i n e d   o v e r   @   w e e k s   i n   e a r l y   t @ d m   b u t   l o s t   u p o n   c e s s a t i o n   o f   t h e r a p y   .',\n",
              " 't o   i n v e s t i g a t e   t h e   e f f e c t i v e n e s s   o f   r e c t a l l y   a d m i n i s t e r e d   i n d o m e t h a c i n   i n   t h e   p r o p h y l a x i s   o f   p o s t - e n d o s c o p i c   r e t r o g r a d e   c h o l a n g i o p a n c r e a t o g r a p h y   (   e r c p   )   p a n c r e a t i t i s   a n d   h y p e r a m y l a s a e m i a   i n   a   m u l t i c e n t r e   s t u d y   .',\n",
              " 'a   p r o s p e c t i v e   ,   r a n d o m i s e d   ,   p l a c e b o - c o n t r o l l e d   m u l t i c e n t r e   s t u d y   i n   f i v e   e n d o s c o p i c   u n i t s   w a s   c o n d u c t e d   o n   @   p a t i e n t s   r a n d o m i s e d   t o   r e c e i v e   a   s u p p o s i t o r y   c o n t a i n i n g   @   m g   i n d o m e t h a c i n   ,   o r   a n   i n e r t   p l a c e b o   ,   @ - @   m i n   b e f o r e   e r c p   .',\n",
              " 'p o s t - e r c p   p a n c r e a t i t i s   a n d   h y p e r a m y l a s a e m i a   w e r e   e v a l u a t e d   @   h   f o l l o w i n g   t h e   p r o c e d u r e   o n   t h e   b a s i s   o f   c l i n i c a l   s i g n s   a n d   l a b o r a t o r y   p a r a m e t e r s   ,   a n d   c o m p u t e d   t o m o g r a p h y / m a g n e t i c   r e s o n a n c e   i m a g i n g   f i n d i n g s   i f   r e q u i r e d   .',\n",
              " 't w e n t y - o n e   p a t i e n t s   w e r e   e x c l u d e d   b e c a u s e   o f   i n c o m p l e t e n e s s   o f   t h e i r   d a t a   o r   b e c a u s e   o f   p r o t o c o l   v i o l a t i o n   .',\n",
              " 't h e   r e s u l t s   o f   @   i n v e s t i g a t i o n s   w e r e   e v a l u a t e d   :   @   i n   t h e   i n d o m e t h a c i n   g r o u p   a n d   @   i n   t h e   p l a c e b o   g r o u p   .',\n",
              " 't h e   d i s t r i b u t i o n s   o f   t h e   r i s k   f a c t o r s   i n   t h e   t w o   g r o u p s   d i d   n o t   d i f f e r   s i g n i f i c a n t l y   .',\n",
              " 'p a n c r e a t i t i s   d e v e l o p e d   i n   @   p a t i e n t s   (   @   %   )   :   i t   w a s   m i l d   i n   @   (   @   %   )   a n d   s e v e r e   i n   e i g h t   (   @   %   )   c a s e s   .',\n",
              " 'h y p e r a m y l a e s e m i a   o c c u r r e d   i n   @   p a t i e n t s   (   @   %   )   .',\n",
              " 't h e r e   w a s   n o   s i g n i f i c a n t   d i f f e r e n c e   b e t w e e n   t h e   i n d o m e t h a c i n   a n d   p l a c e b o   g r o u p s   i n   t h e   i n c i d e n c e   o f   e i t h e r   p o s t - e r c p   p a n c r e a t i t i s   (   @   %   v s   @   %   )   o r   h y p e r a m y l a s a e m i a   (   @   %   v s   @   %   )   .',\n",
              " 's i m i l a r l y   ,   s u b g r o u p   a n a l y s i s   d i d   n o t   r e v e a l   a n y   s i g n i f i c a n t   d i f f e r e n c e s   b e t w e e n   t h e   t w o   g r o u p s   .',\n",
              " '@   m g   r e c t a l   i n d o m e t h a c i n   a d m i n i s t e r e d   b e f o r e   e r c p   d i d   n o t   p r o v e   e f f e c t i v e   i n   p r e v e n t i n g   p o s t - e r c p   p a n c r e a t i t i s   .',\n",
              " 'w e   s o u g h t   t o   d e t e r m i n e   t h e   i n c i d e n c e   o f   n e w l y   d i a g n o s e d   d i a b e t e s   i n   t r e a t e d   e l d e r l y   h y p e r t e n s i v e   p a t i e n t s   a n d   t h e   p r o g n o s t i c   i m p a c t   o f   d i a b e t e s   o n   l o n g - t e r m   s u r v i v a l   .',\n",
              " 't h e   s e c o n d   a u s t r a l i a n   n a t i o n a l   b l o o d   p r e s s u r e   (   a n b p @   )   s t u d y   r a n d o m i z e d   @ , @   h y p e r t e n s i v e   p a t i e n t s   a g e d   @ - @   y e a r s   t o   a n g i o t e n s i n - c o n v e r t i n g   e n z y m e   i n h i b i t o r   (   a c e i   )   o r   t h i a z i d e   d i u r e t i c - b a s e d   t h e r a p y   a n d   f o l l o w e d   t h e m   f o r   a   m e d i a n   o f   @   y e a r s   .',\n",
              " 'l o n g - t e r m   s u r v i v a l   w a s   d e t e r m i n e d   i n   @ , @   p a t i e n t s   o v e r   a n   a d d i t i o n a l   m e d i a n   o f   @   y e a r s   a f t e r   a n b p @   (   p o s t - t r i a l   )   .',\n",
              " 'a f t e r   a n b p @   ,   t h e   c o h o r t   w a s   c l a s s i f i e d   i n t o   p r e e x i s t i n g   (   @   %   )   ,   n e w l y   d i a g n o s e d   (   @   %   )   ,   a n d   n o   d i a b e t e s   (   @   %   )   g r o u p s   .',\n",
              " 'a   @   %   h i g h e r   i n c i d e n c e   o f   n e w l y   d i a g n o s e d   d i a b e t e s   w a s   o b s e r v e d   i n   p a t i e n t s   r a n d o m i z e d   t o   t h i a z i d e   d i u r e t i c   c o m p a r e d   w i t h   a c e i - b a s e d   t r e a t m e n t   .',\n",
              " 't h e   o t h e r   p r e d i c t o r s   o f   n e w l y   d i a g n o s e d   d i a b e t e s   w e r e   h a v i n g   a   h i g h e r   b o d y   m a s s   i n d e x   ,   h a v i n g   a   h i g h e r   r a n d o m   b l o o d   g l u c o s e   ,   a n d   l i v i n g   i n   a   r e g i o n a l   l o c a t i o n   c o m p a r e d   t o   m a j o r   c i t i e s   (   a   g e o g r a p h i c a l   c l a s s i f i c a t i o n   b a s e d   o n   a c c e s s i b i l i t y   )   a t   s t u d y   e n t r y   .',\n",
              " 'a f t e r   c o m p l e t i o n   o f   a n b p @   ,   c o m p a r e d   w i t h   t h o s e   w i t h   n o   d i a b e t e s   ,   t h e   p r e e x i s t i n g   d i a b e t e s   g r o u p   e x p e r i e n c e d   h i g h e r   c a r d i o v a s c u l a r   (   h a z a r d s   r a t i o   (   h r   )   =   @   ;   @   %   c o n f i d e n c e   i n t e r v a l   (   c i   )   =   @ - @   @   )   a n d   a l l - c a u s e   m o r t a l i t y   (   h r   =   @   ;   @   %   c i   =   @ - @   @   )   w h e n   a d j u s t e d   f o r   a g e   ,   s e x   ,   a n d   t r e a t m e n t   .',\n",
              " 'a   s i m i l a r   p a t t e r n   w a s   o b s e r v e d   a f t e r   i n c l u d i n g   t h e   p o s t - t r i a l   p e r i o d   f o r   c a r d i o v a s c u l a r   (   h r   =   @   ;   @   %   c i   =   @ - @   @   )   a n d   a l l - c a u s e   m o r t a l i t y   (   h r   =   @   ;   @   %   c i   =   @ - @   @   )   .',\n",
              " 'h o w e v e r   ,   w h e n   t h e   n e w l y   d i a g n o s e d   g r o u p   w a s   c o m p a r e d   w i t h   t h e   n o   d i a b e t e s   g r o u p   ,   n o   s i g n i f i c a n t   d i f f e r e n c e   w a s   o b s e r v e d   i n   c a r d i o v a s c u l a r   (   h r   =   @   ;   @   %   c i   =   @ - @   @   )   o r   a l l - c a u s e   m o r t a l i t y   (   h r   =   @   ;   @   %   c i   =   @ - @   @   )   e i t h e r   d u r i n g   t h e   a n b p @   t r i a l   o r   i n c l u d i n g   p o s t - t r i a l   f o l l o w - u p   (   c a r d i o v a s c u l a r   :   h r   =   @   ;   @   %   c i   =   @ - @   @   ;   a l l - c a u s e   m o r t a l i t y   :   h r   =   @   ;   @   %   c i   =   @ - @   @   )   .',\n",
              " 'l o n g - t e r m   p r e s e n c e   o f   d i a b e t e s   r e d u c e s   s u r v i v a l   .',\n",
              " 'c o m p a r e d   w i t h   t h i a z i d e   d i u r e t i c s   ,   a c e i - b a s e d   a n t i h y p e r t e n s i v e s   m a y   d e l a y   t h e   d e v e l o p m e n t   o f   d i a b e t e s   i n   t h o s e   a t   r i s k   a n d   t h u s   p o t e n t i a l l y   i m p r o v e   c a r d i o v a s c u l a r   o u t c o m e   i n   t h e   e l d e r l y   .',\n",
              " 'o b e s i t y   i s   a s s o c i a t e d   w i t h   a   r i s k   o f   g a s t r o e s o p h a g e a l   r e f l u x   d i s e a s e   .',\n",
              " 't h e   p h a r m a c o d y n a m i c   e f f i c a c y   o f   p r o t o n   p u m p   i n h i b i t o r s   h a s   n o t   b e e n   s p e c i f i c a l l y   e v a l u a t e d   i n   o b e s e   s u b j e c t s   .',\n",
              " 't h e   a i m   o f   t h i s   s t u d y   w a s   t o   c o m p a r e   t h e   a n t i s e c r e t o r y   r e s p o n s e   t o   a   s i n g l e   o r a l   d o s e   o f   @   m g   r a b e p r a z o l e   ,   @   m g   o m e p r a z o l e   a n d   p l a c e b o   i n   o b e s e   s u b j e c t s   .',\n",
              " 'g a s t r i c   p h   w a s   m o n i t o r e d   f o r   @   h o u r s   o n   t h r e e   s e p a r a t e   o c c a s i o n s   i n   e i g h t e e n   h .   p y l o r i - n e g a t i v e   ,   a s y m p t o m a t i c   o b e s e   s u b j e c t s   .',\n",
              " 's u b j e c t s   w e r e   g i v e n   o m e p r a z o l e   ,   r a b e p r a z o l e   o r   p l a c e b o   i n   a   r a n d o m i z e d   o r d e r   a n d   i n   a   d o u b l e - b l i n d   f a s h i o n   .',\n",
              " 't h e   m a i n   a n a l y s i s   c r i t e r i o n   w a s   @ - h   p e r c e n t   o f   t i m e   p o s t   d o s e   w i t h   i n t r a g a s t r i c   p h   a b o v e   @   ;   s e c o n d a r y   c r i t e r i a   w e r e   p e r c e n t a g e   o f   t i m e   a b o v e   p h   @   ,   m e d i a n   p h   ,   - l s b -   h   +   - r s b -   c o n c e n t r a t i o n s   a n d   n o c t u r n a l   a c i d   b r e a k t h r o u g h   (   n a b   )   .',\n",
              " 'r e s u l t s   w e r e   a n a l y z e d   u s i n g   l i n e a r   m i x e d   m o d e l s   a n d   w i l k s   t e s t   c o m p a r i n g   v a r i a n c e s   .',\n",
              " '@ - h   m e d i a n   - l s b -   i q   - r s b -   p e r c e n t a g e s   o f   t i m e   w i t h   g a s t r i c   p h   a b o v e   @   a n d   @   w e r e   h i g h e r   w i t h   r a b e p r a z o l e   t h a n   o m e p r a z o l e   (   @   - l s b -   @ - @   - r s b -   v s .   @   - l s b -   @ - @   - r s b -   %   ,   @   - l s b -   @ - @   - r s b -   %   f o r   p l a c e b o   )   b u t   t h e   d i f f e r e n c e s   d i d   n o t   r e a c h   s t a t i s t i c a l   s i g n i f i c a n c e   (   p   =   @   a n d   @   ,   r e s p e c t i v e l y   )   .',\n",
              " 'm e d i a n   a c i d   c o n c e n t r a t i o n s   w e r e   s i g n i f i c a n t l y   l o w e r   w i t h   r a b e p r a z o l e   t h a n   w i t h   o m e p r a z o l e   a n d   p l a c e b o   (   @   - l s b -   @ - @   - r s b -   v s .   @   - l s b -   @ - @   - r s b -   a n d   @   - l s b -   @ - @   - r s b -   m m o l e s / l   ,   p   <   @   )   f o r   a l l   p e r i o d s   .',\n",
              " 't h e   n u m b e r   o f   n a b   w a s   s i g n i f i c a n t l y   l o w e r   w i t h   r a b e p r a z o l e   t h a n   w i t h   o m e p r a z o l e   (   m e d i a n   @   - l s b -   @ , @   - r s b -   v s .   @   - l s b -   @ - @   - r s b -   ,   p   =   @   )   .',\n",
              " 'v a r i a n c e s   o f   @ - h   d a t a   (   p h   a b o v e   @   a n d   @   ,   m e d i a n   p h   ,   - l s b -   h   +   - r s b -   c o n c e n t r a t i o n s   )   w e r e   s i g n i f i c a n t l y   l o w e r   w i t h   r a b e p r a z o l e   t h a n   w i t h   o m e p r a z o l e   (   p   <   @   )   .',\n",
              " 'i n   a s y m p t o m a t i c   o b e s e   s u b j e c t s   t h e   g a s t r i c   a n t i s e c r e t o r y   r e s p o n s e   t o   a   s i n g l e   d o s e   o f   r a b e p r a z o l e   a n d   o m e p r a z o l e   w a s   s t r o n g   a n d   n o t   s i g n i f i c a n t l y   d i f f e r e n t   b e t w e e n   d r u g s   d e s p i t e   a   s i g n i f i c a n t l y   m o r e   h o m o g e n e o u s   r e s p o n s e   w i t h   r a b e p r a z o l e   .',\n",
              " 'c l i n i c a l t r i a l . g o v   :   n c t @   .',\n",
              " 't o   s t u d y   t h e   e f f e c t   o f   g r o w t h   h o r m o n e   (   g h   )   t r e a t m e n t   o n   o v a r i a n   a n d   u t e r i n e   m o r p h o l o g y   a n d   f u n c t i o n   i n   s h o r t   ,   p r e p u b e r t a l   s m a l l - f o r - g e s t a t i o n a l - a g e   (   s g a   )   g i r l s   .',\n",
              " 'a   m u l t i n a t i o n a l   ,   r a n d o m i z e d   c o n t r o l l e d   t r i a l   o n   s a f e t y   a n d   e f f i c a c y   o f   g h   t h e r a p y   i n   s h o r t   ,   p r e p u b e r t a l   c h i l d r e n   b o r n   s g a   .',\n",
              " 'n o t   a p p l i c a b l e   .',\n",
              " 'a   s u b g r o u p   o f   @   d a n i s h   g i r l s   b o r n   s g a   i n c l u d e d   i n   n o r t h   e u r o p e a n   s g a   s t u d y   (   n e s g a s   )   .',\n",
              " 'o n e   y e a r   o f   g h   t r e a t m e n t   (   @   g / k g / d a y   )   f o l l o w e d   b y   @   y e a r s   o f   r a n d o m i z e d   g h   t r e a t m e n t   (   @   g / k g / d a y   ,   @   g / k g / d a y   ,   o r   i g f - i   t i t r a t e d   )   .',\n",
              " 'd a t a   o n   a n t h r o p o m e t r i c s   ,   r e p r o d u c t i v e   h o r m o n e s   ,   a n d   u l t r a s o n o g r a p h i c   e x a m i n a t i o n   o f   t h e   i n t e r n a l   g e n i t a l i a   w e r e   c o l l e c t e d   d u r i n g   @   m o n t h s   o f   g h   t r e a t m e n t   .',\n",
              " 'u t e r i n e   a n d   o v a r i a n   v o l u m e   i n c r e a s e d   s i g n i f i c a n t l y   d u r i n g   @   y e a r s   o f   t r e a t m e n t   (   @   %   a n d   @   %   ,   r e s p e c t i v e l y   )   b u t   r e m a i n e d   l o w   w i t h i n   n o r m a l   r e f e r e n c e   r a n g e s   .',\n",
              " 'o v a r i a n   f o l l i c l e s   b e c a m e   v i s i b l e   i n   @   %   a f t e r   @   y e a r   c o m p a r e d   w i t h   @   %   b e f o r e   g h   t h e r a p y   .',\n",
              " 'a n t i - m l l e r i a n   h o r m o n e   i n c r e a s e d   s i g n i f i c a n t l y   d u r i n g   t h e   @   y e a r s   o f   g h   t h e r a p y   b u t   r e m a i n e d   w i t h i n   t h e   n o r m a l   r a n g e   .',\n",
              " 'p r e c o c i o u s   p u b e r t y   w a s   o b s e r v e d   i n   o n e   g i r l   ;   a n o t h e r   g i r l   d e v e l o p e d   m u l t i c y s t i c   o v a r i e s   .',\n",
              " 'g h   t r e a t m e n t   w a s   a s s o c i a t e d   w i t h   s t a t i s t i c a l l y   s i g n i f i c a n t   g r o w t h   o f   t h e   i n t e r n a l   g e n i t a l i a   ,   b u t   r e m a i n e d   w i t h i n   t h e   n o r m a l   r a n g e   .',\n",
              " 'a s   a l t e r e d   p u b e r t a l   d e v e l o p m e n t   a n d   o v a r i a n   m o r p h o l o g y   w e r e   f o u n d   i n   @   o f   @   g i r l s   ,   m o n i t o r i n g   o f   p u b e r t y   a n d   o v a r i a n   f u n c t i o n   d u r i n g   g h   t h e r a p y   i n   s g a   g i r l s   i s   p r u d e n t   .',\n",
              " 'a l t o g e t h e r   ,   t h e   f i n d i n g s   a r e   r e a s s u r i n g   .',\n",
              " 'h o w e v e r   ,   l o n g - t e r m   e f f e c t s   o f   g h   t r e a t m e n t   o n   a d u l t   r e p r o d u c t i v e   f u n c t i o n   r e m a i n   u n k n o w n   .',\n",
              " 'e u d r a c t   @ - @ - @   .',\n",
              " 't o   t e s t   t h e   h y p o t h e s i s   t h a t   a   b r i e f   ,   c l i n i c - b a s e d   ,   s i n g l e - s e s s i o n   p r o g r a m m e   w i l l   r e d u c e   t h e   r a t e   o f   @   s e l e c t e d   c o n d o m   u s e   e r r o r s   i n   a   c l i n i c a l   s a m p l e   o f   y o u n g   b l a c k   m e n   (   y b m   )   a g e s   @   t h r o u g h   @   y e a r s   .',\n",
              " 'd a t a   w e r e   c o l l e c t e d   i n   c l i n i c s   t r e a t i n g   p a t i e n t s   w i t h   s e x u a l l y   t r a n s m i t t e d   i n f e c t i o n s   (   s t i   )   i n   t h r e e   s o u t h e r n   u s   c i t i e s   .',\n",
              " 'm a l e s   @ - @ y e a r s   o f   a g e   w h o   i d e n t i f i e d   a s   b l a c k / a f r i c a n - a m e r i c a n   ,   a n d   r e p o r t e d   r e c e n t   (   p a s t   @ m o n t h s   )   c o n d o m   u s e   w e r e   e l i g i b l e   .',\n",
              " 'o n l y   t h o s e   a l s o   r e p o r t i n g   c o n d o m   u s e   i n   t h e   @ m o n t h s   p r i o r   t o   a   @ - m o n t h   f o l l o w - u p   a s s e s s m e n t   (   n   =   @   )   w e r e   i n c l u d e d   i n   t h i s   s e c o n d a r y   a n a l y s i s   o f   d a t a   f r o m   a   r a n d o m i s e d   ,   c o n t r o l l e d   t r i a l   .',\n",
              " 'd i f f e r e n c e   s c o r e s   w e r e   u s e d   t o   c a p t u r e   a   g r o u p t i m e   e f f e c t   .',\n",
              " 'y b m   r e p o r t e d   @   c o n d o m   u s e   e v e n t s   i n   t h e   @ m o n t h s   p r e c e d i n g   s t u d y   e n r o l m e n t   a n d   @   i n   t h e   @ m o n t h s   p r e c e d i n g   t h e   f o l l o w - u p   a s s e s s m e n t   .',\n",
              " 'm e a n   b a s e l i n e   e r r o r   r a t e s   w e r e   @   a n d   @   f o r   y o u n g   m e n   r a n d o m i s e d   t o   t h e   i n t e r v e n t i o n   a n d   c o n t r o l   c o n d i t i o n s   ,   r e s p e c t i v e l y   .',\n",
              " 'f o l l o w - u p   r a t e s   w e r e   @   a n d   @   f o r   y o u n g   m e n   r a n d o m i s e d   t o   t h e   i n t e r v e n t i o n   a n d   c o n t r o l   c o n d i t i o n s   ,   r e s p e c t i v e l y   .',\n",
              " 'c o n t r o l l e d   f i n d i n g s   y i e l d e d   a   s i g n i f i c a n t   e f f e c t   f o r   t h e   i n f l u e n c e   o f   g r o u p   a s s i g n m e n t   o n   t h e   d i f f e r e n c e   s c o r e   (   b a s e l i n e   t o   f o l l o w - u p   )   i n   t h e   c o n d o m   u s e   e r r o r   r a t e   (   =   @   ;   p   =   @   )   .',\n",
              " 'a   b r i e f   ,   c l i n i c - b a s e d   c o u n s e l l i n g   p r o g r a m m e   p r o d u c e d   m o d e s t   r e d u c t i o n s   i n   c o n d o m   u s e   e r r o r s   a m o n g   y b m   a t t e n d i n g   s t i   c l i n i c s   i n   t h e   s o u t h e r n   u s a   i n t e n s i f i e d   c l i n i c - b a s e d   i n t e r v e n t i o n   t h a t   h e l p s   y b m   i m p r o v e   t h e   q u a l i t y   o f   t h e i r   c o n d o m   u s e   b e h a v i o u r s   i s   w a r r a n t e d   .',\n",
              " 'n c t @   .',\n",
              " 't o   p r o v i d e   e v i d e n c e   f o r   c h i n e s e   m e d i c a l   t r e a t m e n t   o f   c h i l d r e n   w i t h   e b   v i r u s   i n f e c t i o n   b y   e x p l o r i n g   i t s   c l i n i c a l   e f f i c a c y   f r o m   m u l t i p l e   a n g l e s   .',\n",
              " 't o t a l l y   @   c h i l d r e n   p a t i e n t s   w e r e   r a n d o m l y   a s s i g n e d   t o   t h e   t r e a t m e n t   g r o u p   (   @   c a s e s   )   a n d   t h e   c o n t r o l   g r o u p   (   @   c a s e s   )   .',\n",
              " 'p a t i e n t s   i n   t h e   t r e a t m e n t   g r o u p   t o o k   c h i n e s e   m e d i c a l   d e c o c t i o n   ,   w h i l e   t h o s e   i n   t h e   c o n t r o l   r e c e i v e d   i n t r a v e n o u s   d r i p p i n g   o f   g a n c i c l o v i r   a n d   o r a l   a d m i n i s t r a t i o n   o f   p i d o t i m o d   .',\n",
              " 't h e   t r e a t m e n t   p e r i o d   f o r   t h e   t w o   g r o u p s   w a s   @   w e e k s   .',\n",
              " 'p a t i e n t s   w e r e   f o l l o w e d - u p   t i l l   t h e   @ t h   w e e k   .',\n",
              " 'c l i n i c a l   s y m p t o m s   s u c h   a s   f e v e r   ,   l y m p h a d e n o p a t h y   a n d   h e p a t o s p l e n o m e g a l y   ,   a s   w e l l   a s   l a b   i n d i c e s   s u c h   a s   a b n o r m a l   l y m p h o c y t e   p e r c e n t a g e   ,   e b   v i r u s   a n t i b o d y   ,   v i r u s   d n a   l o a d   ,   t   c e l l   s u b s e t s   ,   i m m u n o g l o b u l i n   ,   a n d   s o   o n   w e r e   o b s e r v e d   b e f o r e   a n d   a f t e r   t r e a t m e n t   ,   a t   w e e k   @   a n d   @   o f   f o l l o w - u p s   .',\n",
              " '(   @   )   t h e   t o t a l   e f f e c t i v e   r a t e   a t   w e e k   @   w a s   @   %   i n   t h e   t r e a t m e n t   g r o u p   ,   h i g h e r   t h a n   t h a t   o f   t h e   c o n t r o l   g r o u p   (   @   %   )   ,   b u t   t h e r e   w a s   n o   s t a t i s t i c a l   d i f f e r e n c e   b e t w e e n   t h e   t w o   g r o u p s   .',\n",
              " '(   @   )   t h e   t i m e   f o r   d e f e r v e s c e n c e   ,   d u r a t i o n   o f   p h a r y n g e a l   h y p e r e m i a   ,   d u r a t i o n   o f   s w o l l e n   t o n s i l s   w a s   s h o r t e r   i n   t h e   t r e a t m e n t   g r o u p   t h a n   i n   t h e   c o n t r o l   g r o u p   (   p   <   @   )   .',\n",
              " 't h e   s u b s i d e n c e   o f   l y m p h a d e n o p a t h y   ,   h e p a t o m e g a l y   ,   a n d   a b n o r m a l   l y m p h o c y t e s   w a s   b e t t e r   i n   t h e   t r e a t m e n t   g r o u p   t h a n   i n   t h e   c o n t r o l   g r o u p   (   p   <   @   )   .',\n",
              " '(   @   )   t h e   p o s i t i v e   c a s e s   o f   p e r i p h e r a l   b l o o d   h e t e r o - l y m p h o c y t e   w a s   s i g n i f i c a n t l y   r e d u c e d   a f t e r   t r e a t m e n t   ,   a t   w e e k   @   a n d   @   o f   f o l l o w - u p s   b o t h   i n   t h e   t r e a t m e n t   g r o u p   a n d   t h e   c o n t r o l   g r o u p   (   p   <   @   )   .',\n",
              " 't h e   e x p r e s s i o n   o f   i g a   a n d   i g m   d e c r e a s e d   a f t e r   t r e a t m e n t   i n   t h e   t w o   g r o u p s   w h e n   c o m p a r e d   w i t h   b e f o r e   t r e a t m e n t   i n   t h e   s a m e   g r o u p   (   p   <   @   ,   p   <   @   )   .',\n",
              " 'i g g   i n   t h e   t r e a t m e n t   g r o u p   a l s o   o b v i o u s l y   d e c r e a s e d   a f t e r   t r e a t m e n t   ,   a t   w e e k   @   a n d   @   o f   f o l l o w - u p s   (   p   <   @   ,   p   <   @   )   ,   w h i l e   i t   d e c r e a s e d   o n l y   a f t e r   t r e a t m e n t   i n   t h e   c o n t r o l   g r o u p   (   p   <   @   )   .',\n",
              " 'a c t i v i t i e s   o f   a s t   a n d   a l t   i n   t h e   t r e a t m e n t   g r o u p   a n d   t h e   a s t   a c t i v i t y   i n   t h e   c o n t r o l   g r o u p   w e r e   m a r k e d l y   i m p r o v e d   w h e n   c o m p a r e d   w i t h   t h o s e   b e f o r e   t r e a t m e n t   (   p   <   @   )   .',\n",
              " 'c o m p a r e d   w i t h   t h e   c o n t r o l   g r o u p   ,   t h e   a b n o r m a l   l y m p h o c y t e   p o s i t i v e   c a s e   n u m b e r   o b v i o u s l y   d e c r e a s e d   i n   t h e   t r e a t m e n t   g r o u p   a f t e r   t r e a t m e n t   ,   a t   w e e k   @   a n d   @   o f   f o l l o w - u p s   (   p   <   @   )   .',\n",
              " '(   @   )   a f t e r   t r e a t m e n t   ,   a t   w e e k   @   a n d   @   o f   f o l l o w - u p s   ,   c d @   +   a n d   c d @   +   s i g n i f i c a n t l y   d e c r e a s e d   ;   c d @   +   ,   c d @ / c d @   ,   a n d   b   c e l l s   s i g n i f i c a n t l y   i n c r e a s e d   i n   t h e   t w o   g r o u p s   ,   w h e n   c o m p a r e d   w i t h   b e f o r e   t r e a t m e n t   (   p   <   @   )   .',\n",
              " 'n k   c e l l s   s i g n i f i c a n t l y   i n c r e a s e d   m o r e   i n   t h e   t r e a t m e n t   g r o u p   a f t e r   t r e a t m e n t   ,   a t   w e e k   @   a n d   @   o f   f o l l o w - u p s   ,   h i g h e r   t h a n   b e f o r e   t r e a t m e n t   a s   w e l l   a s   t h e   c o n t r o l   g r o u p   (   p   <   @   )   .',\n",
              " '(   @   )   e b   v i r a l   d n a   a n d   e b   v i r a l   c a - i g m   n e g a t i v e   c o n v e r s i o n   c a s e   n u m b e r s   s i g n i f i c a n t l y   i n c r e a s e d   i n   t h e   t w o   g r o u p s   a f t e r   t r e a t m e n t   ,   a t   w e e k   @   a n d   @   o f   f o l l o w - u p s   (   p   <   @   )   .',\n",
              " 'c o m p a r e d   w i t h   t h e   c o n t r o l   g r o u p   ,   e b   v i r a l   d n a   a n d   e b   v i r a l   c a - i g m   n e g a t i v e   c o n v e r s i o n   c a s e   n u m b e r s   s i g n i f i c a n t l y   i n c r e a s e d   i n   t h e   t r e a t m e n t   g r o u p   a f t e r   t r e a t m e n t   a n d   a t   w e e k   @   o f   f o l l o w - u p s   (   p   <   @   )   .',\n",
              " 't r e a t m e n t   o f   e b   v i r u s   i n f e c t i o n   b y   c h i n e s e   m e d i c a l   t r e a t m e n t   w a s   e f f e c t i v e   .',\n",
              " 'i t   c o u l d   p r o m o t e   t h e   r e c o v e r y   o f   e b   v i r a l   i n f e c t i o n   ,   a n d   r e d u c e   t h e   r i s k   o f   v i c i o u s   d i s e a s e   a f t e r   e b   v i r a l   i n f e c t i o n   .',\n",
              " 't h e   p r i m a r y   o b j e c t i v e   w a s   t o   c o m p a r e   t h e   c o s m e t i c   o u t c o m e s   o f   t r a u m a t i c   t r u n k   a n d   e x t r e m i t y   l a c e r a t i o n s   r e p a i r e d   u s i n g   a b s o r b a b l e   v e r s u s   n o n a b s o r b a b l e   s u t u r e s   .',\n",
              " 't h e   s e c o n d a r y   o b j e c t i v e   w a s   t o   c o m p a r e   c o m p l i c a t i o n   r a t e s   b e t w e e n   t h e   t w o   g r o u p s   .',\n",
              " 't h i s   w a s   a   r a n d o m i z e d   c o n t r o l l e d   t r i a l   c o m p a r i n g   w o u n d s   r e p a i r e d   w i t h   v i c r y l   r a p i d e   a n d   p r o l e n e   s u t u r e s   .',\n",
              " 'p e d i a t r i c   a n d   a d u l t   p a t i e n t s   w i t h   l a c e r a t i o n s   w e r e   e n r o l l e d   i n   t h e   s t u d y   .',\n",
              " 'a t   a   @ - d a y   f o l l o w - u p   ,   t h e   w o u n d s   w e r e   e v a l u a t e d   f o r   i n f e c t i o n   a n d   d e h i s c e n c e   .',\n",
              " 'a f t e r   @   m o n t h s   ,   p a t i e n t s   r e t u r n e d   t o   h a v e   t h e   w o u n d s   p h o t o g r a p h e d   .',\n",
              " 't w o   p l a s t i c   s u r g e o n s   b l i n d e d   t o   t h e   m e t h o d   o f   c l o s u r e   r a t e d   t h e   c o s m e t i c   o u t c o m e   o f   e a c h   w o u n d   u s i n g   a   @ - m m   v i s u a l   a n a l o g   s c a l e   (   v a s   )   .',\n",
              " 'u s i n g   a   n o n i n f e r i o r i t y   d e s i g n   ,   a   v a s   s c o r e   o f   @   m m   o r   g r e a t e r   w a s   c o n s i d e r e d   t o   b e   a   c l i n i c a l l y   s i g n i f i c a n t   d i f f e r e n c e   .',\n",
              " \"w e   u s e d   a   s t u d e n t   ' s   t - t e s t   t o   c o m p a r e   d i f f e r e n c e s   b e t w e e n   m e a n   v a s   s c o r e s   a n d   o d d s   r a t i o s   (   o r s   )   t o   c o m p a r e   d i f f e r e n c e s   i n   c o m p l i c a t i o n   r a t e s   b e t w e e n   t h e   t w o   g r o u p s   .\",\n",
              " 'o f   t h e   @   p a t i e n t s   e n r o l l e d   ,   @   c o m p l e t e d   t h e   s t u d y   i n c l u d i n g   @   i n   t h e   v i c r y l   r a p i d e   g r o u p   a n d   @   i n   t h e   p r o l e n e   g r o u p   .',\n",
              " 't h e   m e a n   (   s d   )   a g e   o f   p a t i e n t s   w h o   c o m p l e t e d   t h e   s t u d y   w a s   @   (   @   )   y e a r s   ,   a n d   @   w e r e   m a l e   .',\n",
              " 'w e   f o u n d   n o   s i g n i f i c a n t   d i f f e r e n c e s   i n   t h e   a g e   ,   r a c e   ,   s e x   ,   l e n g t h   o f   w o u n d   ,   n u m b e r   o f   s u t u r e s   ,   o r   l a y e r s   o f   r e p a i r   i n   t h e   t w o   g r o u p s   .',\n",
              " \"t h e   o b s e r v e r   ' s   m e a n   v a s   f o r   t h e   v i c r y l   r a p i d e   g r o u p   w a s   @   m m   (   @   %   c o n f i d e n c e   i n t e r v a l   - l s b -   c i   - r s b -   =   @   t o   @   m m   )   a n d   f o r   t h e   p r o l e n e   g r o u p   w a s   @   m m   (   @   %   c i   =   @   t o   @   m m   )   .\",\n",
              " 't h e   r e s u l t i n g   m e a n   d i f f e r e n c e   w a s   @   m m   (   @   %   c i   =   - @   t o   @   m m   ;   p   =   @   )   ;   t h u s   n o n i n f e r i o r i t y   w a s   e s t a b l i s h e d   .',\n",
              " 's t a t i s t i c a l   t e s t i n g   s h o w e d   n o   d i f f e r e n c e s   i n   t h e   r a t e s   o f   c o m p l i c a t i o n s   b e t w e e n   t h e   t w o   g r o u p s   ,   b u t   a   h i g h e r   p e r c e n t a g e   o f   t h e   v i c r y l   r a p i d e   w o u n d s   d e v e l o p e d   c o m p l i c a t i o n s   .',\n",
              " 't h e   u s e   o f   a b s o r b a b l e   s u t u r e s   f o r   t h e   r e p a i r   o f   s i m p l e   l a c e r a t i o n s   o n   t h e   t r u n k   a n d   e x t r e m i t i e s   s h o u l d   b e   c o n s i d e r e d   a s   a n   a l t e r n a t i v e   t o   n o n a b s o r b a b l e   s u t u r e   r e p a i r   .',\n",
              " 'a s p i r i n   e a r l y   a f t e r   i n t r a v e n o u s   t h r o m b o l y s i s   i n   a c u t e   i s c h e m i c   s t r o k e   i n c r e a s e s   t h e   r i s k   o f   s y m p t o m a t i c   i n t r a c r a n i a l   h e m o r r h a g e   (   s i c h   )   ,   w i t h o u t   i n f l u e n c i n g   f u n c t i o n a l   o u t c o m e   a t   @   m o n t h s   .',\n",
              " 't h e   e f f e c t   o f   a s p i r i n   o n   e a r l y   n e u r o l o g i c a l   d e t e r i o r a t i o n   (   e n d   )   w a s   e x p l o r e d   a s   a   p o s t   h o c   a n a l y s i s   o f   t h e   r a n d o m i z e d   a n t i p l a t e l e t   t h e r a p y   i n   c o m b i n a t i o n   w i t h   r e c o m b i n a n t   t - p a   t h r o m b o l y s i s   i n   i s c h e m i c   s t r o k e   (   a r t i s   )   t r i a l   .',\n",
              " 'e n d   ,   d e f i n e d   a s   a   @   p o i n t s   n a t i o n a l   i n s t i t u t e s   o f   h e a l t h   s t r o k e   s c a l e   w o r s e n i n g   @   h o u r s   a f t e r   i n t r a v e n o u s   t h r o m b o l y s i s   ,   w a s   c a t e g o r i z e d   i n t o   s i c h   (   e n d s i c h   )   a n d   c e r e b r a l   i s c h e m i a   (   e n d c i   )   .',\n",
              " 'm u l t i n o m i a l   l o g i s t i c   r e g r e s s i o n   w a s   u s e d   t o   a s s e s s   t h e   e f f e c t   o f   a s p i r i n   o n   e n d   .',\n",
              " 'o f   t h e   @   p a t i e n t s   ,   @   p a t i e n t s   (   @   %   )   e x p e r i e n c e d   e n d   (   @   e n d s i c h   ,   @   e n d c i   )   .',\n",
              " 'a s p i r i n   i n c r e a s e d   t h e   r i s k   o f   e n d s i c h   (   o d d s   r a t i o   ,   @   ;   @   %   c o n f i d e n c e   i n t e r v a l   ,   @ - @   @   )   b u t   n o t   o f   e n d c i   (   o d d s   r a t i o   ,   @   ;   @   %   c o n f i d e n c e   i n t e r v a l   ,   @ - @   @   )   .',\n",
              " 'a f t e r   a d j u s t m e n t   f o r   o t h e r   e x p l a n a t o r y   v a r i a b l e s   ,   t h e   a s s o c i a t i o n   b e t w e e n   a s p i r i n   a n d   e n d s i c h   r e m a i n e d   s i g n i f i c a n t   .',\n",
              " 'i n   t h i s   t r i a l   ,   t h e r e   i s   n o   e v i d e n c e   o f   a n   e a r l y   a n t i t h r o m b o t i c   e f f e c t   f r o m   t h e   a d d i t i o n   o f   a s p i r i n   t o   i n t r a v e n o u s   t h r o m b o l y s i s   i n   a c u t e   i s c h e m i c   s t r o k e   .',\n",
              " 't o   c o m p a r e   t h e   r e l a t i v e   e f f e c t i v e n e s s   o f   m e t h o t r e x a t e   a n d   m y c o p h e n o l a t e   m o f e t i l   f o r   n o n i n f e c t i o u s   i n t e r m e d i a t e   u v e i t i s   ,   p o s t e r i o r   u v e i t i s   ,   o r   p a n u v e i t i s   .',\n",
              " 'm u l t i c e n t e r   ,   b l o c k - r a n d o m i z e d   ,   o b s e r v e r - m a s k e d   c l i n i c a l   t r i a l   .',\n",
              " 'e i g h t y   p a t i e n t s   w i t h   n o n i n f e c t i o u s   i n t e r m e d i a t e   ,   p o s t e r i o r   ,   o r   p a n u v e i t i s   r e q u i r i n g   c o r t i c o s t e r o i d - s p a r i n g   t h e r a p y   a t   a r a v i n d   e y e   h o s p i t a l s   i n   m a d u r a i   a n d   c o i m b a t o r e   ,   i n d i a   .',\n",
              " 'p a t i e n t s   w e r e   r a n d o m i z e d   t o   r e c e i v e   @   m g   w e e k l y   o r a l   m e t h o t r e x a t e   o r   @   g   t w i c e   d a i l y   o r a l   m y c o p h e n o l a t e   m o f e t i l   a n d   w e r e   m o n i t o r e d   m o n t h l y   f o r   @   m o n t h s   .',\n",
              " 'o r a l   p r e d n i s o n e   a n d   t o p i c a l   c o r t i c o s t e r o i d s   w e r e   t a p e r e d   .',\n",
              " 'm a s k e d   e x a m i n e r s   a s s e s s e d   t h e   p r i m a r y   o u t c o m e   o f   t r e a t m e n t   s u c c e s s   ,   d e f i n e d   b y   a c h i e v i n g   t h e   f o l l o w i n g   a t   @   a n d   @   m o n t h s   :   (   @   )   @   +   a n t e r i o r   c h a m b e r   c e l l s   ,   @   +   v i t r e o u s   c e l l s   ,   @   +   v i t r e o u s   h a z e   a n d   n o   a c t i v e   r e t i n a l / c h o r o i d a l   l e s i o n s   i n   b o t h   e y e s   ,   (   @   )   @   m g   o f   p r e d n i s o n e   a n d   @   d r o p s   o f   p r e d n i s o l o n e   a c e t a t e   @   %   a   d a y   ,   a n d   (   @   )   n o   d e c l a r a t i o n   o f   t r e a t m e n t   f a i l u r e   b e c a u s e   o f   i n t o l e r a b i l i t y   o r   s a f e t y   .',\n",
              " 'a d d i t i o n a l   o u t c o m e s   i n c l u d e d   t i m e   t o   s u s t a i n e d   c o r t i c o s t e r o i d - s p a r i n g   c o n t r o l   o f   i n f l a m m a t i o n   ,   c h a n g e   i n   b e s t   s p e c t a c l e - c o r r e c t e d   v i s u a l   a c u i t y   ,   r e s o l u t i o n   o f   m a c u l a r   e d e m a   ,   a d v e r s e   e v e n t s   ,   s u b g r o u p   a n a l y s i s   b y   a n a t o m i c   l o c a t i o n   ,   a n d   m e d i c a t i o n   a d h e r e n c e   .',\n",
              " 'f o r t y - o n e   p a t i e n t s   w e r e   r a n d o m i z e d   t o   m e t h o t r e x a t e   a n d   @   t o   m y c o p h e n o l a t e   m o f e t i l   .',\n",
              " 'a   t o t a l   o f   @   p a t i e n t s   (   @   m e t h o t r e x a t e   ,   @   m y c o p h e n o l a t e   m o f e t i l   )   c o n t r i b u t e d   t o   t h e   p r i m a r y   o u t c o m e   .',\n",
              " 's i x t y - n i n e   p e r c e n t   o f   p a t i e n t s   a c h i e v e d   t r e a t m e n t   s u c c e s s   w i t h   m e t h o t r e x a t e   a n d   @   %   w i t h   m y c o p h e n o l a t e   m o f e t i l   (   p   =   @   )   .',\n",
              " 't r e a t m e n t   f a i l u r e   f r o m   a d v e r s e   e v e n t s   o r   t o l e r a b i l i t y   w a s   n o t   d i f f e r e n t   b y   t r e a t m e n t   a r m   (   p   =   @   )   .',\n",
              " 't h e r e   w e r e   n o   d i f f e r e n c e s   b e t w e e n   t r e a t m e n t   g r o u p s   i n   t i m e   t o   c o r t i c o s t e r o i d - s p a r i n g   c o n t r o l   o f   i n f l a m m a t i o n   (   p   =   @   )   ,   c h a n g e   i n   b e s t   s p e c t a c l e - c o r r e c t e d   v i s u a l   a c u i t y   (   p   =   @   )   ,   o r   r e s o l u t i o n   o f   m a c u l a r   e d e m a   (   p   =   @   )   .',\n",
              " 't h e r e   w a s   n o   s t a t i s t i c a l l y   s i g n i f i c a n t   d i f f e r e n c e   i n   c o r t i c o s t e r o i d - s p a r i n g   c o n t r o l   o f   i n f l a m m a t i o n   b e t w e e n   p a t i e n t s   r e c e i v i n g   m e t h o t r e x a t e   o r   m y c o p h e n o l a t e   m o f e t i l   .',\n",
              " 'h o w e v e r   ,   t h e r e   w a s   a   @   %   d i f f e r e n c e   i n   t r e a t m e n t   s u c c e s s   f a v o r i n g   m e t h o t r e x a t e   .',\n",
              " 't h e   p r e v a l e n c e   o f   m e t h i c i l l i n - r e s i s t a n t   s t a p h y l o c o c c u s   a u r e u s   (   m r s a   )   r e s p i r a t o r y   i n f e c t i o n   i n   c y s t i c   f i b r o s i s   (   c f   )   h a s   i n c r e a s e d   d r a m a t i c a l l y   o v e r   t h e   l a s t   d e c a d e   ,   a n d   i s   n o w   a f f e c t i n g   a p p r o x i m a t e l y   @   %   o f   p a t i e n t s   .',\n",
              " 'e p i d e m i o l o g i c   e v i d e n c e   s u g g e s t s   t h a t   p e r s i s t e n t   i n f e c t i o n   w i t h   m r s a   r e s u l t s   i n   a n   i n c r e a s e d   r a t e   o f   d e c l i n e   i n   f e v @   a n d   s h o r t e n e d   s u r v i v a l   .',\n",
              " 'c u r r e n t l y   ,   t h e r e   a r e   n o   c o n c l u s i v e   s t u d i e s   d e m o n s t r a t i n g   a n   e f f e c t i v e   a n d   s a f e   t r e a t m e n t   p r o t o c o l   f o r   p e r s i s t e n t   m r s a   r e s p i r a t o r y   i n f e c t i o n   i n   c f .',\n",
              " 't h e   p r i m a r y   o b j e c t i v e   o f   t h i s   s t u d y   i s   t o   e v a l u a t e   t h e   s a f e t y   a n d   e f f i c a c y   o f   a   @ - d a y   c o u r s e   o f   v a n c o m y c i n   f o r   i n h a l a t i o n   i n   c o m b i n a t i o n   w i t h   o r a l   a n t i b i o t i c s   i n   e l i m i n a t i n g   m r s a   f r o m   t h e   r e s p i r a t o r y   t r a c t   o f   i n d i v i d u a l s   w i t h   c f   a n d   p e r s i s t e n t   m r s a   i n f e c t i o n   .',\n",
              " 't h i s   i s   a   t w o - c e n t e r   ,   r a n d o m i z e d   ,   d o u b l e - b l i n d   ,   c o m p a r a t o r - c o n t r o l l e d   ,   p a r a l l e l - g r o u p   s t u d y   w i t h   @ : @   a s s i g n m e n t   t o   e i t h e r   v a n c o m y c i n   f o r   i n h a l a t i o n   (   @ m g   t w i c e   a   d a y   )   o r   t a s t e - m a t c h e d   p l a c e b o   f o r   @ d a y s   i n   i n d i v i d u a l s   w i t h   c y s t i c   f i b r o s i s   .',\n",
              " 'i n   a d d i t i o n   ,   b o t h   g r o u p s   w i l l   r e c e i v e   o r a l   r i f a m p i n   ,   a   s e c o n d   o r a l   a n t i b i o t i c   -   t r i m e t h o p r i m / s u l f a m e t h o x a z o l e   (   t m p / s m x   )   o r   d o x y c y c l i n e   ,   p r o t o c o l   d e t e r m i n e d   -   m u p i r o c i n   i n t r a n a s a l   c r e a m   ,   a n d   c h l o r h e x i d i n e   b o d y   w a s h e s   .',\n",
              " 'f o r t y   p a t i e n t s   w i t h   p e r s i s t e n t   r e s p i r a t o r y   t r a c t   m r s a   i n f e c t i o n   w i l l   b e   e n r o l l e d   :   @   w i l l   b e   r a n d o m i z e d   t o   v a n c o m y c i n   f o r   i n h a l a t i o n   a n d   @   t o   a   t a s t e - m a t c h e d   p l a c e b o   .',\n",
              " 't h e   p r i m a r y   o u t c o m e   w i l l   b e   t h e   p r e s e n c e   o f   m r s a   i n   s p u t u m   r e s p i r a t o r y   t r a c t   c u l t u r e s   @ m o n t h   a f t e r   t h e   c o n c l u s i o n   o f   t r e a t m e n t   .',\n",
              " 's e c o n d a r y   o u t c o m e s   i n c l u d e   t h e   e f f i c a c y   o f   t h e   i n t e r v e n t i o n   o n   :   f e v @   %   p r e d i c t e d   ,   p a t i e n t   r e p o r t e d   o u t c o m e s   ,   p u l m o n a r y   e x a c e r b a t i o n s   ,   a n d   m r s a   c o l o n y - f o r m i n g   u n i t s   f o u n d   i n   r e s p i r a t o r y   t r a c t   s a m p l e   c u l t u r e   .',\n",
              " 'r e s u l t s   o f   t h i s   s t u d y   w i l l   p r o v i d e   g u i d a n c e   t o   c l i n i c i a n s   r e g a r d i n g   t h e   s a f e t y   a n d   e f f e c t i v e n e s s   o f   a   t a r g e t e d   e r a d i c a t i o n   s t r a t e g y   f o r   p e r s i s t e n t   m r s a   i n f e c t i o n   i n   c f .',\n",
              " 't h i s   t r i a l   i s   r e g i s t e r e d   a t   c l i n i c a l t r i a l s . g o v   (   n c t @   ,   r e c e i v e d   @ / @ / @   )   a n d   i s   f u n d e d   b y   t h e   c y s t i c   f i b r o s i s   f o u n d a t i o n   (   g r a n t s   :   p m e p @ k @   a n d   p m e p @ k @   )   .',\n",
              " 't h e r e   i s   a   s t r o n g   a s s o c i a t i o n   b e t w e e n   w e i g h t   g a i n   a n d   m e t a b o l i c   e v e n t s   i n   p a t i e n t s   w i t h   s c h i z o p h r e n i a   r e c e i v i n g   m a n y   o f   t h e   s e c o n d - g e n e r a t i o n   a n t i p s y c h o t i c   a g e n t s   .',\n",
              " 'w e   e x p l o r e d   t h e   r e l a t i o n s h i p   b e t w e e n   b o d y   m a s s   i n d e x   (   b m i   )   a n d   m e t a b o l i c   e v e n t s   i n   p a t i e n t s   w i t h   s c h i z o p h r e n i a   r e c e i v i n g   l o n g - a c t i n g   i n j e c t a b l e   p a l i p e r i d o n e   p a l m i t a t e   (   p p   )   i n   a   l o n g - t e r m   t r i a l   .',\n",
              " 'w e   c o n d u c t e d   a   p o s t   h o c   a n a l y s i s   o f   d a t a   f r o m   a   p p   s t u d y   t h a t   i n c l u d e d   a   @ - w e e k   o p e n - l a b e l   t r a n s i t i o n   (   t r   )   a n d   m a i n t e n a n c e   p h a s e   ;   a   v a r i a b l e   d u r a t i o n   ,   r a n d o m i z e d   ,   d o u b l e - b l i n d   (   d b   )   ,   p l a c e b o - c o n t r o l l e d   p h a s e   a n d   a   @ - w e e k   o p e n - l a b e l   e x t e n s i o n   (   o l e   )   p h a s e   .',\n",
              " 'o v e r a l l   ,   @   p a t i e n t s   r e c e i v e d   p p   c o n t i n u o u s l y   f r o m   s t u d y   e n t r y   t h r o u g h   d i s c o n t i n u a t i o n   o r   s t u d y   c o m p l e t i o n   a n d   w e r e   g r o u p e d   b y   b a s e l i n e   b m i   (   k g / m @   )   :   u n d e r w e i g h t   (   b m i   <   @   ;   n   =   @   ,   @   %   )   ,   n o r m a l - w e i g h t   (   b m i   @   -   <   @   ;   n   =   @   ,   @   %   )   ,   o v e r w e i g h t   (   b m i   @   -   <   @   ;   n   =   @   ,   @   %   )   a n d   o b e s e   (   b m i   @   ;   n   =   @   ,   @   %   )   .',\n",
              " 'm e t a b o l i c   t r e a t m e n t - e m e r g e n t   a d v e r s e   e v e n t s   (   t e a e s   )   a n d   c h a n g e s   i n   r e l a t e d   l a b o r a t o r y   r e s u l t s   f r o m   t r   b a s e l i n e   w e r e   a n a l y z e d   .',\n",
              " 'p p   e x p o s u r e   w a s   s i m i l a r   a c r o s s   b m i   g r o u p s   ;   o v e r a l l   m e a n   (   s d   )   d o s e / m o n t h   w a s   @   (   @   )   m g   e q   .',\n",
              " '- l s b -   @   (   @   )   m g   - r s b -   ;   m e d i a n   d u r a t i o n   o f   e x p o s u r e   w a s   @   d a y s   (   @   t o   @   d a y s   )   .',\n",
              " 'o c c u r r e n c e s   o f   m e t a b o l i c   t e a e s   o v e r a l l   b y   g r o u p   w e r e   @   %   (   u n d e r w e i g h t   )   ,   @   %   (   n o r m a l - w e i g h t   )   ,   @   %   (   o v e r w e i g h t   )   ,   a n d   @   %   (   o b e s e   )   .',\n",
              " 't h e   m o s t   c o m m o n   (   @   %   )   m e t a b o l i c   t e a e   w e r e   w e i g h t   g a i n   a n d   e l e v a t e d   b l o o d   l e v e l s   o f   g l u c o s e   ,   l i p i d s   ,   a n d   i n s u l i n   .',\n",
              " 'm e a n   b m i   a n d   w e i g h t   i n c r e a s e d   i n   n o r m a l - w e i g h t   a n d   o v e r w e i g h t   g r o u p s   a t   d b   e n d p o i n t   ,   a n d   i n   u n d e r w e i g h t   ,   n o r m a l - w e i g h t   a n d   o v e r w e i g h t   g r o u p s   a t   o l e   e n d p o i n t   (   p   @   )   .',\n",
              " 'n o   c o n s i s t e n t   t r e n d   f o r   i n c r e a s e d   m e t a b o l i c - r e l a t e d   l a b o r a t o r y   v a l u e s   b y   b a s e l i n e   b m i   g r o u p   w a s   o b s e r v e d   .',\n",
              " 'h o m e o s t a t i c   m o d e l   a s s e s s m e n t s   f o r   i n s u l i n   r e s i s t a n c e   i n d i c a t e d   p r e e x i s t i n g   i n s u l i n   r e s i s t a n c e   a t   b a s e l i n e   ,   w i t h   m i n i m a l   c h a n g e s   a t   o l e   e n d p o i n t   a c r o s s   b a s e l i n e   b m i   g r o u p s   .',\n",
              " 'o c c u r r e n c e s   o f   m e t a b o l i c - r e l a t e d   t e a e s   t r e n d e d   w i t h   g r e a t e r   b m i   s t a t u s   i n   p a t i e n t s   w i t h   s c h i z o p h r e n i a   t r e a t e d   w i t h   p p   ;   c o n s i s t e n t   t r e n d s   i n   m e t a b o l i c - r e l a t e d   l a b o r a t o r y   v a l u e s   w e r e   n o t   o b s e r v e d   .',\n",
              " 't h i s   s t u d y   i s   r e g i s t e r e d   a t   c l i n i c a l t r i a l s . g o v   (   n c t   @   )   .',\n",
              " 'f e c a l   i m m u n o c h e m i c a l   t e s t s   (   f i t s   )   a r e   r e c o m m e n d e d   t o   s c r e e n   a v e r a g e - r i s k   a d u l t s   f o r   c o l o r e c t a l   c a n c e r   (   c r c   )   .',\n",
              " 'l i t t l e   r e s e a r c h   h a s   e x a m i n e d   w h e t h e r   a   t w o - s a m p l e   f i t   a f f e c t s   p a r t i c i p a n t   u p t a k e   ,   c o m p a r e d   w i t h   a   o n e - s a m p l e   f i t   .',\n",
              " 'e x a m i n i n g   p a r t i c i p a n t   u p t a k e   i s   i m p o r t a n t   ,   a s   e v i d e n c e   s u g g e s t s   t h a t   a   t w o - s a m p l e   f i t   m a y   i n c r e a s e   t h e   s e n s i t i v i t y   t o   d e t e c t   c r c   .',\n",
              " 't h i s   s t u d y   h a d   t w o   o b j e c t i v e s   :   (   i   )   t o   e v a l u a t e   f i t   c o m p l e t i o n   i n   a   p o p u l a t i o n   t h a t   r e c e i v e d   e i t h e r   a   o n e - s a m p l e   f i t   k i t   (   @ - f i t   )   o r   a   t w o - s a m p l e   f i t   k i t   (   @ - f i t   )   a n d   (   i i   )   t o   u n d e r s t a n d   w h e t h e r   u p t a k e   v a r i e s   b y   a g e   ,   s e x   ,   o r   r e c e i p t   o f   p r i o r   c r c   s c r e e n i n g   .',\n",
              " 'w e   c o n d u c t e d   a   r a n d o m i z e d   c o n t r o l l e d   t r i a l   i n   w h i c h   @   p a r t i c i p a n t s   w h o   w e r e   a g e d   b e t w e e n   @   a n d   @   y e a r s   a n d   w e r e   a t   a n   a v e r a g e   r i s k   f o r   c r c   ,   a n d   w h o   h a d   r e q u e s t e d   f i t s   ,   r a n d o m l y   r e c e i v e d   @ - f i t   (   n   =   @   )   o r   @ - f i t   (   n   =   @   )   k i t s   .',\n",
              " 'f i t   c o m p l e t i o n   w a s   d e f i n e d   a s   t h e   c o m p l e t i o n   a n d   r e t u r n   o f   a   o n e - s a m p l e   t e s t   b y   t h e   p a t i e n t s   i n   t h e   @ - f i t   g r o u p   o r   o f   b o t h   s a m p l e   t e s t s   b y   t h o s e   i n   t h e   @ - f i t   g r o u p   .',\n",
              " 'c o x   p r o p o r t i o n a l   h a z a r d   r e g r e s s i o n   m o d e l s   w e r e   u s e d   t o   d e t e r m i n e   t h e   i n d e p e n d e n t   e f f e c t   o f   g r o u p   t y p e   (   @ - f i t   v s .   @ - f i t   )   o n   t h e   c o m p l e t i o n   o f   t h e   f i t   ,   a d j u s t i n g   f o r   a g e   ,   s e x   ,   a n d   r e c e i p t   o f   p r i o r   c r c   s c r e e n i n g   .',\n",
              " 't h e   @ - f i t   g r o u p   h a d   l o w e r   t e s t   c o m p l e t i o n   r a t e s   (   h a z a r d   r a t i o   =   @   ;   @   %   c o n f i d e n c e   i n t e r v a l   =   @ - @   @   ;   p   =   @   )   a f t e r   a d j u s t i n g   f o r   a g e   ,   s e x   ,   a n d   r e c e i p t   o f   p r i o r   c r c   s c r e e n i n g   .',\n",
              " 'p a r t i c i p a n t   u p t a k e   d i d   n o t   v a r y   b y   a g e   ,   s e x   ,   o r   r e c e i p t   o f   p r i o r   c r c   s c r e e n i n g   .',\n",
              " 't h i s   u n i q u e   ,   r i g o r o u s   r a n d o m i z e d   c o n t r o l l e d   t r i a l   f o u n d   t h a t   t h e   @ - f i t   r e g i m e n   d e c r e a s e s   c o m p l e t i o n   o f   f i t   .',\n",
              " 'f u r t h e r   r e s e a r c h   i s   n e e d e d   t o   u n d e r s t a n d   w h e t h e r   d e c r e a s e s   i n   p a r t i c i p a n t   u p t a k e   a r e   o f f s e t   b y   i n c r e a s e d   g a i n s   i n   t e s t   s e n s i t i v i t y   .',\n",
              " 'e v a l u a t i o n   o f   t h e   s a f e t y   a n d   e f f i c a c y   o f   p a z o p a n i b   ,   a   m u l t i k i n a s e   a n g i o g e n e s i s   i n h i b i t o r   ,   i n   a   s i n g l e - a r m   ,   o p e n - l a b e l   ,   e x t e n s i o n   s t u d y   (   v e g @ / n c t @   )   f o r   p l a c e b o - t r e a t e d   p a t i e n t s   w i t h   a d v a n c e d   r e n a l   c e l l   c a r c i n o m a   (   r c c   )   f r o m   a   r a n d o m i z e d   ,   d o u b l e - b l i n d   ,   p l a c e b o - c o n t r o l l e d   p h a s e   i i i   s t u d y   (   v e g @ / n c t @   )   .',\n",
              " 'p a t i e n t s   r e c e i v e d   p a z o p a n i b   @   m g / d a y   .',\n",
              " 't h e   p r i m a r y   e n d p o i n t   w a s   t h e   s a f e t y   a n d   t o l e r a b i l i t y   o f   p a z o p a n i b   t r e a t m e n t   .',\n",
              " 's e c o n d a r y   e n d p o i n t s   i n c l u d e d   r e s p o n s e   r a t e   p e r   r e s p o n s e   e v a l u a t i o n   c r i t e r i a   i n   s o l i d   t u m o r s   ,   p r o g r e s s i o n - f r e e   s u r v i v a l   (   p f s   )   ,   a n d   o v e r a l l   s u r v i v a l   (   o s   )   .',\n",
              " 's e v e n t y - n i n e   p l a c e b o - t r e a t e d   p a t i e n t s   f r o m   v e g @ / n c t @   w h o   e x p e r i e n c e d   d i s e a s e   p r o g r e s s i o n   a n d   o n e   p a z o p a n i b - t r e a t e d   p a t i e n t   (   a n   e x e m p t i o n   )   w e r e   e n r o l l e d   .',\n",
              " 'f o r t y - o n e   p a t i e n t s   (   @   %   )   w e r e   t r e a t m e n t - n a i v e   ;   @   (   @   %   )   w e r e   c y t o k i n e - p r e t r e a t e d   .',\n",
              " 'm e d i a n   e x p o s u r e   t o   p a z o p a n i b   w a s   @   m o n t h s   .',\n",
              " 'a l l   p a t i e n t s   h a d   d i s c o n t i n u e d   p a z o p a n i b   a t   t h e   t i m e   o f   a n a l y s i s   .',\n",
              " 't h e   m o s t   c o m m o n   r e a s o n   f o r   d i s c o n t i n u a t i o n   w a s   d i s e a s e   p r o g r e s s i o n   (   @   %   )   .',\n",
              " 't h e   m o s t   c o m m o n   a d v e r s e   e v e n t s   w e r e   h y p e r t e n s i o n   (   @   %   )   ,   d i a r r h e a   (   @   %   )   ,   h a i r   c o l o r   c h a n g e s   (   @   %   )   ,   a n o r e x i a   (   @   %   )   ,   a n d   n a u s e a   (   @   %   )   .',\n",
              " 't h e   r e s p o n s e   r a t e   w a s   @   %   - l s b -   @   %   c o n f i d e n c e   i n t e r v a l   (   c i   )   :   @ - @   @   - r s b -   ;   m e d i a n   p f s   w a s   @   m o n t h s   (   @   %   c i   :   @ - @   @   )   ;   m e d i a n   o s   w a s   @   m o n t h s   (   @   %   c i   :   @ - @   @   )   .',\n",
              " 'e f f i c a c y   a n d   s a f e t y   p r o f i l e s   f o r   p a z o p a n i b   i n   t h i s   e x t e n s i o n   s t u d y   o f   p a t i e n t s   w i t h   r c c   p r e v i o u s l y   t r e a t e d   w i t h   p l a c e b o   w e r e   v e r y   s i m i l a r   t o   t h o s e   o b s e r v e d   f o r   p a z o p a n i b - t r e a t e d   p a t i e n t s   i n   t h e   p i v o t a l   p h a s e   i i i   s t u d y   .',\n",
              " 'a n   e s t a b l i s h e d   m u l t i v a r i a t e   s e r u m   p r o t e i n   t e s t   c a n   b e   u s e d   t o   c l a s s i f y   p a t i e n t s   a c c o r d i n g   t o   w h e t h e r   t h e y   a r e   l i k e l y   t o   h a v e   a   g o o d   o r   p o o r   o u t c o m e   a f t e r   t r e a t m e n t   w i t h   e g f r   t y r o s i n e - k i n a s e   i n h i b i t o r s   .',\n",
              " 'w e   a s s e s s e d   t h e   p r e d i c t i v e   p o w e r   o f   t h i s   t e s t   i n   t h e   c o m p a r i s o n   o f   e r l o t i n i b   a n d   c h e m o t h e r a p y   i n   p a t i e n t s   w i t h   n o n - s m a l l - c e l l   l u n g   c a n c e r   .',\n",
              " 'f r o m   f e b   @   ,   @   ,   t o   a p r i l   @   ,   @   ,   p a t i e n t s   (   a g e d   @   y e a r s   )   w i t h   h i s t o l o g i c a l l y   o r   c y t o l o g i c a l l y   c o n f i r m e d   ,   s e c o n d - l i n e   ,   s t a g e   i i i b   o r   i v   n o n - s m a l l - c e l l   l u n g   c a n c e r   w e r e   e n r o l l e d   i n   @   c e n t r e s   i n   i t a l y   .',\n",
              " 'p a t i e n t s   w e r e   s t r a t i f i e d   a c c o r d i n g   t o   a   m i n i m i s a t i o n   a l g o r i t h m   b y   e a s t e r n   c o o p e r a t i v e   o n c o l o g y   g r o u p   p e r f o r m a n c e   s t a t u s   ,   s m o k i n g   h i s t o r y   ,   c e n t r e   ,   a n d   m a s k e d   p r e t r e a t m e n t   s e r u m   p r o t e i n   t e s t   c l a s s i f i c a t i o n   ,   a n d   r a n d o m l y   a s s i g n e d   c e n t r a l l y   i n   a   @ : @   r a t i o   t o   r e c e i v e   e r l o t i n i b   (   @   m g / d a y   ,   o r a l l y   )   o r   c h e m o t h e r a p y   (   p e m e t r e x e d   @   m g / m   (   @   )   ,   i n t r a v e n o u s l y   ,   e v e r y   @   d a y s   ,   o r   d o c e t a x e l   @   m g / m   (   @   )   ,   i n t r a v e n o u s l y   ,   e v e r y   @   d a y s   )   .',\n",
              " 't h e   p r o t e o m i c   t e s t   c l a s s i f i c a t i o n   w a s   m a s k e d   f o r   p a t i e n t s   a n d   i n v e s t i g a t o r s   w h o   g a v e   t r e a t m e n t s   ,   a n d   t r e a t m e n t   a l l o c a t i o n   w a s   m a s k e d   f o r   i n v e s t i g a t o r s   w h o   g e n e r a t e d   t h e   p r o t e o m i c   c l a s s i f i c a t i o n   .',\n",
              " 't h e   p r i m a r y   e n d p o i n t   w a s   o v e r a l l   s u r v i v a l   a n d   t h e   p r i m a r y   h y p o t h e s i s   w a s   t h e   e x i s t e n c e   o f   a   s i g n i f i c a n t   i n t e r a c t i o n   b e t w e e n   t h e   s e r u m   p r o t e i n   t e s t   c l a s s i f i c a t i o n   a n d   t r e a t m e n t   .',\n",
              " 'a n a l y s e s   w e r e   d o n e   o n   t h e   p e r - p r o t o c o l   p o p u l a t i o n   .',\n",
              " 't h i s   t r i a l   i s   r e g i s t e r e d   w i t h   c l i n i c a l t r i a l s . g o v   ,   n u m b e r   n c t @   .',\n",
              " '@   p a t i e n t s   w e r e   r a n d o m l y   a s s i g n e d   t o   c h e m o t h e r a p y   a n d   @   t o   e r l o t i n i b   ,   a n d   @   (   @   %   )   a n d   @   (   @   %   )   ,   r e s p e c t i v e l y   ,   w e r e   i n c l u d e d   i n   t h e   p e r - p r o t o c o l   a n a l y s i s   .',\n",
              " '@   (   @   %   )   p a t i e n t s   i n   t h e   c h e m o t h e r a p y   g r o u p   a n d   @   (   @   %   )   i n   t h e   e r l o t i n i b   g r o u p   h a d   a   p r o t e o m i c   t e s t   c l a s s i f i c a t i o n   o f   g o o d   .',\n",
              " 'm e d i a n   o v e r a l l   s u r v i v a l   w a s   @   m o n t h s   (   @   %   c i   @ - @   )   i n   t h e   c h e m o t h e r a p y   g r o u p   a n d   @   m o n t h s   (   @ - @   )   i n   t h e   e r l o t i n i b   g r o u p   .',\n",
              " 'w e   n o t e d   a   s i g n i f i c a n t   i n t e r a c t i o n   b e t w e e n   t r e a t m e n t   a n d   p r o t e o m i c   c l a s s i f i c a t i o n   (   p i n t e r a c t i o n   =   @   w h e n   a d j u s t e d   f o r   s t r a t i f i c a t i o n   f a c t o r s   ;   p i n t e r a c t i o n   =   @   w h e n   u n a d j u s t e d   f o r   s t r a t i f i c a t i o n   f a c t o r s   )   .',\n",
              " 'p a t i e n t s   w i t h   a   p r o t e o m i c   t e s t   c l a s s i f i c a t i o n   o f   p o o r   h a d   w o r s e   s u r v i v a l   o n   e r l o t i n i b   t h a n   o n   c h e m o t h e r a p y   (   h a z a r d   r a t i o   @   - l s b -   @   %   c i   @ - @   - r s b -   ,   p   =   @   )   .',\n",
              " 't h e r e   w a s   n o   s i g n i f i c a n t   d i f f e r e n c e   i n   o v e r a l l   s u r v i v a l   b e t w e e n   t r e a t m e n t s   f o r   p a t i e n t s   w i t h   a   p r o t e o m i c   t e s t   c l a s s i f i c a t i o n   o f   g o o d   (   a d j u s t e d   h r   @   - l s b -   @ - @   - r s b -   ,   p   =   @   )   .',\n",
              " 'i n   t h e   g r o u p   o f   p a t i e n t s   w h o   r e c e i v e d   c h e m o t h e r a p y   ,   t h e   m o s t   c o m m o n   g r a d e   @   o r   @   t o x i c   e f f e c t   w a s   n e u t r o p e n i a   (   @   - l s b -   @   %   - r s b -   v s   o n e   - l s b -   <   @   %   - r s b -   i n   t h e   e r l o t i n i b   g r o u p   )   ,   w h e r e a s   s k i n   t o x i c i t y   (   o n e   - l s b -   <   @   %   - r s b -   v s   @   - l s b -   @   %   - r s b -   )   w a s   t h e   m o s t   f r e q u e n t   i n   t h e   e r l o t i n i b   g r o u p   .',\n",
              " 'o u r   f i n d i n g s   i n d i c a t e   t h a t   s e r u m   p r o t e i n   t e s t   s t a t u s   i s   p r e d i c t i v e   o f   d i f f e r e n t i a l   b e n e f i t   i n   o v e r a l l   s u r v i v a l   f o r   e r l o t i n i b   v e r s u s   c h e m o t h e r a p y   i n   t h e   s e c o n d - l i n e   s e t t i n g   .',\n",
              " 'p a t i e n t s   c l a s s i f i e d   a s   l i k e l y   t o   h a v e   a   p o o r   o u t c o m e   h a v e   b e t t e r   o u t c o m e s   o n   c h e m o t h e r a p y   t h a n   o n   e r l o t i n i b   .',\n",
              " 'i t a l i a n   m i n i s t r y   o f   h e a l t h   ,   i t a l i a n   a s s o c i a t i o n   o f   c a n c e r   r e s e a r c h   ,   a n d   b i o d e s i x   .',\n",
              " 't h i s   s t u d y   w a s   t o   e v a l u a t e   t h e   e f f e c t   o f   i n t r a o p e r a t i v e   c o n t i n u o u s   i n f u s i o n   o f   d e x m e d e t o m i d i n e   o n   i n t r a o c u l a r   p r e s s u r e   (   i o p   )   i n   p a t i e n t s   u n d e r g o i n g   r o b o t - a s s i s t e d   l a p a r o s c o p i c   r a d i c a l   p r o s t a t e c t o m y   (   r a l r p   )   i n   t h e   s t e e p   t r e n d e l e n b u r g   (   s t   )   .',\n",
              " 's i x t y - e i g h t   p a t i e n t s   w e r e   r a n d o m l y   d i v i d e d   i n t o   t w o   g r o u p s   .',\n",
              " 't h e   d e x m e d e t o m i d i n e   g r o u p   (   g r o u p   d   ,   n   =   @   )   r e c e i v e d   a   c o n t i n u o u s   i n f u s i o n   o f   d e x m e d e t o m i d i n e   a t   a   r a t e   o f   @   g   k g   (   - @   )   h o u r   (   - @   )   f r o m   t h e   i n d u c t i o n   o f   a n e s t h e s i a   u n t i l   t h e   e n d   o f   t h e   s t   p o s i t i o n   ,   w h i l e   t h e   c o n t r o l   g r o u p   (   g r o u p   c   ,   n   =   @   )   r e c e i v e d   a n   e q u a l   v o l u m e   o f   p h y s i o l o g i c   s a l i n e   a t   t h e   s a m e   r a t e   u n d e r   c o n v e n t i o n a l   g e n e r a l   a n e s t h e s i a   w i t h   s e v o f l u r a n e   a n d   r e m i f e n t a n i l   .',\n",
              " 'i o p   w a s   m e a s u r e d   a t   @   p r e d e f i n e d   t i m e   p o i n t s   f o r   a l l   p a t i e n t s   .',\n",
              " 's i g n i f i c a n t   d i f f e r e n c e s   i n   i o p   w e r e   d e t e c t e d   b e t w e e n   t h e   t w o   g r o u p s   b y   a   l i n e a r   m i x e d   m o d e l   a n a l y s i s   (   p   <   @   )   .',\n",
              " 't h e   h i g h e s t   m e a n   i o p   w a s   @   m m   h g   i n   g r o u p   d   a n d   @   m m   h g   i n   g r o u p   c   ;   b o t h   w e r e   m e a s u r e d   @   m i n u t e s   a f t e r   t h e   p a t i e n t s   h a d   b e e n   p l a c e d   i n   t h e   s t   p o s i t i o n   .',\n",
              " 'n o   s i g n i f i c a n t   b e t w e e n - g r o u p   d i f f e r e n c e s   i n   o c u l a r   p e r f u s i o n   p r e s s u r e   ,   m e a n   b l o o d   p r e s s u r e   ,   o r   h e a r t   r a t e   w e r e   o b s e r v e d   b e t w e e n   t h e   t w o   g r o u p s   .',\n",
              " 'n o   o c u l a r   o r   o t h e r   c o m p l i c a t i o n s   w e r e   n o t e d   .',\n",
              " 'i n t r a o p e r a t i v e   c o n t i n u o u s   i n f u s i o n   o f   d e x m e d e t o m i d i n e   m a y   h e l p   a l l e v i a t e   i o p   i n c r e a s e   i n   p a t i e n t s   u n d e r g o i n g   r a l r p   i n   t h e   s t   p o s i t i o n   .',\n",
              " 'd i s r u p t i v e   o r   c h a l l e n g i n g   b e h a v i o r   p r o b l e m s   p o s e   a   t h r e a t   t o   c h i l d r e n   a n d   a d o l e s c e n t s   w i t h   i n t e l l e c t u a l   d i s a b i l i t i e s   a n d   t h e i r   c a r e g i v e r s   .',\n",
              " 'p s y c h o p h a r m a c o l o g i c a l   t r e a t m e n t   i s   m o s t l y   s t u d i e d   w i t h   n e w - g e n e r a t i o n   a n t i p s y c h o t i c s   a n d   h a s   b e e n   c r i t i c i z e d   f o r   a d v e r s e   s i d e   e f f e c t s   .',\n",
              " 't h i s   s t u d y   e x a m i n e d   t h e   e f f e c t   o f   t h e   c l a s s i c   a n t i p s y c h o t i c   z u c l o p e n t h i x o l   .',\n",
              " 'a   t o t a l   o f   @   b o y s   (   a g e s   @ - @   @   y e a r s   )   w i t h   l e a r n i n g   d i s a b i l i t i e s   w e r e   i n c l u d e d   a n d   e x a m i n e d   f o r   a   r e s p o n s e   t o   z u c l o p e n t h i x o l   d u r i n g   a   @   w e e k   p e r i o d   o f   o p e n   l a b e l   t r e a t m e n t   .',\n",
              " 'd o s e s   s t a r t e d   l o w   a n d   w e r e   a d a p t e d   i n d i v i d u a l l y   .',\n",
              " 'f r o m   r e s p o n d e r s   ,   z u c l o p e n t h i x o l   w a s   r a n d o m l y   w i t h d r a w n   f o r   @   w e e k s   .',\n",
              " 'r e s p o n s e s   t o   w i t h d r a w a l   w e r e   o b s e r v e d   b y   e x t e r n a l   r a t e r s   u s i n g   t h e   m o d i f i e d   o v e r t   a g g r e s s i o n   s c a l e   .',\n",
              " 'o f   a l l   p a t i e n t s   i n c l u d e d   i n t o   t h e   s t u d y   ,   @   w e r e   n o t   r a n d o m i z e d   b e c a u s e   o f   i n s u f f i c i e n t   t h e r a p e u t i c   e f f e c t   ,   a d v e r s e   e v e n t   ,   o r   n o n c o m p l i a n c e   .',\n",
              " 'k a p l a n - m e i e r   e s t i m a t i o n s   s h o w e d   l e s s   a g g r e s s i v e   b e h a v i o r   p r o b l e m s   f o r   t h e   c o n t i n u i n g   s u b g r o u p   (   n   =   @   )   t h a n   i n   t h e   p l a c e b o   g r o u p   (   n   =   @   )   .',\n",
              " 'i n d i v i d u a l   d o s e s   s t a y e d   <   @ m g / d a y   .',\n",
              " 'z u c l o p e n t h i x o l   p r o v e d   t o   b e   e f f e c t i v e   i n   r e d u c i n g   c h a l l e n g i n g   b e h a v i o r   i n   b o y s   e v e n   a t   l o w   d o s e s   .',\n",
              " 't h e   p u r p o s e   o f   t h i s   m u l t i c e n t e r   ,   o p e n   l a b e l   ,   r a n d o m i z e d   p h a s e   i i i   s t u d y   w a s   t o   d e t e r m i n e   w h e t h e r   i x a b e p i l o n e   r e s u l t e d   i n   i m p r o v e d   o v e r a l l   s u r v i v a l   (   o s   )   c o m p a r e d   w i t h   c o m m o n l y   u s e d   s i n g l e - a g e n t   c h e m o t h e r a p y   (   d o x o r u b i c i n   o r   p a c l i t a x e l   )   i n   w o m e n   w i t h   l o c a l l y   a d v a n c e d   ,   r e c u r r e n t   ,   o r   m e t a s t a t i c   e n d o m e t r i a l   c a n c e r   w i t h   a t   l e a s t   o n e   f a i l e d   p r i o r   p l a t i n u m - b a s e d   c h e m o t h e r a p e u t i c   r e g i m e n   .',\n",
              " 'p a t i e n t s   w e r e   r a n d o m i z e d   @ : @   t o   i x a b e p i l o n e   (   @ m g / m   (   @   )   )   ,   o r   e i t h e r   p a c l i t a x e l   (   @ m g / m   (   @   )   )   o r   d o x o r u b i c i n   (   @ m g / m   (   @   )   )   ,   e v e r y   @ d a y s   .',\n",
              " 'p a t i e n t s   t h a t   h a d   p r e v i o u s l y   r e c e i v e d   a n   a n t h r a c y c l i n e   w e r e   r a n d o m i z e d   t o   i x a b e p i l o n e   o r   p a c l i t a x e l   ;   a l l   o t h e r   p a t i e n t s   w e r e   r a n d o m i z e d   t o   i x a b e p i l o n e   o r   d o x o r u b i c i n   .',\n",
              " 'a n   i n t e r i m   a n a l y s i s   o f   f u t i l i t y   f o r   o s   w a s   p l a n n e d   .',\n",
              " 'a t   t h e   t i m e   o f   d a t a b a s e   l o c k   ,   @   p a t i e n t s   w e r e   r a n d o m i z e d   t o   r e c e i v e   i x a b e p i l o n e   (   n   =   @   )   o r   c o n t r o l   (   n   =   @   )   ;   n i n e   p a t i e n t s   i n   t h e   c o n t r o l   a r m   w e r e   n o t   t r e a t e d   .',\n",
              " 't h e   i n t e r i m   a n a l y s i s   o f   f u t i l i t y   f o r   o s   (   @   e v e n t s   )   f a v o r e d   t h e   c o n t r o l   c h e m o t h e r a p y   a r m   (   h a z a r d   r a t i o   =   @   - l s b -   @   %   c o n f i d e n c e   i n t e r v a l   :   @ - @   @   - r s b -   ,   s t r a t i f i e d   l o g   r a n k   t e s t   p   =   @   )   ,   i n d i c a t i n g   t h a t   t h e   s t u d y   w o u l d   n o t   m e e t   i t s   p r i m a r y   o b j e c t i v e   .',\n",
              " 't h e   s t u d y   w a s   d i s c o n t i n u e d   b a s e d   o n   t h e   i n t e r i m   o s   r e s u l t s   .',\n",
              " 't h e   f r e q u e n c y   o f   a d v e r s e   e v e n t s   w a s   c o m p a r a b l e   b e t w e e n   t h e   t r e a t m e n t   a r m s   .',\n",
              " 't h e   s t u d y   d i d   n o t   m e e t   i t s   p r i m a r y   o b j e c t i v e   o f   i m p r o v i n g   o s   i n   t h e   i x a b e p i l o n e   a r m   c o m p a r e d   t o   t h e   c o n t r o l   c h e m o t h e r a p y   a r m   .',\n",
              " 'a   f a v o r a b l e   r i s k / b e n e f i t   r a t i o   w a s   n o t   o b s e r v e d   f o r   i x a b e p i l o n e   v e r s u s   c o n t r o l   a t   t h e   t i m e   o f   t h e   i n t e r i m   a n a l y s i s   .',\n",
              " 't h e   s a f e t y   r e s u l t s   w e r e   c o n s i s t e n t   w i t h   t h e   k n o w n   s a f e t y   p r o f i l e s   o f   i x a b e p i l o n e   a n d   c o n t r o l   .',\n",
              " 't o   d e t e r m i n e   t h e   i m p a c t   o f   c a l c i u m   a n d   p h o s p h o r u s   o n   r a d i o l o g i c a l   a n d   b i o c h e m i c a l   c h a r a c t e r i s t i c s   o f   o s t e o p e n i a   i n   p r e m a t u r e   i n f a n t s   .',\n",
              " 't h e   r a n d o m i s e d   c l i n i c a l   t r i a l   s t u d y   w a s   c o n d u c t e d   a t   v a l i e - e - a s r   h o s p i t a l   o f   z a n j a n   c i t y   ,   i r a n   ,   f r o m   d e c e m b e r   @   t o   j u n e   @   .',\n",
              " 'i t   i n v o l v e d   m o n i t o r i n g   @   p r e m a t u r e   n e o n a t e s   o v e r   a   p e r i o d   o f   s i x   m o n t h s   .',\n",
              " 't h e   b a b i e s   ,   w h o   w e r e   f e d   w i t h   b r e a s t   m i l k   a n d   @   u n i t s   o f   v i t a m i n   d   d a i l y   ,   w e r e   r a n d o m l y   d i v i d e d   i n t o   t w o   e q u a l   g r o u p s   .',\n",
              " 'o n e   g r o u p   r e c e i v e d   s u p p l e m e n t   o f   c a l c i u m   a n d   p h o s p h o r u s   .',\n",
              " 's e r u m   c a l c i u m   ,   p h o s p h o r u s   a n d   a l k a l i n e   p h o s p h a t a s e   l e v e l s   a s   w e l l   a s   g r o w t h   p a r a m e t e r s   (   i n c l u d i n g   w e i g h t   ,   h e i g h t   ,   a n d   h e a d   c i r c u m f e r e n c e   )   w e r e   m e a s u r e d   e v e r y   t w o   w e e k s   .',\n",
              " 'a t   t h e   e n d   o f   t h e   s t u d y   ,   w r i s t   x - r a y   w a s   d o n e   f o r   e v a l u a t i o n   o f   o s t e o p e n i a   .',\n",
              " 'd a t a   w a s   a n a l y s e d   u s i n g   s p s s   @   .',\n",
              " 'r a d i o l o g i c a l   c h a n g e s   ,   c h a r a c t e r i s t i c   o f   o s t e o p e n i a   ,   w e r e   f o u n d   i n   @   (   @   %   )   c a s e s   a n d   @   (   @   %   )   c o n t r o l s   (   p   <   @   )   .',\n",
              " 't h e   m e a n   o f   w e i g h t   ,   l e n g t h   a n d   h e a d   c i r c u m f e r e n c e   i n c r e a s e d   s i g n i f i c a n t l y   f r o m   s e c o n d   t o   s i x t h   w e e k   d u r i n g   f o l l o w - u p   (   p   <   @   )   .',\n",
              " 'p h o s p h o r u s   a n d   a l k a l i n e   p h o s p h a t a s e   a c t i v i t y   d e c r e a s e d   s i g n i f i c a n t l y   f r o m   s e c o n d   t o   s i x t h   w e e k   o f   f o l l o w - u p   (   p   <   @   ,   p   <   @   r e s p e c t i v e l y   )   .',\n",
              " 'h o w e v e r   ,   r e p e a t e d   m e a s u r e m e n t   a n a l y s e s   d i d   n o t   s h o w   s i g n i f i c a n t   e f f e c t   o f   i n t e r v e n t i o n   i n   b i o c h e m i c a l   a n d   g r o w t h   p a r a m e t e r s   i n   t h e   t r i a l   g r o u p   .',\n",
              " \"t h e   s t u d y   d i d   n ' t   s h o w   s i g n i f i c a n t   e f f e c t   o f   c a l c i u m   a n d   p h o s p h o r u s   o n   p r e v e n t i o n   o f   o s t e o p e n i a   a n d   i m p r o v e m e n t   o f   g r o w t h   .\",\n",
              " 'f u r t h e r   s t u d i e s   o f   l o n g e r   d u r a t i o n   a n d   w i t h   d i f f e r e n t   d o s e s   o f   s u p p l e m e n t   a r e   r e c o m m e n d e d   .',\n",
              " 't h e   p u r p o s e   o f   t h i s   s t u d y   w a s   t o   t e s t   t h e   e f f i c a c y   o f   a   @ - m o n t h   c o u r s e   o f   a n t i - i n f l a m m a t o r y   t r e a t m e n t   w i t h   c o l c h i c i n e i n   i m p r o v i n g   f u n c t i o n a l   s t a t u s   o f   p a t i e n t s   w i t h   s t a b l e   c h r o n i c   h e a r t   f a i l u r e   (   c h f   )   .',\n",
              " 'c h f   h a s   b e e n   s h o w n   t o   b e   a s s o c i a t e d   w i t h   i n f l a m m a t o r y   a c t i v a t i o n   .',\n",
              " 'i n f l a m m a t i o n   h a s   b e e n   d e s i g n a t e d   a s   a   t h e r a p e u t i c   t a r g e t   i n   c h f   .',\n",
              " 'p a t i e n t s   w i t h   s t a b l e   c h f   w e r e   r a n d o m l y   a s s i g n e d   t o   c o l c h i c i n e   (   @   m g   t w i c e   d a i l y   )   o r   p l a c e b o   f o r   @   m o n t h s   .',\n",
              " 't h e p r i m a r y   e n d p o i n t   w a s   t h e   p r o p o r t i o n   o f   p a t i e n t s   a c h i e v i n g   a t   l e a s t   o n e - g r a d e   i m p r o v e m e n t   i n   n e w   y o r k   h e a r t a s s o c i a t i o n   c l a s s   .',\n",
              " 't w o   h u n d r e d   s i x t y - s e v e n   p a t i e n t s   w e r e   a v a i l a b l e   f o r   f i n a l   e v a l u a t i o n   o f   t h e   p r i m a r y   e n d p o i n t   :   i t s   r a t e   w a s   @   %   i n   t h e   c o n t r o l   g r o u p   a n d   @   %   i n   t h e   c o l c h i c i n e   g r o u p   (   o d d s   r a t i o   :   @   ;   @   %   c o n f i d e n c e   i n t e r v a l   :   @   t o   @   ;   p   =   @   )   .',\n",
              " 't h e   r a t e   o f   t h e   c o m p o s i t e   o f   d e a t h   o r   h o s p i t a l   s t a y   f o r   h e a r t   f a i l u r e   w a s   @   %   i n   t h e   c o n t r o l   g r o u p   ,   c o m p a r e d   w i t h   @   %   i n   t h e   c o l c h i c i n e   g r o u p   (   p   =   @   )   .',\n",
              " 't h e   c h a n g e s   i n   t r e a d m i l l   e x e r c i s e   t i m e   w i t h   t r e a t m e n t   w e r e   i n s i g n i f i c a n t   a n d   s i m i l a r   i n   t h e   @   g r o u p s   (   p   =   @   )   .',\n",
              " 'c - r e a c t i v e   p r o t e i n   a n d   i n t e r l e u k i n - @   w e r e   b o t h   s i g n i f i c a n t l y   r e d u c e d   i n   t h e   c o l c h i c i n e   g r o u p   (   - @   m g / l   a n d   - @   p g / m l   ,   r e s p e c t i v e l y   ;   p   <   @   f o r   b o t h   ,   c o m p a r e d   w i t h   t h e   c o n t r o l   g r o u p   )   .',\n",
              " 'a c c o r d i n g   t o   t h i s   p r o s p e c t i v e   ,   r a n d o m i z e d   s t u d y   ,   a n t i - i n f l a m m a t o r y   t r e a t m e n t   w i t h   c o l c h i c i n e   i n   p a t i e n t s   w i t h   s t a b l e   c h f   ,   a l t h o u g h   e f f e c t i v e   i n   r e d u c i n g   i n f l a m m a t i o n   b i o m a r k e r   l e v e l s   ,   d i d   n o t   a f f e c t   i n   a n y   s i g n i f i c a n t   w a y   p a t i e n t   f u n c t i o n a l   s t a t u s   (   i n   t e r m s   o f   n e w   y o r k   h e a r t   a s s o c i a t i o n   c l a s s   a n d   o b j e c t i v e   t r e a d m i l l   e x e r c i s e   t o l e r a n c e   )   o r   t h e   l i k e l i h o o d   o f   d e a t h   o r   h o s p i t a l   s t a y   f o r   h e a r t   f a i l u r e   .',\n",
              " 't o   e x a m i n e   t h e   c o m p a r a t i v e   a n t i d e p r e s s a n t   e f f i c a c y   o f   s - a d e n o s y l - l - m e t h i o n i n e   (   s a m e   )   a n d   e s c i t a l o p r a m   i n   a   p l a c e b o - c o n t r o l l e d   ,   r a n d o m i z e d   ,   d o u b l e - b l i n d   c l i n i c a l   t r i a l   .',\n",
              " 'o n e   h u n d r e d   e i g h t y - n i n e   o u t p a t i e n t s   (   @   %   f e m a l e   ,   m e a n   - l s b -   s d   - r s b -   a g e   =   @   - l s b -   @   - r s b -   y e a r s   )   w i t h   d s m - i v - d i a g n o s e d   m a j o r   d e p r e s s i v e   d i s o r d e r   (   m d d   )   w e r e   r e c r u i t e d   f r o m   a p r i l   @   ,   @   ,   t o   d e c e m b e r   @   ,   @   ,   a t   t h e   m a s s a c h u s e t t s   g e n e r a l   h o s p i t a l   a n d   a t   b u t l e r   h o s p i t a l   .',\n",
              " 'p a t i e n t s   w e r e   r a n d o m i z e d   f o r   @   w e e k s   t o   s a m e   @ , @ - @   , @   m g / d   ,   e s c i t a l o p r a m   @ - @   m g / d   ,   o r   p l a c e b o   .',\n",
              " 'd o s e s   w e r e   e s c a l a t e d   a t   @   w e e k s   i n   t h e   e v e n t   o f   n o n r e s p o n s e   .',\n",
              " 't h e   m a i n   o u t c o m e   m e a s u r e   w a s   t h e   @ - i t e m   h a m i l t o n   d e p r e s s i o n   r a t i n g   s c a l e   (   h d r s - @   )   .',\n",
              " 't o l e r a b i l i t y   w a s   a s s e s s e d   b y   t h e   s y s t e m a t i c   a s s e s s m e n t   f o r   t r e a t m e n t   o f   e m e r g e n t   e v e n t s - s p e c i f i c   i n q u i r y   (   s a f t e e - s i   )   .',\n",
              " ...]"
            ]
          },
          "metadata": {},
          "execution_count": 37
        }
      ]
    },
    {
      "cell_type": "code",
      "source": [
        "char_lens = [len(sentance) for sentance in train_sentances]\n",
        "mean_char_len = np.mean(char_lens)\n",
        "mean_char_len"
      ],
      "metadata": {
        "colab": {
          "base_uri": "https://localhost:8080/"
        },
        "id": "NDjzXGqNtw0f",
        "outputId": "20e9538e-4e87-45e9-eafd-19389a252582"
      },
      "execution_count": 38,
      "outputs": [
        {
          "output_type": "execute_result",
          "data": {
            "text/plain": [
              "149.3662574983337"
            ]
          },
          "metadata": {},
          "execution_count": 38
        }
      ]
    },
    {
      "cell_type": "code",
      "source": [
        "output_seq_char_len = int(np.percentile(char_lens, 95))\n",
        "output_seq_char_len"
      ],
      "metadata": {
        "colab": {
          "base_uri": "https://localhost:8080/"
        },
        "id": "Ovvw4j6ftzS7",
        "outputId": "159f70f3-89ea-4dff-b3b1-a7039a478f5d"
      },
      "execution_count": 39,
      "outputs": [
        {
          "output_type": "execute_result",
          "data": {
            "text/plain": [
              "290"
            ]
          },
          "metadata": {},
          "execution_count": 39
        }
      ]
    },
    {
      "cell_type": "code",
      "source": [
        "import string\n",
        "alphabet = string.ascii_lowercase + string.digits + string.punctuation\n",
        "alphabet"
      ],
      "metadata": {
        "colab": {
          "base_uri": "https://localhost:8080/",
          "height": 35
        },
        "id": "50EQcqwTt0lF",
        "outputId": "a88cf249-c8ff-4616-810a-fda99dfb5e30"
      },
      "execution_count": 40,
      "outputs": [
        {
          "output_type": "execute_result",
          "data": {
            "text/plain": [
              "'abcdefghijklmnopqrstuvwxyz0123456789!\"#$%&\\'()*+,-./:;<=>?@[\\\\]^_`{|}~'"
            ],
            "application/vnd.google.colaboratory.intrinsic+json": {
              "type": "string"
            }
          },
          "metadata": {},
          "execution_count": 40
        }
      ]
    },
    {
      "cell_type": "code",
      "source": [
        "# create char- level token vectorizer instance\n",
        "\n",
        "NUM_CHAR_TOKENS = len(alphabet) + 2\n",
        "char_vectorizer = TextVectorization(max_tokens = NUM_CHAR_TOKENS,\n",
        "                                    output_sequence_length = output_seq_char_len,\n",
        "                                    standardize = None,\n",
        "                                    name = 'char_vectorizer')"
      ],
      "metadata": {
        "id": "Y173BjZvt1z7"
      },
      "execution_count": 41,
      "outputs": []
    },
    {
      "cell_type": "code",
      "source": [
        "# Adapt character char vectorizer to training character\n",
        "char_vectorizer.adapt(train_chars)"
      ],
      "metadata": {
        "id": "WC6wzsKit3vL"
      },
      "execution_count": 42,
      "outputs": []
    },
    {
      "cell_type": "code",
      "source": [
        "char_vocab = char_vectorizer.get_vocabulary()"
      ],
      "metadata": {
        "id": "pVvyBrxdt5YF"
      },
      "execution_count": 43,
      "outputs": []
    },
    {
      "cell_type": "code",
      "source": [
        "len(char_vocab), char_vocab[:5], char_vocab[-5:]"
      ],
      "metadata": {
        "colab": {
          "base_uri": "https://localhost:8080/"
        },
        "id": "pAa6rEp5t7Fo",
        "outputId": "ba115338-51bb-4c01-b327-6c1a8656360a"
      },
      "execution_count": 44,
      "outputs": [
        {
          "output_type": "execute_result",
          "data": {
            "text/plain": [
              "(57, ['', '[UNK]', 'e', 't', 'i'], ['|', '\"', ']', '\\\\', '['])"
            ]
          },
          "metadata": {},
          "execution_count": 44
        }
      ]
    },
    {
      "cell_type": "markdown",
      "source": [
        "###Character Level Embedding layer"
      ],
      "metadata": {
        "id": "2d2UDX1Et8YT"
      }
    },
    {
      "cell_type": "code",
      "source": [
        "char_embedding = Embedding(\n",
        "    input_dim = len(char_vocab),\n",
        "    output_dim = 56,\n",
        "    name = 'char_embed'\n",
        ")"
      ],
      "metadata": {
        "id": "50dXMDQXt-fU"
      },
      "execution_count": 45,
      "outputs": []
    },
    {
      "cell_type": "code",
      "source": [
        "# Test our character embedding layer\n",
        "\n",
        "random_sent = random.choice(train_chars)\n",
        "\n",
        "\n",
        "print(f\"Characterized sentance : \\n{random_sent}\\n\")\n",
        "print(f\"Len of sentance:{len(random_sent.split())}\\n\")\n",
        "print(f\"Embedded sentance : \\n{char_vectorizer(random_sent)}\\n\")\n",
        "print(f'len of embedded sentance(Preset): {len(char_vectorizer(random_sent))}\\n')\n",
        "\n",
        "print(f\"embedded char sentance:\\n{char_embedding(char_vectorizer(random_sent))}\\n\")\n",
        "print(f\"shape of embedded char sentance:{char_embedding(char_vectorizer(random_sent)).shape}\")"
      ],
      "metadata": {
        "colab": {
          "base_uri": "https://localhost:8080/"
        },
        "id": "eVqHwkiFt_69",
        "outputId": "6bbb01f0-e997-4e12-d765-a1e0fa922501"
      },
      "execution_count": 46,
      "outputs": [
        {
          "output_type": "stream",
          "name": "stdout",
          "text": [
            "Characterized sentance : \n",
            "w e   c o n d u c t e d   p o s t   h o c   (   s e c o n d a r y   )   a n a l y s e s   o f   u n p u b l i s h e d   d a t a   f r o m   a   p r e v i o u s l y   p u b l i s h e d   r a n d o m i z e d   c l i n i c a l   t r i a l   (   n c t @   )   o f   d e s m o p r e s s i n   (   a   m e d i c a t i o n   u s e d   t o   t r e a t   n o c t u r i a   )   a n d   e x a m i n e d   r e l a t i o n s h i p s   b e t w e e n   b a s e l i n e   a n d   @ - w e e k   c h a n g e   i n   f u s p   a n d   p s q i   g l o b a l   a n d   s u b s c a l e   s c o r e s   f o r   p a r t i c i p a n t s   (   n   =   @   t o   n   =   @   )   h a v i n g   c o m p l e t e   d a t a   .\n",
            "\n",
            "Len of sentance:287\n",
            "\n",
            "Embedded sentance : \n",
            "[21  2 11  7  6 10 16 11  3  2 10 14  7  9  3 13  7 11 28  9  2 11  7  6\n",
            " 10  5  8 20 27  5  6  5 12 20  9  2  9  7 17 16  6 14 16 23 12  4  9 13\n",
            "  2 10 10  5  3  5 17  8  7 15  5 14  8  2 22  4  7 16  9 12 20 14 16 23\n",
            " 12  4  9 13  2 10  8  5  6 10  7 15  4 32  2 10 11 12  4  6  4 11  5 12\n",
            "  3  8  4  5 12 28  6 11  3 19 27  7 17 10  2  9 15  7 14  8  2  9  9  4\n",
            "  6 28  5 15  2 10  4 11  5  3  4  7  6 16  9  2 10  3  7  3  8  2  5  3\n",
            "  6  7 11  3 16  8  4  5 27  5  6 10  2 30  5 15  4  6  2 10  8  2 12  5\n",
            "  3  4  7  6  9 13  4 14  9 23  2  3 21  2  2  6 23  5  9  2 12  4  6  2\n",
            "  5  6 10 19 26 21  2  2 29 11 13  5  6 18  2  4  6 17 16  9 14  5  6 10\n",
            " 14  9 34  4 18 12  7 23  5 12  5  6 10  9 16 23  9 11  5 12  2  9 11  7\n",
            "  8  2  9 17  7  8 14  5  8  3  4 11  4 14  5  6  3  9 28  6 33 19  3  7\n",
            "  6 33 19 27 13  5 22  4  6 18 11  7 15 14 12  2  3  2 10  5  3  5 25  0\n",
            "  0  0]\n",
            "\n",
            "len of embedded sentance(Preset): 290\n",
            "\n",
            "embedded char sentance:\n",
            "[[ 0.00869374 -0.0116869  -0.03900968 ... -0.02426441  0.01963888\n",
            "   0.02085129]\n",
            " [-0.01649836 -0.03577783 -0.02317694 ... -0.04912272  0.00346\n",
            "  -0.044889  ]\n",
            " [ 0.02262514 -0.03355409  0.04775402 ... -0.04668349  0.02554006\n",
            "  -0.02035085]\n",
            " ...\n",
            " [ 0.02472771 -0.02662539 -0.02197346 ...  0.0319696   0.04028341\n",
            "  -0.00972237]\n",
            " [ 0.02472771 -0.02662539 -0.02197346 ...  0.0319696   0.04028341\n",
            "  -0.00972237]\n",
            " [ 0.02472771 -0.02662539 -0.02197346 ...  0.0319696   0.04028341\n",
            "  -0.00972237]]\n",
            "\n",
            "shape of embedded char sentance:(290, 56)\n"
          ]
        }
      ]
    },
    {
      "cell_type": "markdown",
      "source": [
        "### Positional Embedding layer"
      ],
      "metadata": {
        "id": "EPGY6Nj5uBeL"
      }
    },
    {
      "cell_type": "code",
      "source": [
        "import tensorflow as tf\n",
        "train_line_number_one_hot = tf.one_hot(train_df['line_number'].to_numpy(), depth = 15)\n",
        "val_line_number_one_hot = tf.one_hot(val_df['line_number'].to_numpy(), depth = 15)\n",
        "test_line_number_one_hot = tf.one_hot(test_df['line_number'].to_numpy(), depth = 15)\n"
      ],
      "metadata": {
        "id": "5kj2h_q5uFn8"
      },
      "execution_count": 47,
      "outputs": []
    },
    {
      "cell_type": "code",
      "source": [
        "train_line_number_one_hot[:5],"
      ],
      "metadata": {
        "colab": {
          "base_uri": "https://localhost:8080/"
        },
        "id": "F4fqJKPVuG6O",
        "outputId": "cf1538fb-be01-44df-be13-808254e4a837"
      },
      "execution_count": 48,
      "outputs": [
        {
          "output_type": "execute_result",
          "data": {
            "text/plain": [
              "(<tf.Tensor: shape=(5, 15), dtype=float32, numpy=\n",
              " array([[1., 0., 0., 0., 0., 0., 0., 0., 0., 0., 0., 0., 0., 0., 0.],\n",
              "        [0., 1., 0., 0., 0., 0., 0., 0., 0., 0., 0., 0., 0., 0., 0.],\n",
              "        [0., 0., 1., 0., 0., 0., 0., 0., 0., 0., 0., 0., 0., 0., 0.],\n",
              "        [0., 0., 0., 1., 0., 0., 0., 0., 0., 0., 0., 0., 0., 0., 0.],\n",
              "        [0., 0., 0., 0., 1., 0., 0., 0., 0., 0., 0., 0., 0., 0., 0.]],\n",
              "       dtype=float32)>,)"
            ]
          },
          "metadata": {},
          "execution_count": 48
        }
      ]
    },
    {
      "cell_type": "code",
      "source": [
        "train_total_line_number_one_hot = tf.one_hot(train_df['total_lines'].to_numpy(), depth=20)\n",
        "val_total_line_number_one_hot = tf.one_hot(val_df['total_lines'].to_numpy(), depth=20)\n",
        "test_total_line_number_one_hot = tf.one_hot(test_df['total_lines'].to_numpy(), depth=20)\n",
        "\n",
        "\n",
        "train_total_line_number_one_hot[:5],"
      ],
      "metadata": {
        "colab": {
          "base_uri": "https://localhost:8080/"
        },
        "id": "Xa6K2Q3JuIaH",
        "outputId": "5e282a84-e4d1-4a1a-d2a9-514914742678"
      },
      "execution_count": 49,
      "outputs": [
        {
          "output_type": "execute_result",
          "data": {
            "text/plain": [
              "(<tf.Tensor: shape=(5, 20), dtype=float32, numpy=\n",
              " array([[0., 0., 0., 0., 0., 0., 0., 0., 0., 0., 0., 1., 0., 0., 0., 0.,\n",
              "         0., 0., 0., 0.],\n",
              "        [0., 0., 0., 0., 0., 0., 0., 0., 0., 0., 0., 1., 0., 0., 0., 0.,\n",
              "         0., 0., 0., 0.],\n",
              "        [0., 0., 0., 0., 0., 0., 0., 0., 0., 0., 0., 1., 0., 0., 0., 0.,\n",
              "         0., 0., 0., 0.],\n",
              "        [0., 0., 0., 0., 0., 0., 0., 0., 0., 0., 0., 1., 0., 0., 0., 0.,\n",
              "         0., 0., 0., 0.],\n",
              "        [0., 0., 0., 0., 0., 0., 0., 0., 0., 0., 0., 1., 0., 0., 0., 0.,\n",
              "         0., 0., 0., 0.]], dtype=float32)>,)"
            ]
          },
          "metadata": {},
          "execution_count": 49
        }
      ]
    },
    {
      "cell_type": "markdown",
      "source": [
        "###Creating tribrid inputs\n",
        "---\n",
        "Prefetched Dataset"
      ],
      "metadata": {
        "id": "JH1maNPpuLYc"
      }
    },
    {
      "cell_type": "code",
      "source": [
        "train_tribrid_data = tf.data.Dataset.from_tensor_slices((train_line_number_one_hot, train_total_line_number_one_hot, train_sentances, train_chars))\n",
        "\n",
        "train_tribrid_labels = tf.data.Dataset.from_tensor_slices(train_labels_one_hot)\n",
        "train_tribrid_dataset = tf.data.Dataset.zip((train_tribrid_data, train_tribrid_labels))\n",
        "\n",
        "train_tribrid_dataset = train_tribrid_dataset.batch(32).prefetch(tf.data.AUTOTUNE)"
      ],
      "metadata": {
        "id": "rzqobDeeuP4u"
      },
      "execution_count": 50,
      "outputs": []
    },
    {
      "cell_type": "code",
      "source": [
        "val_tribrid_data = tf.data.Dataset.from_tensor_slices((val_line_number_one_hot, val_total_line_number_one_hot, val_sentances, val_chars))\n",
        "\n",
        "val_tribrid_labels = tf.data.Dataset.from_tensor_slices(val_labels_one_hot)\n",
        "val_tribrid_dataset = tf.data.Dataset.zip((val_tribrid_data, val_tribrid_labels))\n",
        "\n",
        "val_tribrid_dataset = val_tribrid_dataset.batch(32).prefetch(tf.data.AUTOTUNE)"
      ],
      "metadata": {
        "id": "6XRTu7EsuUH8"
      },
      "execution_count": 51,
      "outputs": []
    },
    {
      "cell_type": "code",
      "source": [
        "test_tribrid_data = tf.data.Dataset.from_tensor_slices((test_line_number_one_hot,\n",
        "                                                        test_total_line_number_one_hot,\n",
        "                                                        test_sentances,\n",
        "                                                        test_chars))\n",
        "\n",
        "test_tribrid_labels = tf.data.Dataset.from_tensor_slices(test_labels_one_hot)\n",
        "test_tribrid_dataset = tf.data.Dataset.zip((test_tribrid_data, test_tribrid_labels))\n",
        "\n",
        "test_tribrid_dataset = test_tribrid_dataset.batch(32).prefetch(tf.data.AUTOTUNE)"
      ],
      "metadata": {
        "id": "5xABlSRruVWw"
      },
      "execution_count": 52,
      "outputs": []
    },
    {
      "cell_type": "markdown",
      "source": [
        "##Building BERT Models"
      ],
      "metadata": {
        "id": "9ZuTlTZCuWuz"
      }
    },
    {
      "cell_type": "code",
      "source": [
        "preprocess = hub.load('https://tfhub.dev/tensorflow/bert_en_uncased_preprocess/3')\n",
        "bert = hub.load('https://tfhub.dev/google/experts/bert/pubmed/2')"
      ],
      "metadata": {
        "id": "IkFnhSfGuY78"
      },
      "execution_count": 53,
      "outputs": []
    },
    {
      "cell_type": "code",
      "source": [
        "preprocess_layer = hub.KerasLayer(preprocess, name = 'bert_input_preprocess')\n",
        "bert_layer = hub.KerasLayer(bert, name = 'bert_layer')"
      ],
      "metadata": {
        "id": "V4bFY3mWufN2"
      },
      "execution_count": 54,
      "outputs": []
    },
    {
      "cell_type": "markdown",
      "source": [
        "###Build a model"
      ],
      "metadata": {
        "id": "piLkavncuyN-"
      }
    },
    {
      "cell_type": "code",
      "source": [
        "from tensorflow import keras\n",
        "from tensorflow.keras import layers"
      ],
      "metadata": {
        "id": "zWCiYxqCwjZS"
      },
      "execution_count": 55,
      "outputs": []
    },
    {
      "cell_type": "code",
      "source": [
        "#1. Token Inputs\n",
        "token_inputs = layers.Input(shape=[], dtype = tf.string, name='token_inputs', ragged = False)\n",
        "bert_input = preprocess_layer(token_inputs)\n",
        "bert_outputs = bert_layer(bert_input, training = False)\n",
        "sequence_output = bert_outputs['pooled_output']\n",
        "token_outputs = layers.Dense(128, activation = 'relu')(sequence_output)\n",
        "token_model = tf.keras.Model(token_inputs, token_outputs)\n",
        "\n",
        "# 2. Charater imputs\n",
        "char_inputs = layers.Input(shape=(1,), dtype=tf.string, name='char_input', ragged=False)\n",
        "char_vectors = char_vectorizer(char_inputs)\n",
        "char_embeddings = char_embedding(char_vectors)\n",
        "char_bi_lstm = layers.Bidirectional(layers.LSTM(24))(char_embeddings)\n",
        "char_model = tf.keras.Model(char_inputs, char_bi_lstm)\n",
        "\n",
        "# 3. model for line_number feature\n",
        "line_number_inputs = layers.Input(shape=(15,), dtype=tf.float32, name='line_numbers_input')\n",
        "line_number_outputs = layers.Dense(32, activation='relu')(line_number_inputs)\n",
        "line_number_model = tf.keras.Model(line_number_inputs, line_number_outputs)\n",
        "\n",
        "# 4. model for total_line feature\n",
        "total_lines_inputs = layers.Input(shape=(20,), dtype=tf.float32, name='total_line_inputs')\n",
        "total_lines_outputs = layers.Dense(32, activation='relu')(total_lines_inputs)\n",
        "total_lines_model = tf.keras.Model(total_lines_inputs, total_lines_outputs)\n",
        "\n",
        "\n",
        "# 5. Concat layer 1 & 2\n",
        "token_char_concat = layers.Concatenate(name='concat_layer')([token_model.output,\n",
        "                                                             char_model.output])\n",
        "\n",
        "# adding one dropout layer according to the paper\n",
        "z = layers.Dense(256, activation='relu')(token_char_concat)\n",
        "z = layers.Dropout(0.5)(z)\n",
        "\n",
        "\n",
        "# 6. concat layers 3 4 5\n",
        "final_concat = layers.Concatenate(name='final_concat')([\n",
        "    line_number_model.output,\n",
        "    total_lines_model.output,\n",
        "    z\n",
        "])\n",
        "\n",
        "\n",
        "# Output layer\n",
        "output_layer = layers.Dense(num_classes, activation='softmax', name='output_layer')(final_concat)\n",
        "\n",
        "# final model\n",
        "model = tf.keras.Model(\n",
        "    inputs = [\n",
        "              line_number_model.input,\n",
        "              total_lines_model.input,\n",
        "              token_model.input,\n",
        "              char_model.input,\n",
        "    ],\n",
        "    outputs = output_layer\n",
        ")\n",
        "\n"
      ],
      "metadata": {
        "id": "lceBuID0u4KU"
      },
      "execution_count": 56,
      "outputs": []
    },
    {
      "cell_type": "code",
      "source": [
        "model.summary()"
      ],
      "metadata": {
        "colab": {
          "base_uri": "https://localhost:8080/"
        },
        "id": "ZIa4TGhGxyg5",
        "outputId": "57e58f7a-f261-461b-be5f-28233153609c"
      },
      "execution_count": 57,
      "outputs": [
        {
          "output_type": "stream",
          "name": "stdout",
          "text": [
            "Model: \"model_4\"\n",
            "__________________________________________________________________________________________________\n",
            " Layer (type)                Output Shape                 Param #   Connected to                  \n",
            "==================================================================================================\n",
            " token_inputs (InputLayer)   [(None,)]                    0         []                            \n",
            "                                                                                                  \n",
            " char_input (InputLayer)     [(None, 1)]                  0         []                            \n",
            "                                                                                                  \n",
            " bert_input_preprocess (Ker  {'input_type_ids': (None,    0         ['token_inputs[0][0]']        \n",
            " asLayer)                    128),                                                                \n",
            "                              'input_mask': (None, 128)                                           \n",
            "                             , 'input_word_ids': (None,                                           \n",
            "                              128)}                                                               \n",
            "                                                                                                  \n",
            " char_vectorizer (TextVecto  (None, 290)                  0         ['char_input[0][0]']          \n",
            " rization)                                                                                        \n",
            "                                                                                                  \n",
            " bert_layer (KerasLayer)     {'pooled_output': (None, 7   1094822   ['bert_input_preprocess[0][0]'\n",
            "                             68),                         41        , 'bert_input_preprocess[0][1]\n",
            "                              'sequence_output': (None,             ',                            \n",
            "                              128, 768),                             'bert_input_preprocess[0][2]'\n",
            "                              'encoder_outputs': [(None             ]                             \n",
            "                             , 128, 768),                                                         \n",
            "                              (None, 128, 768),                                                   \n",
            "                              (None, 128, 768),                                                   \n",
            "                              (None, 128, 768),                                                   \n",
            "                              (None, 128, 768),                                                   \n",
            "                              (None, 128, 768),                                                   \n",
            "                              (None, 128, 768),                                                   \n",
            "                              (None, 128, 768),                                                   \n",
            "                              (None, 128, 768),                                                   \n",
            "                              (None, 128, 768),                                                   \n",
            "                              (None, 128, 768),                                                   \n",
            "                              (None, 128, 768)],                                                  \n",
            "                              'default': (None, 768)}                                             \n",
            "                                                                                                  \n",
            " char_embed (Embedding)      (None, 290, 56)              3192      ['char_vectorizer[0][0]']     \n",
            "                                                                                                  \n",
            " dense (Dense)               (None, 128)                  98432     ['bert_layer[0][13]']         \n",
            "                                                                                                  \n",
            " bidirectional (Bidirection  (None, 48)                   15552     ['char_embed[0][0]']          \n",
            " al)                                                                                              \n",
            "                                                                                                  \n",
            " concat_layer (Concatenate)  (None, 176)                  0         ['dense[0][0]',               \n",
            "                                                                     'bidirectional[0][0]']       \n",
            "                                                                                                  \n",
            " line_numbers_input (InputL  [(None, 15)]                 0         []                            \n",
            " ayer)                                                                                            \n",
            "                                                                                                  \n",
            " total_line_inputs (InputLa  [(None, 20)]                 0         []                            \n",
            " yer)                                                                                             \n",
            "                                                                                                  \n",
            " dense_3 (Dense)             (None, 256)                  45312     ['concat_layer[0][0]']        \n",
            "                                                                                                  \n",
            " dense_1 (Dense)             (None, 32)                   512       ['line_numbers_input[0][0]']  \n",
            "                                                                                                  \n",
            " dense_2 (Dense)             (None, 32)                   672       ['total_line_inputs[0][0]']   \n",
            "                                                                                                  \n",
            " dropout (Dropout)           (None, 256)                  0         ['dense_3[0][0]']             \n",
            "                                                                                                  \n",
            " final_concat (Concatenate)  (None, 320)                  0         ['dense_1[0][0]',             \n",
            "                                                                     'dense_2[0][0]',             \n",
            "                                                                     'dropout[0][0]']             \n",
            "                                                                                                  \n",
            " output_layer (Dense)        (None, 5)                    1605      ['final_concat[0][0]']        \n",
            "                                                                                                  \n",
            "==================================================================================================\n",
            "Total params: 109647518 (418.27 MB)\n",
            "Trainable params: 165277 (645.61 KB)\n",
            "Non-trainable params: 109482241 (417.64 MB)\n",
            "__________________________________________________________________________________________________\n"
          ]
        }
      ]
    },
    {
      "cell_type": "code",
      "source": [
        "from tensorflow.keras.utils import plot_model\n",
        "plot_model(model, show_shapes=True)"
      ],
      "metadata": {
        "colab": {
          "base_uri": "https://localhost:8080/",
          "height": 416
        },
        "id": "DyuJf9vSx7-n",
        "outputId": "9ab33866-c382-4177-c291-a9b756d5e4c4"
      },
      "execution_count": 58,
      "outputs": [
        {
          "output_type": "execute_result",
          "data": {
            "image/png": "[encoded data removed]",
            "text/plain": [
              "<IPython.core.display.Image object>"
            ]
          },
          "metadata": {},
          "execution_count": 58
        }
      ]
    },
    {
      "cell_type": "markdown",
      "source": [
        "###Compile the model"
      ],
      "metadata": {
        "id": "ZlIXDRCeyFgM"
      }
    },
    {
      "cell_type": "code",
      "source": [
        "model.compile(\n",
        "    loss = tf.keras.losses.CategoricalCrossentropy(label_smoothing=0.2),\n",
        "    optimizer = tf.keras.optimizers.Adam(),\n",
        "    metrics = ['accuracy'],\n",
        ")"
      ],
      "metadata": {
        "id": "ABMviefRyRKg"
      },
      "execution_count": 59,
      "outputs": []
    },
    {
      "cell_type": "code",
      "source": [
        "model_history = model.fit(\n",
        "    train_tribrid_dataset,\n",
        "    epochs = 6,\n",
        "    steps_per_epoch = int(0.2 * len(train_tribrid_dataset)),\n",
        "    validation_data = val_tribrid_dataset,\n",
        "    validation_steps = int(0.2 * len(val_tribrid_dataset))\n",
        ")"
      ],
      "metadata": {
        "colab": {
          "base_uri": "https://localhost:8080/"
        },
        "id": "ZUrMTCFKyRvz",
        "outputId": "cdc99af4-cc00-40f7-8bd8-99c7b67c12eb"
      },
      "execution_count": null,
      "outputs": [
        {
          "output_type": "stream",
          "name": "stdout",
          "text": [
            "Epoch 1/6\n",
            "1125/1125 [==============================] - ETA: 0s - loss: 0.9435 - accuracy: 0.8357"
          ]
        }
      ]
    },
    {
      "cell_type": "code",
      "source": [],
      "metadata": {
        "id": "UnCox7xHy3xb"
      },
      "execution_count": null,
      "outputs": []
    }
  ]
}